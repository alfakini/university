{
 "cells": [
  {
   "cell_type": "code",
   "execution_count": 2,
   "metadata": {},
   "outputs": [],
   "source": [
    "import urllib.request\n",
    "import cv2\n",
    "import numpy as np         \n",
    "import pandas as pd        \n",
    "import matplotlib.pyplot as plt"
   ]
  },
  {
   "cell_type": "code",
   "execution_count": 4,
   "metadata": {},
   "outputs": [],
   "source": [
    "def read_image_from_drive(url, type):\n",
    "  resp = urllib.request.urlopen(url)\n",
    "  img_byte = np.asarray(bytearray(resp.read()), dtype=\"uint8\")\n",
    "  if type == 0:\n",
    "    return cv2.imdecode(img_byte, cv2.IMREAD_GRAYSCALE)\n",
    "  else:\n",
    "    img = cv2.imdecode(img_byte, cv2.IMREAD_COLOR)\n",
    "    return cv2.cvtColor(img, cv2.COLOR_BGR2RGB) "
   ]
  },
  {
   "cell_type": "markdown",
   "metadata": {},
   "source": [
    "# Aplicações OpenCV"
   ]
  },
  {
   "cell_type": "markdown",
   "metadata": {},
   "source": [
    "## Recuperando informação de profundidade em imagens 2D"
   ]
  },
  {
   "cell_type": "markdown",
   "metadata": {},
   "source": [
    "The short answer: no.\n",
    "\n",
    "A 2D image contains - hence the name - only 2-dimensional information. You can't get 3-dimensional (depth) information from that.\n",
    "\n",
    "Unless... you have additional information.\n",
    "\n",
    "If, for example you know there is a face in the image, you roughly know what a face looks like in 3d, so you can extract 3-dimensional information by analysing shadows, head pose etc...\n",
    "\n",
    "Another way to get an object's 3d model from a 2d image is to project some known structure (e.g. a grid) onto the object and to use the grid's deformation to compute the surface.\n",
    "\n",
    "in case of a video you can use successive images to detect corresponding points and compute 3-dimensional information from that.\n",
    "\n",
    "http://www.cs.cornell.edu/~asaxena/reconstruction3d/\n",
    "\n",
    "what you found there is an attempt, to build a 3d model from a single image, while opencv only has methods to build a model from calibrated stereo-cams (disparity, block-matching) or multiple images (structure from motion)"
   ]
  },
  {
   "cell_type": "code",
   "execution_count": null,
   "metadata": {},
   "outputs": [],
   "source": []
  },
  {
   "cell_type": "markdown",
   "metadata": {},
   "source": [
    "## Calculando tamanho de objetos em uma imagem 2D"
   ]
  },
  {
   "cell_type": "code",
   "execution_count": null,
   "metadata": {},
   "outputs": [],
   "source": []
  },
  {
   "cell_type": "markdown",
   "metadata": {},
   "source": [
    "### Exercício #1"
   ]
  },
  {
   "cell_type": "code",
   "execution_count": null,
   "metadata": {},
   "outputs": [],
   "source": []
  },
  {
   "cell_type": "markdown",
   "metadata": {},
   "source": [
    "## HaarCascade em videos"
   ]
  },
  {
   "cell_type": "code",
   "execution_count": null,
   "metadata": {},
   "outputs": [],
   "source": []
  }
 ],
 "metadata": {
  "kernelspec": {
   "display_name": "Python 3",
   "language": "python",
   "name": "python3"
  },
  "language_info": {
   "codemirror_mode": {
    "name": "ipython",
    "version": 3
   },
   "file_extension": ".py",
   "mimetype": "text/x-python",
   "name": "python",
   "nbconvert_exporter": "python",
   "pygments_lexer": "ipython3",
   "version": "3.7.3"
  }
 },
 "nbformat": 4,
 "nbformat_minor": 4
}
