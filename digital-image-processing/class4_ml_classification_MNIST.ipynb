{
  "nbformat": 4,
  "nbformat_minor": 0,
  "metadata": {
    "kernelspec": {
      "display_name": "Python 3",
      "language": "python",
      "name": "python3"
    },
    "language_info": {
      "codemirror_mode": {
        "name": "ipython",
        "version": 3
      },
      "file_extension": ".py",
      "mimetype": "text/x-python",
      "name": "python",
      "nbconvert_exporter": "python",
      "pygments_lexer": "ipython3",
      "version": "3.6.2"
    },
    "nav_menu": {},
    "toc": {
      "navigate_menu": true,
      "number_sections": true,
      "sideBar": true,
      "threshold": 6,
      "toc_cell": false,
      "toc_section_display": "block",
      "toc_window_display": false
    },
    "colab": {
      "name": "class4-ml-classification-MNIST.ipynb",
      "provenance": [],
      "collapsed_sections": []
    }
  },
  "cells": [
    {
      "cell_type": "markdown",
      "metadata": {
        "id": "LEwt9wqfY7vq",
        "colab_type": "text"
      },
      "source": [
        "# Classificação de dígitos escritos a mão (MNIST Dataset)\n",
        "\n",
        "Neste exemplo, nosso objetivo será classificar imagens de dígitos escritos a mão automaticamente. O dataset que estaremos utilizando neste tutorial é chamado de dataset MNIST, o qual é muito utilizado para exemplificar o uso de modelos de aprendizado de máquina em imagens. Este dataset é composto de imagens de dígitos manuscritos.\n",
        "\n",
        "<!-- Baseado no trabalho de [Aurélien Geron](https://github.com/ageron/handson-ml). -->\n",
        "\n",
        "## Setup\n",
        "\n",
        "Primeiro, vamos importar as bibliotecas necessárias que serão utilizadas. Vale a pena destacar algumas bibliotecas aqui. [Pandas](https://pandas.pydata.org/) é uma das bibliotecas mais utilizadas para manipulação e análise de dados. Normalmente, utilizada com [Numpy](https://numpy.org/) que serve para manipulação de _arrays_ e matrizes multidimensionais, possuindo uma larga coleção de funções matemáticas para trabalhar com estas estruturas. [Seaborn](https://seaborn.pydata.org/) é uma bilioteca para criar gráficos baseada no [matplotlib](https://matplotlib.org/3.1.1/api/_as_gen/matplotlib.pyplot.html) que vimos anteriormente.\n",
        "\n",
        "Além destas, temos a [sklearn](https://scikit-learn.org/stable/). Esta é uma biblioteca de aprendizado de máquina de código aberto que contém diversos algoritmos prontos para utilizarmos, desde uma simples regressão linear até redes neurais artificiais complexas. Vermos mais a frente detalhes de suas funcionalidades."
      ]
    },
    {
      "cell_type": "code",
      "metadata": {
        "id": "NE2ZDmE3Y7vu",
        "colab_type": "code",
        "colab": {}
      },
      "source": [
        "import matplotlib.pyplot as plt\n",
        "import numpy as np\n",
        "import pandas as pd\n",
        "import seaborn as sns\n",
        "from sklearn import cluster\n",
        "from sklearn import datasets\n",
        "from sklearn import metrics\n",
        "from sklearn import svm\n",
        "from sklearn.decomposition import PCA\n",
        "from sklearn.manifold import Isomap\n",
        "from sklearn.model_selection import train_test_split\n",
        "from sklearn.preprocessing import scale"
      ],
      "execution_count": 0,
      "outputs": []
    },
    {
      "cell_type": "markdown",
      "metadata": {
        "id": "akJ0JTticJLC",
        "colab_type": "text"
      },
      "source": [
        "A seguir, vamos definir uma função que gera uma matriz de confusão ..."
      ]
    },
    {
      "cell_type": "code",
      "metadata": {
        "id": "mP05OiQsY7v1",
        "colab_type": "code",
        "colab": {}
      },
      "source": [
        "def plot_confusion_matrix(confusion_matrix, class_names, figsize = (10,7), fontsize=14):\n",
        "    \"\"\"Prints a confusion matrix, as returned by sklearn.metrics.confusion_matrix, as a heatmap.\n",
        "    \n",
        "    Arguments\n",
        "    ---------\n",
        "    confusion_matrix: numpy.ndarray\n",
        "        The numpy.ndarray object returned from a call to sklearn.metrics.confusion_matrix. \n",
        "        Similarly constructed ndarrays can also be used.\n",
        "    class_names: list\n",
        "        An ordered list of class names, in the order they index the given confusion matrix.\n",
        "    figsize: tuple\n",
        "        A 2-long tuple, the first value determining the horizontal size of the ouputted figure,\n",
        "        the second determining the vertical size. Defaults to (10,7).\n",
        "    fontsize: int\n",
        "        Font size for axes labels. Defaults to 14.\n",
        "        \n",
        "    Returns\n",
        "    -------\n",
        "    matplotlib.figure.Figure\n",
        "        The resulting confusion matrix figure\n",
        "    \"\"\"\n",
        "    df_cm = pd.DataFrame(\n",
        "        confusion_matrix, index=class_names, columns=class_names, \n",
        "    )\n",
        "    fig = plt.figure(figsize=figsize)\n",
        "    try:\n",
        "        heatmap = sns.heatmap(df_cm, annot=True, fmt=\"d\", cmap=\"YlGnBu\")\n",
        "    except ValueError:\n",
        "        raise ValueError(\"Confusion matrix values must be integers.\")\n",
        "    heatmap.yaxis.set_ticklabels(heatmap.yaxis.get_ticklabels(), rotation=0, ha='right', fontsize=fontsize)\n",
        "    heatmap.xaxis.set_ticklabels(heatmap.xaxis.get_ticklabels(), rotation=45, ha='right', fontsize=fontsize)\n",
        "    plt.ylabel('True label')\n",
        "    plt.xlabel('Predicted label')\n",
        "    return fig"
      ],
      "execution_count": 0,
      "outputs": []
    },
    {
      "cell_type": "markdown",
      "metadata": {
        "id": "vj0LfSvdY7v5",
        "colab_type": "text"
      },
      "source": [
        "# MNINST\n",
        "\n",
        "## Carregando o dataset MNIST"
      ]
    },
    {
      "cell_type": "markdown",
      "metadata": {
        "id": "rhClCefXcetd",
        "colab_type": "text"
      },
      "source": [
        "Primeiro vamos carregar o dataset atráves da própria biblioteca [sklearn](https://scikit-learn.org/stable/)"
      ]
    },
    {
      "cell_type": "code",
      "metadata": {
        "id": "n1UScN8GcdVf",
        "colab_type": "code",
        "colab": {
          "base_uri": "https://localhost:8080/",
          "height": 34
        },
        "outputId": "59309fbd-8f3a-4145-d898-82a44956c11d"
      },
      "source": [
        "digits = datasets.load_digits()\n",
        "digits.keys()"
      ],
      "execution_count": 6,
      "outputs": [
        {
          "output_type": "execute_result",
          "data": {
            "text/plain": [
              "dict_keys(['data', 'target', 'target_names', 'images', 'DESCR'])"
            ]
          },
          "metadata": {
            "tags": []
          },
          "execution_count": 6
        }
      ]
    },
    {
      "cell_type": "markdown",
      "metadata": {
        "id": "FGEI-kbdxdC6",
        "colab_type": "text"
      },
      "source": [
        "Em `digits` temos os seguintes componentes\n",
        "  - `data`: Um `array` bidimensional com 1797 registros que representam as os pixels de cada em imagem. São 64 pixels pois as imagens são de tamanho 8x8. Estes registros seram utilizados mais adiante para treinar e testar o nosso modelo. Cada coluna aqui (64 colunas) são chamadas de _features_.\n",
        "  - `target`: O target representa o número que cada imagem representa, exemplo, `[[0, 1, 2, ..., 8, 9, 8]]`\n",
        "  - `target_names`: Este contém todas as possíveis classes que queremos prever, ou seja, `[0, 1, 2, 3, 4, 5, 6, 7, 8, 9]`\n",
        "  - `images`: Aqui temos todas as imagens para poder apresenta-las visualmente\n",
        "  - `DESC`: E por último, temos a descrição do _dataset_\n",
        "\n",
        "Quando importamos um _dataset_ a partir do [sklearn](https://scikit-learn.org/stable/), normalmente teremos componentes similares a este. Os dados para treinamento/predição, o _target_ (o resultado que esperamos prever) e uma descrição do _dataset_ importado. A seguir vamos inspecionar estes componentes"
      ]
    },
    {
      "cell_type": "code",
      "metadata": {
        "id": "6g3d9koJxbm5",
        "colab_type": "code",
        "colab": {
          "base_uri": "https://localhost:8080/",
          "height": 439
        },
        "outputId": "a1d36c55-d172-4e9a-c721-33a394a10fde"
      },
      "source": [
        "pd.DataFrame(digits.data).astype('int64')"
      ],
      "execution_count": 15,
      "outputs": [
        {
          "output_type": "execute_result",
          "data": {
            "text/html": [
              "<div>\n",
              "<style scoped>\n",
              "    .dataframe tbody tr th:only-of-type {\n",
              "        vertical-align: middle;\n",
              "    }\n",
              "\n",
              "    .dataframe tbody tr th {\n",
              "        vertical-align: top;\n",
              "    }\n",
              "\n",
              "    .dataframe thead th {\n",
              "        text-align: right;\n",
              "    }\n",
              "</style>\n",
              "<table border=\"1\" class=\"dataframe\">\n",
              "  <thead>\n",
              "    <tr style=\"text-align: right;\">\n",
              "      <th></th>\n",
              "      <th>0</th>\n",
              "      <th>1</th>\n",
              "      <th>2</th>\n",
              "      <th>3</th>\n",
              "      <th>4</th>\n",
              "      <th>5</th>\n",
              "      <th>6</th>\n",
              "      <th>7</th>\n",
              "      <th>8</th>\n",
              "      <th>9</th>\n",
              "      <th>10</th>\n",
              "      <th>11</th>\n",
              "      <th>12</th>\n",
              "      <th>13</th>\n",
              "      <th>14</th>\n",
              "      <th>15</th>\n",
              "      <th>16</th>\n",
              "      <th>17</th>\n",
              "      <th>18</th>\n",
              "      <th>19</th>\n",
              "      <th>20</th>\n",
              "      <th>21</th>\n",
              "      <th>22</th>\n",
              "      <th>23</th>\n",
              "      <th>24</th>\n",
              "      <th>25</th>\n",
              "      <th>26</th>\n",
              "      <th>27</th>\n",
              "      <th>28</th>\n",
              "      <th>29</th>\n",
              "      <th>30</th>\n",
              "      <th>31</th>\n",
              "      <th>32</th>\n",
              "      <th>33</th>\n",
              "      <th>34</th>\n",
              "      <th>35</th>\n",
              "      <th>36</th>\n",
              "      <th>37</th>\n",
              "      <th>38</th>\n",
              "      <th>39</th>\n",
              "      <th>40</th>\n",
              "      <th>41</th>\n",
              "      <th>42</th>\n",
              "      <th>43</th>\n",
              "      <th>44</th>\n",
              "      <th>45</th>\n",
              "      <th>46</th>\n",
              "      <th>47</th>\n",
              "      <th>48</th>\n",
              "      <th>49</th>\n",
              "      <th>50</th>\n",
              "      <th>51</th>\n",
              "      <th>52</th>\n",
              "      <th>53</th>\n",
              "      <th>54</th>\n",
              "      <th>55</th>\n",
              "      <th>56</th>\n",
              "      <th>57</th>\n",
              "      <th>58</th>\n",
              "      <th>59</th>\n",
              "      <th>60</th>\n",
              "      <th>61</th>\n",
              "      <th>62</th>\n",
              "      <th>63</th>\n",
              "    </tr>\n",
              "  </thead>\n",
              "  <tbody>\n",
              "    <tr>\n",
              "      <th>0</th>\n",
              "      <td>0</td>\n",
              "      <td>0</td>\n",
              "      <td>5</td>\n",
              "      <td>13</td>\n",
              "      <td>9</td>\n",
              "      <td>1</td>\n",
              "      <td>0</td>\n",
              "      <td>0</td>\n",
              "      <td>0</td>\n",
              "      <td>0</td>\n",
              "      <td>13</td>\n",
              "      <td>15</td>\n",
              "      <td>10</td>\n",
              "      <td>15</td>\n",
              "      <td>5</td>\n",
              "      <td>0</td>\n",
              "      <td>0</td>\n",
              "      <td>3</td>\n",
              "      <td>15</td>\n",
              "      <td>2</td>\n",
              "      <td>0</td>\n",
              "      <td>11</td>\n",
              "      <td>8</td>\n",
              "      <td>0</td>\n",
              "      <td>0</td>\n",
              "      <td>4</td>\n",
              "      <td>12</td>\n",
              "      <td>0</td>\n",
              "      <td>0</td>\n",
              "      <td>8</td>\n",
              "      <td>8</td>\n",
              "      <td>0</td>\n",
              "      <td>0</td>\n",
              "      <td>5</td>\n",
              "      <td>8</td>\n",
              "      <td>0</td>\n",
              "      <td>0</td>\n",
              "      <td>9</td>\n",
              "      <td>8</td>\n",
              "      <td>0</td>\n",
              "      <td>0</td>\n",
              "      <td>4</td>\n",
              "      <td>11</td>\n",
              "      <td>0</td>\n",
              "      <td>1</td>\n",
              "      <td>12</td>\n",
              "      <td>7</td>\n",
              "      <td>0</td>\n",
              "      <td>0</td>\n",
              "      <td>2</td>\n",
              "      <td>14</td>\n",
              "      <td>5</td>\n",
              "      <td>10</td>\n",
              "      <td>12</td>\n",
              "      <td>0</td>\n",
              "      <td>0</td>\n",
              "      <td>0</td>\n",
              "      <td>0</td>\n",
              "      <td>6</td>\n",
              "      <td>13</td>\n",
              "      <td>10</td>\n",
              "      <td>0</td>\n",
              "      <td>0</td>\n",
              "      <td>0</td>\n",
              "    </tr>\n",
              "    <tr>\n",
              "      <th>1</th>\n",
              "      <td>0</td>\n",
              "      <td>0</td>\n",
              "      <td>0</td>\n",
              "      <td>12</td>\n",
              "      <td>13</td>\n",
              "      <td>5</td>\n",
              "      <td>0</td>\n",
              "      <td>0</td>\n",
              "      <td>0</td>\n",
              "      <td>0</td>\n",
              "      <td>0</td>\n",
              "      <td>11</td>\n",
              "      <td>16</td>\n",
              "      <td>9</td>\n",
              "      <td>0</td>\n",
              "      <td>0</td>\n",
              "      <td>0</td>\n",
              "      <td>0</td>\n",
              "      <td>3</td>\n",
              "      <td>15</td>\n",
              "      <td>16</td>\n",
              "      <td>6</td>\n",
              "      <td>0</td>\n",
              "      <td>0</td>\n",
              "      <td>0</td>\n",
              "      <td>7</td>\n",
              "      <td>15</td>\n",
              "      <td>16</td>\n",
              "      <td>16</td>\n",
              "      <td>2</td>\n",
              "      <td>0</td>\n",
              "      <td>0</td>\n",
              "      <td>0</td>\n",
              "      <td>0</td>\n",
              "      <td>1</td>\n",
              "      <td>16</td>\n",
              "      <td>16</td>\n",
              "      <td>3</td>\n",
              "      <td>0</td>\n",
              "      <td>0</td>\n",
              "      <td>0</td>\n",
              "      <td>0</td>\n",
              "      <td>1</td>\n",
              "      <td>16</td>\n",
              "      <td>16</td>\n",
              "      <td>6</td>\n",
              "      <td>0</td>\n",
              "      <td>0</td>\n",
              "      <td>0</td>\n",
              "      <td>0</td>\n",
              "      <td>1</td>\n",
              "      <td>16</td>\n",
              "      <td>16</td>\n",
              "      <td>6</td>\n",
              "      <td>0</td>\n",
              "      <td>0</td>\n",
              "      <td>0</td>\n",
              "      <td>0</td>\n",
              "      <td>0</td>\n",
              "      <td>11</td>\n",
              "      <td>16</td>\n",
              "      <td>10</td>\n",
              "      <td>0</td>\n",
              "      <td>0</td>\n",
              "    </tr>\n",
              "    <tr>\n",
              "      <th>2</th>\n",
              "      <td>0</td>\n",
              "      <td>0</td>\n",
              "      <td>0</td>\n",
              "      <td>4</td>\n",
              "      <td>15</td>\n",
              "      <td>12</td>\n",
              "      <td>0</td>\n",
              "      <td>0</td>\n",
              "      <td>0</td>\n",
              "      <td>0</td>\n",
              "      <td>3</td>\n",
              "      <td>16</td>\n",
              "      <td>15</td>\n",
              "      <td>14</td>\n",
              "      <td>0</td>\n",
              "      <td>0</td>\n",
              "      <td>0</td>\n",
              "      <td>0</td>\n",
              "      <td>8</td>\n",
              "      <td>13</td>\n",
              "      <td>8</td>\n",
              "      <td>16</td>\n",
              "      <td>0</td>\n",
              "      <td>0</td>\n",
              "      <td>0</td>\n",
              "      <td>0</td>\n",
              "      <td>1</td>\n",
              "      <td>6</td>\n",
              "      <td>15</td>\n",
              "      <td>11</td>\n",
              "      <td>0</td>\n",
              "      <td>0</td>\n",
              "      <td>0</td>\n",
              "      <td>1</td>\n",
              "      <td>8</td>\n",
              "      <td>13</td>\n",
              "      <td>15</td>\n",
              "      <td>1</td>\n",
              "      <td>0</td>\n",
              "      <td>0</td>\n",
              "      <td>0</td>\n",
              "      <td>9</td>\n",
              "      <td>16</td>\n",
              "      <td>16</td>\n",
              "      <td>5</td>\n",
              "      <td>0</td>\n",
              "      <td>0</td>\n",
              "      <td>0</td>\n",
              "      <td>0</td>\n",
              "      <td>3</td>\n",
              "      <td>13</td>\n",
              "      <td>16</td>\n",
              "      <td>16</td>\n",
              "      <td>11</td>\n",
              "      <td>5</td>\n",
              "      <td>0</td>\n",
              "      <td>0</td>\n",
              "      <td>0</td>\n",
              "      <td>0</td>\n",
              "      <td>3</td>\n",
              "      <td>11</td>\n",
              "      <td>16</td>\n",
              "      <td>9</td>\n",
              "      <td>0</td>\n",
              "    </tr>\n",
              "    <tr>\n",
              "      <th>3</th>\n",
              "      <td>0</td>\n",
              "      <td>0</td>\n",
              "      <td>7</td>\n",
              "      <td>15</td>\n",
              "      <td>13</td>\n",
              "      <td>1</td>\n",
              "      <td>0</td>\n",
              "      <td>0</td>\n",
              "      <td>0</td>\n",
              "      <td>8</td>\n",
              "      <td>13</td>\n",
              "      <td>6</td>\n",
              "      <td>15</td>\n",
              "      <td>4</td>\n",
              "      <td>0</td>\n",
              "      <td>0</td>\n",
              "      <td>0</td>\n",
              "      <td>2</td>\n",
              "      <td>1</td>\n",
              "      <td>13</td>\n",
              "      <td>13</td>\n",
              "      <td>0</td>\n",
              "      <td>0</td>\n",
              "      <td>0</td>\n",
              "      <td>0</td>\n",
              "      <td>0</td>\n",
              "      <td>2</td>\n",
              "      <td>15</td>\n",
              "      <td>11</td>\n",
              "      <td>1</td>\n",
              "      <td>0</td>\n",
              "      <td>0</td>\n",
              "      <td>0</td>\n",
              "      <td>0</td>\n",
              "      <td>0</td>\n",
              "      <td>1</td>\n",
              "      <td>12</td>\n",
              "      <td>12</td>\n",
              "      <td>1</td>\n",
              "      <td>0</td>\n",
              "      <td>0</td>\n",
              "      <td>0</td>\n",
              "      <td>0</td>\n",
              "      <td>0</td>\n",
              "      <td>1</td>\n",
              "      <td>10</td>\n",
              "      <td>8</td>\n",
              "      <td>0</td>\n",
              "      <td>0</td>\n",
              "      <td>0</td>\n",
              "      <td>8</td>\n",
              "      <td>4</td>\n",
              "      <td>5</td>\n",
              "      <td>14</td>\n",
              "      <td>9</td>\n",
              "      <td>0</td>\n",
              "      <td>0</td>\n",
              "      <td>0</td>\n",
              "      <td>7</td>\n",
              "      <td>13</td>\n",
              "      <td>13</td>\n",
              "      <td>9</td>\n",
              "      <td>0</td>\n",
              "      <td>0</td>\n",
              "    </tr>\n",
              "    <tr>\n",
              "      <th>4</th>\n",
              "      <td>0</td>\n",
              "      <td>0</td>\n",
              "      <td>0</td>\n",
              "      <td>1</td>\n",
              "      <td>11</td>\n",
              "      <td>0</td>\n",
              "      <td>0</td>\n",
              "      <td>0</td>\n",
              "      <td>0</td>\n",
              "      <td>0</td>\n",
              "      <td>0</td>\n",
              "      <td>7</td>\n",
              "      <td>8</td>\n",
              "      <td>0</td>\n",
              "      <td>0</td>\n",
              "      <td>0</td>\n",
              "      <td>0</td>\n",
              "      <td>0</td>\n",
              "      <td>1</td>\n",
              "      <td>13</td>\n",
              "      <td>6</td>\n",
              "      <td>2</td>\n",
              "      <td>2</td>\n",
              "      <td>0</td>\n",
              "      <td>0</td>\n",
              "      <td>0</td>\n",
              "      <td>7</td>\n",
              "      <td>15</td>\n",
              "      <td>0</td>\n",
              "      <td>9</td>\n",
              "      <td>8</td>\n",
              "      <td>0</td>\n",
              "      <td>0</td>\n",
              "      <td>5</td>\n",
              "      <td>16</td>\n",
              "      <td>10</td>\n",
              "      <td>0</td>\n",
              "      <td>16</td>\n",
              "      <td>6</td>\n",
              "      <td>0</td>\n",
              "      <td>0</td>\n",
              "      <td>4</td>\n",
              "      <td>15</td>\n",
              "      <td>16</td>\n",
              "      <td>13</td>\n",
              "      <td>16</td>\n",
              "      <td>1</td>\n",
              "      <td>0</td>\n",
              "      <td>0</td>\n",
              "      <td>0</td>\n",
              "      <td>0</td>\n",
              "      <td>3</td>\n",
              "      <td>15</td>\n",
              "      <td>10</td>\n",
              "      <td>0</td>\n",
              "      <td>0</td>\n",
              "      <td>0</td>\n",
              "      <td>0</td>\n",
              "      <td>0</td>\n",
              "      <td>2</td>\n",
              "      <td>16</td>\n",
              "      <td>4</td>\n",
              "      <td>0</td>\n",
              "      <td>0</td>\n",
              "    </tr>\n",
              "    <tr>\n",
              "      <th>...</th>\n",
              "      <td>...</td>\n",
              "      <td>...</td>\n",
              "      <td>...</td>\n",
              "      <td>...</td>\n",
              "      <td>...</td>\n",
              "      <td>...</td>\n",
              "      <td>...</td>\n",
              "      <td>...</td>\n",
              "      <td>...</td>\n",
              "      <td>...</td>\n",
              "      <td>...</td>\n",
              "      <td>...</td>\n",
              "      <td>...</td>\n",
              "      <td>...</td>\n",
              "      <td>...</td>\n",
              "      <td>...</td>\n",
              "      <td>...</td>\n",
              "      <td>...</td>\n",
              "      <td>...</td>\n",
              "      <td>...</td>\n",
              "      <td>...</td>\n",
              "      <td>...</td>\n",
              "      <td>...</td>\n",
              "      <td>...</td>\n",
              "      <td>...</td>\n",
              "      <td>...</td>\n",
              "      <td>...</td>\n",
              "      <td>...</td>\n",
              "      <td>...</td>\n",
              "      <td>...</td>\n",
              "      <td>...</td>\n",
              "      <td>...</td>\n",
              "      <td>...</td>\n",
              "      <td>...</td>\n",
              "      <td>...</td>\n",
              "      <td>...</td>\n",
              "      <td>...</td>\n",
              "      <td>...</td>\n",
              "      <td>...</td>\n",
              "      <td>...</td>\n",
              "      <td>...</td>\n",
              "      <td>...</td>\n",
              "      <td>...</td>\n",
              "      <td>...</td>\n",
              "      <td>...</td>\n",
              "      <td>...</td>\n",
              "      <td>...</td>\n",
              "      <td>...</td>\n",
              "      <td>...</td>\n",
              "      <td>...</td>\n",
              "      <td>...</td>\n",
              "      <td>...</td>\n",
              "      <td>...</td>\n",
              "      <td>...</td>\n",
              "      <td>...</td>\n",
              "      <td>...</td>\n",
              "      <td>...</td>\n",
              "      <td>...</td>\n",
              "      <td>...</td>\n",
              "      <td>...</td>\n",
              "      <td>...</td>\n",
              "      <td>...</td>\n",
              "      <td>...</td>\n",
              "      <td>...</td>\n",
              "    </tr>\n",
              "    <tr>\n",
              "      <th>1792</th>\n",
              "      <td>0</td>\n",
              "      <td>0</td>\n",
              "      <td>4</td>\n",
              "      <td>10</td>\n",
              "      <td>13</td>\n",
              "      <td>6</td>\n",
              "      <td>0</td>\n",
              "      <td>0</td>\n",
              "      <td>0</td>\n",
              "      <td>1</td>\n",
              "      <td>16</td>\n",
              "      <td>14</td>\n",
              "      <td>12</td>\n",
              "      <td>16</td>\n",
              "      <td>3</td>\n",
              "      <td>0</td>\n",
              "      <td>0</td>\n",
              "      <td>4</td>\n",
              "      <td>16</td>\n",
              "      <td>6</td>\n",
              "      <td>3</td>\n",
              "      <td>16</td>\n",
              "      <td>4</td>\n",
              "      <td>0</td>\n",
              "      <td>0</td>\n",
              "      <td>0</td>\n",
              "      <td>12</td>\n",
              "      <td>16</td>\n",
              "      <td>16</td>\n",
              "      <td>16</td>\n",
              "      <td>5</td>\n",
              "      <td>0</td>\n",
              "      <td>0</td>\n",
              "      <td>0</td>\n",
              "      <td>0</td>\n",
              "      <td>4</td>\n",
              "      <td>4</td>\n",
              "      <td>16</td>\n",
              "      <td>8</td>\n",
              "      <td>0</td>\n",
              "      <td>0</td>\n",
              "      <td>0</td>\n",
              "      <td>0</td>\n",
              "      <td>0</td>\n",
              "      <td>0</td>\n",
              "      <td>15</td>\n",
              "      <td>5</td>\n",
              "      <td>0</td>\n",
              "      <td>0</td>\n",
              "      <td>0</td>\n",
              "      <td>5</td>\n",
              "      <td>7</td>\n",
              "      <td>7</td>\n",
              "      <td>16</td>\n",
              "      <td>4</td>\n",
              "      <td>0</td>\n",
              "      <td>0</td>\n",
              "      <td>0</td>\n",
              "      <td>2</td>\n",
              "      <td>14</td>\n",
              "      <td>15</td>\n",
              "      <td>9</td>\n",
              "      <td>0</td>\n",
              "      <td>0</td>\n",
              "    </tr>\n",
              "    <tr>\n",
              "      <th>1793</th>\n",
              "      <td>0</td>\n",
              "      <td>0</td>\n",
              "      <td>6</td>\n",
              "      <td>16</td>\n",
              "      <td>13</td>\n",
              "      <td>11</td>\n",
              "      <td>1</td>\n",
              "      <td>0</td>\n",
              "      <td>0</td>\n",
              "      <td>0</td>\n",
              "      <td>16</td>\n",
              "      <td>15</td>\n",
              "      <td>12</td>\n",
              "      <td>16</td>\n",
              "      <td>1</td>\n",
              "      <td>0</td>\n",
              "      <td>0</td>\n",
              "      <td>3</td>\n",
              "      <td>16</td>\n",
              "      <td>7</td>\n",
              "      <td>0</td>\n",
              "      <td>13</td>\n",
              "      <td>6</td>\n",
              "      <td>0</td>\n",
              "      <td>0</td>\n",
              "      <td>4</td>\n",
              "      <td>16</td>\n",
              "      <td>0</td>\n",
              "      <td>0</td>\n",
              "      <td>10</td>\n",
              "      <td>8</td>\n",
              "      <td>0</td>\n",
              "      <td>0</td>\n",
              "      <td>8</td>\n",
              "      <td>16</td>\n",
              "      <td>0</td>\n",
              "      <td>0</td>\n",
              "      <td>14</td>\n",
              "      <td>6</td>\n",
              "      <td>0</td>\n",
              "      <td>0</td>\n",
              "      <td>5</td>\n",
              "      <td>16</td>\n",
              "      <td>7</td>\n",
              "      <td>9</td>\n",
              "      <td>16</td>\n",
              "      <td>5</td>\n",
              "      <td>0</td>\n",
              "      <td>0</td>\n",
              "      <td>1</td>\n",
              "      <td>15</td>\n",
              "      <td>16</td>\n",
              "      <td>16</td>\n",
              "      <td>16</td>\n",
              "      <td>1</td>\n",
              "      <td>0</td>\n",
              "      <td>0</td>\n",
              "      <td>0</td>\n",
              "      <td>6</td>\n",
              "      <td>16</td>\n",
              "      <td>14</td>\n",
              "      <td>6</td>\n",
              "      <td>0</td>\n",
              "      <td>0</td>\n",
              "    </tr>\n",
              "    <tr>\n",
              "      <th>1794</th>\n",
              "      <td>0</td>\n",
              "      <td>0</td>\n",
              "      <td>1</td>\n",
              "      <td>11</td>\n",
              "      <td>15</td>\n",
              "      <td>1</td>\n",
              "      <td>0</td>\n",
              "      <td>0</td>\n",
              "      <td>0</td>\n",
              "      <td>0</td>\n",
              "      <td>13</td>\n",
              "      <td>16</td>\n",
              "      <td>8</td>\n",
              "      <td>2</td>\n",
              "      <td>1</td>\n",
              "      <td>0</td>\n",
              "      <td>0</td>\n",
              "      <td>0</td>\n",
              "      <td>16</td>\n",
              "      <td>15</td>\n",
              "      <td>10</td>\n",
              "      <td>16</td>\n",
              "      <td>5</td>\n",
              "      <td>0</td>\n",
              "      <td>0</td>\n",
              "      <td>0</td>\n",
              "      <td>8</td>\n",
              "      <td>16</td>\n",
              "      <td>16</td>\n",
              "      <td>7</td>\n",
              "      <td>0</td>\n",
              "      <td>0</td>\n",
              "      <td>0</td>\n",
              "      <td>0</td>\n",
              "      <td>9</td>\n",
              "      <td>16</td>\n",
              "      <td>16</td>\n",
              "      <td>4</td>\n",
              "      <td>0</td>\n",
              "      <td>0</td>\n",
              "      <td>0</td>\n",
              "      <td>0</td>\n",
              "      <td>16</td>\n",
              "      <td>14</td>\n",
              "      <td>16</td>\n",
              "      <td>15</td>\n",
              "      <td>0</td>\n",
              "      <td>0</td>\n",
              "      <td>0</td>\n",
              "      <td>0</td>\n",
              "      <td>15</td>\n",
              "      <td>15</td>\n",
              "      <td>15</td>\n",
              "      <td>16</td>\n",
              "      <td>0</td>\n",
              "      <td>0</td>\n",
              "      <td>0</td>\n",
              "      <td>0</td>\n",
              "      <td>2</td>\n",
              "      <td>9</td>\n",
              "      <td>13</td>\n",
              "      <td>6</td>\n",
              "      <td>0</td>\n",
              "      <td>0</td>\n",
              "    </tr>\n",
              "    <tr>\n",
              "      <th>1795</th>\n",
              "      <td>0</td>\n",
              "      <td>0</td>\n",
              "      <td>2</td>\n",
              "      <td>10</td>\n",
              "      <td>7</td>\n",
              "      <td>0</td>\n",
              "      <td>0</td>\n",
              "      <td>0</td>\n",
              "      <td>0</td>\n",
              "      <td>0</td>\n",
              "      <td>14</td>\n",
              "      <td>16</td>\n",
              "      <td>16</td>\n",
              "      <td>15</td>\n",
              "      <td>1</td>\n",
              "      <td>0</td>\n",
              "      <td>0</td>\n",
              "      <td>4</td>\n",
              "      <td>16</td>\n",
              "      <td>7</td>\n",
              "      <td>3</td>\n",
              "      <td>16</td>\n",
              "      <td>7</td>\n",
              "      <td>0</td>\n",
              "      <td>0</td>\n",
              "      <td>5</td>\n",
              "      <td>16</td>\n",
              "      <td>10</td>\n",
              "      <td>7</td>\n",
              "      <td>16</td>\n",
              "      <td>4</td>\n",
              "      <td>0</td>\n",
              "      <td>0</td>\n",
              "      <td>0</td>\n",
              "      <td>5</td>\n",
              "      <td>14</td>\n",
              "      <td>14</td>\n",
              "      <td>16</td>\n",
              "      <td>4</td>\n",
              "      <td>0</td>\n",
              "      <td>0</td>\n",
              "      <td>0</td>\n",
              "      <td>0</td>\n",
              "      <td>0</td>\n",
              "      <td>0</td>\n",
              "      <td>16</td>\n",
              "      <td>2</td>\n",
              "      <td>0</td>\n",
              "      <td>0</td>\n",
              "      <td>0</td>\n",
              "      <td>4</td>\n",
              "      <td>7</td>\n",
              "      <td>7</td>\n",
              "      <td>16</td>\n",
              "      <td>2</td>\n",
              "      <td>0</td>\n",
              "      <td>0</td>\n",
              "      <td>0</td>\n",
              "      <td>5</td>\n",
              "      <td>12</td>\n",
              "      <td>16</td>\n",
              "      <td>12</td>\n",
              "      <td>0</td>\n",
              "      <td>0</td>\n",
              "    </tr>\n",
              "    <tr>\n",
              "      <th>1796</th>\n",
              "      <td>0</td>\n",
              "      <td>0</td>\n",
              "      <td>10</td>\n",
              "      <td>14</td>\n",
              "      <td>8</td>\n",
              "      <td>1</td>\n",
              "      <td>0</td>\n",
              "      <td>0</td>\n",
              "      <td>0</td>\n",
              "      <td>2</td>\n",
              "      <td>16</td>\n",
              "      <td>14</td>\n",
              "      <td>6</td>\n",
              "      <td>1</td>\n",
              "      <td>0</td>\n",
              "      <td>0</td>\n",
              "      <td>0</td>\n",
              "      <td>0</td>\n",
              "      <td>15</td>\n",
              "      <td>15</td>\n",
              "      <td>8</td>\n",
              "      <td>15</td>\n",
              "      <td>0</td>\n",
              "      <td>0</td>\n",
              "      <td>0</td>\n",
              "      <td>0</td>\n",
              "      <td>5</td>\n",
              "      <td>16</td>\n",
              "      <td>16</td>\n",
              "      <td>10</td>\n",
              "      <td>0</td>\n",
              "      <td>0</td>\n",
              "      <td>0</td>\n",
              "      <td>0</td>\n",
              "      <td>12</td>\n",
              "      <td>15</td>\n",
              "      <td>15</td>\n",
              "      <td>12</td>\n",
              "      <td>0</td>\n",
              "      <td>0</td>\n",
              "      <td>0</td>\n",
              "      <td>4</td>\n",
              "      <td>16</td>\n",
              "      <td>6</td>\n",
              "      <td>4</td>\n",
              "      <td>16</td>\n",
              "      <td>6</td>\n",
              "      <td>0</td>\n",
              "      <td>0</td>\n",
              "      <td>8</td>\n",
              "      <td>16</td>\n",
              "      <td>10</td>\n",
              "      <td>8</td>\n",
              "      <td>16</td>\n",
              "      <td>8</td>\n",
              "      <td>0</td>\n",
              "      <td>0</td>\n",
              "      <td>1</td>\n",
              "      <td>8</td>\n",
              "      <td>12</td>\n",
              "      <td>14</td>\n",
              "      <td>12</td>\n",
              "      <td>1</td>\n",
              "      <td>0</td>\n",
              "    </tr>\n",
              "  </tbody>\n",
              "</table>\n",
              "<p>1797 rows × 64 columns</p>\n",
              "</div>"
            ],
            "text/plain": [
              "      0   1   2   3   4   5   6   7   8   9   ...  54  55  56  57  58  59  60  61  62  63\n",
              "0      0   0   5  13   9   1   0   0   0   0  ...   0   0   0   0   6  13  10   0   0   0\n",
              "1      0   0   0  12  13   5   0   0   0   0  ...   0   0   0   0   0  11  16  10   0   0\n",
              "2      0   0   0   4  15  12   0   0   0   0  ...   5   0   0   0   0   3  11  16   9   0\n",
              "3      0   0   7  15  13   1   0   0   0   8  ...   9   0   0   0   7  13  13   9   0   0\n",
              "4      0   0   0   1  11   0   0   0   0   0  ...   0   0   0   0   0   2  16   4   0   0\n",
              "...   ..  ..  ..  ..  ..  ..  ..  ..  ..  ..  ...  ..  ..  ..  ..  ..  ..  ..  ..  ..  ..\n",
              "1792   0   0   4  10  13   6   0   0   0   1  ...   4   0   0   0   2  14  15   9   0   0\n",
              "1793   0   0   6  16  13  11   1   0   0   0  ...   1   0   0   0   6  16  14   6   0   0\n",
              "1794   0   0   1  11  15   1   0   0   0   0  ...   0   0   0   0   2   9  13   6   0   0\n",
              "1795   0   0   2  10   7   0   0   0   0   0  ...   2   0   0   0   5  12  16  12   0   0\n",
              "1796   0   0  10  14   8   1   0   0   0   2  ...   8   0   0   1   8  12  14  12   1   0\n",
              "\n",
              "[1797 rows x 64 columns]"
            ]
          },
          "metadata": {
            "tags": []
          },
          "execution_count": 15
        }
      ]
    },
    {
      "cell_type": "code",
      "metadata": {
        "id": "wL2lO2RVzqU2",
        "colab_type": "code",
        "colab": {
          "base_uri": "https://localhost:8080/",
          "height": 129
        },
        "outputId": "570de2d1-0224-4e0e-e763-0a72c772b8b8"
      },
      "source": [
        "pd.DataFrame(digits.target).T"
      ],
      "execution_count": 19,
      "outputs": [
        {
          "output_type": "execute_result",
          "data": {
            "text/html": [
              "<div>\n",
              "<style scoped>\n",
              "    .dataframe tbody tr th:only-of-type {\n",
              "        vertical-align: middle;\n",
              "    }\n",
              "\n",
              "    .dataframe tbody tr th {\n",
              "        vertical-align: top;\n",
              "    }\n",
              "\n",
              "    .dataframe thead th {\n",
              "        text-align: right;\n",
              "    }\n",
              "</style>\n",
              "<table border=\"1\" class=\"dataframe\">\n",
              "  <thead>\n",
              "    <tr style=\"text-align: right;\">\n",
              "      <th></th>\n",
              "      <th>0</th>\n",
              "      <th>1</th>\n",
              "      <th>2</th>\n",
              "      <th>3</th>\n",
              "      <th>4</th>\n",
              "      <th>5</th>\n",
              "      <th>6</th>\n",
              "      <th>7</th>\n",
              "      <th>8</th>\n",
              "      <th>9</th>\n",
              "      <th>10</th>\n",
              "      <th>11</th>\n",
              "      <th>12</th>\n",
              "      <th>13</th>\n",
              "      <th>14</th>\n",
              "      <th>15</th>\n",
              "      <th>16</th>\n",
              "      <th>17</th>\n",
              "      <th>18</th>\n",
              "      <th>19</th>\n",
              "      <th>20</th>\n",
              "      <th>21</th>\n",
              "      <th>22</th>\n",
              "      <th>23</th>\n",
              "      <th>24</th>\n",
              "      <th>25</th>\n",
              "      <th>26</th>\n",
              "      <th>27</th>\n",
              "      <th>28</th>\n",
              "      <th>29</th>\n",
              "      <th>30</th>\n",
              "      <th>31</th>\n",
              "      <th>32</th>\n",
              "      <th>33</th>\n",
              "      <th>34</th>\n",
              "      <th>35</th>\n",
              "      <th>36</th>\n",
              "      <th>37</th>\n",
              "      <th>38</th>\n",
              "      <th>39</th>\n",
              "      <th>...</th>\n",
              "      <th>1757</th>\n",
              "      <th>1758</th>\n",
              "      <th>1759</th>\n",
              "      <th>1760</th>\n",
              "      <th>1761</th>\n",
              "      <th>1762</th>\n",
              "      <th>1763</th>\n",
              "      <th>1764</th>\n",
              "      <th>1765</th>\n",
              "      <th>1766</th>\n",
              "      <th>1767</th>\n",
              "      <th>1768</th>\n",
              "      <th>1769</th>\n",
              "      <th>1770</th>\n",
              "      <th>1771</th>\n",
              "      <th>1772</th>\n",
              "      <th>1773</th>\n",
              "      <th>1774</th>\n",
              "      <th>1775</th>\n",
              "      <th>1776</th>\n",
              "      <th>1777</th>\n",
              "      <th>1778</th>\n",
              "      <th>1779</th>\n",
              "      <th>1780</th>\n",
              "      <th>1781</th>\n",
              "      <th>1782</th>\n",
              "      <th>1783</th>\n",
              "      <th>1784</th>\n",
              "      <th>1785</th>\n",
              "      <th>1786</th>\n",
              "      <th>1787</th>\n",
              "      <th>1788</th>\n",
              "      <th>1789</th>\n",
              "      <th>1790</th>\n",
              "      <th>1791</th>\n",
              "      <th>1792</th>\n",
              "      <th>1793</th>\n",
              "      <th>1794</th>\n",
              "      <th>1795</th>\n",
              "      <th>1796</th>\n",
              "    </tr>\n",
              "  </thead>\n",
              "  <tbody>\n",
              "    <tr>\n",
              "      <th>0</th>\n",
              "      <td>0</td>\n",
              "      <td>1</td>\n",
              "      <td>2</td>\n",
              "      <td>3</td>\n",
              "      <td>4</td>\n",
              "      <td>5</td>\n",
              "      <td>6</td>\n",
              "      <td>7</td>\n",
              "      <td>8</td>\n",
              "      <td>9</td>\n",
              "      <td>0</td>\n",
              "      <td>1</td>\n",
              "      <td>2</td>\n",
              "      <td>3</td>\n",
              "      <td>4</td>\n",
              "      <td>5</td>\n",
              "      <td>6</td>\n",
              "      <td>7</td>\n",
              "      <td>8</td>\n",
              "      <td>9</td>\n",
              "      <td>0</td>\n",
              "      <td>1</td>\n",
              "      <td>2</td>\n",
              "      <td>3</td>\n",
              "      <td>4</td>\n",
              "      <td>5</td>\n",
              "      <td>6</td>\n",
              "      <td>7</td>\n",
              "      <td>8</td>\n",
              "      <td>9</td>\n",
              "      <td>0</td>\n",
              "      <td>9</td>\n",
              "      <td>5</td>\n",
              "      <td>5</td>\n",
              "      <td>6</td>\n",
              "      <td>5</td>\n",
              "      <td>0</td>\n",
              "      <td>9</td>\n",
              "      <td>8</td>\n",
              "      <td>9</td>\n",
              "      <td>...</td>\n",
              "      <td>1</td>\n",
              "      <td>3</td>\n",
              "      <td>9</td>\n",
              "      <td>1</td>\n",
              "      <td>7</td>\n",
              "      <td>6</td>\n",
              "      <td>8</td>\n",
              "      <td>4</td>\n",
              "      <td>3</td>\n",
              "      <td>1</td>\n",
              "      <td>4</td>\n",
              "      <td>0</td>\n",
              "      <td>5</td>\n",
              "      <td>3</td>\n",
              "      <td>6</td>\n",
              "      <td>9</td>\n",
              "      <td>6</td>\n",
              "      <td>1</td>\n",
              "      <td>7</td>\n",
              "      <td>5</td>\n",
              "      <td>4</td>\n",
              "      <td>4</td>\n",
              "      <td>7</td>\n",
              "      <td>2</td>\n",
              "      <td>8</td>\n",
              "      <td>2</td>\n",
              "      <td>2</td>\n",
              "      <td>5</td>\n",
              "      <td>7</td>\n",
              "      <td>9</td>\n",
              "      <td>5</td>\n",
              "      <td>4</td>\n",
              "      <td>8</td>\n",
              "      <td>8</td>\n",
              "      <td>4</td>\n",
              "      <td>9</td>\n",
              "      <td>0</td>\n",
              "      <td>8</td>\n",
              "      <td>9</td>\n",
              "      <td>8</td>\n",
              "    </tr>\n",
              "  </tbody>\n",
              "</table>\n",
              "<p>1 rows × 1797 columns</p>\n",
              "</div>"
            ],
            "text/plain": [
              "   0     1     2     3     4     5     ...  1791  1792  1793  1794  1795  1796\n",
              "0     0     1     2     3     4     5  ...     4     9     0     8     9     8\n",
              "\n",
              "[1 rows x 1797 columns]"
            ]
          },
          "metadata": {
            "tags": []
          },
          "execution_count": 19
        }
      ]
    },
    {
      "cell_type": "code",
      "metadata": {
        "id": "AGH6dRIaz6eW",
        "colab_type": "code",
        "colab": {
          "base_uri": "https://localhost:8080/",
          "height": 799
        },
        "outputId": "3788d14a-0f32-4d56-d914-f2c403f9be00"
      },
      "source": [
        "print(digits.DESCR)"
      ],
      "execution_count": 21,
      "outputs": [
        {
          "output_type": "stream",
          "text": [
            ".. _digits_dataset:\n",
            "\n",
            "Optical recognition of handwritten digits dataset\n",
            "--------------------------------------------------\n",
            "\n",
            "**Data Set Characteristics:**\n",
            "\n",
            "    :Number of Instances: 5620\n",
            "    :Number of Attributes: 64\n",
            "    :Attribute Information: 8x8 image of integer pixels in the range 0..16.\n",
            "    :Missing Attribute Values: None\n",
            "    :Creator: E. Alpaydin (alpaydin '@' boun.edu.tr)\n",
            "    :Date: July; 1998\n",
            "\n",
            "This is a copy of the test set of the UCI ML hand-written digits datasets\n",
            "https://archive.ics.uci.edu/ml/datasets/Optical+Recognition+of+Handwritten+Digits\n",
            "\n",
            "The data set contains images of hand-written digits: 10 classes where\n",
            "each class refers to a digit.\n",
            "\n",
            "Preprocessing programs made available by NIST were used to extract\n",
            "normalized bitmaps of handwritten digits from a preprinted form. From a\n",
            "total of 43 people, 30 contributed to the training set and different 13\n",
            "to the test set. 32x32 bitmaps are divided into nonoverlapping blocks of\n",
            "4x4 and the number of on pixels are counted in each block. This generates\n",
            "an input matrix of 8x8 where each element is an integer in the range\n",
            "0..16. This reduces dimensionality and gives invariance to small\n",
            "distortions.\n",
            "\n",
            "For info on NIST preprocessing routines, see M. D. Garris, J. L. Blue, G.\n",
            "T. Candela, D. L. Dimmick, J. Geist, P. J. Grother, S. A. Janet, and C.\n",
            "L. Wilson, NIST Form-Based Handprint Recognition System, NISTIR 5469,\n",
            "1994.\n",
            "\n",
            ".. topic:: References\n",
            "\n",
            "  - C. Kaynak (1995) Methods of Combining Multiple Classifiers and Their\n",
            "    Applications to Handwritten Digit Recognition, MSc Thesis, Institute of\n",
            "    Graduate Studies in Science and Engineering, Bogazici University.\n",
            "  - E. Alpaydin, C. Kaynak (1998) Cascading Classifiers, Kybernetika.\n",
            "  - Ken Tang and Ponnuthurai N. Suganthan and Xi Yao and A. Kai Qin.\n",
            "    Linear dimensionalityreduction using relevance weighted LDA. School of\n",
            "    Electrical and Electronic Engineering Nanyang Technological University.\n",
            "    2005.\n",
            "  - Claudio Gentile. A New Approximate Maximal Margin Classification\n",
            "    Algorithm. NIPS. 2000.\n"
          ],
          "name": "stdout"
        }
      ]
    },
    {
      "cell_type": "markdown",
      "metadata": {
        "id": "q4Qd47x20R9o",
        "colab_type": "text"
      },
      "source": [
        "A seguir, vamos isolar cada componente "
      ]
    },
    {
      "cell_type": "code",
      "metadata": {
        "id": "NW3XcEjN0qRh",
        "colab_type": "code",
        "colab": {}
      },
      "source": [
        "digits_data = digits.data\n",
        "digits_target = digits.target\n",
        "digits_images = digits.images"
      ],
      "execution_count": 0,
      "outputs": []
    },
    {
      "cell_type": "markdown",
      "metadata": {
        "id": "PGFeYYQJ0tv-",
        "colab_type": "text"
      },
      "source": [
        "Caso não tivessemos disponíveis uma variável com as classes que queremos prever, poderíamos consegui-las da seguinte maneira "
      ]
    },
    {
      "cell_type": "code",
      "metadata": {
        "id": "pto29vJH07a0",
        "colab_type": "code",
        "colab": {}
      },
      "source": [
        "number_digits = len(np.unique(digits.target))"
      ],
      "execution_count": 0,
      "outputs": []
    },
    {
      "cell_type": "markdown",
      "metadata": {
        "id": "w5tSjd1E0_CA",
        "colab_type": "text"
      },
      "source": [
        "Como temos podemos podemos atribuir diretamente"
      ]
    },
    {
      "cell_type": "code",
      "metadata": {
        "id": "lFHzZGyo1Dq5",
        "colab_type": "code",
        "colab": {}
      },
      "source": [
        "number_digits = digits.target_names"
      ],
      "execution_count": 0,
      "outputs": []
    },
    {
      "cell_type": "markdown",
      "metadata": {
        "id": "nl8M5cwS1OpL",
        "colab_type": "text"
      },
      "source": [
        "Existe uma função chamada `shape` muito útil para inspecionarmos a dimensionalidade dos objetos que estamos trabalhando"
      ]
    },
    {
      "cell_type": "code",
      "metadata": {
        "id": "ALU685391XIx",
        "colab_type": "code",
        "colab": {
          "base_uri": "https://localhost:8080/",
          "height": 85
        },
        "outputId": "6dd4499a-a022-4c86-800f-2fd905ea1606"
      },
      "source": [
        "print(f\"digits_data = {digits_data.shape}\")\n",
        "print(f\"digits_target = {digits_target.shape}\")\n",
        "print(f\"digits_images = {digits_images.shape}\")\n",
        "print(f\"number_digits = {number_digits.shape}\")"
      ],
      "execution_count": 28,
      "outputs": [
        {
          "output_type": "stream",
          "text": [
            "digits_data = (1797, 64)\n",
            "digits_target = (1797,)\n",
            "digits_images = (1797, 8, 8)\n",
            "number_digits = (10,)\n"
          ],
          "name": "stdout"
        }
      ]
    },
    {
      "cell_type": "markdown",
      "metadata": {
        "id": "v-oobOqr2B9u",
        "colab_type": "text"
      },
      "source": [
        "Para exemplificar, a seguir vamos mostrar as primeiras 64 imagens (`digits_images`) com seu respectivo rótulo (_target_)"
      ]
    },
    {
      "cell_type": "code",
      "metadata": {
        "id": "qYydJK3JY7wE",
        "colab_type": "code",
        "outputId": "125386b3-0d58-4956-cfa9-2f6c52de97f2",
        "colab": {
          "base_uri": "https://localhost:8080/",
          "height": 466
        }
      },
      "source": [
        "# Tamanho da figura (largura, altura) em polegadas\n",
        "fig = plt.figure(figsize=(6, 6))\n",
        "\n",
        "# Ajustando os subplots (cada imagem na figura)\n",
        "fig.subplots_adjust(left=0, right=1, bottom=0, top=1, hspace=0.05, wspace=0.05)\n",
        "\n",
        "# Então, iteramos as primeiras 64 imagens\n",
        "for i in range(64):\n",
        "    # Inicializando os subplots: adiciona um subplot na posição i+1\n",
        "    ax = fig.add_subplot(8, 8, i + 1, xticks=[], yticks=[])\n",
        "    # Mostra a imagem de posição i\n",
        "    ax.imshow(digits.images[i], cmap=plt.cm.binary, interpolation='nearest')\n",
        "    # rotula a imagem com seu respectivo rótulo\n",
        "    ax.text(0, 7, str(digits.target[i]))\n",
        "\n",
        "# mostra a figura\n",
        "plt.show()"
      ],
      "execution_count": 31,
      "outputs": [
        {
          "output_type": "display_data",
          "data": {
            "image/png": "[encoded data removed]",
            "text/plain": [
              "<Figure size 432x432 with 64 Axes>"
            ]
          },
          "metadata": {
            "tags": []
          }
        }
      ]
    },
    {
      "cell_type": "markdown",
      "metadata": {
        "id": "nSv311LTY7wN",
        "colab_type": "text"
      },
      "source": [
        "## Explorando o Dataset\n",
        "\n",
        "### PCA (Principal Component Analysis)\n",
        "\n",
        "Como o conjunto de dados de dígitos contém 64 features (no nosso caso, os pixels), visualizar a relação entre os dígitos pode ser uma tarefa desafiadora. Você pode imaginar que é muito difícil entender a estrutura e manter a visão geral dos dados dos dígitos. Nesses casos, é dito que você está trabalhando com um conjunto de dados de alta dimensão.\n",
        "\n",
        "A alta dimensionalidade dos dados é um resultado direto da tentativa de descrever os objetos por meio de um conjunto de features. Outros exemplos de dados de alta dimensão são, por exemplo, dados financeiros, dados climáticos, neuroimagem.\n",
        "\n",
        "Dado a complexidade, vamos usar uma técnica chamada análise de componentes principais (PCA) para visualiazar os dados. A ideia no PCA é encontrar uma combinação linear das variáveis que contém a maior parte das informações. Uma nova variável chamada de “componente principal” pode substituir duas variáveis originais.\n",
        "\n",
        "[Para saber mais sobre PCA](https://www.lauradhamilton.com/introduction-to-principal-component-analysis-pca)."
      ]
    },
    {
      "cell_type": "markdown",
      "metadata": {
        "id": "ROet358Y5PDs",
        "colab_type": "text"
      },
      "source": [
        "Vocês podem perceber que quando utilizamos técnicas/modelos do [sklearn](https://scikit-learn.org/stable/), normalmente estes contém as mesmas funções para sua aplicação (criação do objeto, `fit` e `transform`/`predict`) e esperam a mesma estrutura/entrada (parâmetros de configuração, dados multidimensionais e amostras) respectivamente."
      ]
    },
    {
      "cell_type": "markdown",
      "metadata": {
        "id": "gQKJXtux6P_Q",
        "colab_type": "text"
      },
      "source": [
        "A seguir vamos criar o objeto passando os parâmetros que são específicos da técnica/modelo"
      ]
    },
    {
      "cell_type": "code",
      "metadata": {
        "id": "ZRZrAUj45_BU",
        "colab_type": "code",
        "colab": {}
      },
      "source": [
        "pca = PCA(n_components=2)"
      ],
      "execution_count": 0,
      "outputs": []
    },
    {
      "cell_type": "markdown",
      "metadata": {
        "id": "jU3ORzPe6RXw",
        "colab_type": "text"
      },
      "source": [
        "Neste caso, especificamos que queremos gerar os dois primeiros componentes principais, que são os que mais explicam os dados."
      ]
    },
    {
      "cell_type": "markdown",
      "metadata": {
        "id": "C59J-cpW7IUK",
        "colab_type": "text"
      },
      "source": [
        "A seguir devemos utilizar a função `fit` nos dados que queremos aplicar a técnica/modelo. Esta função basicamente ajusta a técnica/modelo aos dados espeficados retornando os parâmetros especificados. Podem perceber que alguns parâmetros não foram especificados, assim a técnica utilizou os padrões de cada parâmetro"
      ]
    },
    {
      "cell_type": "code",
      "metadata": {
        "id": "Z-44g5Qe6ezA",
        "colab_type": "code",
        "colab": {
          "base_uri": "https://localhost:8080/",
          "height": 51
        },
        "outputId": "3306de6e-42a4-482d-fff0-21c7948e8e3e"
      },
      "source": [
        "pca.fit(digits_data)"
      ],
      "execution_count": 36,
      "outputs": [
        {
          "output_type": "execute_result",
          "data": {
            "text/plain": [
              "PCA(copy=True, iterated_power='auto', n_components=2, random_state=None,\n",
              "    svd_solver='auto', tol=0.0, whiten=False)"
            ]
          },
          "metadata": {
            "tags": []
          },
          "execution_count": 36
        }
      ]
    },
    {
      "cell_type": "markdown",
      "metadata": {
        "id": "4qGGcp1I70hx",
        "colab_type": "text"
      },
      "source": [
        " Se utilizarmos a função `pca.explained_variance_ratio_` podemos ver a porcentagem se explicação dos dados reduzidos em relação aos dados originais"
      ]
    },
    {
      "cell_type": "code",
      "metadata": {
        "id": "BQ_674-a7ysw",
        "colab_type": "code",
        "colab": {
          "base_uri": "https://localhost:8080/",
          "height": 34
        },
        "outputId": "f65386ea-1538-4512-f998-bb209abdae81"
      },
      "source": [
        "pca.explained_variance_ratio_"
      ],
      "execution_count": 37,
      "outputs": [
        {
          "output_type": "execute_result",
          "data": {
            "text/plain": [
              "array([0.14890594, 0.13618771])"
            ]
          },
          "metadata": {
            "tags": []
          },
          "execution_count": 37
        }
      ]
    },
    {
      "cell_type": "markdown",
      "metadata": {
        "id": "4gsRgUMi8YPj",
        "colab_type": "text"
      },
      "source": [
        "Somando as porcentagens do primeiro e segundo componente principal vemos que a explicabilidade pe apenas de ~28%. Poderíamos passar como parâmetro a porcentagem de explicabilidade como parâmtro também"
      ]
    },
    {
      "cell_type": "code",
      "metadata": {
        "id": "pWI009Uj8W-X",
        "colab_type": "code",
        "colab": {
          "base_uri": "https://localhost:8080/",
          "height": 119
        },
        "outputId": "f71d4c8b-e25e-4d8e-eddb-fd74dbb0a98a"
      },
      "source": [
        "pca_95 = PCA(0.95).fit(digits_data)\n",
        "print(pca_95.explained_variance_ratio_)\n",
        "pca_95.explained_variance_ratio_.shape"
      ],
      "execution_count": 42,
      "outputs": [
        {
          "output_type": "stream",
          "text": [
            "[0.14890594 0.13618771 0.11794594 0.08409979 0.05782415 0.0491691\n",
            " 0.04315987 0.03661373 0.03353248 0.03078806 0.02372341 0.02272697\n",
            " 0.01821863 0.01773855 0.01467101 0.01409716 0.01318589 0.01248138\n",
            " 0.01017718 0.00905617 0.00889538 0.00797123 0.00767493 0.00722904\n",
            " 0.00695889 0.00596081 0.00575615 0.00515158 0.0048954 ]\n"
          ],
          "name": "stdout"
        },
        {
          "output_type": "execute_result",
          "data": {
            "text/plain": [
              "(29,)"
            ]
          },
          "metadata": {
            "tags": []
          },
          "execution_count": 42
        }
      ]
    },
    {
      "cell_type": "markdown",
      "metadata": {
        "id": "FwhHeDau9Dm7",
        "colab_type": "text"
      },
      "source": [
        "Contudo, podemos ver que assim retornou 29 componentes, o que pode ser considerado uma alta dimensionalidade em alguns casos. Para poder visualizar a distribuição das amostras (registros ou imagens) mais a frente iremos continuar nossa análise apenas com 2 componentes principais"
      ]
    },
    {
      "cell_type": "markdown",
      "metadata": {
        "id": "ovfcJDQd9iCi",
        "colab_type": "text"
      },
      "source": [
        "Finalmente vamos utilizar a função `transform` para obter os dados reduzidos efetivamente"
      ]
    },
    {
      "cell_type": "code",
      "metadata": {
        "id": "-KgJT8kv82zg",
        "colab_type": "code",
        "colab": {}
      },
      "source": [
        "reduced_data_pca = pca.transform(digits_data)"
      ],
      "execution_count": 0,
      "outputs": []
    },
    {
      "cell_type": "markdown",
      "metadata": {
        "id": "D-GfdmiM9wN-",
        "colab_type": "text"
      },
      "source": [
        "Poderiámos também fazer o processo completo (criar, ajustar e transformar) em uma linha utilizando uma função "
      ]
    },
    {
      "cell_type": "code",
      "metadata": {
        "id": "ArWtbR6H9-p9",
        "colab_type": "code",
        "colab": {
          "base_uri": "https://localhost:8080/",
          "height": 153
        },
        "outputId": "f2ad6a2c-f73b-4437-a478-fcfdb2b2b3cf"
      },
      "source": [
        "reduced_data_pca = PCA(n_components=2).fit_transform(digits_data)\n",
        "print(reduced_data_pca)\n",
        "reduced_data_pca.shape"
      ],
      "execution_count": 45,
      "outputs": [
        {
          "output_type": "stream",
          "text": [
            "[[ -1.25946416  21.27488265]\n",
            " [  7.95760658 -20.76870039]\n",
            " [  6.99192323  -9.95598487]\n",
            " ...\n",
            " [ 10.80128735  -6.9602536 ]\n",
            " [ -4.8721005   12.42395203]\n",
            " [ -0.34438308   6.3655498 ]]\n"
          ],
          "name": "stdout"
        },
        {
          "output_type": "execute_result",
          "data": {
            "text/plain": [
              "(1797, 2)"
            ]
          },
          "metadata": {
            "tags": []
          },
          "execution_count": 45
        }
      ]
    },
    {
      "cell_type": "markdown",
      "metadata": {
        "id": "S9YDc2g2-mLW",
        "colab_type": "text"
      },
      "source": [
        "Como agora temos apenas duas dimensões ao invés de 64 podemos visualizar a distribuição dos dados em um gráfico 2D, chamado de gráfico de dispersão (`scatter_plot`)"
      ]
    },
    {
      "cell_type": "code",
      "metadata": {
        "id": "9aZs8KI1Y7wS",
        "colab_type": "code",
        "outputId": "64ce167e-f5bf-428e-ea0e-35b50d373e07",
        "colab": {
          "base_uri": "https://localhost:8080/",
          "height": 295
        }
      },
      "source": [
        "colors = ['black', 'blue', 'purple', 'yellow', 'green', 'red', 'lime', 'cyan', 'orange', 'gray']\n",
        "for i in range(len(colors)):\n",
        "    x = reduced_data_pca[:, 0][digits.target == i]\n",
        "    y = reduced_data_pca[:, 1][digits.target == i]\n",
        "    plt.scatter(x, y, c=colors[i])\n",
        "plt.legend(digits.target_names, bbox_to_anchor=(1.05, 1), loc=2, borderaxespad=0.)\n",
        "plt.xlabel('First Principal Component')\n",
        "plt.ylabel('Second Principal Component')\n",
        "plt.title(\"PCA Scatter Plot\")\n",
        "plt.show()"
      ],
      "execution_count": 50,
      "outputs": [
        {
          "output_type": "display_data",
          "data": {
            "image/png": "[encoded data removed]",
            "text/plain": [
              "<Figure size 432x288 with 1 Axes>"
            ]
          },
          "metadata": {
            "tags": []
          }
        }
      ]
    },
    {
      "cell_type": "markdown",
      "metadata": {
        "id": "Wez-2eDQY7wX",
        "colab_type": "text"
      },
      "source": [
        "## Normalização dos dados\n",
        "\n",
        "Vamos pré-processar os dados. Você pode padronizar os dados de dígitos usando, por exemplo, o método [scale](https://scikit-learn.org/stable/modules/generated/sklearn.preprocessing.scale.html) do [sklearn.preprocessing](https://scikit-learn.org/stable/modules/preprocessing.html).\n",
        "\n",
        "Ao padronizar os dados, você desloca a distribuição de cada atributo para ter uma média de zero e um desvio padrão de um (variação de unidade).\n",
        "\n",
        "O objetivo da normalização é alterar os valores das colunas numéricas no conjunto de dados para uma escala comum, sem distorcer as diferenças nos intervalos de valores. Para o aprendizado de máquina, nem todos os conjuntos de dados requerem normalização. Esse método é necessário apenas quando os parâmetros tiverem intervalos muito diferentes."
      ]
    },
    {
      "cell_type": "code",
      "metadata": {
        "id": "CW475KMIY7wY",
        "colab_type": "code",
        "colab": {}
      },
      "source": [
        "data = scale(digits.data)"
      ],
      "execution_count": 0,
      "outputs": []
    },
    {
      "cell_type": "markdown",
      "metadata": {
        "id": "NkAObO9jY7wc",
        "colab_type": "text"
      },
      "source": [
        "## Split data\n",
        "\n",
        "Para aplicação de um modelo precisamos separar o conjunto de dados em treinamento e teste. Isto, é necessário pois se treinarmos o modelo em cima de todo o conjunto de dados podemos criar um problema chamado [overfitting](https://pt.wikipedia.org/wiki/Sobreajuste) (sobreajuste). Onde o modelo fica muito especializado nos dados tendo uma alta acurácia somente nos dados utilizados no treino e quando amostras (no nosso caso uma nova imagem) novas são utilizadas para predição o modelo tem uma baixa acurácia. Além do mais, não teremos como avaliar nosso modelo com um conjunto de dados que nunca foi 'visto' sem os dados de teste. O ideal é alcançar um equilíbrio entre a acurácia do treinamento e do teste. "
      ]
    },
    {
      "cell_type": "markdown",
      "metadata": {
        "id": "3siTflMzCeVV",
        "colab_type": "text"
      },
      "source": [
        "A seguir, iremos utilizar a função [train_test_split](https://scikit-learn.org/stable/modules/generated/sklearn.model_selection.train_test_split.html) do [sklearn.model_selection](https://scikit-learn.org/stable/model_selection.html). Esta função faz o trabalho para nós de separar os dados de maneira aleátoria, sem enviesar a escolha dos dados ao nosso critério. Para garantir a reprodutibilidade do experimento neste caso estamos passando um parâmetro chamado `random_state`, ou seja, cada vez que rodarmos a função ela irá nos retornar o mesmo conjunto de dados."
      ]
    },
    {
      "cell_type": "code",
      "metadata": {
        "id": "2QBL_K1YY7wd",
        "colab_type": "code",
        "colab": {}
      },
      "source": [
        "X_train, X_test, y_train, y_test, images_train, images_test = train_test_split(data, digits.target, digits.images, test_size=0.25, random_state=42)"
      ],
      "execution_count": 0,
      "outputs": []
    },
    {
      "cell_type": "markdown",
      "metadata": {
        "id": "b4qt4Z_5DkAJ",
        "colab_type": "text"
      },
      "source": [
        "Como vocês podem ver, estamos passando os dados completos e recebendo eles separados. Precisamos também dos rótulos (resposta) respectivos de cada conjunto de dados que forma separados. Normalmente, nomeamos os dados de `X`, tanto de teste quanto de treino, e a resposta de `y`. Passmos também um parâmetro chamado `test_size` que vai especificar a porcentagem de separação entre treino e teste. Neste caso, 75% para treino e 25% para teste."
      ]
    },
    {
      "cell_type": "code",
      "metadata": {
        "id": "Okff-AYtY7wi",
        "colab_type": "code",
        "outputId": "757e7ee8-22cc-43c4-811e-3ae90e31642a",
        "colab": {
          "base_uri": "https://localhost:8080/",
          "height": 170
        }
      },
      "source": [
        "print(\"Trainamento\")\n",
        "n_samples, n_features = X_train.shape\n",
        "print(f\"n_samples = {n_samples}\")\n",
        "print(f\"n_features = {n_features}\")\n",
        "\n",
        "n_digits = len(np.unique(y_train))\n",
        "print(f\"n_digits = {n_digits}\")\n",
        "\n",
        "print(\"\\nTeste\")\n",
        "n_samples, n_features = X_test.shape\n",
        "print(f\"n_samples = {n_samples}\")\n",
        "print(f\"n_features = {n_features}\")\n",
        "\n",
        "n_digits = len(np.unique(y_train))\n",
        "print(f\"n_digits = {n_digits}\")\n"
      ],
      "execution_count": 58,
      "outputs": [
        {
          "output_type": "stream",
          "text": [
            "Trainamento\n",
            "n_samples = 1347\n",
            "n_features = 64\n",
            "n_digits = 10\n",
            "\n",
            "Teste\n",
            "n_samples = 450\n",
            "n_features = 64\n",
            "n_digits = 10\n"
          ],
          "name": "stdout"
        }
      ]
    },
    {
      "cell_type": "markdown",
      "metadata": {
        "id": "2s68WJASF67w",
        "colab_type": "text"
      },
      "source": [
        "Podemos perceber que temos amostras de todas as classes em cada conjunto de dados (treinamento e teste)\n"
      ]
    },
    {
      "cell_type": "markdown",
      "metadata": {
        "id": "PHc0GJWyY7wo",
        "colab_type": "text"
      },
      "source": [
        "## Clustering\n",
        "\n",
        "Vamos usar `KMeans` do módulo `sklearn.cluster` para configurar o modelo. Você verá que há três argumentos que são passados para esse método: `init`, `n_clusters` e `random_state`.\n",
        "\n",
        "O `init` indica o método de inicialização, `n_clusters` está definido como `10`. Esse número não apenas indica o número de clusters ou grupos que você deseja que seus dados formem, mas também o número de __centróides__ a serem gerados. O centróide de cluster é o meio do cluster."
      ]
    },
    {
      "cell_type": "markdown",
      "metadata": {
        "id": "oqqumbw9HDXS",
        "colab_type": "text"
      },
      "source": [
        "Criação do objeto com seus respectivos parâmetros"
      ]
    },
    {
      "cell_type": "code",
      "metadata": {
        "id": "XfrXikjkHN90",
        "colab_type": "code",
        "colab": {}
      },
      "source": [
        "clf = cluster.KMeans(init='k-means++', n_clusters=10, random_state=42)"
      ],
      "execution_count": 0,
      "outputs": []
    },
    {
      "cell_type": "markdown",
      "metadata": {
        "id": "4gdGIG--HVWR",
        "colab_type": "text"
      },
      "source": [
        "Ajuste do modelo aos dados "
      ]
    },
    {
      "cell_type": "code",
      "metadata": {
        "id": "DUKw87U4HSgW",
        "colab_type": "code",
        "colab": {
          "base_uri": "https://localhost:8080/",
          "height": 68
        },
        "outputId": "009d9dee-285a-48b7-a034-bfeeef1575be"
      },
      "source": [
        "clf.fit(X_train)"
      ],
      "execution_count": 61,
      "outputs": [
        {
          "output_type": "execute_result",
          "data": {
            "text/plain": [
              "KMeans(algorithm='auto', copy_x=True, init='k-means++', max_iter=300,\n",
              "       n_clusters=10, n_init=10, n_jobs=None, precompute_distances='auto',\n",
              "       random_state=42, tol=0.0001, verbose=0)"
            ]
          },
          "metadata": {
            "tags": []
          },
          "execution_count": 61
        }
      ]
    },
    {
      "cell_type": "markdown",
      "metadata": {
        "id": "9FsOAbytHbdZ",
        "colab_type": "text"
      },
      "source": [
        "Podem ver que o mesmo padrão se segue, criação em seguida ajuste. Repare que estamos passando para o modelo apenas os dados de treino. Pois vamos os dados de testes vamos utilizar somente depois para predição."
      ]
    },
    {
      "cell_type": "markdown",
      "metadata": {
        "id": "6BT7mTjrY7wu",
        "colab_type": "text"
      },
      "source": [
        "#### Visualizando as centróides"
      ]
    },
    {
      "cell_type": "code",
      "metadata": {
        "id": "ID1rtiuQY7wv",
        "colab_type": "code",
        "outputId": "9687baba-d1af-4eb4-992f-bf4daa4bb6ca",
        "colab": {
          "base_uri": "https://localhost:8080/",
          "height": 216
        }
      },
      "source": [
        "# Tamanho da figura em polegadas\n",
        "fig = plt.figure(figsize=(8, 3))\n",
        "\n",
        "# Adiciona o título\n",
        "fig.suptitle('Cluster Center Images', fontsize=14, fontweight='bold')\n",
        "\n",
        "# Para cada cluster (0-9)\n",
        "for i in range(10):\n",
        "    # Inicializa os subplots para cada posição\n",
        "    ax = fig.add_subplot(2, 5, 1 + i)\n",
        "    # Mostra as imagens\n",
        "    ax.imshow(clf.cluster_centers_[i].reshape((8, 8)), cmap=plt.cm.binary)\n",
        "    # Remove as informação de gráfico x e y\n",
        "    plt.axis('off')\n",
        "\n",
        "# Mostra a figura\n",
        "plt.show()"
      ],
      "execution_count": 66,
      "outputs": [
        {
          "output_type": "display_data",
          "data": {
            "image/png": "[encoded data removed]",
            "text/plain": [
              "<Figure size 576x216 with 10 Axes>"
            ]
          },
          "metadata": {
            "tags": []
          }
        }
      ]
    },
    {
      "cell_type": "markdown",
      "metadata": {
        "id": "QgHzQDa5Y7wz",
        "colab_type": "text"
      },
      "source": [
        "#### Prevendo as categorias dos dígitos\n",
        "\n",
        "Agora que temos nosso modelo ajustado podemos utilizar a função `predict` do modelo passando desde uma simples amostra a um conjunto de amostras. Como podem perceber não usamos os rótulos de treinamento (`y_train`) como _feedback_ para o modelo. Isto se deve a característica do modelo utilizado (`kmeans`) que é utilizado normalmente para aprendizado [não supervisionado]() (quando não temos a resposta para as amostras utilizadas)"
      ]
    },
    {
      "cell_type": "code",
      "metadata": {
        "id": "fsgbcju7KVX_",
        "colab_type": "code",
        "colab": {
          "base_uri": "https://localhost:8080/",
          "height": 531
        },
        "outputId": "aa1e0169-a9f9-4af0-80f8-d255d187cf6d"
      },
      "source": [
        "clf.predict(X_test[0])"
      ],
      "execution_count": 71,
      "outputs": [
        {
          "output_type": "error",
          "ename": "ValueError",
          "evalue": "ignored",
          "traceback": [
            "\u001b[0;31m---------------------------------------------------------------------------\u001b[0m",
            "\u001b[0;31mValueError\u001b[0m                                Traceback (most recent call last)",
            "\u001b[0;32m<ipython-input-71-a6849de34753>\u001b[0m in \u001b[0;36m<module>\u001b[0;34m()\u001b[0m\n\u001b[0;32m----> 1\u001b[0;31m \u001b[0mclf\u001b[0m\u001b[0;34m.\u001b[0m\u001b[0mpredict\u001b[0m\u001b[0;34m(\u001b[0m\u001b[0mX_test\u001b[0m\u001b[0;34m[\u001b[0m\u001b[0;36m0\u001b[0m\u001b[0;34m]\u001b[0m\u001b[0;34m)\u001b[0m\u001b[0;34m\u001b[0m\u001b[0;34m\u001b[0m\u001b[0m\n\u001b[0m",
            "\u001b[0;32m/usr/local/lib/python3.6/dist-packages/sklearn/cluster/k_means_.py\u001b[0m in \u001b[0;36mpredict\u001b[0;34m(self, X, sample_weight)\u001b[0m\n\u001b[1;32m   1075\u001b[0m         \u001b[0mcheck_is_fitted\u001b[0m\u001b[0;34m(\u001b[0m\u001b[0mself\u001b[0m\u001b[0;34m,\u001b[0m \u001b[0;34m'cluster_centers_'\u001b[0m\u001b[0;34m)\u001b[0m\u001b[0;34m\u001b[0m\u001b[0;34m\u001b[0m\u001b[0m\n\u001b[1;32m   1076\u001b[0m \u001b[0;34m\u001b[0m\u001b[0m\n\u001b[0;32m-> 1077\u001b[0;31m         \u001b[0mX\u001b[0m \u001b[0;34m=\u001b[0m \u001b[0mself\u001b[0m\u001b[0;34m.\u001b[0m\u001b[0m_check_test_data\u001b[0m\u001b[0;34m(\u001b[0m\u001b[0mX\u001b[0m\u001b[0;34m)\u001b[0m\u001b[0;34m\u001b[0m\u001b[0;34m\u001b[0m\u001b[0m\n\u001b[0m\u001b[1;32m   1078\u001b[0m         \u001b[0mx_squared_norms\u001b[0m \u001b[0;34m=\u001b[0m \u001b[0mrow_norms\u001b[0m\u001b[0;34m(\u001b[0m\u001b[0mX\u001b[0m\u001b[0;34m,\u001b[0m \u001b[0msquared\u001b[0m\u001b[0;34m=\u001b[0m\u001b[0;32mTrue\u001b[0m\u001b[0;34m)\u001b[0m\u001b[0;34m\u001b[0m\u001b[0;34m\u001b[0m\u001b[0m\n\u001b[1;32m   1079\u001b[0m         return _labels_inertia(X, sample_weight, x_squared_norms,\n",
            "\u001b[0;32m/usr/local/lib/python3.6/dist-packages/sklearn/cluster/k_means_.py\u001b[0m in \u001b[0;36m_check_test_data\u001b[0;34m(self, X)\u001b[0m\n\u001b[1;32m    932\u001b[0m \u001b[0;34m\u001b[0m\u001b[0m\n\u001b[1;32m    933\u001b[0m     \u001b[0;32mdef\u001b[0m \u001b[0m_check_test_data\u001b[0m\u001b[0;34m(\u001b[0m\u001b[0mself\u001b[0m\u001b[0;34m,\u001b[0m \u001b[0mX\u001b[0m\u001b[0;34m)\u001b[0m\u001b[0;34m:\u001b[0m\u001b[0;34m\u001b[0m\u001b[0;34m\u001b[0m\u001b[0m\n\u001b[0;32m--> 934\u001b[0;31m         \u001b[0mX\u001b[0m \u001b[0;34m=\u001b[0m \u001b[0mcheck_array\u001b[0m\u001b[0;34m(\u001b[0m\u001b[0mX\u001b[0m\u001b[0;34m,\u001b[0m \u001b[0maccept_sparse\u001b[0m\u001b[0;34m=\u001b[0m\u001b[0;34m'csr'\u001b[0m\u001b[0;34m,\u001b[0m \u001b[0mdtype\u001b[0m\u001b[0;34m=\u001b[0m\u001b[0mFLOAT_DTYPES\u001b[0m\u001b[0;34m)\u001b[0m\u001b[0;34m\u001b[0m\u001b[0;34m\u001b[0m\u001b[0m\n\u001b[0m\u001b[1;32m    935\u001b[0m         \u001b[0mn_samples\u001b[0m\u001b[0;34m,\u001b[0m \u001b[0mn_features\u001b[0m \u001b[0;34m=\u001b[0m \u001b[0mX\u001b[0m\u001b[0;34m.\u001b[0m\u001b[0mshape\u001b[0m\u001b[0;34m\u001b[0m\u001b[0;34m\u001b[0m\u001b[0m\n\u001b[1;32m    936\u001b[0m         \u001b[0mexpected_n_features\u001b[0m \u001b[0;34m=\u001b[0m \u001b[0mself\u001b[0m\u001b[0;34m.\u001b[0m\u001b[0mcluster_centers_\u001b[0m\u001b[0;34m.\u001b[0m\u001b[0mshape\u001b[0m\u001b[0;34m[\u001b[0m\u001b[0;36m1\u001b[0m\u001b[0;34m]\u001b[0m\u001b[0;34m\u001b[0m\u001b[0;34m\u001b[0m\u001b[0m\n",
            "\u001b[0;32m/usr/local/lib/python3.6/dist-packages/sklearn/utils/validation.py\u001b[0m in \u001b[0;36mcheck_array\u001b[0;34m(array, accept_sparse, accept_large_sparse, dtype, order, copy, force_all_finite, ensure_2d, allow_nd, ensure_min_samples, ensure_min_features, warn_on_dtype, estimator)\u001b[0m\n\u001b[1;32m    519\u001b[0m                     \u001b[0;34m\"Reshape your data either using array.reshape(-1, 1) if \"\u001b[0m\u001b[0;34m\u001b[0m\u001b[0;34m\u001b[0m\u001b[0m\n\u001b[1;32m    520\u001b[0m                     \u001b[0;34m\"your data has a single feature or array.reshape(1, -1) \"\u001b[0m\u001b[0;34m\u001b[0m\u001b[0;34m\u001b[0m\u001b[0m\n\u001b[0;32m--> 521\u001b[0;31m                     \"if it contains a single sample.\".format(array))\n\u001b[0m\u001b[1;32m    522\u001b[0m \u001b[0;34m\u001b[0m\u001b[0m\n\u001b[1;32m    523\u001b[0m         \u001b[0;31m# in the future np.flexible dtypes will be handled like object dtypes\u001b[0m\u001b[0;34m\u001b[0m\u001b[0;34m\u001b[0m\u001b[0;34m\u001b[0m\u001b[0m\n",
            "\u001b[0;31mValueError\u001b[0m: Expected 2D array, got 1D array instead:\narray=[ 0.         -0.33501649 -1.09493684 -1.13847109  0.03544399 -1.02065685\n -0.40972392 -0.12502292 -0.05907756 -0.62400926 -1.17755836  1.01110394\n -0.4767178  -1.35109507 -0.51499146 -0.13043338 -0.04462507 -0.72764628\n  0.36856398  0.69077777 -1.14964846 -1.25998248 -0.54880546 -0.11422184\n -0.03337973 -0.78510524  0.95451315  0.20040317 -0.31333031 -0.26426426\n -0.35755713 -0.04723238  0.         -0.67237227  1.15971234  1.10556952\n -0.38801016  0.21400225  1.43955804  0.         -0.06134367 -0.5312841\n  1.08910397 -0.03543055 -1.22603292 -1.44653841  1.97325291 -0.08874162\n -0.03543326 -0.40357499  0.08737382  0.27954643 -1.77645875 -0.62335207\n  2.4958947   1.82247295 -0.02359646 -0.29908135 -1.08938309 -0.7063116\n  0.44416435  1.22664392  0.71700059 -0.19600752].\nReshape your data either using array.reshape(-1, 1) if your data has a single feature or array.reshape(1, -1) if it contains a single sample."
          ]
        }
      ]
    },
    {
      "cell_type": "markdown",
      "metadata": {
        "id": "tIuc1Em4Kl6u",
        "colab_type": "text"
      },
      "source": [
        "Como podem a função retornou um erro. Quando tentamos passar apenas uma amostra para predição, a estrutura do dado de entrada não era esperada. Percebemos isto analisando o erro retornado, o qual além de mostrar o erro mostrou a solução para solucionalo."
      ]
    },
    {
      "cell_type": "code",
      "metadata": {
        "id": "OIgN1ebFPqkE",
        "colab_type": "code",
        "colab": {
          "base_uri": "https://localhost:8080/",
          "height": 34
        },
        "outputId": "488b7215-7ac2-4084-bc35-d0425dbdb298"
      },
      "source": [
        "clf.predict(X_test[0].reshape(1, -1))"
      ],
      "execution_count": 72,
      "outputs": [
        {
          "output_type": "execute_result",
          "data": {
            "text/plain": [
              "array([4], dtype=int32)"
            ]
          },
          "metadata": {
            "tags": []
          },
          "execution_count": 72
        }
      ]
    },
    {
      "cell_type": "markdown",
      "metadata": {
        "id": "4o4SvXufPyeI",
        "colab_type": "text"
      },
      "source": [
        "Para a primeira a mostra do nosso conjunto de teste o rótulo previsto foi o número 4. Será que nosso modelo acertou a previsão?"
      ]
    },
    {
      "cell_type": "code",
      "metadata": {
        "id": "otPMFtc1Pxgr",
        "colab_type": "code",
        "colab": {
          "base_uri": "https://localhost:8080/",
          "height": 34
        },
        "outputId": "12b7e9c0-54f3-4f66-aac9-f8614e69d81c"
      },
      "source": [
        "y_test[0]"
      ],
      "execution_count": 74,
      "outputs": [
        {
          "output_type": "execute_result",
          "data": {
            "text/plain": [
              "6"
            ]
          },
          "metadata": {
            "tags": []
          },
          "execution_count": 74
        }
      ]
    },
    {
      "cell_type": "markdown",
      "metadata": {
        "id": "4ek9pQD9RGhQ",
        "colab_type": "text"
      },
      "source": [
        "Como podemos ver o modelo treinado errou na predição. Mais adiante, vamos analisar o desempenho do modelo gerado."
      ]
    },
    {
      "cell_type": "code",
      "metadata": {
        "id": "zU36Lq02Y7w0",
        "colab_type": "code",
        "outputId": "aae725fd-e8a7-41aa-d9b8-265c44ab88af",
        "colab": {
          "base_uri": "https://localhost:8080/",
          "height": 160
        }
      },
      "source": [
        "y_pred=clf.predict(X_test)\n",
        "\n",
        "pd.DataFrame(data=[y_pred[:100], y_test[:100]], index=[\"predição\", \"real\"])"
      ],
      "execution_count": 78,
      "outputs": [
        {
          "output_type": "execute_result",
          "data": {
            "text/html": [
              "<div>\n",
              "<style scoped>\n",
              "    .dataframe tbody tr th:only-of-type {\n",
              "        vertical-align: middle;\n",
              "    }\n",
              "\n",
              "    .dataframe tbody tr th {\n",
              "        vertical-align: top;\n",
              "    }\n",
              "\n",
              "    .dataframe thead th {\n",
              "        text-align: right;\n",
              "    }\n",
              "</style>\n",
              "<table border=\"1\" class=\"dataframe\">\n",
              "  <thead>\n",
              "    <tr style=\"text-align: right;\">\n",
              "      <th></th>\n",
              "      <th>0</th>\n",
              "      <th>1</th>\n",
              "      <th>2</th>\n",
              "      <th>3</th>\n",
              "      <th>4</th>\n",
              "      <th>5</th>\n",
              "      <th>6</th>\n",
              "      <th>7</th>\n",
              "      <th>8</th>\n",
              "      <th>9</th>\n",
              "      <th>10</th>\n",
              "      <th>11</th>\n",
              "      <th>12</th>\n",
              "      <th>13</th>\n",
              "      <th>14</th>\n",
              "      <th>15</th>\n",
              "      <th>16</th>\n",
              "      <th>17</th>\n",
              "      <th>18</th>\n",
              "      <th>19</th>\n",
              "      <th>20</th>\n",
              "      <th>21</th>\n",
              "      <th>22</th>\n",
              "      <th>23</th>\n",
              "      <th>24</th>\n",
              "      <th>25</th>\n",
              "      <th>26</th>\n",
              "      <th>27</th>\n",
              "      <th>28</th>\n",
              "      <th>29</th>\n",
              "      <th>30</th>\n",
              "      <th>31</th>\n",
              "      <th>32</th>\n",
              "      <th>33</th>\n",
              "      <th>34</th>\n",
              "      <th>35</th>\n",
              "      <th>36</th>\n",
              "      <th>37</th>\n",
              "      <th>38</th>\n",
              "      <th>39</th>\n",
              "      <th>...</th>\n",
              "      <th>60</th>\n",
              "      <th>61</th>\n",
              "      <th>62</th>\n",
              "      <th>63</th>\n",
              "      <th>64</th>\n",
              "      <th>65</th>\n",
              "      <th>66</th>\n",
              "      <th>67</th>\n",
              "      <th>68</th>\n",
              "      <th>69</th>\n",
              "      <th>70</th>\n",
              "      <th>71</th>\n",
              "      <th>72</th>\n",
              "      <th>73</th>\n",
              "      <th>74</th>\n",
              "      <th>75</th>\n",
              "      <th>76</th>\n",
              "      <th>77</th>\n",
              "      <th>78</th>\n",
              "      <th>79</th>\n",
              "      <th>80</th>\n",
              "      <th>81</th>\n",
              "      <th>82</th>\n",
              "      <th>83</th>\n",
              "      <th>84</th>\n",
              "      <th>85</th>\n",
              "      <th>86</th>\n",
              "      <th>87</th>\n",
              "      <th>88</th>\n",
              "      <th>89</th>\n",
              "      <th>90</th>\n",
              "      <th>91</th>\n",
              "      <th>92</th>\n",
              "      <th>93</th>\n",
              "      <th>94</th>\n",
              "      <th>95</th>\n",
              "      <th>96</th>\n",
              "      <th>97</th>\n",
              "      <th>98</th>\n",
              "      <th>99</th>\n",
              "    </tr>\n",
              "  </thead>\n",
              "  <tbody>\n",
              "    <tr>\n",
              "      <th>predição</th>\n",
              "      <td>4</td>\n",
              "      <td>8</td>\n",
              "      <td>8</td>\n",
              "      <td>9</td>\n",
              "      <td>3</td>\n",
              "      <td>3</td>\n",
              "      <td>5</td>\n",
              "      <td>8</td>\n",
              "      <td>5</td>\n",
              "      <td>3</td>\n",
              "      <td>0</td>\n",
              "      <td>7</td>\n",
              "      <td>1</td>\n",
              "      <td>2</td>\n",
              "      <td>1</td>\n",
              "      <td>3</td>\n",
              "      <td>8</td>\n",
              "      <td>6</td>\n",
              "      <td>8</td>\n",
              "      <td>8</td>\n",
              "      <td>1</td>\n",
              "      <td>5</td>\n",
              "      <td>8</td>\n",
              "      <td>6</td>\n",
              "      <td>5</td>\n",
              "      <td>4</td>\n",
              "      <td>8</td>\n",
              "      <td>5</td>\n",
              "      <td>4</td>\n",
              "      <td>8</td>\n",
              "      <td>1</td>\n",
              "      <td>8</td>\n",
              "      <td>3</td>\n",
              "      <td>1</td>\n",
              "      <td>1</td>\n",
              "      <td>4</td>\n",
              "      <td>8</td>\n",
              "      <td>1</td>\n",
              "      <td>6</td>\n",
              "      <td>4</td>\n",
              "      <td>...</td>\n",
              "      <td>2</td>\n",
              "      <td>1</td>\n",
              "      <td>5</td>\n",
              "      <td>3</td>\n",
              "      <td>1</td>\n",
              "      <td>5</td>\n",
              "      <td>6</td>\n",
              "      <td>2</td>\n",
              "      <td>6</td>\n",
              "      <td>8</td>\n",
              "      <td>8</td>\n",
              "      <td>8</td>\n",
              "      <td>8</td>\n",
              "      <td>6</td>\n",
              "      <td>6</td>\n",
              "      <td>2</td>\n",
              "      <td>1</td>\n",
              "      <td>5</td>\n",
              "      <td>8</td>\n",
              "      <td>8</td>\n",
              "      <td>8</td>\n",
              "      <td>2</td>\n",
              "      <td>3</td>\n",
              "      <td>8</td>\n",
              "      <td>8</td>\n",
              "      <td>2</td>\n",
              "      <td>4</td>\n",
              "      <td>1</td>\n",
              "      <td>1</td>\n",
              "      <td>8</td>\n",
              "      <td>0</td>\n",
              "      <td>3</td>\n",
              "      <td>7</td>\n",
              "      <td>8</td>\n",
              "      <td>8</td>\n",
              "      <td>3</td>\n",
              "      <td>8</td>\n",
              "      <td>2</td>\n",
              "      <td>1</td>\n",
              "      <td>1</td>\n",
              "    </tr>\n",
              "    <tr>\n",
              "      <th>real</th>\n",
              "      <td>6</td>\n",
              "      <td>9</td>\n",
              "      <td>3</td>\n",
              "      <td>7</td>\n",
              "      <td>2</td>\n",
              "      <td>1</td>\n",
              "      <td>5</td>\n",
              "      <td>2</td>\n",
              "      <td>5</td>\n",
              "      <td>2</td>\n",
              "      <td>1</td>\n",
              "      <td>9</td>\n",
              "      <td>4</td>\n",
              "      <td>0</td>\n",
              "      <td>4</td>\n",
              "      <td>2</td>\n",
              "      <td>3</td>\n",
              "      <td>7</td>\n",
              "      <td>8</td>\n",
              "      <td>8</td>\n",
              "      <td>4</td>\n",
              "      <td>3</td>\n",
              "      <td>9</td>\n",
              "      <td>7</td>\n",
              "      <td>5</td>\n",
              "      <td>6</td>\n",
              "      <td>3</td>\n",
              "      <td>5</td>\n",
              "      <td>6</td>\n",
              "      <td>3</td>\n",
              "      <td>4</td>\n",
              "      <td>9</td>\n",
              "      <td>1</td>\n",
              "      <td>4</td>\n",
              "      <td>4</td>\n",
              "      <td>6</td>\n",
              "      <td>9</td>\n",
              "      <td>4</td>\n",
              "      <td>7</td>\n",
              "      <td>6</td>\n",
              "      <td>...</td>\n",
              "      <td>0</td>\n",
              "      <td>4</td>\n",
              "      <td>5</td>\n",
              "      <td>2</td>\n",
              "      <td>4</td>\n",
              "      <td>5</td>\n",
              "      <td>7</td>\n",
              "      <td>0</td>\n",
              "      <td>7</td>\n",
              "      <td>5</td>\n",
              "      <td>9</td>\n",
              "      <td>5</td>\n",
              "      <td>5</td>\n",
              "      <td>4</td>\n",
              "      <td>7</td>\n",
              "      <td>0</td>\n",
              "      <td>4</td>\n",
              "      <td>5</td>\n",
              "      <td>5</td>\n",
              "      <td>9</td>\n",
              "      <td>9</td>\n",
              "      <td>0</td>\n",
              "      <td>2</td>\n",
              "      <td>3</td>\n",
              "      <td>8</td>\n",
              "      <td>0</td>\n",
              "      <td>6</td>\n",
              "      <td>4</td>\n",
              "      <td>4</td>\n",
              "      <td>9</td>\n",
              "      <td>1</td>\n",
              "      <td>2</td>\n",
              "      <td>8</td>\n",
              "      <td>3</td>\n",
              "      <td>5</td>\n",
              "      <td>2</td>\n",
              "      <td>9</td>\n",
              "      <td>0</td>\n",
              "      <td>4</td>\n",
              "      <td>4</td>\n",
              "    </tr>\n",
              "  </tbody>\n",
              "</table>\n",
              "<p>2 rows × 100 columns</p>\n",
              "</div>"
            ],
            "text/plain": [
              "          0   1   2   3   4   5   6   7   ...  92  93  94  95  96  97  98  99\n",
              "predição   4   8   8   9   3   3   5   8  ...   7   8   8   3   8   2   1   1\n",
              "real       6   9   3   7   2   1   5   2  ...   8   3   5   2   9   0   4   4\n",
              "\n",
              "[2 rows x 100 columns]"
            ]
          },
          "metadata": {
            "tags": []
          },
          "execution_count": 78
        }
      ]
    },
    {
      "cell_type": "markdown",
      "metadata": {
        "id": "KCGM-ikhY7w4",
        "colab_type": "text"
      },
      "source": [
        "Visualizando as categorias inferidas\n",
        "\n",
        "Criamos um [Isomap](https://towardsdatascience.com/decomposing-non-linearity-with-isomap-32cf1e95a483) com os dados de treinamento e teste para visualizar e comparar os dados reais com os preditos. Basicamente, o [Isomap](https://towardsdatascience.com/decomposing-non-linearity-with-isomap-32cf1e95a483), ao invés de utilizar a distância Euclidiana entre os pontos, utiliza um outro tipo de distância ao gerar o gráfico de disperção (Geodesic distance)"
      ]
    },
    {
      "cell_type": "code",
      "metadata": {
        "id": "WsIr3tumY7w5",
        "colab_type": "code",
        "outputId": "c62db980-d8da-4cce-bed1-55da9393a71b",
        "colab": {
          "base_uri": "https://localhost:8080/",
          "height": 294
        }
      },
      "source": [
        "# Cria o Isomap e ajusta os dados de treinamento\n",
        "X_iso = Isomap(n_neighbors=10).fit_transform(X_train)\n",
        "\n",
        "# Calcula os clusters centrais\n",
        "clusters = clf.fit_predict(X_train)\n",
        "\n",
        "# Cria o subplot para os gráficos\n",
        "fig, ax = plt.subplots(1, 2, figsize=(8, 4))\n",
        "\n",
        "# Ajusta o layout\n",
        "fig.suptitle('Predicted Versus Training Labels', fontsize=14, fontweight='bold')\n",
        "fig.subplots_adjust(top=0.85)\n",
        "\n",
        "# Adiciona os gráficos de disperção\n",
        "ax[0].scatter(X_iso[:, 0], X_iso[:, 1], c=clusters)\n",
        "ax[0].set_title('Predicted Training Labels')\n",
        "ax[1].scatter(X_iso[:, 0], X_iso[:, 1], c=y_train)\n",
        "ax[1].set_title('Actual Training Labels')\n",
        "\n",
        "# Mostra a figura\n",
        "plt.show()"
      ],
      "execution_count": 79,
      "outputs": [
        {
          "output_type": "display_data",
          "data": {
            "image/png": "[encoded data removed]",
            "text/plain": [
              "<Figure size 576x288 with 2 Axes>"
            ]
          },
          "metadata": {
            "tags": []
          }
        }
      ]
    },
    {
      "cell_type": "markdown",
      "metadata": {
        "id": "ftsIBsf8Y7w9",
        "colab_type": "text"
      },
      "source": [
        "## Avaliando o modelo\n",
        "### Métricas de clustering"
      ]
    },
    {
      "cell_type": "markdown",
      "metadata": {
        "id": "FpiAMYo2Y7w-",
        "colab_type": "text"
      },
      "source": [
        "Métricas para avaliação de clusters:"
      ]
    },
    {
      "cell_type": "code",
      "metadata": {
        "id": "owtsBOU6Y7xA",
        "colab_type": "code",
        "outputId": "24a41b9a-1118-40e2-c487-eaf0578a2dab",
        "colab": {}
      },
      "source": [
        "print('% 9s' % 'inertia    homo   compl  v-meas     ARI AMI  silhouette')\n",
        "print('%i   %.3f   %.3f   %.3f   %.3f   %.3f    %.3f'\n",
        "          %(clf.inertia_,\n",
        "      metrics.homogeneity_score(y_test, y_pred),\n",
        "      metrics.completeness_score(y_test, y_pred),\n",
        "      metrics.v_measure_score(y_test, y_pred),\n",
        "      metrics.adjusted_rand_score(y_test, y_pred),\n",
        "      metrics.adjusted_mutual_info_score(y_test, y_pred),\n",
        "      metrics.silhouette_score(X_test, y_pred, metric='euclidean')))"
      ],
      "execution_count": 0,
      "outputs": [
        {
          "output_type": "stream",
          "text": [
            "inertia    homo   compl  v-meas     ARI AMI  silhouette\n",
            "54276   0.688   0.733   0.710   0.567   0.674    0.146\n"
          ],
          "name": "stdout"
        }
      ]
    },
    {
      "cell_type": "markdown",
      "metadata": {
        "id": "JmDiCnHBY7xE",
        "colab_type": "text"
      },
      "source": [
        "* A medida de homogeneidade (`homogeneity_score`) indica em que medida todos os clusters contêm apenas pontos de dados que são membros de uma única categoria.\n",
        "* A medida de integralidade (`completeness_score`) mede até que ponto todos os pontos de dados que são membros de uma determinada categoria também são elementos do mesmo cluster.\n",
        "* A medida V (`v_measure_score`) é a média harmônica entre homogeneidade e completude.\n",
        "* A medida `adjusted_rand_score` mede a similaridade entre dois agrupamentos e considera todos os pares de amostras e pares de contagem que são atribuídos nos mesmos ou diferentes agrupamentos nos agrupamentos previstos e verdadeiros.\n",
        "* A medida da Informação Mútua Ajustada (`adjusted_mutual_info_score`) é usada para comparar clusters. Ele mede a similaridade entre os pontos de dados que estão nos agrupamentos, representando agrupamentos aleatórios e assume um valor máximo de 1 quando os agrupamentos são equivalentes.\n",
        "* A medida da silhueta (`silhouette_score`) mede a similaridade de um objeto ao seu próprio cluster em comparação a outros clusters. As pontuações da silhueta variam de -1 a 1, em que um valor mais alto indica que o objeto é mais compatível com seu próprio cluster e pior comparado aos clusters vizinhos. Se muitos pontos tiverem um valor alto, a configuração do clusteirng é boa."
      ]
    },
    {
      "cell_type": "markdown",
      "metadata": {
        "id": "OlbcNoFhUgHS",
        "colab_type": "text"
      },
      "source": [
        "### Matriz de confusão\n",
        "\n",
        "É um tabela que mostra as frequências de classificação para cada classe do modelo"
      ]
    },
    {
      "cell_type": "code",
      "metadata": {
        "id": "KzcxiXbiY7xE",
        "colab_type": "code",
        "outputId": "6ae6b66a-e959-44f4-fae5-0b058c34cd8e",
        "colab": {
          "base_uri": "https://localhost:8080/",
          "height": 187
        }
      },
      "source": [
        "confusion_mat = metrics.confusion_matrix(y_test, y_pred)\n",
        "print(confusion_mat)"
      ],
      "execution_count": 80,
      "outputs": [
        {
          "output_type": "stream",
          "text": [
            "[[ 0  0 43  0  0  0  0  0  0  0]\n",
            " [20  0  0  7  0  0  0 10  0  0]\n",
            " [ 5  0  0 31  0  0  0  1  1  0]\n",
            " [ 1  0  0  1  0  1  4  0 39  0]\n",
            " [ 1 50  0  0  0  0  1  2  0  1]\n",
            " [ 1  0  0  0  1 41  0  0 16  0]\n",
            " [ 0  0  1  0 44  0  0  0  0  0]\n",
            " [ 0  0  0  0  0  1 34  1  0  5]\n",
            " [21  0  0  0  0  3  1  2 11  0]\n",
            " [ 0  0  0  0  0  2  3  3 40  0]]\n"
          ],
          "name": "stdout"
        }
      ]
    },
    {
      "cell_type": "code",
      "metadata": {
        "id": "oTD0y4ZvY7xL",
        "colab_type": "code",
        "outputId": "3bad7f3d-8a3a-4a87-d13f-c54d3d43cf82",
        "colab": {
          "base_uri": "https://localhost:8080/",
          "height": 454
        }
      },
      "source": [
        "df_cm = pd.DataFrame(confusion_mat, index=digits.target_names, columns=digits.target_names)\n",
        "fig = plt.figure(figsize=(10,7))\n",
        "try:\n",
        "    heatmap = sns.heatmap(df_cm, annot=True, fmt=\"d\", cmap=\"YlGnBu\")\n",
        "except ValueError:\n",
        "    raise ValueError(\"Confusion matrix values must be integers.\")\n",
        "heatmap.yaxis.set_ticklabels(heatmap.yaxis.get_ticklabels(), rotation=0, ha='right', fontsize=14)\n",
        "heatmap.xaxis.set_ticklabels(heatmap.xaxis.get_ticklabels(), rotation=45, ha='right', fontsize=14)\n",
        "_ = plt.ylabel('True label')\n",
        "_ = plt.xlabel('Predicted label')"
      ],
      "execution_count": 85,
      "outputs": [
        {
          "output_type": "display_data",
          "data": {
            "image/png": "[encoded data removed]",
            "text/plain": [
              "<Figure size 720x504 with 2 Axes>"
            ]
          },
          "metadata": {
            "tags": []
          }
        }
      ]
    },
    {
      "cell_type": "markdown",
      "metadata": {
        "id": "YNwO7m1CY7xT",
        "colab_type": "text"
      },
      "source": [
        "### Métricas\n",
        "\n"
      ]
    },
    {
      "cell_type": "code",
      "metadata": {
        "id": "tTwcoIFhY7xU",
        "colab_type": "code",
        "outputId": "3a379b47-c284-4f72-c8f5-9b46dd9977e6",
        "colab": {
          "base_uri": "https://localhost:8080/",
          "height": 306
        }
      },
      "source": [
        "print(metrics.classification_report(y_pred, y_test, digits.target_names))"
      ],
      "execution_count": 104,
      "outputs": [
        {
          "output_type": "stream",
          "text": [
            "              precision    recall  f1-score   support\n",
            "\n",
            "           0       0.00      0.00      0.00        49\n",
            "           1       0.00      0.00      0.00        50\n",
            "           2       0.00      0.00      0.00        44\n",
            "           3       0.02      0.03      0.02        39\n",
            "           4       0.00      0.00      0.00        45\n",
            "           5       0.69      0.85      0.77        48\n",
            "           6       0.00      0.00      0.00        43\n",
            "           7       0.02      0.05      0.03        19\n",
            "           8       0.29      0.10      0.15       107\n",
            "           9       0.00      0.00      0.00         6\n",
            "\n",
            "    accuracy                           0.12       450\n",
            "   macro avg       0.10      0.10      0.10       450\n",
            "weighted avg       0.15      0.12      0.12       450\n",
            "\n"
          ],
          "name": "stdout"
        }
      ]
    },
    {
      "cell_type": "markdown",
      "metadata": {
        "id": "mZrhHYhPVWDy",
        "colab_type": "text"
      },
      "source": [
        "Podemos ver que com esta abordagem obtivemos uma acurácia de 12%. Será que você consegue alcançar uma acuária maior?"
      ]
    },
    {
      "cell_type": "markdown",
      "metadata": {
        "id": "WOTziTZbY7xX",
        "colab_type": "text"
      },
      "source": [
        "## SVM\n",
        "\n",
        "Agora é com você :)"
      ]
    },
    {
      "cell_type": "code",
      "metadata": {
        "id": "6jNs0fZVY7xY",
        "colab_type": "code",
        "outputId": "8f7f28c4-3878-4ff8-8485-0c031c82167f",
        "colab": {}
      },
      "source": [
        "# Split the `digits` data into training and test sets\n",
        "X_train, X_test, y_train, y_test, images_train, images_test = train_test_split(data, digits.target, digits.images, test_size=0.25, random_state=42)\n",
        "\n",
        "# Create the SVC model \n",
        "svc_model = svm.SVC(gamma=0.001, C=100., kernel='linear')\n",
        "\n",
        "# Fit the data to the SVC model\n",
        "svc_model.fit(X_train, y_train)"
      ],
      "execution_count": 0,
      "outputs": [
        {
          "output_type": "execute_result",
          "data": {
            "text/plain": [
              "SVC(C=100.0, cache_size=200, class_weight=None, coef0=0.0,\n",
              "  decision_function_shape='ovr', degree=3, gamma=0.001, kernel='linear',\n",
              "  max_iter=-1, probability=False, random_state=None, shrinking=True,\n",
              "  tol=0.001, verbose=False)"
            ]
          },
          "metadata": {
            "tags": []
          },
          "execution_count": 42
        }
      ]
    }
  ]
}