{
 "cells": [
  {
   "cell_type": "markdown",
   "metadata": {
    "deletable": true,
    "editable": true
   },
   "source": [
    "# Introdução ao Aprendizado de Máquina com scikit-learn\n",
    "\n",
    "Neste tutorial vamos apresentar uma introdução rápida ao Aprendizado de Máquina usando o [scikit-learn](scikit-learn.org).\n",
    "\n",
    "## Requisitos\n",
    "\n",
    "Neste tutorial, usamos as seguintes bibliotecas:\n",
    "\n",
    "* Pandas\n",
    "* NumPy\n",
    "* SciPy\n",
    "* scikit-learn\n",
    "\n",
    "## Resumo\n",
    "\n",
    "Vamos explorar o desafio [Titanic](https://www.kaggle.com/c/titanic) disponível no [Kaggle](http://kaggle.com). O objetivo deste desafio é prever quais pessoas vão sobreviver ao naufrágio do navio. Não muito útil, não é? Mas é um ótimo experimento para explorar técnicas de aprendizado de máquina.\n",
    "\n",
    "Propomos este desafio em um dos encontro do [Meetup Joinville Machine Learning](http://joinville.ml) e brincamos com ele no Clube de Computação Aplicada do [Fab Lab Joinville](http://www.fablabjoinville.com.br). Os experimentos realizados aqui são uma mistura dos resultados obtidos pelos que realizaram o desafio. Um especial obrigado ao Guilherme que [documentou seus experimentos](https://guidefreitas.github.io/ia/machinelearning/2017/04/10/Kaggle-Titanic.html) e disponibilizou publicamente!"
   ]
  },
  {
   "cell_type": "code",
   "execution_count": 1,
   "metadata": {
    "collapsed": false,
    "deletable": true,
    "editable": true
   },
   "outputs": [],
   "source": [
    "import pandas as pd\n",
    "import numpy as np\n",
    "\n",
    "import matplotlib as mpl\n",
    "import matplotlib.pyplot as plt\n",
    "import matplotlib.pylab as pylab\n",
    "import seaborn as sns\n",
    "\n",
    "mpl.style.use('ggplot')\n",
    "%matplotlib inline\n",
    "\n",
    "# Cria as funções para mostrar os gráficos\n",
    "# Source https://guidefreitas.github.io/ia/machinelearning/2017/04/10/Kaggle-Titanic.html\n",
    "def plot_correlation_map( df ):\n",
    "    corr = df.corr()\n",
    "    _ , ax = plt.subplots( figsize =( 12 , 10 ) )\n",
    "    cmap = sns.diverging_palette( 220 , 10 , as_cmap = True )\n",
    "    _ = sns.heatmap(\n",
    "        corr, \n",
    "        cmap = cmap,\n",
    "        square=True, \n",
    "        cbar_kws={ 'shrink' : .9 }, \n",
    "        ax=ax, \n",
    "        annot = True, \n",
    "        annot_kws = { 'fontsize' : 12 }\n",
    "    )\n",
    "\n",
    "def plot_line(loss, ylabel, xlabel='Epochs'):\n",
    "    fig = plt.figure()\n",
    "    plt.plot(loss)\n",
    "    plt.ylabel(ylabel)\n",
    "    plt.xlabel(xlabel)\n",
    "    plt.show()\n",
    "    plt.show()\n",
    "\n",
    "def plot_histograms( df , variables , n_rows , n_cols ):\n",
    "    fig = plt.figure( figsize = ( 16 , 12 ) )\n",
    "    for i, var_name in enumerate( variables ):\n",
    "        ax=fig.add_subplot( n_rows , n_cols , i+1 )\n",
    "        df[ var_name ].hist( bins=10 , ax=ax )\n",
    "        ax.set_title( 'Skew: ' + str( round( float( df[ var_name ].skew() ) , ) ) ) # + ' ' + var_name ) #var_name+\" Distribution\")\n",
    "        ax.set_xticklabels( [] , visible=False )\n",
    "        ax.set_yticklabels( [] , visible=False )\n",
    "    fig.tight_layout()  # Improves appearance a bit.\n",
    "    plt.show()\n",
    "\n",
    "def plot_distribution( df , var , target , **kwargs ):\n",
    "    row = kwargs.get( 'row' , None )\n",
    "    col = kwargs.get( 'col' , None )\n",
    "    facet = sns.FacetGrid( df , hue=target , aspect=4 , row = row , col = col )\n",
    "    facet.map( sns.kdeplot , var , shade= True )\n",
    "    facet.set( xlim=( 0 , df[ var ].max() ) )\n",
    "    facet.add_legend()\n",
    "\n",
    "def plot_categories( df , cat , target , **kwargs ):\n",
    "    row = kwargs.get( 'row' , None )\n",
    "    col = kwargs.get( 'col' , None )\n",
    "    facet = sns.FacetGrid( df , row = row , col = col )\n",
    "    facet.map( sns.barplot , cat , target )\n",
    "    facet.add_legend()"
   ]
  },
  {
   "cell_type": "markdown",
   "metadata": {
    "deletable": true,
    "editable": true
   },
   "source": [
    "## Dataset\n",
    "\n",
    "São fornecidos dois arquivos no desafio, um para treinamento e um para testes."
   ]
  },
  {
   "cell_type": "code",
   "execution_count": 2,
   "metadata": {
    "collapsed": false,
    "deletable": true,
    "editable": true
   },
   "outputs": [],
   "source": [
    "train_df = pd.read_csv('data/raw/train.csv')\n",
    "test_df = pd.read_csv('data/raw/test.csv')\n",
    "dataset = pd.concat([test_df, train_df])"
   ]
  },
  {
   "cell_type": "markdown",
   "metadata": {
    "deletable": true,
    "editable": true
   },
   "source": [
    "Vamos explorar um pouco os dados usando o Pandas."
   ]
  },
  {
   "cell_type": "code",
   "execution_count": 3,
   "metadata": {
    "collapsed": false,
    "deletable": true,
    "editable": true
   },
   "outputs": [
    {
     "name": "stdout",
     "output_type": "stream",
     "text": [
      "COLUMNS ['Age' 'Cabin' 'Embarked' 'Fare' 'Name' 'Parch' 'PassengerId' 'Pclass'\n",
      " 'Sex' 'SibSp' 'Survived' 'Ticket']\n",
      "\n",
      "<class 'pandas.core.frame.DataFrame'>\n",
      "Int64Index: 1309 entries, 0 to 890\n",
      "Data columns (total 12 columns):\n",
      "Age            1046 non-null float64\n",
      "Cabin          295 non-null object\n",
      "Embarked       1307 non-null object\n",
      "Fare           1308 non-null float64\n",
      "Name           1309 non-null object\n",
      "Parch          1309 non-null int64\n",
      "PassengerId    1309 non-null int64\n",
      "Pclass         1309 non-null int64\n",
      "Sex            1309 non-null object\n",
      "SibSp          1309 non-null int64\n",
      "Survived       891 non-null float64\n",
      "Ticket         1309 non-null object\n",
      "dtypes: float64(3), int64(4), object(5)\n",
      "memory usage: 132.9+ KB\n"
     ]
    }
   ],
   "source": [
    "print('COLUMNS', dataset.columns.values)\n",
    "print('')\n",
    "dataset.info()"
   ]
  },
  {
   "cell_type": "code",
   "execution_count": 4,
   "metadata": {
    "collapsed": false,
    "deletable": true,
    "editable": true
   },
   "outputs": [
    {
     "data": {
      "text/html": [
       "<div>\n",
       "<table border=\"1\" class=\"dataframe\">\n",
       "  <thead>\n",
       "    <tr style=\"text-align: right;\">\n",
       "      <th></th>\n",
       "      <th>Age</th>\n",
       "      <th>Cabin</th>\n",
       "      <th>Embarked</th>\n",
       "      <th>Fare</th>\n",
       "      <th>Name</th>\n",
       "      <th>Parch</th>\n",
       "      <th>PassengerId</th>\n",
       "      <th>Pclass</th>\n",
       "      <th>Sex</th>\n",
       "      <th>SibSp</th>\n",
       "      <th>Survived</th>\n",
       "      <th>Ticket</th>\n",
       "    </tr>\n",
       "  </thead>\n",
       "  <tbody>\n",
       "    <tr>\n",
       "      <th>count</th>\n",
       "      <td>1046.000000</td>\n",
       "      <td>295</td>\n",
       "      <td>1307</td>\n",
       "      <td>1308.000000</td>\n",
       "      <td>1309</td>\n",
       "      <td>1309.000000</td>\n",
       "      <td>1309.000000</td>\n",
       "      <td>1309.000000</td>\n",
       "      <td>1309</td>\n",
       "      <td>1309.000000</td>\n",
       "      <td>891.000000</td>\n",
       "      <td>1309</td>\n",
       "    </tr>\n",
       "    <tr>\n",
       "      <th>unique</th>\n",
       "      <td>NaN</td>\n",
       "      <td>186</td>\n",
       "      <td>3</td>\n",
       "      <td>NaN</td>\n",
       "      <td>1307</td>\n",
       "      <td>NaN</td>\n",
       "      <td>NaN</td>\n",
       "      <td>NaN</td>\n",
       "      <td>2</td>\n",
       "      <td>NaN</td>\n",
       "      <td>NaN</td>\n",
       "      <td>929</td>\n",
       "    </tr>\n",
       "    <tr>\n",
       "      <th>top</th>\n",
       "      <td>NaN</td>\n",
       "      <td>C23 C25 C27</td>\n",
       "      <td>S</td>\n",
       "      <td>NaN</td>\n",
       "      <td>Connolly, Miss. Kate</td>\n",
       "      <td>NaN</td>\n",
       "      <td>NaN</td>\n",
       "      <td>NaN</td>\n",
       "      <td>male</td>\n",
       "      <td>NaN</td>\n",
       "      <td>NaN</td>\n",
       "      <td>CA. 2343</td>\n",
       "    </tr>\n",
       "    <tr>\n",
       "      <th>freq</th>\n",
       "      <td>NaN</td>\n",
       "      <td>6</td>\n",
       "      <td>914</td>\n",
       "      <td>NaN</td>\n",
       "      <td>2</td>\n",
       "      <td>NaN</td>\n",
       "      <td>NaN</td>\n",
       "      <td>NaN</td>\n",
       "      <td>843</td>\n",
       "      <td>NaN</td>\n",
       "      <td>NaN</td>\n",
       "      <td>11</td>\n",
       "    </tr>\n",
       "    <tr>\n",
       "      <th>mean</th>\n",
       "      <td>29.881138</td>\n",
       "      <td>NaN</td>\n",
       "      <td>NaN</td>\n",
       "      <td>33.295479</td>\n",
       "      <td>NaN</td>\n",
       "      <td>0.385027</td>\n",
       "      <td>655.000000</td>\n",
       "      <td>2.294882</td>\n",
       "      <td>NaN</td>\n",
       "      <td>0.498854</td>\n",
       "      <td>0.383838</td>\n",
       "      <td>NaN</td>\n",
       "    </tr>\n",
       "    <tr>\n",
       "      <th>std</th>\n",
       "      <td>14.413493</td>\n",
       "      <td>NaN</td>\n",
       "      <td>NaN</td>\n",
       "      <td>51.758668</td>\n",
       "      <td>NaN</td>\n",
       "      <td>0.865560</td>\n",
       "      <td>378.020061</td>\n",
       "      <td>0.837836</td>\n",
       "      <td>NaN</td>\n",
       "      <td>1.041658</td>\n",
       "      <td>0.486592</td>\n",
       "      <td>NaN</td>\n",
       "    </tr>\n",
       "    <tr>\n",
       "      <th>min</th>\n",
       "      <td>0.170000</td>\n",
       "      <td>NaN</td>\n",
       "      <td>NaN</td>\n",
       "      <td>0.000000</td>\n",
       "      <td>NaN</td>\n",
       "      <td>0.000000</td>\n",
       "      <td>1.000000</td>\n",
       "      <td>1.000000</td>\n",
       "      <td>NaN</td>\n",
       "      <td>0.000000</td>\n",
       "      <td>0.000000</td>\n",
       "      <td>NaN</td>\n",
       "    </tr>\n",
       "    <tr>\n",
       "      <th>25%</th>\n",
       "      <td>21.000000</td>\n",
       "      <td>NaN</td>\n",
       "      <td>NaN</td>\n",
       "      <td>7.895800</td>\n",
       "      <td>NaN</td>\n",
       "      <td>0.000000</td>\n",
       "      <td>328.000000</td>\n",
       "      <td>2.000000</td>\n",
       "      <td>NaN</td>\n",
       "      <td>0.000000</td>\n",
       "      <td>0.000000</td>\n",
       "      <td>NaN</td>\n",
       "    </tr>\n",
       "    <tr>\n",
       "      <th>50%</th>\n",
       "      <td>28.000000</td>\n",
       "      <td>NaN</td>\n",
       "      <td>NaN</td>\n",
       "      <td>14.454200</td>\n",
       "      <td>NaN</td>\n",
       "      <td>0.000000</td>\n",
       "      <td>655.000000</td>\n",
       "      <td>3.000000</td>\n",
       "      <td>NaN</td>\n",
       "      <td>0.000000</td>\n",
       "      <td>0.000000</td>\n",
       "      <td>NaN</td>\n",
       "    </tr>\n",
       "    <tr>\n",
       "      <th>75%</th>\n",
       "      <td>39.000000</td>\n",
       "      <td>NaN</td>\n",
       "      <td>NaN</td>\n",
       "      <td>31.275000</td>\n",
       "      <td>NaN</td>\n",
       "      <td>0.000000</td>\n",
       "      <td>982.000000</td>\n",
       "      <td>3.000000</td>\n",
       "      <td>NaN</td>\n",
       "      <td>1.000000</td>\n",
       "      <td>1.000000</td>\n",
       "      <td>NaN</td>\n",
       "    </tr>\n",
       "    <tr>\n",
       "      <th>max</th>\n",
       "      <td>80.000000</td>\n",
       "      <td>NaN</td>\n",
       "      <td>NaN</td>\n",
       "      <td>512.329200</td>\n",
       "      <td>NaN</td>\n",
       "      <td>9.000000</td>\n",
       "      <td>1309.000000</td>\n",
       "      <td>3.000000</td>\n",
       "      <td>NaN</td>\n",
       "      <td>8.000000</td>\n",
       "      <td>1.000000</td>\n",
       "      <td>NaN</td>\n",
       "    </tr>\n",
       "  </tbody>\n",
       "</table>\n",
       "</div>"
      ],
      "text/plain": [
       "                Age        Cabin Embarked         Fare                  Name  \\\n",
       "count   1046.000000          295     1307  1308.000000                  1309   \n",
       "unique          NaN          186        3          NaN                  1307   \n",
       "top             NaN  C23 C25 C27        S          NaN  Connolly, Miss. Kate   \n",
       "freq            NaN            6      914          NaN                     2   \n",
       "mean      29.881138          NaN      NaN    33.295479                   NaN   \n",
       "std       14.413493          NaN      NaN    51.758668                   NaN   \n",
       "min        0.170000          NaN      NaN     0.000000                   NaN   \n",
       "25%       21.000000          NaN      NaN     7.895800                   NaN   \n",
       "50%       28.000000          NaN      NaN    14.454200                   NaN   \n",
       "75%       39.000000          NaN      NaN    31.275000                   NaN   \n",
       "max       80.000000          NaN      NaN   512.329200                   NaN   \n",
       "\n",
       "              Parch  PassengerId       Pclass   Sex        SibSp    Survived  \\\n",
       "count   1309.000000  1309.000000  1309.000000  1309  1309.000000  891.000000   \n",
       "unique          NaN          NaN          NaN     2          NaN         NaN   \n",
       "top             NaN          NaN          NaN  male          NaN         NaN   \n",
       "freq            NaN          NaN          NaN   843          NaN         NaN   \n",
       "mean       0.385027   655.000000     2.294882   NaN     0.498854    0.383838   \n",
       "std        0.865560   378.020061     0.837836   NaN     1.041658    0.486592   \n",
       "min        0.000000     1.000000     1.000000   NaN     0.000000    0.000000   \n",
       "25%        0.000000   328.000000     2.000000   NaN     0.000000    0.000000   \n",
       "50%        0.000000   655.000000     3.000000   NaN     0.000000    0.000000   \n",
       "75%        0.000000   982.000000     3.000000   NaN     1.000000    1.000000   \n",
       "max        9.000000  1309.000000     3.000000   NaN     8.000000    1.000000   \n",
       "\n",
       "          Ticket  \n",
       "count       1309  \n",
       "unique       929  \n",
       "top     CA. 2343  \n",
       "freq          11  \n",
       "mean         NaN  \n",
       "std          NaN  \n",
       "min          NaN  \n",
       "25%          NaN  \n",
       "50%          NaN  \n",
       "75%          NaN  \n",
       "max          NaN  "
      ]
     },
     "execution_count": 4,
     "metadata": {},
     "output_type": "execute_result"
    }
   ],
   "source": [
    "dataset.describe(include='all')"
   ]
  },
  {
   "cell_type": "markdown",
   "metadata": {
    "deletable": true,
    "editable": true
   },
   "source": [
    "Na tabela acima podemos perceber que existem dados faltantes nas colunas Cabin, Embarked, etc. Vamos dar uma olhada melhor nos dados não numéricos:"
   ]
  },
  {
   "cell_type": "code",
   "execution_count": 46,
   "metadata": {
    "collapsed": false,
    "deletable": true,
    "editable": true
   },
   "outputs": [
    {
     "data": {
      "text/html": [
       "<div>\n",
       "<table border=\"1\" class=\"dataframe\">\n",
       "  <thead>\n",
       "    <tr style=\"text-align: right;\">\n",
       "      <th></th>\n",
       "      <th>Cabin</th>\n",
       "      <th>Embarked</th>\n",
       "      <th>Name</th>\n",
       "      <th>Sex</th>\n",
       "      <th>Ticket</th>\n",
       "    </tr>\n",
       "  </thead>\n",
       "  <tbody>\n",
       "    <tr>\n",
       "      <th>count</th>\n",
       "      <td>295</td>\n",
       "      <td>1307</td>\n",
       "      <td>1309</td>\n",
       "      <td>1309</td>\n",
       "      <td>1309</td>\n",
       "    </tr>\n",
       "    <tr>\n",
       "      <th>unique</th>\n",
       "      <td>186</td>\n",
       "      <td>3</td>\n",
       "      <td>1307</td>\n",
       "      <td>2</td>\n",
       "      <td>929</td>\n",
       "    </tr>\n",
       "    <tr>\n",
       "      <th>top</th>\n",
       "      <td>C23 C25 C27</td>\n",
       "      <td>S</td>\n",
       "      <td>Kelly, Mr. James</td>\n",
       "      <td>male</td>\n",
       "      <td>CA. 2343</td>\n",
       "    </tr>\n",
       "    <tr>\n",
       "      <th>freq</th>\n",
       "      <td>6</td>\n",
       "      <td>914</td>\n",
       "      <td>2</td>\n",
       "      <td>843</td>\n",
       "      <td>11</td>\n",
       "    </tr>\n",
       "  </tbody>\n",
       "</table>\n",
       "</div>"
      ],
      "text/plain": [
       "              Cabin Embarked              Name   Sex    Ticket\n",
       "count           295     1307              1309  1309      1309\n",
       "unique          186        3              1307     2       929\n",
       "top     C23 C25 C27        S  Kelly, Mr. James  male  CA. 2343\n",
       "freq              6      914                 2   843        11"
      ]
     },
     "execution_count": 46,
     "metadata": {},
     "output_type": "execute_result"
    }
   ],
   "source": [
    "dataset.describe(include=['O'])"
   ]
  },
  {
   "cell_type": "markdown",
   "metadata": {
    "deletable": true,
    "editable": true
   },
   "source": [
    "Vamos dar uma olhada nos valores únicos presentes em cada coluna:"
   ]
  },
  {
   "cell_type": "code",
   "execution_count": 5,
   "metadata": {
    "collapsed": false,
    "deletable": true,
    "editable": true,
    "scrolled": true
   },
   "outputs": [
    {
     "name": "stdout",
     "output_type": "stream",
     "text": [
      "Survived unique values: [ nan   0.   1.]\n",
      "Pclass unique values: [3 2 1]\n",
      "Sex unique values: ['male' 'female']\n",
      "Age unique values: [ 34.5   47.    62.    27.    22.    14.    30.    26.    18.    21.      nan\n",
      "  46.    23.    63.    24.    35.    45.    55.     9.    48.    50.    22.5\n",
      "  41.    33.    18.5   25.    39.    60.    36.    20.    28.    10.    17.\n",
      "  32.    13.    31.    29.    28.5   32.5    6.    67.    49.     2.    76.\n",
      "  43.    16.     1.    12.    42.    53.    26.5   40.    61.    60.5    7.\n",
      "  15.    54.    64.    37.    34.    11.5    8.     0.33  38.    57.    40.5\n",
      "   0.92  19.    36.5    0.75   0.83  58.     0.17  59.    14.5   44.     5.\n",
      "  51.     3.    38.5    4.    66.    65.    11.    71.    70.5   55.5   56.\n",
      "  45.5   20.5   52.    23.5   80.    70.    24.5    0.67  30.5    0.42  74.  ]\n",
      "SibSp unique values: [0 1 2 3 4 5 8]\n",
      "Parch unique values: [0 1 3 2 4 6 5 9]\n",
      "Fare unique values: [   7.8292    7.        9.6875    8.6625   12.2875    9.225     7.6292\n",
      "   29.        7.2292   24.15      7.8958   26.       82.2667   61.175\n",
      "   27.7208   12.35      7.225     7.925    59.4       3.1708   31.6833\n",
      "   61.3792  262.375    14.5      61.9792   30.5      21.6792   31.5\n",
      "   20.575    23.45     57.75      8.05      9.5      56.4958   13.4167\n",
      "   26.55      7.85     13.       52.5542   29.7       7.75     76.2917\n",
      "   15.9      60.       15.0333   23.      263.       15.5792   29.125\n",
      "    7.65     16.1      13.5       7.725    21.        7.8792   42.4\n",
      "   28.5375  211.5      25.7      15.2458  221.7792   10.7083   14.4542\n",
      "   13.9       7.775    52.        7.7958   78.85      7.8542   55.4417\n",
      "    8.5167   22.525     7.8208    8.7125   15.0458    7.7792   31.6792\n",
      "    7.2833    6.4375   16.7      75.2417   15.75      7.25     23.25     28.5\n",
      "   25.4667   46.9     151.55     18.       51.8625   83.1583       nan\n",
      "   12.1833   31.3875    7.55     13.775     7.7333   22.025    50.4958\n",
      "   34.375     8.9625   39.       36.75     53.1     247.5208   16.       69.55\n",
      "   32.5     134.5      10.5       8.1125   15.5      14.4     227.525\n",
      "   25.7417    7.05     73.5      42.5     164.8667   13.8583   27.4458\n",
      "   15.1      65.        6.4958   71.2833   75.25    106.425    30.\n",
      "    7.8875   27.75    136.7792    9.325    17.4      12.7375    0.\n",
      "   20.2125   39.6       6.95     81.8583   41.5792   45.5       9.35     93.5\n",
      "   14.1083    7.575   135.6333  146.5208  211.3375   79.2      15.7417\n",
      "    7.5792  512.3292   63.3583   51.4792   15.55     37.0042   14.4583\n",
      "   39.6875   11.5      50.       12.875    21.075    39.4      20.25     47.1\n",
      "   13.8625    7.7208   90.      108.9      22.3583    8.4583   11.1333\n",
      "   30.0708   31.275     8.0292   35.5      82.1708   11.2417    9.475\n",
      "   17.8       7.8      76.7292   80.       83.475    27.9       8.1583\n",
      "   12.475     9.        7.7875   15.85     34.6542   77.2875    8.6542\n",
      "    9.825     7.1417    6.975    26.2833    9.2167    6.75     12.525\n",
      "   66.6       7.3125   20.525    55.       25.925    33.5      30.6958\n",
      "   28.7125   15.05      8.4042   10.4625   18.7875   31.      113.275    27.\n",
      "   26.25     12.275     7.125    86.5      79.65    153.4625   19.5\n",
      "   77.9583   91.0792    8.85    110.8833   24.       56.9292   14.\n",
      "    6.2375   57.9792  133.65     35.       69.3       4.0125    7.7292\n",
      "   12.      120.       12.65     18.75      6.8583    7.875    55.9\n",
      "   19.2583   19.9667   89.1042   38.5      13.7917    9.8375    7.0458\n",
      "    7.5208    9.5875   49.5042   78.2667   26.2875    7.4958   34.0208\n",
      "   49.5      71.       26.3875   40.125    15.       33.       32.3208\n",
      "    7.0542    8.4333   25.5875    9.8417    8.1375   10.1708   57.\n",
      "    7.7417    9.4833    7.7375    8.3625   25.9292    8.6833    6.45      8.3\n",
      "    5.        9.8458   10.5167]\n",
      "Embarked unique values: ['Q' 'S' 'C' nan]\n",
      "Cabin unique values: [nan 'B45' 'E31' 'B57 B59 B63 B66' 'B36' 'A21' 'C78' 'D34' 'D19' 'A9' 'D15'\n",
      " 'C31' 'C23 C25 C27' 'F G63' 'B61' 'C53' 'D43' 'C130' 'C132' 'C101'\n",
      " 'C55 C57' 'B71' 'C46' 'C116' 'F' 'A29' 'G6' 'C6' 'C28' 'C51' 'E46' 'C54'\n",
      " 'C97' 'D22' 'B10' 'F4' 'E45' 'E52' 'D30' 'B58 B60' 'E34' 'C62 C64' 'A11'\n",
      " 'B11' 'C80' 'F33' 'C85' 'D37' 'C86' 'D21' 'C89' 'F E46' 'A34' 'D' 'B26'\n",
      " 'C22 C26' 'B69' 'C32' 'B78' 'F E57' 'F2' 'A18' 'C106' 'B51 B53 B55'\n",
      " 'D10 D12' 'E60' 'E50' 'E39 E41' 'B52 B54 B56' 'C39' 'B24' 'D28' 'B41' 'C7'\n",
      " 'D40' 'D38' 'C105' 'C123' 'C103' 'D56' 'A6' 'D33' 'B30' 'C52' 'B28' 'C83'\n",
      " 'F G73' 'A5' 'D26' 'C110' 'E101' 'F E69' 'D47' 'B86' 'C2' 'E33' 'B19' 'A7'\n",
      " 'C49' 'A32' 'B4' 'B80' 'A31' 'D36' 'C93' 'D35' 'C87' 'B77' 'E67' 'B94'\n",
      " 'C125' 'C99' 'C118' 'D7' 'A19' 'B49' 'C65' 'E36' 'B18' 'C124' 'C91' 'E40'\n",
      " 'T' 'C128' 'B35' 'C82' 'B96 B98' 'E10' 'E44' 'C104' 'C111' 'C92' 'E38'\n",
      " 'E12' 'E63' 'A14' 'B37' 'C30' 'D20' 'B79' 'E25' 'D46' 'B73' 'C95' 'B38'\n",
      " 'B39' 'B22' 'C70' 'A16' 'C68' 'A10' 'E68' 'A20' 'D50' 'D9' 'A23' 'B50'\n",
      " 'A26' 'D48' 'E58' 'C126' 'D49' 'B5' 'B20' 'E24' 'C90' 'C45' 'E8' 'B101'\n",
      " 'D45' 'E121' 'D11' 'E77' 'F38' 'B3' 'D6' 'B82 B84' 'D17' 'A36' 'B102'\n",
      " 'E49' 'C47' 'E17' 'A24' 'C50' 'B42' 'C148']\n"
     ]
    }
   ],
   "source": [
    "for column in ['Survived', 'Pclass', 'Sex', 'Age', 'SibSp', 'Parch', 'Fare', 'Embarked', 'Cabin']:\n",
    "    print(column, 'unique values:', dataset[column].unique())"
   ]
  },
  {
   "cell_type": "markdown",
   "metadata": {
    "deletable": true,
    "editable": true
   },
   "source": [
    " - **passengerid**: integer\n",
    " - **survived**: 0 or 1\n",
    " - **pclass** (ticket class): 1, 2 or 3 1st = Upper 2nd = Middle 3rd = Lower\n",
    " - **name** (passeger name): string\n",
    " - **sex** (passenger sex): 'male' or 'female'\n",
    " - **age** (passenger age): NaN and float\n",
    " - **sibsp** (number of siblings/spouses aboard the titanic): 1 0 3 4 2 5 8\n",
    " - **parch** (number of parents/children aboard the titanic): 0 1 2 5 3 4 6\n",
    " - **ticket**: string, alphanumeric\n",
    " - **fare**: float\n",
    " - **cabin** (cabin number): NaN, string, alphanumeric\n",
    " - **embarked** (port of embarkation): NaN, C = Cherbourg, Q = Queenstown, S = Southampton\n",
    "\n",
    "Types:\n",
    "\n",
    "- **categorical**: survived, pclass, sex, embarked\n",
    "- **continous**: age, fare\n",
    "- **discrete**: sibsp, parch\n",
    "- **alphanumeric**: ticket, cabin, name\n",
    "- **Null, NaN**: cabin, embarked, age"
   ]
  },
  {
   "cell_type": "code",
   "execution_count": 7,
   "metadata": {
    "collapsed": false,
    "deletable": true,
    "editable": true
   },
   "outputs": [
    {
     "data": {
      "text/plain": [
       "1309"
      ]
     },
     "execution_count": 7,
     "metadata": {},
     "output_type": "execute_result"
    }
   ],
   "source": [
    "dataset.Cabin.isnull().count()"
   ]
  },
  {
   "cell_type": "markdown",
   "metadata": {
    "deletable": true,
    "editable": true
   },
   "source": [
    "## Análise\n",
    "\n",
    "### Verificando a correção entre os dados\n",
    "\n",
    "Scatter Plots são uma ótima maneira de determinar aproximadamente se você tem uma correlação linear entre várias variáveis. Isso é particularmente útil para localizar variáveis específicas que podem ter correlações semelhantes aos dados.\n",
    "\n",
    "Mais em: https://www.wikiwand.com/en/Scatter_plot"
   ]
  },
  {
   "cell_type": "code",
   "execution_count": 8,
   "metadata": {
    "collapsed": false,
    "deletable": true,
    "editable": true,
    "scrolled": true
   },
   "outputs": [
    {
     "data": {
      "text/plain": [
       "array([[<matplotlib.axes._subplots.AxesSubplot object at 0x10a1cfe48>,\n",
       "        <matplotlib.axes._subplots.AxesSubplot object at 0x10a2f3be0>,\n",
       "        <matplotlib.axes._subplots.AxesSubplot object at 0x10a3af828>,\n",
       "        <matplotlib.axes._subplots.AxesSubplot object at 0x10a418470>,\n",
       "        <matplotlib.axes._subplots.AxesSubplot object at 0x10a4ad2e8>,\n",
       "        <matplotlib.axes._subplots.AxesSubplot object at 0x10a4ad320>],\n",
       "       [<matplotlib.axes._subplots.AxesSubplot object at 0x10a52b128>,\n",
       "        <matplotlib.axes._subplots.AxesSubplot object at 0x10a5d08d0>,\n",
       "        <matplotlib.axes._subplots.AxesSubplot object at 0x10a63c240>,\n",
       "        <matplotlib.axes._subplots.AxesSubplot object at 0x10a690198>,\n",
       "        <matplotlib.axes._subplots.AxesSubplot object at 0x10a6f3ac8>,\n",
       "        <matplotlib.axes._subplots.AxesSubplot object at 0x10a74ac50>],\n",
       "       [<matplotlib.axes._subplots.AxesSubplot object at 0x10a7b42e8>,\n",
       "        <matplotlib.axes._subplots.AxesSubplot object at 0x10a8112b0>,\n",
       "        <matplotlib.axes._subplots.AxesSubplot object at 0x10a872cf8>,\n",
       "        <matplotlib.axes._subplots.AxesSubplot object at 0x10a8d05f8>,\n",
       "        <matplotlib.axes._subplots.AxesSubplot object at 0x10a93b160>,\n",
       "        <matplotlib.axes._subplots.AxesSubplot object at 0x10a9920b8>],\n",
       "       [<matplotlib.axes._subplots.AxesSubplot object at 0x10a9f5cc0>,\n",
       "        <matplotlib.axes._subplots.AxesSubplot object at 0x10aa45b38>,\n",
       "        <matplotlib.axes._subplots.AxesSubplot object at 0x10aab36a0>,\n",
       "        <matplotlib.axes._subplots.AxesSubplot object at 0x10aac95f8>,\n",
       "        <matplotlib.axes._subplots.AxesSubplot object at 0x10ab75160>,\n",
       "        <matplotlib.axes._subplots.AxesSubplot object at 0x10abd6a90>],\n",
       "       [<matplotlib.axes._subplots.AxesSubplot object at 0x10ac16a20>,\n",
       "        <matplotlib.axes._subplots.AxesSubplot object at 0x10ac80860>,\n",
       "        <matplotlib.axes._subplots.AxesSubplot object at 0x10acd7b70>,\n",
       "        <matplotlib.axes._subplots.AxesSubplot object at 0x10ad405f8>,\n",
       "        <matplotlib.axes._subplots.AxesSubplot object at 0x10ad95eb8>,\n",
       "        <matplotlib.axes._subplots.AxesSubplot object at 0x10ae00a20>],\n",
       "       [<matplotlib.axes._subplots.AxesSubplot object at 0x10ae59978>,\n",
       "        <matplotlib.axes._subplots.AxesSubplot object at 0x10aec15c0>,\n",
       "        <matplotlib.axes._subplots.AxesSubplot object at 0x10af19438>,\n",
       "        <matplotlib.axes._subplots.AxesSubplot object at 0x10af79f60>,\n",
       "        <matplotlib.axes._subplots.AxesSubplot object at 0x10af8a780>,\n",
       "        <matplotlib.axes._subplots.AxesSubplot object at 0x10b03ba20>]], dtype=object)"
      ]
     },
     "execution_count": 8,
     "metadata": {},
     "output_type": "execute_result"
    },
    {
     "data": {
      "image/png": "[encoded data removed]",
      "text/plain": [
       "<matplotlib.figure.Figure at 0x10a2768d0>"
      ]
     },
     "metadata": {},
     "output_type": "display_data"
    }
   ],
   "source": [
    "dataset = dataset.drop(['PassengerId', 'Name', 'Ticket'], axis=1)\n",
    "\n",
    "from pandas.tools.plotting import scatter_matrix\n",
    "scatter_matrix(dataset, alpha=0.2, figsize=(30, 30), diagonal='hist')"
   ]
  },
  {
   "cell_type": "code",
   "execution_count": 9,
   "metadata": {
    "collapsed": false,
    "deletable": true,
    "editable": true
   },
   "outputs": [
    {
     "data": {
      "image/png": "[encoded data removed]",
      "text/plain": [
       "<matplotlib.figure.Figure at 0x10b0c3f98>"
      ]
     },
     "metadata": {},
     "output_type": "display_data"
    }
   ],
   "source": [
    "plot_correlation_map(dataset)"
   ]
  },
  {
   "cell_type": "markdown",
   "metadata": {
    "deletable": true,
    "editable": true
   },
   "source": [
    "Quanto mais vermelho, maior a correlação. Repare que Sex e Fare influenciam muito a variável que estamos tentando inferir Survived. Como nós já sabemos, no acidente do Titanic mulheres e pessoas mais ricas tiveram mais chance de sobrevivência. Já a idade e o porto de embarque influenciam pouco.\n",
    "\n",
    "Os gráficos de distribuição possibilitam observar a relação entre duas variáveis. No exemplo abaixo é possível observar que mais homens entre 0 e 10 anos e mulheres entre 30 e 40 anos sobreviveram."
   ]
  },
  {
   "cell_type": "code",
   "execution_count": 10,
   "metadata": {
    "collapsed": false,
    "deletable": true,
    "editable": true
   },
   "outputs": [
    {
     "data": {
      "image/png": "[encoded data removed]",
      "text/plain": [
       "<matplotlib.figure.Figure at 0x10d7830f0>"
      ]
     },
     "metadata": {},
     "output_type": "display_data"
    }
   ],
   "source": [
    "plot_distribution(dataset, var='Age', target='Survived', row='Sex')"
   ]
  },
  {
   "cell_type": "markdown",
   "metadata": {
    "deletable": true,
    "editable": true
   },
   "source": [
    "Mostrando um gráfico de barras entre variáveis discretas é possível avaliar não somente a quantidade, mas também a variação entre a relação de duas variáveis. No exemplo abaixo é possível observar que o local de embarque dos passageiros não influenciou muito no fato de terem sobrevivido ou não."
   ]
  },
  {
   "cell_type": "code",
   "execution_count": 11,
   "metadata": {
    "collapsed": false,
    "deletable": true,
    "editable": true
   },
   "outputs": [
    {
     "data": {
      "image/png": "[encoded data removed]",
      "text/plain": [
       "<matplotlib.figure.Figure at 0x10aff5780>"
      ]
     },
     "metadata": {},
     "output_type": "display_data"
    }
   ],
   "source": [
    "plot_categories(dataset, cat='Embarked', target='Survived')"
   ]
  },
  {
   "cell_type": "markdown",
   "metadata": {
    "deletable": true,
    "editable": true
   },
   "source": [
    "E confirmamos novamente que mais mulheres sobreviveram do que homens."
   ]
  },
  {
   "cell_type": "code",
   "execution_count": 12,
   "metadata": {
    "collapsed": false,
    "deletable": true,
    "editable": true
   },
   "outputs": [
    {
     "data": {
      "image/png": "[encoded data removed]",
      "text/plain": [
       "<matplotlib.figure.Figure at 0x10de36438>"
      ]
     },
     "metadata": {},
     "output_type": "display_data"
    }
   ],
   "source": [
    "plot_categories(dataset, cat='Sex', target='Survived')"
   ]
  },
  {
   "cell_type": "markdown",
   "metadata": {
    "deletable": true,
    "editable": true
   },
   "source": [
    "E a classe social."
   ]
  },
  {
   "cell_type": "code",
   "execution_count": 13,
   "metadata": {
    "collapsed": false,
    "deletable": true,
    "editable": true
   },
   "outputs": [
    {
     "data": {
      "image/png": "[encoded data removed]",
      "text/plain": [
       "<matplotlib.figure.Figure at 0x10de17e10>"
      ]
     },
     "metadata": {},
     "output_type": "display_data"
    }
   ],
   "source": [
    "plot_categories(dataset, cat='Pclass', target='Survived')"
   ]
  },
  {
   "cell_type": "markdown",
   "metadata": {
    "deletable": true,
    "editable": true
   },
   "source": [
    "## Pré-processamento"
   ]
  },
  {
   "cell_type": "markdown",
   "metadata": {
    "deletable": true,
    "editable": true
   },
   "source": [
    "Baseando-se na nossa exploração inicial, podemos realizar um pré-processamento nos dados a fim de melhorar a qualidade do dataset. Abaixo segue uma sugestão de pré-processamento para cada coluna.\n",
    "\n",
    "### PREPROCESSING TODO\n",
    "\n",
    "- [X] Remover PassangerId\n",
    "- [X] Remover Ticket\n",
    "- [X] Remover Name\n",
    "- [X] Converter Sex para valores numéricos \n",
    "- [X] Converter Embarked para valores numéricos\n",
    "- [X] Arrumar Age (existem NaN)\n",
    "- [X] Arrumar Embarked (existem NaN)\n",
    "- [X] Converter Age para um range\n",
    "- [X] Converter Fare para um range\n",
    "- [ ] Explorar melhor os dados das colunas Cabin e Ticket. Com algum pré-processamento podem ser úteis"
   ]
  },
  {
   "cell_type": "markdown",
   "metadata": {
    "deletable": true,
    "editable": true
   },
   "source": [
    "### Remover PassengerId, Name, Ticket e Cabin. "
   ]
  },
  {
   "cell_type": "markdown",
   "metadata": {
    "deletable": true,
    "editable": true
   },
   "source": [
    "Removemos os dados que parecem não fazer diferença para classificação. O Ticket e Cabin podem ser exploradores depois. Podemos também tentar explorar a saudação presente no nome (Mr, Sr, etc). PassengerId certamente não ajuda no nosso trabalho."
   ]
  },
  {
   "cell_type": "code",
   "execution_count": 14,
   "metadata": {
    "collapsed": true,
    "deletable": true,
    "editable": true
   },
   "outputs": [],
   "source": [
    "# Removemos lá em cima na análise dos dados\n",
    "# dataset = dataset.drop(['PassengerId', 'Name', 'Ticket'], axis=1)"
   ]
  },
  {
   "cell_type": "markdown",
   "metadata": {
    "deletable": true,
    "editable": true
   },
   "source": [
    "### Converter Sex e Embarked para valores numéricos\n",
    "\n",
    "Para deixar os dados úteis para classificação, convertemos os valores não numéricos para numéricos."
   ]
  },
  {
   "cell_type": "code",
   "execution_count": 15,
   "metadata": {
    "collapsed": true,
    "deletable": true,
    "editable": true
   },
   "outputs": [],
   "source": [
    "replace = {'Sex': {'male': 0, 'female': 1}, 'Embarked': {'C': 0, 'Q': 1, 'S': 2}}\n",
    "dataset = dataset.replace(replace)"
   ]
  },
  {
   "cell_type": "code",
   "execution_count": 16,
   "metadata": {
    "collapsed": false,
    "deletable": true,
    "editable": true
   },
   "outputs": [
    {
     "name": "stdout",
     "output_type": "stream",
     "text": [
      "2\n"
     ]
    },
    {
     "data": {
      "text/plain": [
       "Embarked\n",
       "0.0    270\n",
       "1.0    123\n",
       "2.0    914\n",
       "Name: Embarked, dtype: int64"
      ]
     },
     "execution_count": 16,
     "metadata": {},
     "output_type": "execute_result"
    }
   ],
   "source": [
    "print(dataset.Embarked.isnull().sum())\n",
    "dataset.groupby('Embarked').Embarked.count()"
   ]
  },
  {
   "cell_type": "code",
   "execution_count": 17,
   "metadata": {
    "collapsed": true,
    "deletable": true,
    "editable": true
   },
   "outputs": [],
   "source": [
    "dataset.Embarked = dataset.Embarked.fillna(2)"
   ]
  },
  {
   "cell_type": "code",
   "execution_count": 18,
   "metadata": {
    "collapsed": false,
    "deletable": true,
    "editable": true
   },
   "outputs": [
    {
     "data": {
      "text/plain": [
       "0"
      ]
     },
     "execution_count": 18,
     "metadata": {},
     "output_type": "execute_result"
    }
   ],
   "source": [
    "dataset.Embarked.isnull().sum()"
   ]
  },
  {
   "cell_type": "markdown",
   "metadata": {
    "deletable": true,
    "editable": true
   },
   "source": [
    "### Adicionar dados faltantes\n",
    "\n",
    "Um grande problema que sempre vamos encontrar ao trabalharmos com dados são os dados faltantes. No nosso dataset, como vimos antes, colunas como Age tem muito dados faltantes.\n",
    "\n",
    "Existem algumas estratégias para resolver este problema, a mais popular é preencher os dados com a mediada dos valores existentes, dessa forma a distribuição dos dados não é afetada, reduzindo sua influência nos resultados de classificação. Outra estratégia comum é remover as linhas com dados nulos. Outras análises mais complexas podem ser feitas, como verificar a correlação da idade com outras colunas para escolher melhor a idade para data entrada de dados.\n",
    "\n",
    "Aqui vamos e mediana."
   ]
  },
  {
   "cell_type": "code",
   "execution_count": 19,
   "metadata": {
    "collapsed": true,
    "deletable": true,
    "editable": true
   },
   "outputs": [],
   "source": [
    "dataset.Age = dataset.Age.fillna(dataset.Age.mean())"
   ]
  },
  {
   "cell_type": "code",
   "execution_count": 20,
   "metadata": {
    "collapsed": false,
    "deletable": true,
    "editable": true
   },
   "outputs": [
    {
     "data": {
      "text/plain": [
       "0"
      ]
     },
     "execution_count": 20,
     "metadata": {},
     "output_type": "execute_result"
    }
   ],
   "source": [
    "dataset.Age.isnull().sum()"
   ]
  },
  {
   "cell_type": "code",
   "execution_count": 21,
   "metadata": {
    "collapsed": true,
    "deletable": true,
    "editable": true
   },
   "outputs": [],
   "source": [
    "dataset.Fare = dataset.Fare.fillna(dataset.Fare.mean())"
   ]
  },
  {
   "cell_type": "code",
   "execution_count": 22,
   "metadata": {
    "collapsed": false,
    "deletable": true,
    "editable": true
   },
   "outputs": [
    {
     "data": {
      "text/plain": [
       "0"
      ]
     },
     "execution_count": 22,
     "metadata": {},
     "output_type": "execute_result"
    }
   ],
   "source": [
    "dataset.Fare.isnull().sum()"
   ]
  },
  {
   "cell_type": "markdown",
   "metadata": {
    "deletable": true,
    "editable": true
   },
   "source": [
    "### Melhorando o formato dos dados textuais\n",
    "\n",
    "Podemos ainda criar novas colunas com valores 0 e 1 para valores únicos da coluna. Então ao invés de termos uma coluna com uma sequência numérica 0, 1, 2, teremos colunas com os valores 0 ou 1, indicando se aquele dado está presente ou não. A tendência é que nessas colunas apenas uma delas tenha o valor 1. "
   ]
  },
  {
   "cell_type": "code",
   "execution_count": 23,
   "metadata": {
    "collapsed": false,
    "deletable": true,
    "editable": true,
    "scrolled": true
   },
   "outputs": [],
   "source": [
    "embarked = pd.get_dummies(dataset.Embarked, prefix='Embarked')\n",
    "pclass = pd.get_dummies(dataset.Pclass, prefix='Pclass')"
   ]
  },
  {
   "cell_type": "code",
   "execution_count": 24,
   "metadata": {
    "collapsed": false,
    "deletable": true,
    "editable": true
   },
   "outputs": [
    {
     "data": {
      "text/html": [
       "<div>\n",
       "<table border=\"1\" class=\"dataframe\">\n",
       "  <thead>\n",
       "    <tr style=\"text-align: right;\">\n",
       "      <th></th>\n",
       "      <th>Embarked_0.0</th>\n",
       "      <th>Embarked_1.0</th>\n",
       "      <th>Embarked_2.0</th>\n",
       "    </tr>\n",
       "  </thead>\n",
       "  <tbody>\n",
       "    <tr>\n",
       "      <th>0</th>\n",
       "      <td>0</td>\n",
       "      <td>1</td>\n",
       "      <td>0</td>\n",
       "    </tr>\n",
       "    <tr>\n",
       "      <th>1</th>\n",
       "      <td>0</td>\n",
       "      <td>0</td>\n",
       "      <td>1</td>\n",
       "    </tr>\n",
       "    <tr>\n",
       "      <th>2</th>\n",
       "      <td>0</td>\n",
       "      <td>1</td>\n",
       "      <td>0</td>\n",
       "    </tr>\n",
       "    <tr>\n",
       "      <th>3</th>\n",
       "      <td>0</td>\n",
       "      <td>0</td>\n",
       "      <td>1</td>\n",
       "    </tr>\n",
       "    <tr>\n",
       "      <th>4</th>\n",
       "      <td>0</td>\n",
       "      <td>0</td>\n",
       "      <td>1</td>\n",
       "    </tr>\n",
       "  </tbody>\n",
       "</table>\n",
       "</div>"
      ],
      "text/plain": [
       "   Embarked_0.0  Embarked_1.0  Embarked_2.0\n",
       "0             0             1             0\n",
       "1             0             0             1\n",
       "2             0             1             0\n",
       "3             0             0             1\n",
       "4             0             0             1"
      ]
     },
     "execution_count": 24,
     "metadata": {},
     "output_type": "execute_result"
    }
   ],
   "source": [
    "embarked.head()"
   ]
  },
  {
   "cell_type": "code",
   "execution_count": 25,
   "metadata": {
    "collapsed": false,
    "deletable": true,
    "editable": true
   },
   "outputs": [
    {
     "data": {
      "text/html": [
       "<div>\n",
       "<table border=\"1\" class=\"dataframe\">\n",
       "  <thead>\n",
       "    <tr style=\"text-align: right;\">\n",
       "      <th></th>\n",
       "      <th>Age</th>\n",
       "      <th>Cabin</th>\n",
       "      <th>Embarked</th>\n",
       "      <th>Fare</th>\n",
       "      <th>Parch</th>\n",
       "      <th>Pclass</th>\n",
       "      <th>Sex</th>\n",
       "      <th>SibSp</th>\n",
       "      <th>Survived</th>\n",
       "      <th>Embarked_0.0</th>\n",
       "      <th>Embarked_1.0</th>\n",
       "      <th>Embarked_2.0</th>\n",
       "      <th>Pclass_1</th>\n",
       "      <th>Pclass_2</th>\n",
       "      <th>Pclass_3</th>\n",
       "    </tr>\n",
       "  </thead>\n",
       "  <tbody>\n",
       "    <tr>\n",
       "      <th>0</th>\n",
       "      <td>34.5</td>\n",
       "      <td>NaN</td>\n",
       "      <td>1.0</td>\n",
       "      <td>7.8292</td>\n",
       "      <td>0</td>\n",
       "      <td>3</td>\n",
       "      <td>0</td>\n",
       "      <td>0</td>\n",
       "      <td>NaN</td>\n",
       "      <td>0</td>\n",
       "      <td>1</td>\n",
       "      <td>0</td>\n",
       "      <td>0</td>\n",
       "      <td>0</td>\n",
       "      <td>1</td>\n",
       "    </tr>\n",
       "    <tr>\n",
       "      <th>1</th>\n",
       "      <td>47.0</td>\n",
       "      <td>NaN</td>\n",
       "      <td>2.0</td>\n",
       "      <td>7.0000</td>\n",
       "      <td>0</td>\n",
       "      <td>3</td>\n",
       "      <td>1</td>\n",
       "      <td>1</td>\n",
       "      <td>NaN</td>\n",
       "      <td>0</td>\n",
       "      <td>0</td>\n",
       "      <td>1</td>\n",
       "      <td>0</td>\n",
       "      <td>0</td>\n",
       "      <td>1</td>\n",
       "    </tr>\n",
       "    <tr>\n",
       "      <th>2</th>\n",
       "      <td>62.0</td>\n",
       "      <td>NaN</td>\n",
       "      <td>1.0</td>\n",
       "      <td>9.6875</td>\n",
       "      <td>0</td>\n",
       "      <td>2</td>\n",
       "      <td>0</td>\n",
       "      <td>0</td>\n",
       "      <td>NaN</td>\n",
       "      <td>0</td>\n",
       "      <td>1</td>\n",
       "      <td>0</td>\n",
       "      <td>0</td>\n",
       "      <td>1</td>\n",
       "      <td>0</td>\n",
       "    </tr>\n",
       "    <tr>\n",
       "      <th>3</th>\n",
       "      <td>27.0</td>\n",
       "      <td>NaN</td>\n",
       "      <td>2.0</td>\n",
       "      <td>8.6625</td>\n",
       "      <td>0</td>\n",
       "      <td>3</td>\n",
       "      <td>0</td>\n",
       "      <td>0</td>\n",
       "      <td>NaN</td>\n",
       "      <td>0</td>\n",
       "      <td>0</td>\n",
       "      <td>1</td>\n",
       "      <td>0</td>\n",
       "      <td>0</td>\n",
       "      <td>1</td>\n",
       "    </tr>\n",
       "    <tr>\n",
       "      <th>4</th>\n",
       "      <td>22.0</td>\n",
       "      <td>NaN</td>\n",
       "      <td>2.0</td>\n",
       "      <td>12.2875</td>\n",
       "      <td>1</td>\n",
       "      <td>3</td>\n",
       "      <td>1</td>\n",
       "      <td>1</td>\n",
       "      <td>NaN</td>\n",
       "      <td>0</td>\n",
       "      <td>0</td>\n",
       "      <td>1</td>\n",
       "      <td>0</td>\n",
       "      <td>0</td>\n",
       "      <td>1</td>\n",
       "    </tr>\n",
       "  </tbody>\n",
       "</table>\n",
       "</div>"
      ],
      "text/plain": [
       "    Age Cabin  Embarked     Fare  Parch  Pclass  Sex  SibSp  Survived  \\\n",
       "0  34.5   NaN       1.0   7.8292      0       3    0      0       NaN   \n",
       "1  47.0   NaN       2.0   7.0000      0       3    1      1       NaN   \n",
       "2  62.0   NaN       1.0   9.6875      0       2    0      0       NaN   \n",
       "3  27.0   NaN       2.0   8.6625      0       3    0      0       NaN   \n",
       "4  22.0   NaN       2.0  12.2875      1       3    1      1       NaN   \n",
       "\n",
       "   Embarked_0.0  Embarked_1.0  Embarked_2.0  Pclass_1  Pclass_2  Pclass_3  \n",
       "0             0             1             0         0         0         1  \n",
       "1             0             0             1         0         0         1  \n",
       "2             0             1             0         0         1         0  \n",
       "3             0             0             1         0         0         1  \n",
       "4             0             0             1         0         0         1  "
      ]
     },
     "execution_count": 25,
     "metadata": {},
     "output_type": "execute_result"
    }
   ],
   "source": [
    "dataset = pd.concat([dataset, embarked, pclass] , axis=1)\n",
    "dataset.head()"
   ]
  },
  {
   "cell_type": "markdown",
   "metadata": {
    "deletable": true,
    "editable": true
   },
   "source": [
    "Quando a variável faltante não é numérica é possível criar uma nova variável representando os dados faltantes. Abaixo todas as cabines com dados faltantes passam a ter o valor U. Em seguida são criadas e populadas colunas correspondentes a cada cabine."
   ]
  },
  {
   "cell_type": "code",
   "execution_count": 26,
   "metadata": {
    "collapsed": false,
    "deletable": true,
    "editable": true,
    "scrolled": true
   },
   "outputs": [
    {
     "data": {
      "text/html": [
       "<div>\n",
       "<table border=\"1\" class=\"dataframe\">\n",
       "  <thead>\n",
       "    <tr style=\"text-align: right;\">\n",
       "      <th></th>\n",
       "      <th>Cabin_A</th>\n",
       "      <th>Cabin_B</th>\n",
       "      <th>Cabin_C</th>\n",
       "      <th>Cabin_D</th>\n",
       "      <th>Cabin_E</th>\n",
       "      <th>Cabin_F</th>\n",
       "      <th>Cabin_G</th>\n",
       "      <th>Cabin_T</th>\n",
       "      <th>Cabin_U</th>\n",
       "    </tr>\n",
       "  </thead>\n",
       "  <tbody>\n",
       "    <tr>\n",
       "      <th>886</th>\n",
       "      <td>0</td>\n",
       "      <td>0</td>\n",
       "      <td>0</td>\n",
       "      <td>0</td>\n",
       "      <td>0</td>\n",
       "      <td>0</td>\n",
       "      <td>0</td>\n",
       "      <td>0</td>\n",
       "      <td>1</td>\n",
       "    </tr>\n",
       "    <tr>\n",
       "      <th>887</th>\n",
       "      <td>0</td>\n",
       "      <td>1</td>\n",
       "      <td>0</td>\n",
       "      <td>0</td>\n",
       "      <td>0</td>\n",
       "      <td>0</td>\n",
       "      <td>0</td>\n",
       "      <td>0</td>\n",
       "      <td>0</td>\n",
       "    </tr>\n",
       "    <tr>\n",
       "      <th>888</th>\n",
       "      <td>0</td>\n",
       "      <td>0</td>\n",
       "      <td>0</td>\n",
       "      <td>0</td>\n",
       "      <td>0</td>\n",
       "      <td>0</td>\n",
       "      <td>0</td>\n",
       "      <td>0</td>\n",
       "      <td>1</td>\n",
       "    </tr>\n",
       "    <tr>\n",
       "      <th>889</th>\n",
       "      <td>0</td>\n",
       "      <td>0</td>\n",
       "      <td>1</td>\n",
       "      <td>0</td>\n",
       "      <td>0</td>\n",
       "      <td>0</td>\n",
       "      <td>0</td>\n",
       "      <td>0</td>\n",
       "      <td>0</td>\n",
       "    </tr>\n",
       "    <tr>\n",
       "      <th>890</th>\n",
       "      <td>0</td>\n",
       "      <td>0</td>\n",
       "      <td>0</td>\n",
       "      <td>0</td>\n",
       "      <td>0</td>\n",
       "      <td>0</td>\n",
       "      <td>0</td>\n",
       "      <td>0</td>\n",
       "      <td>1</td>\n",
       "    </tr>\n",
       "  </tbody>\n",
       "</table>\n",
       "</div>"
      ],
      "text/plain": [
       "     Cabin_A  Cabin_B  Cabin_C  Cabin_D  Cabin_E  Cabin_F  Cabin_G  Cabin_T  \\\n",
       "886        0        0        0        0        0        0        0        0   \n",
       "887        0        1        0        0        0        0        0        0   \n",
       "888        0        0        0        0        0        0        0        0   \n",
       "889        0        0        1        0        0        0        0        0   \n",
       "890        0        0        0        0        0        0        0        0   \n",
       "\n",
       "     Cabin_U  \n",
       "886        1  \n",
       "887        0  \n",
       "888        1  \n",
       "889        0  \n",
       "890        1  "
      ]
     },
     "execution_count": 26,
     "metadata": {},
     "output_type": "execute_result"
    }
   ],
   "source": [
    "cabin = pd.DataFrame()\n",
    "\n",
    "# Substitui os dados de cabines faltantes com U (Unknown)\n",
    "cabin.Cabin = dataset.Cabin.fillna('U')\n",
    "\n",
    "# Mapping each Cabin value with the cabin letter\n",
    "cabin.Cabin = cabin.Cabin.map(lambda c: c[0])\n",
    "cabin = pd.get_dummies(cabin.Cabin, prefix='Cabin')\n",
    "\n",
    "dataset = pd.concat([dataset, cabin], axis=1)\n",
    "\n",
    "cabin.tail()"
   ]
  },
  {
   "cell_type": "code",
   "execution_count": 27,
   "metadata": {
    "collapsed": false,
    "deletable": true,
    "editable": true
   },
   "outputs": [
    {
     "data": {
      "text/html": [
       "<div>\n",
       "<table border=\"1\" class=\"dataframe\">\n",
       "  <thead>\n",
       "    <tr style=\"text-align: right;\">\n",
       "      <th></th>\n",
       "      <th>Age</th>\n",
       "      <th>Cabin</th>\n",
       "      <th>Embarked</th>\n",
       "      <th>Fare</th>\n",
       "      <th>Parch</th>\n",
       "      <th>Pclass</th>\n",
       "      <th>Sex</th>\n",
       "      <th>SibSp</th>\n",
       "      <th>Survived</th>\n",
       "      <th>Embarked_0.0</th>\n",
       "      <th>...</th>\n",
       "      <th>Pclass_3</th>\n",
       "      <th>Cabin_A</th>\n",
       "      <th>Cabin_B</th>\n",
       "      <th>Cabin_C</th>\n",
       "      <th>Cabin_D</th>\n",
       "      <th>Cabin_E</th>\n",
       "      <th>Cabin_F</th>\n",
       "      <th>Cabin_G</th>\n",
       "      <th>Cabin_T</th>\n",
       "      <th>Cabin_U</th>\n",
       "    </tr>\n",
       "  </thead>\n",
       "  <tbody>\n",
       "    <tr>\n",
       "      <th>886</th>\n",
       "      <td>27.000000</td>\n",
       "      <td>NaN</td>\n",
       "      <td>2.0</td>\n",
       "      <td>13.00</td>\n",
       "      <td>0</td>\n",
       "      <td>2</td>\n",
       "      <td>0</td>\n",
       "      <td>0</td>\n",
       "      <td>0.0</td>\n",
       "      <td>0</td>\n",
       "      <td>...</td>\n",
       "      <td>0</td>\n",
       "      <td>0</td>\n",
       "      <td>0</td>\n",
       "      <td>0</td>\n",
       "      <td>0</td>\n",
       "      <td>0</td>\n",
       "      <td>0</td>\n",
       "      <td>0</td>\n",
       "      <td>0</td>\n",
       "      <td>1</td>\n",
       "    </tr>\n",
       "    <tr>\n",
       "      <th>887</th>\n",
       "      <td>19.000000</td>\n",
       "      <td>B42</td>\n",
       "      <td>2.0</td>\n",
       "      <td>30.00</td>\n",
       "      <td>0</td>\n",
       "      <td>1</td>\n",
       "      <td>1</td>\n",
       "      <td>0</td>\n",
       "      <td>1.0</td>\n",
       "      <td>0</td>\n",
       "      <td>...</td>\n",
       "      <td>0</td>\n",
       "      <td>0</td>\n",
       "      <td>1</td>\n",
       "      <td>0</td>\n",
       "      <td>0</td>\n",
       "      <td>0</td>\n",
       "      <td>0</td>\n",
       "      <td>0</td>\n",
       "      <td>0</td>\n",
       "      <td>0</td>\n",
       "    </tr>\n",
       "    <tr>\n",
       "      <th>888</th>\n",
       "      <td>29.881138</td>\n",
       "      <td>NaN</td>\n",
       "      <td>2.0</td>\n",
       "      <td>23.45</td>\n",
       "      <td>2</td>\n",
       "      <td>3</td>\n",
       "      <td>1</td>\n",
       "      <td>1</td>\n",
       "      <td>0.0</td>\n",
       "      <td>0</td>\n",
       "      <td>...</td>\n",
       "      <td>1</td>\n",
       "      <td>0</td>\n",
       "      <td>0</td>\n",
       "      <td>0</td>\n",
       "      <td>0</td>\n",
       "      <td>0</td>\n",
       "      <td>0</td>\n",
       "      <td>0</td>\n",
       "      <td>0</td>\n",
       "      <td>1</td>\n",
       "    </tr>\n",
       "    <tr>\n",
       "      <th>889</th>\n",
       "      <td>26.000000</td>\n",
       "      <td>C148</td>\n",
       "      <td>0.0</td>\n",
       "      <td>30.00</td>\n",
       "      <td>0</td>\n",
       "      <td>1</td>\n",
       "      <td>0</td>\n",
       "      <td>0</td>\n",
       "      <td>1.0</td>\n",
       "      <td>1</td>\n",
       "      <td>...</td>\n",
       "      <td>0</td>\n",
       "      <td>0</td>\n",
       "      <td>0</td>\n",
       "      <td>1</td>\n",
       "      <td>0</td>\n",
       "      <td>0</td>\n",
       "      <td>0</td>\n",
       "      <td>0</td>\n",
       "      <td>0</td>\n",
       "      <td>0</td>\n",
       "    </tr>\n",
       "    <tr>\n",
       "      <th>890</th>\n",
       "      <td>32.000000</td>\n",
       "      <td>NaN</td>\n",
       "      <td>1.0</td>\n",
       "      <td>7.75</td>\n",
       "      <td>0</td>\n",
       "      <td>3</td>\n",
       "      <td>0</td>\n",
       "      <td>0</td>\n",
       "      <td>0.0</td>\n",
       "      <td>0</td>\n",
       "      <td>...</td>\n",
       "      <td>1</td>\n",
       "      <td>0</td>\n",
       "      <td>0</td>\n",
       "      <td>0</td>\n",
       "      <td>0</td>\n",
       "      <td>0</td>\n",
       "      <td>0</td>\n",
       "      <td>0</td>\n",
       "      <td>0</td>\n",
       "      <td>1</td>\n",
       "    </tr>\n",
       "  </tbody>\n",
       "</table>\n",
       "<p>5 rows × 24 columns</p>\n",
       "</div>"
      ],
      "text/plain": [
       "           Age Cabin  Embarked   Fare  Parch  Pclass  Sex  SibSp  Survived  \\\n",
       "886  27.000000   NaN       2.0  13.00      0       2    0      0       0.0   \n",
       "887  19.000000   B42       2.0  30.00      0       1    1      0       1.0   \n",
       "888  29.881138   NaN       2.0  23.45      2       3    1      1       0.0   \n",
       "889  26.000000  C148       0.0  30.00      0       1    0      0       1.0   \n",
       "890  32.000000   NaN       1.0   7.75      0       3    0      0       0.0   \n",
       "\n",
       "     Embarked_0.0   ...     Pclass_3  Cabin_A  Cabin_B  Cabin_C  Cabin_D  \\\n",
       "886             0   ...            0        0        0        0        0   \n",
       "887             0   ...            0        0        1        0        0   \n",
       "888             0   ...            1        0        0        0        0   \n",
       "889             1   ...            0        0        0        1        0   \n",
       "890             0   ...            1        0        0        0        0   \n",
       "\n",
       "     Cabin_E  Cabin_F  Cabin_G  Cabin_T  Cabin_U  \n",
       "886        0        0        0        0        1  \n",
       "887        0        0        0        0        0  \n",
       "888        0        0        0        0        1  \n",
       "889        0        0        0        0        0  \n",
       "890        0        0        0        0        1  \n",
       "\n",
       "[5 rows x 24 columns]"
      ]
     },
     "execution_count": 27,
     "metadata": {},
     "output_type": "execute_result"
    }
   ],
   "source": [
    "dataset.tail()"
   ]
  },
  {
   "cell_type": "code",
   "execution_count": 28,
   "metadata": {
    "collapsed": false,
    "deletable": true,
    "editable": true
   },
   "outputs": [],
   "source": [
    "dataset = dataset.drop(['Cabin', 'Embarked', 'Pclass'], axis=1)"
   ]
  },
  {
   "cell_type": "code",
   "execution_count": 29,
   "metadata": {
    "collapsed": false,
    "deletable": true,
    "editable": true
   },
   "outputs": [
    {
     "data": {
      "text/html": [
       "<div>\n",
       "<table border=\"1\" class=\"dataframe\">\n",
       "  <thead>\n",
       "    <tr style=\"text-align: right;\">\n",
       "      <th></th>\n",
       "      <th>Age</th>\n",
       "      <th>Fare</th>\n",
       "      <th>Parch</th>\n",
       "      <th>Sex</th>\n",
       "      <th>SibSp</th>\n",
       "      <th>Survived</th>\n",
       "      <th>Embarked_0.0</th>\n",
       "      <th>Embarked_1.0</th>\n",
       "      <th>Embarked_2.0</th>\n",
       "      <th>Pclass_1</th>\n",
       "      <th>...</th>\n",
       "      <th>Pclass_3</th>\n",
       "      <th>Cabin_A</th>\n",
       "      <th>Cabin_B</th>\n",
       "      <th>Cabin_C</th>\n",
       "      <th>Cabin_D</th>\n",
       "      <th>Cabin_E</th>\n",
       "      <th>Cabin_F</th>\n",
       "      <th>Cabin_G</th>\n",
       "      <th>Cabin_T</th>\n",
       "      <th>Cabin_U</th>\n",
       "    </tr>\n",
       "  </thead>\n",
       "  <tbody>\n",
       "    <tr>\n",
       "      <th>0</th>\n",
       "      <td>34.5</td>\n",
       "      <td>7.8292</td>\n",
       "      <td>0</td>\n",
       "      <td>0</td>\n",
       "      <td>0</td>\n",
       "      <td>NaN</td>\n",
       "      <td>0</td>\n",
       "      <td>1</td>\n",
       "      <td>0</td>\n",
       "      <td>0</td>\n",
       "      <td>...</td>\n",
       "      <td>1</td>\n",
       "      <td>0</td>\n",
       "      <td>0</td>\n",
       "      <td>0</td>\n",
       "      <td>0</td>\n",
       "      <td>0</td>\n",
       "      <td>0</td>\n",
       "      <td>0</td>\n",
       "      <td>0</td>\n",
       "      <td>1</td>\n",
       "    </tr>\n",
       "    <tr>\n",
       "      <th>1</th>\n",
       "      <td>47.0</td>\n",
       "      <td>7.0000</td>\n",
       "      <td>0</td>\n",
       "      <td>1</td>\n",
       "      <td>1</td>\n",
       "      <td>NaN</td>\n",
       "      <td>0</td>\n",
       "      <td>0</td>\n",
       "      <td>1</td>\n",
       "      <td>0</td>\n",
       "      <td>...</td>\n",
       "      <td>1</td>\n",
       "      <td>0</td>\n",
       "      <td>0</td>\n",
       "      <td>0</td>\n",
       "      <td>0</td>\n",
       "      <td>0</td>\n",
       "      <td>0</td>\n",
       "      <td>0</td>\n",
       "      <td>0</td>\n",
       "      <td>1</td>\n",
       "    </tr>\n",
       "    <tr>\n",
       "      <th>2</th>\n",
       "      <td>62.0</td>\n",
       "      <td>9.6875</td>\n",
       "      <td>0</td>\n",
       "      <td>0</td>\n",
       "      <td>0</td>\n",
       "      <td>NaN</td>\n",
       "      <td>0</td>\n",
       "      <td>1</td>\n",
       "      <td>0</td>\n",
       "      <td>0</td>\n",
       "      <td>...</td>\n",
       "      <td>0</td>\n",
       "      <td>0</td>\n",
       "      <td>0</td>\n",
       "      <td>0</td>\n",
       "      <td>0</td>\n",
       "      <td>0</td>\n",
       "      <td>0</td>\n",
       "      <td>0</td>\n",
       "      <td>0</td>\n",
       "      <td>1</td>\n",
       "    </tr>\n",
       "    <tr>\n",
       "      <th>3</th>\n",
       "      <td>27.0</td>\n",
       "      <td>8.6625</td>\n",
       "      <td>0</td>\n",
       "      <td>0</td>\n",
       "      <td>0</td>\n",
       "      <td>NaN</td>\n",
       "      <td>0</td>\n",
       "      <td>0</td>\n",
       "      <td>1</td>\n",
       "      <td>0</td>\n",
       "      <td>...</td>\n",
       "      <td>1</td>\n",
       "      <td>0</td>\n",
       "      <td>0</td>\n",
       "      <td>0</td>\n",
       "      <td>0</td>\n",
       "      <td>0</td>\n",
       "      <td>0</td>\n",
       "      <td>0</td>\n",
       "      <td>0</td>\n",
       "      <td>1</td>\n",
       "    </tr>\n",
       "    <tr>\n",
       "      <th>4</th>\n",
       "      <td>22.0</td>\n",
       "      <td>12.2875</td>\n",
       "      <td>1</td>\n",
       "      <td>1</td>\n",
       "      <td>1</td>\n",
       "      <td>NaN</td>\n",
       "      <td>0</td>\n",
       "      <td>0</td>\n",
       "      <td>1</td>\n",
       "      <td>0</td>\n",
       "      <td>...</td>\n",
       "      <td>1</td>\n",
       "      <td>0</td>\n",
       "      <td>0</td>\n",
       "      <td>0</td>\n",
       "      <td>0</td>\n",
       "      <td>0</td>\n",
       "      <td>0</td>\n",
       "      <td>0</td>\n",
       "      <td>0</td>\n",
       "      <td>1</td>\n",
       "    </tr>\n",
       "  </tbody>\n",
       "</table>\n",
       "<p>5 rows × 21 columns</p>\n",
       "</div>"
      ],
      "text/plain": [
       "    Age     Fare  Parch  Sex  SibSp  Survived  Embarked_0.0  Embarked_1.0  \\\n",
       "0  34.5   7.8292      0    0      0       NaN             0             1   \n",
       "1  47.0   7.0000      0    1      1       NaN             0             0   \n",
       "2  62.0   9.6875      0    0      0       NaN             0             1   \n",
       "3  27.0   8.6625      0    0      0       NaN             0             0   \n",
       "4  22.0  12.2875      1    1      1       NaN             0             0   \n",
       "\n",
       "   Embarked_2.0  Pclass_1   ...     Pclass_3  Cabin_A  Cabin_B  Cabin_C  \\\n",
       "0             0         0   ...            1        0        0        0   \n",
       "1             1         0   ...            1        0        0        0   \n",
       "2             0         0   ...            0        0        0        0   \n",
       "3             1         0   ...            1        0        0        0   \n",
       "4             1         0   ...            1        0        0        0   \n",
       "\n",
       "   Cabin_D  Cabin_E  Cabin_F  Cabin_G  Cabin_T  Cabin_U  \n",
       "0        0        0        0        0        0        1  \n",
       "1        0        0        0        0        0        1  \n",
       "2        0        0        0        0        0        1  \n",
       "3        0        0        0        0        0        1  \n",
       "4        0        0        0        0        0        1  \n",
       "\n",
       "[5 rows x 21 columns]"
      ]
     },
     "execution_count": 29,
     "metadata": {},
     "output_type": "execute_result"
    }
   ],
   "source": [
    "dataset.head()"
   ]
  },
  {
   "cell_type": "markdown",
   "metadata": {
    "deletable": true,
    "editable": true
   },
   "source": [
    "### Função de pré-processamento\n",
    "\n",
    "Vamos colocar tudo isso dentro de uma função."
   ]
  },
  {
   "cell_type": "code",
   "execution_count": 6,
   "metadata": {
    "collapsed": true,
    "deletable": true,
    "editable": true
   },
   "outputs": [],
   "source": [
    "def preprocessing(df):\n",
    "    df = df.drop(['PassengerId', 'Name', 'Ticket'], axis=1)\n",
    "    replace = {'Sex': {'male': 0, 'female': 1}, 'Embarked': {'C': 0, 'Q': 1, 'S': 2}}\n",
    "    df = df.replace(replace)\n",
    "    df.Embarked = df.Embarked.fillna(2)\n",
    "    df.Age = df.Age.fillna(dataset.Age.mean())\n",
    "    df.Fare = df.Fare.fillna(dataset.Fare.mean())\n",
    "    \n",
    "    embarked = pd.get_dummies(df.Embarked, prefix='Embarked')\n",
    "    pclass = pd.get_dummies(df.Pclass, prefix='Pclass')\n",
    "    \n",
    "    cabin = pd.DataFrame()\n",
    "    cabin.Cabin = df.Cabin.fillna('U')\n",
    "    cabin.Cabin = cabin.Cabin.map(lambda c: c[0])\n",
    "    cabin = pd.get_dummies(cabin.Cabin, prefix='Cabin')\n",
    "\n",
    "    df = pd.concat([df, cabin, embarked, pclass] , axis=1)\n",
    "    df = df.drop(['Cabin', 'Embarked', 'Pclass'], axis=1)\n",
    "    \n",
    "    # Normalizando os dados\n",
    "    norm = df.apply(lambda x: (x - np.mean(x)) / (np.max(x) - np.min(x)))\n",
    "    df.Age = norm.Age\n",
    "    df.Fare = norm.Fare\n",
    "    \n",
    "    return df"
   ]
  },
  {
   "cell_type": "code",
   "execution_count": 7,
   "metadata": {
    "collapsed": false,
    "deletable": true,
    "editable": true
   },
   "outputs": [],
   "source": [
    "train_valid_features = preprocessing(train_df)\n",
    "test_features = preprocessing(test_df)\n",
    "test_features['Cabin_T'] = 0"
   ]
  },
  {
   "cell_type": "code",
   "execution_count": 8,
   "metadata": {
    "collapsed": false,
    "deletable": true,
    "editable": true
   },
   "outputs": [
    {
     "data": {
      "text/html": [
       "<div>\n",
       "<table border=\"1\" class=\"dataframe\">\n",
       "  <thead>\n",
       "    <tr style=\"text-align: right;\">\n",
       "      <th></th>\n",
       "      <th>Survived</th>\n",
       "      <th>Sex</th>\n",
       "      <th>Age</th>\n",
       "      <th>SibSp</th>\n",
       "      <th>Parch</th>\n",
       "      <th>Fare</th>\n",
       "      <th>Cabin_A</th>\n",
       "      <th>Cabin_B</th>\n",
       "      <th>Cabin_C</th>\n",
       "      <th>Cabin_D</th>\n",
       "      <th>...</th>\n",
       "      <th>Cabin_F</th>\n",
       "      <th>Cabin_G</th>\n",
       "      <th>Cabin_T</th>\n",
       "      <th>Cabin_U</th>\n",
       "      <th>Embarked_0.0</th>\n",
       "      <th>Embarked_1.0</th>\n",
       "      <th>Embarked_2.0</th>\n",
       "      <th>Pclass_1</th>\n",
       "      <th>Pclass_2</th>\n",
       "      <th>Pclass_3</th>\n",
       "    </tr>\n",
       "  </thead>\n",
       "  <tbody>\n",
       "    <tr>\n",
       "      <th>0</th>\n",
       "      <td>0</td>\n",
       "      <td>0</td>\n",
       "      <td>-0.097201</td>\n",
       "      <td>1</td>\n",
       "      <td>0</td>\n",
       "      <td>-0.048707</td>\n",
       "      <td>0</td>\n",
       "      <td>0</td>\n",
       "      <td>0</td>\n",
       "      <td>0</td>\n",
       "      <td>...</td>\n",
       "      <td>0</td>\n",
       "      <td>0</td>\n",
       "      <td>0</td>\n",
       "      <td>1</td>\n",
       "      <td>0</td>\n",
       "      <td>0</td>\n",
       "      <td>1</td>\n",
       "      <td>0</td>\n",
       "      <td>0</td>\n",
       "      <td>1</td>\n",
       "    </tr>\n",
       "    <tr>\n",
       "      <th>1</th>\n",
       "      <td>1</td>\n",
       "      <td>1</td>\n",
       "      <td>0.103854</td>\n",
       "      <td>1</td>\n",
       "      <td>0</td>\n",
       "      <td>0.076277</td>\n",
       "      <td>0</td>\n",
       "      <td>0</td>\n",
       "      <td>1</td>\n",
       "      <td>0</td>\n",
       "      <td>...</td>\n",
       "      <td>0</td>\n",
       "      <td>0</td>\n",
       "      <td>0</td>\n",
       "      <td>0</td>\n",
       "      <td>1</td>\n",
       "      <td>0</td>\n",
       "      <td>0</td>\n",
       "      <td>1</td>\n",
       "      <td>0</td>\n",
       "      <td>0</td>\n",
       "    </tr>\n",
       "    <tr>\n",
       "      <th>2</th>\n",
       "      <td>1</td>\n",
       "      <td>1</td>\n",
       "      <td>-0.046937</td>\n",
       "      <td>0</td>\n",
       "      <td>0</td>\n",
       "      <td>-0.047390</td>\n",
       "      <td>0</td>\n",
       "      <td>0</td>\n",
       "      <td>0</td>\n",
       "      <td>0</td>\n",
       "      <td>...</td>\n",
       "      <td>0</td>\n",
       "      <td>0</td>\n",
       "      <td>0</td>\n",
       "      <td>1</td>\n",
       "      <td>0</td>\n",
       "      <td>0</td>\n",
       "      <td>1</td>\n",
       "      <td>0</td>\n",
       "      <td>0</td>\n",
       "      <td>1</td>\n",
       "    </tr>\n",
       "    <tr>\n",
       "      <th>3</th>\n",
       "      <td>1</td>\n",
       "      <td>1</td>\n",
       "      <td>0.066156</td>\n",
       "      <td>1</td>\n",
       "      <td>0</td>\n",
       "      <td>0.040786</td>\n",
       "      <td>0</td>\n",
       "      <td>0</td>\n",
       "      <td>1</td>\n",
       "      <td>0</td>\n",
       "      <td>...</td>\n",
       "      <td>0</td>\n",
       "      <td>0</td>\n",
       "      <td>0</td>\n",
       "      <td>0</td>\n",
       "      <td>0</td>\n",
       "      <td>0</td>\n",
       "      <td>1</td>\n",
       "      <td>1</td>\n",
       "      <td>0</td>\n",
       "      <td>0</td>\n",
       "    </tr>\n",
       "    <tr>\n",
       "      <th>4</th>\n",
       "      <td>0</td>\n",
       "      <td>0</td>\n",
       "      <td>0.066156</td>\n",
       "      <td>0</td>\n",
       "      <td>0</td>\n",
       "      <td>-0.047146</td>\n",
       "      <td>0</td>\n",
       "      <td>0</td>\n",
       "      <td>0</td>\n",
       "      <td>0</td>\n",
       "      <td>...</td>\n",
       "      <td>0</td>\n",
       "      <td>0</td>\n",
       "      <td>0</td>\n",
       "      <td>1</td>\n",
       "      <td>0</td>\n",
       "      <td>0</td>\n",
       "      <td>1</td>\n",
       "      <td>0</td>\n",
       "      <td>0</td>\n",
       "      <td>1</td>\n",
       "    </tr>\n",
       "  </tbody>\n",
       "</table>\n",
       "<p>5 rows × 21 columns</p>\n",
       "</div>"
      ],
      "text/plain": [
       "   Survived  Sex       Age  SibSp  Parch      Fare  Cabin_A  Cabin_B  Cabin_C  \\\n",
       "0         0    0 -0.097201      1      0 -0.048707        0        0        0   \n",
       "1         1    1  0.103854      1      0  0.076277        0        0        1   \n",
       "2         1    1 -0.046937      0      0 -0.047390        0        0        0   \n",
       "3         1    1  0.066156      1      0  0.040786        0        0        1   \n",
       "4         0    0  0.066156      0      0 -0.047146        0        0        0   \n",
       "\n",
       "   Cabin_D    ...     Cabin_F  Cabin_G  Cabin_T  Cabin_U  Embarked_0.0  \\\n",
       "0        0    ...           0        0        0        1             0   \n",
       "1        0    ...           0        0        0        0             1   \n",
       "2        0    ...           0        0        0        1             0   \n",
       "3        0    ...           0        0        0        0             0   \n",
       "4        0    ...           0        0        0        1             0   \n",
       "\n",
       "   Embarked_1.0  Embarked_2.0  Pclass_1  Pclass_2  Pclass_3  \n",
       "0             0             1         0         0         1  \n",
       "1             0             0         1         0         0  \n",
       "2             0             1         0         0         1  \n",
       "3             0             1         1         0         0  \n",
       "4             0             1         0         0         1  \n",
       "\n",
       "[5 rows x 21 columns]"
      ]
     },
     "execution_count": 8,
     "metadata": {},
     "output_type": "execute_result"
    }
   ],
   "source": [
    "train_valid_features.head()"
   ]
  },
  {
   "cell_type": "code",
   "execution_count": 9,
   "metadata": {
    "collapsed": false,
    "deletable": true,
    "editable": true
   },
   "outputs": [
    {
     "data": {
      "text/html": [
       "<div>\n",
       "<table border=\"1\" class=\"dataframe\">\n",
       "  <thead>\n",
       "    <tr style=\"text-align: right;\">\n",
       "      <th></th>\n",
       "      <th>Sex</th>\n",
       "      <th>Age</th>\n",
       "      <th>SibSp</th>\n",
       "      <th>Parch</th>\n",
       "      <th>Fare</th>\n",
       "      <th>Cabin_A</th>\n",
       "      <th>Cabin_B</th>\n",
       "      <th>Cabin_C</th>\n",
       "      <th>Cabin_D</th>\n",
       "      <th>Cabin_E</th>\n",
       "      <th>Cabin_F</th>\n",
       "      <th>Cabin_G</th>\n",
       "      <th>Cabin_U</th>\n",
       "      <th>Embarked_0</th>\n",
       "      <th>Embarked_1</th>\n",
       "      <th>Embarked_2</th>\n",
       "      <th>Pclass_1</th>\n",
       "      <th>Pclass_2</th>\n",
       "      <th>Pclass_3</th>\n",
       "      <th>Cabin_T</th>\n",
       "    </tr>\n",
       "  </thead>\n",
       "  <tbody>\n",
       "    <tr>\n",
       "      <th>0</th>\n",
       "      <td>0</td>\n",
       "      <td>0.056811</td>\n",
       "      <td>0</td>\n",
       "      <td>0</td>\n",
       "      <td>-0.054247</td>\n",
       "      <td>0</td>\n",
       "      <td>0</td>\n",
       "      <td>0</td>\n",
       "      <td>0</td>\n",
       "      <td>0</td>\n",
       "      <td>0</td>\n",
       "      <td>0</td>\n",
       "      <td>1</td>\n",
       "      <td>0</td>\n",
       "      <td>1</td>\n",
       "      <td>0</td>\n",
       "      <td>0</td>\n",
       "      <td>0</td>\n",
       "      <td>1</td>\n",
       "      <td>0</td>\n",
       "    </tr>\n",
       "    <tr>\n",
       "      <th>1</th>\n",
       "      <td>1</td>\n",
       "      <td>0.221653</td>\n",
       "      <td>1</td>\n",
       "      <td>0</td>\n",
       "      <td>-0.055866</td>\n",
       "      <td>0</td>\n",
       "      <td>0</td>\n",
       "      <td>0</td>\n",
       "      <td>0</td>\n",
       "      <td>0</td>\n",
       "      <td>0</td>\n",
       "      <td>0</td>\n",
       "      <td>1</td>\n",
       "      <td>0</td>\n",
       "      <td>0</td>\n",
       "      <td>1</td>\n",
       "      <td>0</td>\n",
       "      <td>0</td>\n",
       "      <td>1</td>\n",
       "      <td>0</td>\n",
       "    </tr>\n",
       "    <tr>\n",
       "      <th>2</th>\n",
       "      <td>0</td>\n",
       "      <td>0.419464</td>\n",
       "      <td>0</td>\n",
       "      <td>0</td>\n",
       "      <td>-0.050620</td>\n",
       "      <td>0</td>\n",
       "      <td>0</td>\n",
       "      <td>0</td>\n",
       "      <td>0</td>\n",
       "      <td>0</td>\n",
       "      <td>0</td>\n",
       "      <td>0</td>\n",
       "      <td>1</td>\n",
       "      <td>0</td>\n",
       "      <td>1</td>\n",
       "      <td>0</td>\n",
       "      <td>0</td>\n",
       "      <td>1</td>\n",
       "      <td>0</td>\n",
       "      <td>0</td>\n",
       "    </tr>\n",
       "    <tr>\n",
       "      <th>3</th>\n",
       "      <td>0</td>\n",
       "      <td>-0.042095</td>\n",
       "      <td>0</td>\n",
       "      <td>0</td>\n",
       "      <td>-0.052621</td>\n",
       "      <td>0</td>\n",
       "      <td>0</td>\n",
       "      <td>0</td>\n",
       "      <td>0</td>\n",
       "      <td>0</td>\n",
       "      <td>0</td>\n",
       "      <td>0</td>\n",
       "      <td>1</td>\n",
       "      <td>0</td>\n",
       "      <td>0</td>\n",
       "      <td>1</td>\n",
       "      <td>0</td>\n",
       "      <td>0</td>\n",
       "      <td>1</td>\n",
       "      <td>0</td>\n",
       "    </tr>\n",
       "    <tr>\n",
       "      <th>4</th>\n",
       "      <td>1</td>\n",
       "      <td>-0.108032</td>\n",
       "      <td>1</td>\n",
       "      <td>1</td>\n",
       "      <td>-0.045545</td>\n",
       "      <td>0</td>\n",
       "      <td>0</td>\n",
       "      <td>0</td>\n",
       "      <td>0</td>\n",
       "      <td>0</td>\n",
       "      <td>0</td>\n",
       "      <td>0</td>\n",
       "      <td>1</td>\n",
       "      <td>0</td>\n",
       "      <td>0</td>\n",
       "      <td>1</td>\n",
       "      <td>0</td>\n",
       "      <td>0</td>\n",
       "      <td>1</td>\n",
       "      <td>0</td>\n",
       "    </tr>\n",
       "  </tbody>\n",
       "</table>\n",
       "</div>"
      ],
      "text/plain": [
       "   Sex       Age  SibSp  Parch      Fare  Cabin_A  Cabin_B  Cabin_C  Cabin_D  \\\n",
       "0    0  0.056811      0      0 -0.054247        0        0        0        0   \n",
       "1    1  0.221653      1      0 -0.055866        0        0        0        0   \n",
       "2    0  0.419464      0      0 -0.050620        0        0        0        0   \n",
       "3    0 -0.042095      0      0 -0.052621        0        0        0        0   \n",
       "4    1 -0.108032      1      1 -0.045545        0        0        0        0   \n",
       "\n",
       "   Cabin_E  Cabin_F  Cabin_G  Cabin_U  Embarked_0  Embarked_1  Embarked_2  \\\n",
       "0        0        0        0        1           0           1           0   \n",
       "1        0        0        0        1           0           0           1   \n",
       "2        0        0        0        1           0           1           0   \n",
       "3        0        0        0        1           0           0           1   \n",
       "4        0        0        0        1           0           0           1   \n",
       "\n",
       "   Pclass_1  Pclass_2  Pclass_3  Cabin_T  \n",
       "0         0         0         1        0  \n",
       "1         0         0         1        0  \n",
       "2         0         1         0        0  \n",
       "3         0         0         1        0  \n",
       "4         0         0         1        0  "
      ]
     },
     "execution_count": 9,
     "metadata": {},
     "output_type": "execute_result"
    }
   ],
   "source": [
    "test_features.head()"
   ]
  },
  {
   "cell_type": "markdown",
   "metadata": {
    "deletable": true,
    "editable": true
   },
   "source": [
    "## Treinamento de modelos\n",
    "\n",
    "Nosso objetivo neste desafio é treinar um modelo que nos ajude a classificar se uma pessoa sobreviveria ou morreria no acidente do Titanic baseado nos dados que temos disponíveis. \n",
    "\n",
    "Nós já sabemos quem morreu no acidente. Porém, após termos um modelo confiável treinado, podemos mostrar para ele dados de pessoas que não estavam no Titanic para ver qual seria a probabilidade dessa pessoa morrer no acidente.\n",
    "\n",
    "Como identificamos na nossa análise, existem fatores óbvios que influenciam nisso como idade, sexo e renda. Poderíamos tentar fazer uma predição manual a partir desses dados, ou mesmo usar modelos onde conseguimos forçar pesos para cada atributo, como Redes Bayesianas.\n",
    "\n",
    "Uma coisa para ter em mente: **Comece pelo algoritmo mais simples, sempre que possível**. É comum querermos usar os últimos algoritmos disponíveis, porém também é comum notarmos que estamos _over engineering_ o problema.\n",
    "\n",
    "Nosso objetivo no final do dia, é achar os melhores parâmetros para uma curva. Supondo um problema onde estamos analizando dois atributos, usando um classificador linear, teríamos\n",
    "\n",
    "![](docs/linear-regression-example.png)\n",
    "\n",
    "#### Models lineares e não lineares\n",
    "\n",
    "Os modelos lineares são lineares nos parâmetros que devem ser estimados, mas não necessariamente nas variáveis independentes. Isso explica por que o gráfico do meio das três figuras abaixo mostra uma linha de discriminação linear entre as duas classes, embora a linha não seja linear no sentido de uma linha reta.\n",
    "\n",
    "Normalmente, os modelos não lineares são mais poderosos, podem representar uma maior classe de funções, mas muito mais difíceis de treinar.\n",
    "\n",
    "![](docs/linear-nonlinear-examples.png)\n",
    "<center>[Referência](http://www.statistics4u.com/fundstat_eng/cc_linvsnonlin.html)</center>\n",
    "\n",
    "### Métricas\n",
    "\n",
    "![](docs/precision-recall.png)\n",
    "<center>[Referência](https://www.wikiwand.com/en/Precision_and_recall)</center>"
   ]
  },
  {
   "cell_type": "code",
   "execution_count": 10,
   "metadata": {
    "collapsed": false,
    "deletable": true,
    "editable": true
   },
   "outputs": [],
   "source": [
    "from sklearn.model_selection import train_test_split\n",
    "\n",
    "train_valid_labels = train_valid_features.Survived\n",
    "train_valid_features = train_valid_features.drop('Survived', axis=1)\n",
    "train_features, valid_features, train_labels, valid_labels = train_test_split(train_valid_features, train_valid_labels, train_size=0.7)"
   ]
  },
  {
   "cell_type": "markdown",
   "metadata": {
    "deletable": true,
    "editable": true
   },
   "source": [
    "### Logistic Regression \n",
    "\n",
    "[Documentação](http://scikit-learn.org/stable/modules/generated/sklearn.linear_model.LogisticRegression.html)\n",
    "[Tutorial](http://ufldl.stanford.edu/tutorial/supervised/LogisticRegression/)\n",
    "[Logistic Function](https://www.wikiwand.com/en/Logistic_function)\n",
    "\n",
    "No regressor logístico tenta-se prever a probabilidade de um dado exemplo pertencer a classe de sobreviventes versos a probabilidade de percenter a classe de falecidos.\n",
    "\n",
    "$f(x) = \\frac{L}{1 + \\mathrm e^{-k(x-x_0)}}$\n",
    "\n",
    "\n",
    "![](docs/logistic-curve.png)\n",
    "Para a curva padrão\n",
    "$L=1,k=1,x_0=0$\n",
    "\n",
    "#### Um exemplo\n",
    "\n",
    "![](docs/logistic-regression-example.jpg)\n",
    "<center>[Referência](https://www.mssqltips.com/sqlservertip/3471/introduction-to-the-sql-server-analysis-services-logistic-regression-data-mining-algorithm/)</center>"
   ]
  },
  {
   "cell_type": "code",
   "execution_count": 11,
   "metadata": {
    "collapsed": false,
    "deletable": true,
    "editable": true
   },
   "outputs": [
    {
     "data": {
      "text/plain": [
       "LogisticRegression(C=1.0, class_weight=None, dual=False, fit_intercept=True,\n",
       "          intercept_scaling=1, max_iter=100, multi_class='ovr', n_jobs=1,\n",
       "          penalty='l2', random_state=None, solver='liblinear', tol=0.0001,\n",
       "          verbose=0, warm_start=False)"
      ]
     },
     "execution_count": 11,
     "metadata": {},
     "output_type": "execute_result"
    }
   ],
   "source": [
    "from sklearn.linear_model import LogisticRegression\n",
    "\n",
    "classifier_lor = LogisticRegression()\n",
    "classifier_lor.fit(train_features, train_labels)"
   ]
  },
  {
   "cell_type": "code",
   "execution_count": 16,
   "metadata": {
    "collapsed": false
   },
   "outputs": [
    {
     "data": {
      "text/plain": [
       "0.84701492537313428"
      ]
     },
     "execution_count": 16,
     "metadata": {},
     "output_type": "execute_result"
    }
   ],
   "source": [
    "classifier_lor.score(valid_features, valid_labels)"
   ]
  },
  {
   "cell_type": "code",
   "execution_count": 12,
   "metadata": {
    "collapsed": false,
    "deletable": true,
    "editable": true
   },
   "outputs": [
    {
     "name": "stdout",
     "output_type": "stream",
     "text": [
      "             precision    recall  f1-score   support\n",
      "\n",
      "     Morreu       0.87      0.90      0.88       172\n",
      " Sobreviveu       0.81      0.75      0.78        96\n",
      "\n",
      "avg / total       0.85      0.85      0.85       268\n",
      "\n"
     ]
    }
   ],
   "source": [
    "from sklearn.metrics import classification_report\n",
    "\n",
    "valid_labels_predicted_lor = classifier_lor.predict(valid_features)\n",
    "print(classification_report(valid_labels, valid_labels_predicted_lor, target_names=['Morreu', 'Sobreviveu']))"
   ]
  },
  {
   "cell_type": "markdown",
   "metadata": {
    "deletable": true,
    "editable": true
   },
   "source": [
    "### Stocastic Gradient Descent \n",
    "\n",
    "[Documentação](http://scikit-learn.org/stable/modules/generated/sklearn.linear_model.SGDClassifier.html)\n",
    "[Tutorial](http://ufldl.stanford.edu/tutorial/supervised/OptimizationStochasticGradientDescent/)\n",
    "\n",
    "![](docs/sgd-git-example.gif)\n",
    "<center>[Referência](http://dsdeepdive.blogspot.com.br/2016/03/optimizations-of-gradient-descent.html)</center>"
   ]
  },
  {
   "cell_type": "code",
   "execution_count": 13,
   "metadata": {
    "collapsed": false,
    "deletable": true,
    "editable": true
   },
   "outputs": [
    {
     "data": {
      "text/plain": [
       "SGDClassifier(alpha=0.0001, average=False, class_weight=None, epsilon=0.1,\n",
       "       eta0=0.0, fit_intercept=True, l1_ratio=0.15,\n",
       "       learning_rate='optimal', loss='log', n_iter=5, n_jobs=1,\n",
       "       penalty='l1', power_t=0.5, random_state=None, shuffle=True,\n",
       "       verbose=0, warm_start=False)"
      ]
     },
     "execution_count": 13,
     "metadata": {},
     "output_type": "execute_result"
    }
   ],
   "source": [
    "from sklearn.linear_model import SGDClassifier\n",
    "\n",
    "classifier_slr = SGDClassifier(loss='log', penalty='l1')\n",
    "classifier_slr.fit(train_features, train_labels)"
   ]
  },
  {
   "cell_type": "code",
   "execution_count": 15,
   "metadata": {
    "collapsed": false
   },
   "outputs": [
    {
     "data": {
      "text/plain": [
       "0.71641791044776115"
      ]
     },
     "execution_count": 15,
     "metadata": {},
     "output_type": "execute_result"
    }
   ],
   "source": [
    "classifier_slr.score(valid_features, valid_labels)"
   ]
  },
  {
   "cell_type": "code",
   "execution_count": 17,
   "metadata": {
    "collapsed": false
   },
   "outputs": [
    {
     "name": "stdout",
     "output_type": "stream",
     "text": [
      "             precision    recall  f1-score   support\n",
      "\n",
      "     Morreu       0.91      0.62      0.74       172\n",
      " Sobreviveu       0.57      0.90      0.69        96\n",
      "\n",
      "avg / total       0.79      0.72      0.72       268\n",
      "\n"
     ]
    }
   ],
   "source": [
    "valid_labels_predicted_slr = classifier_slr.predict(valid_features)\n",
    "print(classification_report(valid_labels, valid_labels_predicted_slr, target_names=['Morreu', 'Sobreviveu']))"
   ]
  },
  {
   "cell_type": "markdown",
   "metadata": {},
   "source": [
    "### SVM\n",
    "\n",
    "[Documentação](http://scikit-learn.org/stable/modules/svm.html)\n",
    "\n",
    "Usa um subconjunto de pontos de treinamento na função de decisão (chamados vetores de suporte), portanto é eficiente na memória.\n",
    "\n",
    "![](docs/svm-example.jpg)\n",
    "<center>[Referência](http://www-personal.umich.edu/~johnhugo/commercial/inc/img/SVM.jpg)</center>"
   ]
  },
  {
   "cell_type": "code",
   "execution_count": 35,
   "metadata": {
    "collapsed": false
   },
   "outputs": [
    {
     "data": {
      "text/plain": [
       "SVC(C=1.0, cache_size=200, class_weight=None, coef0=0.0,\n",
       "  decision_function_shape=None, degree=3, gamma='auto', kernel='rbf',\n",
       "  max_iter=-1, probability=True, random_state=None, shrinking=True,\n",
       "  tol=0.001, verbose=False)"
      ]
     },
     "execution_count": 35,
     "metadata": {},
     "output_type": "execute_result"
    }
   ],
   "source": [
    "from sklearn import svm\n",
    "\n",
    "classifier_svm = svm.SVC(probability=True)\n",
    "classifier_svm.fit(train_features, train_labels)"
   ]
  },
  {
   "cell_type": "code",
   "execution_count": 36,
   "metadata": {
    "collapsed": false
   },
   "outputs": [
    {
     "data": {
      "text/plain": [
       "0.84328358208955223"
      ]
     },
     "execution_count": 36,
     "metadata": {},
     "output_type": "execute_result"
    }
   ],
   "source": [
    "classifier_svm.score(valid_features, valid_labels)"
   ]
  },
  {
   "cell_type": "code",
   "execution_count": 37,
   "metadata": {
    "collapsed": false
   },
   "outputs": [
    {
     "name": "stdout",
     "output_type": "stream",
     "text": [
      "             precision    recall  f1-score   support\n",
      "\n",
      "     Morreu       0.85      0.91      0.88       172\n",
      " Sobreviveu       0.82      0.72      0.77        96\n",
      "\n",
      "avg / total       0.84      0.84      0.84       268\n",
      "\n"
     ]
    }
   ],
   "source": [
    "valid_labels_predicted_svm = classifier_svm.predict(valid_features)\n",
    "print(classification_report(valid_labels, valid_labels_predicted_svm, target_names=['Morreu', 'Sobreviveu']))"
   ]
  },
  {
   "cell_type": "markdown",
   "metadata": {},
   "source": [
    "### Decision Tree\n",
    "\n",
    "[Documentação](http://scikit-learn.org/stable/modules/tree.html)\n",
    "[Tutorial](http://www.r2d3.us/uma-introducao-visual-ao-aprendizado-de-maquina-1/)\n",
    "\n",
    "Por exemplo, no exemplo abaixo, as árvores de decisão aprendem com dados para aproximar uma curva de seno com um conjunto de regras de decisão if-then-else. Quanto mais profunda for a árvore, mais complexa será a decisão e mais ajustada ao modelo.\n",
    "\n",
    "![](docs/decision-tree-examplee.png)\n",
    "<center>[Referência](https://sebastianraschka.com/faq/docs/bagging-boosting-rf.html)</center>"
   ]
  },
  {
   "cell_type": "code",
   "execution_count": 25,
   "metadata": {
    "collapsed": false,
    "deletable": true,
    "editable": true
   },
   "outputs": [
    {
     "data": {
      "text/plain": [
       "DecisionTreeClassifier(class_weight=None, criterion='gini', max_depth=None,\n",
       "            max_features=None, max_leaf_nodes=None,\n",
       "            min_impurity_split=1e-07, min_samples_leaf=1,\n",
       "            min_samples_split=2, min_weight_fraction_leaf=0.0,\n",
       "            presort=False, random_state=None, splitter='best')"
      ]
     },
     "execution_count": 25,
     "metadata": {},
     "output_type": "execute_result"
    }
   ],
   "source": [
    "from sklearn import tree\n",
    "\n",
    "classifier_dt = tree.DecisionTreeClassifier()\n",
    "classifier_dt.fit(train_features, train_labels)"
   ]
  },
  {
   "cell_type": "code",
   "execution_count": 26,
   "metadata": {
    "collapsed": false
   },
   "outputs": [
    {
     "data": {
      "text/plain": [
       "0.77238805970149249"
      ]
     },
     "execution_count": 26,
     "metadata": {},
     "output_type": "execute_result"
    }
   ],
   "source": [
    "classifier_dt.score(valid_features, valid_labels)"
   ]
  },
  {
   "cell_type": "code",
   "execution_count": 28,
   "metadata": {
    "collapsed": false
   },
   "outputs": [
    {
     "name": "stdout",
     "output_type": "stream",
     "text": [
      "             precision    recall  f1-score   support\n",
      "\n",
      "     Morreu       0.82      0.82      0.82       172\n",
      " Sobreviveu       0.68      0.69      0.68        96\n",
      "\n",
      "avg / total       0.77      0.77      0.77       268\n",
      "\n"
     ]
    }
   ],
   "source": [
    "valid_labels_predicted_dt = classifier_dt.predict(valid_features)\n",
    "print(classification_report(valid_labels, valid_labels_predicted_dt, target_names=['Morreu', 'Sobreviveu']))"
   ]
  },
  {
   "cell_type": "markdown",
   "metadata": {},
   "source": [
    "### Random Forest"
   ]
  },
  {
   "cell_type": "code",
   "execution_count": 40,
   "metadata": {
    "collapsed": false
   },
   "outputs": [
    {
     "data": {
      "text/plain": [
       "RandomForestClassifier(bootstrap=True, class_weight=None, criterion='gini',\n",
       "            max_depth=None, max_features='auto', max_leaf_nodes=None,\n",
       "            min_impurity_split=1e-07, min_samples_leaf=1,\n",
       "            min_samples_split=2, min_weight_fraction_leaf=0.0,\n",
       "            n_estimators=100, n_jobs=1, oob_score=False, random_state=None,\n",
       "            verbose=0, warm_start=False)"
      ]
     },
     "execution_count": 40,
     "metadata": {},
     "output_type": "execute_result"
    }
   ],
   "source": [
    "from sklearn.ensemble import RandomForestClassifier \n",
    "\n",
    "classifier_rf = RandomForestClassifier(n_estimators = 100)\n",
    "classifier_rf.fit(train_features, train_labels)"
   ]
  },
  {
   "cell_type": "code",
   "execution_count": 41,
   "metadata": {
    "collapsed": false
   },
   "outputs": [
    {
     "data": {
      "text/plain": [
       "0.80597014925373134"
      ]
     },
     "execution_count": 41,
     "metadata": {},
     "output_type": "execute_result"
    }
   ],
   "source": [
    "classifier_rf.score(valid_features, valid_labels)"
   ]
  },
  {
   "cell_type": "code",
   "execution_count": 42,
   "metadata": {
    "collapsed": false
   },
   "outputs": [
    {
     "name": "stdout",
     "output_type": "stream",
     "text": [
      "             precision    recall  f1-score   support\n",
      "\n",
      "     Morreu       0.83      0.88      0.85       172\n",
      " Sobreviveu       0.76      0.67      0.71        96\n",
      "\n",
      "avg / total       0.80      0.81      0.80       268\n",
      "\n"
     ]
    }
   ],
   "source": [
    "valid_labels_predicted_rf = classifier_rf.predict(valid_features)\n",
    "print(classification_report(valid_labels, valid_labels_predicted_rf, target_names=['Morreu', 'Sobreviveu']))"
   ]
  },
  {
   "cell_type": "markdown",
   "metadata": {},
   "source": [
    "### MLP (Multi-layer Perceptron)"
   ]
  },
  {
   "cell_type": "code",
   "execution_count": 60,
   "metadata": {
    "collapsed": false
   },
   "outputs": [
    {
     "name": "stderr",
     "output_type": "stream",
     "text": [
      "/usr/local/lib/python3.6/site-packages/sklearn/neural_network/multilayer_perceptron.py:563: ConvergenceWarning: Stochastic Optimizer: Maximum iterations reached and the optimization hasn't converged yet.\n",
      "  % (), ConvergenceWarning)\n"
     ]
    },
    {
     "data": {
      "text/plain": [
       "MLPClassifier(activation='relu', alpha=1e-05, batch_size='auto', beta_1=0.9,\n",
       "       beta_2=0.999, early_stopping=False, epsilon=1e-08,\n",
       "       hidden_layer_sizes=(3, 2), learning_rate='constant',\n",
       "       learning_rate_init=0.001, max_iter=200, momentum=0.9,\n",
       "       nesterovs_momentum=True, power_t=0.5, random_state=1, shuffle=True,\n",
       "       solver='sgd', tol=0.0001, validation_fraction=0.1, verbose=False,\n",
       "       warm_start=False)"
      ]
     },
     "execution_count": 60,
     "metadata": {},
     "output_type": "execute_result"
    }
   ],
   "source": [
    "from sklearn.neural_network import MLPClassifier\n",
    "\n",
    "classifier_mlp = MLPClassifier(solver='sgd', alpha=1e-5, hidden_layer_sizes=(3, 2), random_state=1)\n",
    "classifier_mlp.fit(train_features, train_labels)"
   ]
  },
  {
   "cell_type": "code",
   "execution_count": 61,
   "metadata": {
    "collapsed": false
   },
   "outputs": [
    {
     "data": {
      "text/plain": [
       "0.75"
      ]
     },
     "execution_count": 61,
     "metadata": {},
     "output_type": "execute_result"
    }
   ],
   "source": [
    "classifier_mlp.score(valid_features, valid_labels)"
   ]
  },
  {
   "cell_type": "code",
   "execution_count": 62,
   "metadata": {
    "collapsed": false
   },
   "outputs": [
    {
     "name": "stdout",
     "output_type": "stream",
     "text": [
      "             precision    recall  f1-score   support\n",
      "\n",
      "     Morreu       0.76      0.88      0.82       172\n",
      " Sobreviveu       0.71      0.51      0.59        96\n",
      "\n",
      "avg / total       0.74      0.75      0.74       268\n",
      "\n"
     ]
    }
   ],
   "source": [
    "valid_labels_predicted_mlp = classifier_mlp.predict(valid_features)\n",
    "print(classification_report(valid_labels, valid_labels_predicted_mlp, target_names=['Morreu', 'Sobreviveu']))"
   ]
  },
  {
   "cell_type": "code",
   "execution_count": 38,
   "metadata": {
    "collapsed": false,
    "deletable": true,
    "editable": true
   },
   "outputs": [
    {
     "data": {
      "image/png": "[encoded data removed]",
      "text/plain": [
       "<matplotlib.figure.Figure at 0x10bf2ff60>"
      ]
     },
     "metadata": {},
     "output_type": "display_data"
    }
   ],
   "source": [
    "from sklearn.metrics import roc_curve, auc\n",
    "\n",
    "classifiers_probs = [\n",
    "    ('lor', classifier_lor.predict_proba(valid_features)[:, 1]),\n",
    "    ('slr', classifier_slr.predict_proba(valid_features)[:, 1]),\n",
    "    ('svm', classifier_svm.predict_proba(valid_features)[:, 1]),\n",
    "    ('dt', classifier_dt.predict_proba(valid_features)[:, 1]),\n",
    "    ('rf', classifier_rf.predict_proba(valid_features)[:, 1])\n",
    "]\n",
    "\n",
    "for classifier_name, proba in classifiers_probs:\n",
    "    fpr, tpr,_ = roc_curve(valid_labels, proba)\n",
    "    roc_auc = auc(fpr, tpr)\n",
    "\n",
    "    plt.plot(fpr, tpr, label='%s = %.2f' % (classifier_name, roc_auc))\n",
    "\n",
    "plt.plot([0, 1], [0, 1], 'k--')\n",
    "plt.xlim([0.0, 1.0])\n",
    "plt.ylim([0.0, 1.05])\n",
    "plt.legend(loc='lower right')\n",
    "plt.show()"
   ]
  },
  {
   "cell_type": "code",
   "execution_count": null,
   "metadata": {
    "collapsed": true,
    "deletable": true,
    "editable": true
   },
   "outputs": [],
   "source": [
    "classifier_lor.fit(train_features, train_labels)"
   ]
  },
  {
   "cell_type": "markdown",
   "metadata": {},
   "source": [
    "## Explorando mais\n",
    "\n",
    "* [Persistência do modelo](http://scikit-learn.org/stable/modules/model_persistence.html)\n",
    "* Como fazer deploy do modelo?\n",
    "* Pipeline de treinamento\n",
    "* Entendendo as métricas de avaliação, quando usar ROC, quando usar Precision-Recall? MSE, RMSE\n",
    "* Buscando os melhores parâmetros no modelo (GridSearch)"
   ]
  },
  {
   "cell_type": "code",
   "execution_count": null,
   "metadata": {
    "collapsed": true
   },
   "outputs": [],
   "source": []
  }
 ],
 "metadata": {
  "kernelspec": {
   "display_name": "Python 3",
   "language": "python",
   "name": "python3"
  },
  "language_info": {
   "codemirror_mode": {
    "name": "ipython",
    "version": 3
   },
   "file_extension": ".py",
   "mimetype": "text/x-python",
   "name": "python",
   "nbconvert_exporter": "python",
   "pygments_lexer": "ipython3",
   "version": "3.6.2"
  }
 },
 "nbformat": 4,
 "nbformat_minor": 2
}
