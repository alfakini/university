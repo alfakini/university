{
 "cells": [
  {
   "cell_type": "markdown",
   "metadata": {},
   "source": [
    "# APRENDENDO A PROGRAMAR EM PYTHON"
   ]
  },
  {
   "cell_type": "markdown",
   "metadata": {},
   "source": [
    "Este arquivo que estamos usando para aprender a programar em Python é escrito usando a ferramenta [Jupyter Lab](https://jupyter.org). A vantagem de usar Jupyter Notebooks ao invés de arquivos de texto é que podemos misturar texto formatado, imagens, código Python e visualiar a saída do código executado. \n",
    "\n",
    "Além de executar o Jupyter Lab nas nossas máquinas, também podemos acessar os notebooks através de outras ferramentas como o [Binder](https://mybinder.org) e o [Google Colab](https://colab.research.google.com)."
   ]
  },
  {
   "cell_type": "markdown",
   "metadata": {},
   "source": [
    "## Por que Python?\n",
    "\n",
    "Python foi criada por Guido Van Rossum. Python é uma linguagem dinâmica de auto nível, multi-paradigmas, interpretada e intuitiva, utilizada em vários domínios de aplicação. Sua popularidade deve-se principalmente a sua sintaxe limpa e legível, o que torna a linguagem de fácil utilização e possibilitando o rápido desenvolvimento de aplicações e protótipos. Por ser escrita em C, possibilita a fácil integração com bibliotecas escritas nesta linguagem para obter melhor desempenho. Possui também versões para as plataformas JVM e .NET através dos projetos Jython e IronPython.\n",
    "\n",
    "A linguagem recebe grande atenção da comunidade científica. Através de projetos como NumPy, SciPy, Tensorflow e Matplotlib, fornece uma coleção de bibliotecas e ferramentas de código aberto para computação científica nos mais diversos domínios.\n",
    "\n",
    "Pontos fortes:\n",
    "\n",
    "* Open Source\n",
    "* Propósito geral\n",
    "* Simplicidade\n",
    "* Multiplataforma\n",
    "* Biblioteca de módulos\n",
    "* Usada em diversas áreas\n",
    "    * Sistemas web\n",
    "    * Data science\n",
    "    * Engenharia\n",
    "* Comunidade forte\n",
    "\n",
    "Você pode acessar o console ([REPL](http://en.wikipedia.org/wiki/Read%E2%80%93eval%E2%80%93print_loop)) Python pelo seu terminal:\n",
    "\n",
    "![log](assets/python-console.gif)\n",
    "\n",
    "## Jupyter Lab\n",
    "\n",
    "No Jupyter Lab podemos escrever código Python ou Markdown em células que avaliam o código escrito e retornam o resultado de acordo com o formato esperado. O legal deste retorno é que ele é corretamente renderizado no notebook:\n",
    "\n",
    "![jupyter-lab-1](assets/jupyter-lab-1.png)\n",
    "\n",
    "Na figura abaixo as células estão em verde:\n",
    "\n",
    "![jupyter-lab-2](assets/jupyter-lab-2.png)\n",
    "\n",
    "Podemos notar que temos dois tipos de células, as `In [x]` e as `Out [x]`. Nas `In [x]` são onde inserimos nossos códigos. As `Out [x]` são onde os resultados são apresentados.\n",
    "\n",
    "![jupyter-lab-3](assets/jupyter-lab-3.png)\n",
    "\n",
    "## Markdown\n",
    "\n",
    "Para aprender como usar o Markdown inspecione esta célula. Para se aprofundar no tema acesse esta [documentação](www.markdownguide.org).\n",
    "\n",
    "## Extensões\n",
    "\n",
    "Podemos instalar extensões para deixar os Jupyter Notebooks mais poderosos:\n",
    "\n",
    "* [ipywidgets.readthedocs.io](ipywidgets.readthedocs.io)\n",
    "* [https://github.com/jupyter-widgets/ipywidgets/tree/master/docs/source/examples](https://github.com/jupyter-widgets/ipywidgets/tree/master/docs/source/examples)\n",
    "\n",
    "Leia a [documentação](jupyter-notebook.readthedocs.io) do Jupyter Lab!"
   ]
  },
  {
   "cell_type": "markdown",
   "metadata": {},
   "source": [
    "## Referências\n",
    "\n",
    "A linguagem Python é muito bem documentada. Para conhecer mais acesse as documentações oficiais:\n",
    "\n",
    " * [Referência da linguagem Python](https://docs.python.org/3.7/reference)\n",
    " * [The Python Standard Library](https://docs.python.org/3.7/library)"
   ]
  },
  {
   "cell_type": "markdown",
   "metadata": {},
   "source": [
    "# MÓDULOS\n",
    "\n",
    "A maior parte da funcionalidade do Python é fornecida pelos seus módulos. A biblioteca padrão do Python é uma grande coleção de módulos que fornece implementações recursos comuns, como acesso ao sistema operacional, I/O de arquivos, estruturas de dados, servidores web, comunicação de rede e muito mais.\n",
    "\n",
    "Para usar um módulo em Python ele precisa ser importado. Deve ser feito usando a declaração de importação. Por exemplo, para importar o módulo [math](https://docs.python.org/3/library/math.html), que contém muitas funções matemáticas padrão, podemos fazer:"
   ]
  },
  {
   "cell_type": "code",
   "execution_count": null,
   "metadata": {},
   "outputs": [],
   "source": [
    "import math"
   ]
  },
  {
   "cell_type": "markdown",
   "metadata": {},
   "source": [
    "Isso inclui todo o módulo e o disponibiliza para uso no programa."
   ]
  },
  {
   "cell_type": "code",
   "execution_count": null,
   "metadata": {},
   "outputs": [],
   "source": [
    "import math\n",
    "\n",
    "x = math.cos(2 * math.pi)\n",
    "x"
   ]
  },
  {
   "cell_type": "markdown",
   "metadata": {},
   "source": [
    "Como alternativa, podemos importar todas funções e variáveis de um módulo para o [espaço de nomes](https://pt.wikipedia.org/wiki/Espa%C3%A7o_de_nomes) atual. Dessa forma, não precisemos usar o prefixo `math` sempre que usarmos algo do módulo:"
   ]
  },
  {
   "cell_type": "code",
   "execution_count": null,
   "metadata": {},
   "outputs": [],
   "source": [
    "from math import *\n",
    "\n",
    "x = cos(2 * pi)\n",
    "x"
   ]
  },
  {
   "cell_type": "markdown",
   "metadata": {},
   "source": [
    "Esse padrão pode ser muito conveniente, mas em programas grandes que incluem muitos módulos, geralmente é uma boa ideia manter as funções, constantes e variáveis de cada módulo em seus próprios espaços de nomes, usando o padrão `import math`. Isso elimina problemas confusos com colisões de nomes.\n",
    "\n",
    "Como uma terceira alternativa, podemos optar por importar apenas alguns símbolos selecionados de um módulo, listando explicitamente quais queremos importar, em vez de usar o curinga `*`:"
   ]
  },
  {
   "cell_type": "code",
   "execution_count": null,
   "metadata": {},
   "outputs": [],
   "source": [
    "from math import cos, pi\n",
    "\n",
    "x = cos(2 * pi)\n",
    "x"
   ]
  },
  {
   "cell_type": "markdown",
   "metadata": {},
   "source": [
    "## Documentação"
   ]
  },
  {
   "cell_type": "markdown",
   "metadata": {},
   "source": [
    "Quando um módulo é importado, podemos listar as funções, constantes e variáveis que ele fornece usando a função [dir](https://docs.python.org/2/library/functions.html#dir):"
   ]
  },
  {
   "cell_type": "code",
   "execution_count": 2,
   "metadata": {},
   "outputs": [
    {
     "name": "stdout",
     "output_type": "stream",
     "text": [
      "['__doc__', '__file__', '__loader__', '__name__', '__package__', '__spec__', 'acos', 'acosh', 'asin', 'asinh', 'atan', 'atan2', 'atanh', 'ceil', 'copysign', 'cos', 'cosh', 'degrees', 'e', 'erf', 'erfc', 'exp', 'expm1', 'fabs', 'factorial', 'floor', 'fmod', 'frexp', 'fsum', 'gamma', 'gcd', 'hypot', 'inf', 'isclose', 'isfinite', 'isinf', 'isnan', 'ldexp', 'lgamma', 'log', 'log10', 'log1p', 'log2', 'modf', 'nan', 'pi', 'pow', 'radians', 'remainder', 'sin', 'sinh', 'sqrt', 'tan', 'tanh', 'tau', 'trunc']\n"
     ]
    }
   ],
   "source": [
    "import math\n",
    "\n",
    "print(dir(math))"
   ]
  },
  {
   "cell_type": "markdown",
   "metadata": {},
   "source": [
    "Podemos então usar alguma função do nosso interesse, como por exemplo a função `log` que tem a seguinte estrutura:\n",
    "\n",
    "![log](assets/python-log-10.png)"
   ]
  },
  {
   "cell_type": "code",
   "execution_count": 3,
   "metadata": {},
   "outputs": [
    {
     "data": {
      "text/plain": [
       "2.302585092994046"
      ]
     },
     "execution_count": 3,
     "metadata": {},
     "output_type": "execute_result"
    }
   ],
   "source": [
    "math.log(10)"
   ]
  },
  {
   "cell_type": "markdown",
   "metadata": {},
   "source": [
    "Esta função aceita dois argumentos, sendo um deles (`base`) opcional.\n",
    "\n",
    "![log](assets/python-log-10-2.png)"
   ]
  },
  {
   "cell_type": "code",
   "execution_count": null,
   "metadata": {},
   "outputs": [],
   "source": [
    "math.log(10, 2)"
   ]
  },
  {
   "cell_type": "markdown",
   "metadata": {},
   "source": [
    "Usando a função [help](https://docs.python.org/2/library/functions.html#help) podemos obter uma descrição de cada função:"
   ]
  },
  {
   "cell_type": "code",
   "execution_count": null,
   "metadata": {},
   "outputs": [],
   "source": [
    "help(math.log)"
   ]
  },
  {
   "cell_type": "markdown",
   "metadata": {},
   "source": [
    "![log](assets/python-help-log.png)\n",
    "\n",
    "Acesse a lista padrão de módulos Python na documentação da [biblioteca padrão da linguagem Python](http://docs.python.org/3/library).\n",
    "\n",
    "## [EXERCÍCIOS] Módulos\n",
    "\n",
    "1) Após importar o módulo [math](http://docs.python.org/3/library/math.html) calcule:\n",
    "\n",
    "* `x = cos(pi/2) + sin(pi/2)`\n",
    "* `x = √3`\n",
    "* `x = log2 10`"
   ]
  },
  {
   "cell_type": "code",
   "execution_count": null,
   "metadata": {},
   "outputs": [],
   "source": []
  },
  {
   "cell_type": "markdown",
   "metadata": {},
   "source": [
    "2) Importe o módulo `calendar` e descubra:\n",
    "\n",
    "* 2018 é um ano bissexto (leap year)?\n",
    "* Dia 22 de Maio de 1992 foi que dia da semana?\n",
    "* O mês de Julho de 2000 começou em que dia da semana?"
   ]
  },
  {
   "cell_type": "code",
   "execution_count": null,
   "metadata": {},
   "outputs": [],
   "source": []
  },
  {
   "cell_type": "markdown",
   "metadata": {},
   "source": [
    "# VARIÁVEIS"
   ]
  },
  {
   "cell_type": "markdown",
   "metadata": {},
   "source": [
    "Os nomes de variáveis em Python podem conter caracteres alfanuméricos `a-z`, `A-Z`, `0-9` e alguns caracteres especiais, como `_`. Os nomes das variáveis devem começar com uma letra. Por convenção, os nomes das variáveis começam com uma letra minúscula e os nomes das classes começam com uma letra maiúscula. Além disso, há várias palavras-chave do Python que não podem ser usadas como nomes de variáveis. Essas palavras-chave são:\n",
    "\n",
    "```python\n",
    "and, as, assert, break, class, continue, def, del, elif, else, except, \n",
    "exec, finally, for, from, global, if, import, in, is, lambda, not, or,\n",
    "pass, print, raise, return, try, while, with, yield\n",
    "```"
   ]
  },
  {
   "cell_type": "markdown",
   "metadata": {},
   "source": [
    "O operador de atribuição no Python é =. O Python é uma [linguagem com tipagem dinâmica](https://pt.wikipedia.org/wiki/Sistema_de_tipos). Dessa forma não precisamos especificar o tipo de uma variável quando criamos uma.\n",
    "\n",
    "Criando uma variável:"
   ]
  },
  {
   "cell_type": "code",
   "execution_count": null,
   "metadata": {},
   "outputs": [],
   "source": [
    "x = 1.0\n",
    "print(x)"
   ]
  },
  {
   "cell_type": "markdown",
   "metadata": {},
   "source": [
    "Se tentarmos usar uma variável que ainda não tenha sido definida, obteremos uma [exceção](https://pt.wikipedia.org/wiki/Tratamento_de_exce%C3%A7%C3%A3o) do tipo `NameError`:"
   ]
  },
  {
   "cell_type": "code",
   "execution_count": null,
   "metadata": {},
   "outputs": [],
   "source": [
    "print(y)"
   ]
  },
  {
   "cell_type": "markdown",
   "metadata": {},
   "source": [
    "# TIPOS"
   ]
  },
  {
   "cell_type": "markdown",
   "metadata": {},
   "source": [
    "Embora não seja explicitamente especificado, uma variável tem um tipo associado a ela. O tipo é derivado do valor que foi designado a ele. Podemos verificar o tipo de uma variável com a função [type](https://docs.python.org/2/library/stdtypes.html):"
   ]
  },
  {
   "cell_type": "code",
   "execution_count": null,
   "metadata": {},
   "outputs": [],
   "source": [
    "x = 1\n",
    "type(x)"
   ]
  },
  {
   "cell_type": "markdown",
   "metadata": {},
   "source": [
    "Python possui os tipos fundamentais inteiros, ponto flutuante, booleanos e complexos:"
   ]
  },
  {
   "cell_type": "code",
   "execution_count": null,
   "metadata": {},
   "outputs": [],
   "source": [
    "x = 1\n",
    "print(x, type(x))"
   ]
  },
  {
   "cell_type": "code",
   "execution_count": null,
   "metadata": {},
   "outputs": [],
   "source": [
    "x = 1.0\n",
    "print(x, type(x))"
   ]
  },
  {
   "cell_type": "code",
   "execution_count": null,
   "metadata": {},
   "outputs": [],
   "source": [
    "x = True\n",
    "print(x, type(x))"
   ]
  },
  {
   "cell_type": "code",
   "execution_count": null,
   "metadata": {},
   "outputs": [],
   "source": [
    "# números complexos: observe o uso de `j` para especificar a parte imaginária\n",
    "x = 1.0 - 1.0j\n",
    "print(x, type(x))"
   ]
  },
  {
   "cell_type": "code",
   "execution_count": null,
   "metadata": {},
   "outputs": [],
   "source": [
    "print(x.real, x.imag)"
   ]
  },
  {
   "cell_type": "markdown",
   "metadata": {},
   "source": [
    "### Testando tipos\n",
    "\n",
    "Para testar se uma variável é de um determinado tipo podemos usar a `função` type:"
   ]
  },
  {
   "cell_type": "code",
   "execution_count": null,
   "metadata": {},
   "outputs": [],
   "source": [
    "x = 1.0\n",
    "type(x) is float"
   ]
  },
  {
   "cell_type": "code",
   "execution_count": null,
   "metadata": {},
   "outputs": [],
   "source": [
    "type(x) is int"
   ]
  },
  {
   "cell_type": "markdown",
   "metadata": {},
   "source": [
    "Nós também podemos usar a função `isinstance` para testar tipos de variáveis:"
   ]
  },
  {
   "cell_type": "code",
   "execution_count": null,
   "metadata": {},
   "outputs": [],
   "source": [
    "isinstance(x, float)"
   ]
  },
  {
   "cell_type": "markdown",
   "metadata": {},
   "source": [
    "## [EXERCÍCIOS] Variáveis e tipos\n",
    "\n",
    "1) Defina as variáveis `x = 1`, `y = 2.3` e `z = x+y`. Qual o tipo de `x`, `y` e `z`?"
   ]
  },
  {
   "cell_type": "code",
   "execution_count": null,
   "metadata": {},
   "outputs": [],
   "source": []
  },
  {
   "cell_type": "markdown",
   "metadata": {},
   "source": [
    "2) Defina as variáveis `x = 1`, `y = 4` e `z = x/y`. Qual o valor de `z`?"
   ]
  },
  {
   "cell_type": "code",
   "execution_count": null,
   "metadata": {},
   "outputs": [],
   "source": []
  },
  {
   "cell_type": "markdown",
   "metadata": {},
   "source": [
    "3) Defina as variáveis `x = 1.0`, `y = 4` e `z = x/y`. Qual o valor de `z`?"
   ]
  },
  {
   "cell_type": "code",
   "execution_count": null,
   "metadata": {},
   "outputs": [],
   "source": []
  },
  {
   "cell_type": "markdown",
   "metadata": {},
   "source": [
    "4) Calcule seu [Índice de Massa Corporal (IMC)](https://pt.wikipedia.org/wiki/%C3%8Dndice_de_massa_corporal).\n",
    "\n",
    "$\n",
    "\\begin{equation} \n",
    "IMC = \\frac{peso}{altura^2}\n",
    "\\end{equation}\n",
    "$"
   ]
  },
  {
   "cell_type": "code",
   "execution_count": null,
   "metadata": {},
   "outputs": [],
   "source": []
  },
  {
   "cell_type": "markdown",
   "metadata": {},
   "source": [
    "# OPERADORES\n",
    "\n",
    "A maioria dos operadores no Python funcionam como em outras linguagens:\n",
    "\n",
    "* `+` soma\n",
    "* `-` subtração\n",
    "* `*` multiplicação\n",
    "* `/` divisão\n",
    "* `//` divisão inteira\n",
    "* `**` potência"
   ]
  },
  {
   "cell_type": "code",
   "execution_count": null,
   "metadata": {},
   "outputs": [],
   "source": [
    "1 + 2, 1 - 2, 1 * 2, 1 / 2"
   ]
  },
  {
   "cell_type": "code",
   "execution_count": null,
   "metadata": {},
   "outputs": [],
   "source": [
    "1.0 + 2.0, 1.0 - 2.0, 1.0 * 2.0, 1.0 / 2.0"
   ]
  },
  {
   "cell_type": "markdown",
   "metadata": {},
   "source": [
    "O operador `/` sempre executa uma divisão de ponto flutuante no Python 3.x"
   ]
  },
  {
   "cell_type": "code",
   "execution_count": null,
   "metadata": {},
   "outputs": [],
   "source": [
    "3.0 // 2.0 # Divisão inteira de números flutuantes"
   ]
  },
  {
   "cell_type": "code",
   "execution_count": null,
   "metadata": {},
   "outputs": [],
   "source": [
    "2 ** 2 # O operador de potência em Python não é ^, mas sim **"
   ]
  },
  {
   "cell_type": "markdown",
   "metadata": {},
   "source": [
    "Os operadores booleanos são:\n",
    "\n",
    "* `and` similar ao `&&` em outras linguagens\n",
    "* `not` similar ao `!` em outras linguagens\n",
    "* `or` similar ao `||` em outras linguagens"
   ]
  },
  {
   "cell_type": "code",
   "execution_count": null,
   "metadata": {},
   "outputs": [],
   "source": [
    "True and False"
   ]
  },
  {
   "cell_type": "code",
   "execution_count": null,
   "metadata": {},
   "outputs": [],
   "source": [
    "True and True"
   ]
  },
  {
   "cell_type": "code",
   "execution_count": null,
   "metadata": {},
   "outputs": [],
   "source": [
    "True or True"
   ]
  },
  {
   "cell_type": "code",
   "execution_count": null,
   "metadata": {},
   "outputs": [],
   "source": [
    "True or False"
   ]
  },
  {
   "cell_type": "code",
   "execution_count": null,
   "metadata": {},
   "outputs": [],
   "source": [
    "not False"
   ]
  },
  {
   "cell_type": "markdown",
   "metadata": {},
   "source": [
    "# OPERADORES DE COMPARAÇÃO\n",
    "\n",
    "A maioria dos operadores de comparação no Python funcionam como em outras linguagens:\n",
    "\n",
    "* `>` maior que\n",
    "* `<` menor que\n",
    "* `>=` maior ou igual que\n",
    "* `<=` menor ou igual que\n",
    "* `==` igual\n",
    "* `!=` diferente\n",
    "* `is` é, comparação de objetos"
   ]
  },
  {
   "cell_type": "code",
   "execution_count": null,
   "metadata": {},
   "outputs": [],
   "source": [
    "2 > 1, 2 < 1"
   ]
  },
  {
   "cell_type": "code",
   "execution_count": null,
   "metadata": {},
   "outputs": [],
   "source": [
    "2 > 2, 2 < 2"
   ]
  },
  {
   "cell_type": "code",
   "execution_count": null,
   "metadata": {},
   "outputs": [],
   "source": [
    "2 >= 2, 2 <= 2"
   ]
  },
  {
   "cell_type": "code",
   "execution_count": null,
   "metadata": {},
   "outputs": [],
   "source": [
    "1 == 1, 1 == 2"
   ]
  },
  {
   "cell_type": "markdown",
   "metadata": {},
   "source": [
    "Ao tentarmos comparar valores de tipos diferentes, caso não seja possível fazer o cast dos valores, iremos obter `TypeError`:"
   ]
  },
  {
   "cell_type": "code",
   "execution_count": null,
   "metadata": {},
   "outputs": [],
   "source": [
    "1 < \"string\""
   ]
  },
  {
   "cell_type": "markdown",
   "metadata": {},
   "source": [
    "Dado que os operadores de comparação são avaliados como `True` ou `False`, podemos usar eles em conjunto com os operadores booleanos:"
   ]
  },
  {
   "cell_type": "code",
   "execution_count": null,
   "metadata": {},
   "outputs": [],
   "source": [
    "x = 3\n",
    "x > 2 and x < 4"
   ]
  },
  {
   "cell_type": "code",
   "execution_count": null,
   "metadata": {},
   "outputs": [],
   "source": [
    "x = 3\n",
    "x == 2 or x == 4"
   ]
  },
  {
   "cell_type": "markdown",
   "metadata": {},
   "source": [
    "## [EXERCÍCIOS] Operadores e Comparações\n",
    "\n",
    "1) Defina a variável `x = 7`:\n",
    "* `x * 2` é maior que `10`?\n",
    "* `x / 3` é menor que `5`?\n",
    "* `x` ao quadrado é igual a `49`?"
   ]
  },
  {
   "cell_type": "code",
   "execution_count": null,
   "metadata": {},
   "outputs": [],
   "source": []
  },
  {
   "cell_type": "markdown",
   "metadata": {},
   "source": [
    "2) Defina a variável `y = 3`:\n",
    "* `y` é menor que `10` e `x` é maior que `10`?\n",
    "* `y` é maior ou igual a `3` ou `x` é igual a `8`?\n",
    "* `y` não é igual a `4`?"
   ]
  },
  {
   "cell_type": "code",
   "execution_count": null,
   "metadata": {},
   "outputs": [],
   "source": []
  },
  {
   "cell_type": "markdown",
   "metadata": {},
   "source": [
    "3) Verifique se seu [Índice de Massa Corporal (IMC)](https://pt.wikipedia.org/wiki/%C3%8Dndice_de_massa_corporal) está dentro do padrão recomendado pela OMS:\n",
    "\n",
    "<table>\n",
    "<thead>\n",
    "<tr class=\"header\">\n",
    "<th><p>IMC</p></th>\n",
    "<th><p>Classificação do IMC</p></th>\n",
    "</tr>\n",
    "</thead>\n",
    "<tbody>\n",
    "<tr class=\"odd\">\n",
    "<td><p>&lt; 16</p></td>\n",
    "<td><p>Magreza grave</p></td>\n",
    "</tr>\n",
    "<tr class=\"even\">\n",
    "<td><p>16 a &lt; 17</p></td>\n",
    "<td><p>Magreza moderada</p></td>\n",
    "</tr>\n",
    "<tr class=\"odd\">\n",
    "<td><p>17 a &lt; 18,5</p></td>\n",
    "<td><p>Magreza leve</p></td>\n",
    "</tr>\n",
    "<tr class=\"even\">\n",
    "<td><p>18,5 a &lt; 25</p></td>\n",
    "<td><p>Saudável</p></td>\n",
    "</tr>\n",
    "<tr class=\"odd\">\n",
    "<td><p>25 a &lt; 30</p></td>\n",
    "<td><p>Sobrepeso</p></td>\n",
    "</tr>\n",
    "<tr class=\"even\">\n",
    "<td><p>30 a &lt; 35</p></td>\n",
    "<td><p>Obesidade Grau I</p></td>\n",
    "</tr>\n",
    "<tr class=\"odd\">\n",
    "<td><p>35 a &lt; 40</p></td>\n",
    "<td><p>Obesidade Grau II (severa)</p></td>\n",
    "</tr>\n",
    "<tr class=\"even\">\n",
    "<td><p>&gt; 40</p></td>\n",
    "<td><p>Obesidade Grau III (mórbida)</p></td>\n",
    "</tr>\n",
    "</tbody>\n",
    "</table>"
   ]
  },
  {
   "cell_type": "code",
   "execution_count": null,
   "metadata": {},
   "outputs": [],
   "source": []
  },
  {
   "cell_type": "markdown",
   "metadata": {},
   "source": [
    "# TIPOS COMPLEXOS\n",
    "\n",
    "Python possui alguns tipos complexos como strings, listas e dicionários."
   ]
  },
  {
   "cell_type": "markdown",
   "metadata": {},
   "source": [
    "# STRINGS"
   ]
  },
  {
   "cell_type": "markdown",
   "metadata": {},
   "source": [
    "[Strings](https://docs.python.org/3/library/string.html) são o tipo de variável usado para armazenar mensagens de texto. A linguagem Python possui um conjunto muito rico de funções para processamento de texto. Consulte a [documentação](https://docs.python.org/3/library/string.html) da linguagem para mais detalhes."
   ]
  },
  {
   "cell_type": "code",
   "execution_count": null,
   "metadata": {},
   "outputs": [],
   "source": [
    "s = \"Olá, mundo!\"\n",
    "type(s)"
   ]
  },
  {
   "cell_type": "markdown",
   "metadata": {},
   "source": [
    "Podemos obter o comprimento da string (o número de caracteres) usando:"
   ]
  },
  {
   "cell_type": "code",
   "execution_count": null,
   "metadata": {},
   "outputs": [],
   "source": [
    "len(s)"
   ]
  },
  {
   "cell_type": "markdown",
   "metadata": {},
   "source": [
    "Para substituir uma substring em uma string por outro valor use `replace`:"
   ]
  },
  {
   "cell_type": "code",
   "execution_count": null,
   "metadata": {},
   "outputs": [],
   "source": [
    "s2 = s.replace(\"mundo\", \"sol\")\n",
    "print(s2)"
   ]
  },
  {
   "cell_type": "markdown",
   "metadata": {},
   "source": [
    "Podemos acessar um caractere no seu índice em uma string usando `[]`.\n",
    "\n",
    "![python-string-index](assets/python-string-index.png)"
   ]
  },
  {
   "cell_type": "code",
   "execution_count": null,
   "metadata": {},
   "outputs": [],
   "source": [
    "s[0], s[4], s[10]"
   ]
  },
  {
   "cell_type": "markdown",
   "metadata": {},
   "source": [
    "Em Python podemos usar índices reversos para buscar caracteres em strings de trás para frente:\n",
    "\n",
    "![python-string-index-2](assets/python-string-index-2.png)"
   ]
  },
  {
   "cell_type": "code",
   "execution_count": null,
   "metadata": {},
   "outputs": [],
   "source": [
    "s[-1]"
   ]
  },
  {
   "cell_type": "markdown",
   "metadata": {},
   "source": [
    "Podemos extrair uma parte de uma string usando a sintaxe `[começo:fim]`, que extrai caracteres entre o início do índice, `começo` e o `fim`. O começo é inclusivo e o fim exclusivo."
   ]
  },
  {
   "cell_type": "markdown",
   "metadata": {},
   "source": [
    "![python-string-slice-1](assets/python-string-slice-1.png)"
   ]
  },
  {
   "cell_type": "code",
   "execution_count": null,
   "metadata": {},
   "outputs": [],
   "source": [
    "s[0:5]"
   ]
  },
  {
   "cell_type": "code",
   "execution_count": null,
   "metadata": {},
   "outputs": [],
   "source": [
    "s[2:3]"
   ]
  },
  {
   "cell_type": "markdown",
   "metadata": {},
   "source": [
    "Se omitirmos `começo` o padrão é o começo da string, e se omitirmos `fim` o padrão será o fim da string. Se omitirmos os dois, será do começo ao fim.\n",
    "\n",
    "![python-string-slice-2](assets/python-string-slice-2.png)"
   ]
  },
  {
   "cell_type": "code",
   "execution_count": null,
   "metadata": {},
   "outputs": [],
   "source": [
    "s[:5]"
   ]
  },
  {
   "cell_type": "markdown",
   "metadata": {},
   "source": [
    "![python-string-slice-3](assets/python-string-slice-3.png)"
   ]
  },
  {
   "cell_type": "code",
   "execution_count": null,
   "metadata": {},
   "outputs": [],
   "source": [
    "s[5:]"
   ]
  },
  {
   "cell_type": "code",
   "execution_count": null,
   "metadata": {},
   "outputs": [],
   "source": [
    "s[:]"
   ]
  },
  {
   "cell_type": "markdown",
   "metadata": {},
   "source": [
    "Também podemos definir o tamanho do passo usando a sintaxe `[começo:fim:passo]`. O valor padrão para `passo` é `1`.\n",
    "\n",
    "![python-string-slice-3](assets/python-string-slice-4.png)"
   ]
  },
  {
   "cell_type": "code",
   "execution_count": null,
   "metadata": {},
   "outputs": [],
   "source": [
    "s[::1]"
   ]
  },
  {
   "cell_type": "markdown",
   "metadata": {},
   "source": [
    "Com o valor do `passo` sendo `2`:\n",
    "\n",
    "![python-string-slice-5](assets/python-string-slice-5.png)"
   ]
  },
  {
   "cell_type": "code",
   "execution_count": null,
   "metadata": {},
   "outputs": [],
   "source": [
    "s[::2]"
   ]
  },
  {
   "cell_type": "markdown",
   "metadata": {},
   "source": [
    "Essa técnica é chamada de [slicing](https://docs.python.org/release/3.7.0/library/functions.html?highlight=slice#slice). Consulte a [documentação](https://docs.python.org/release/3.7.0/library/functions.html?highlight=slice#slice) do Python para mais detalhes. "
   ]
  },
  {
   "cell_type": "markdown",
   "metadata": {},
   "source": [
    "## Formatação de Strings\n",
    "\n",
    "A linguagem Python fornece métodos e funções muito poderosas para formatação de Strings. A função `print`, usada para imprimir um valor no terminal, é capaz de receber diversos parâmetros:"
   ]
  },
  {
   "cell_type": "code",
   "execution_count": null,
   "metadata": {},
   "outputs": [],
   "source": [
    "print(\"string 1\", \"string 2\", \"string 3\")"
   ]
  },
  {
   "cell_type": "markdown",
   "metadata": {},
   "source": [
    "A função `print` converte todos os seus argumentos para o tipo `String`."
   ]
  },
  {
   "cell_type": "code",
   "execution_count": null,
   "metadata": {},
   "outputs": [],
   "source": [
    "print(\"string 1\", 1.0, False, -1j)"
   ]
  },
  {
   "cell_type": "markdown",
   "metadata": {},
   "source": [
    "Python suporta a formatação de strings no estilo da linguagem C:"
   ]
  },
  {
   "cell_type": "code",
   "execution_count": null,
   "metadata": {},
   "outputs": [],
   "source": [
    "s = \"valor 1 = %.2f. valor 2 = %d\" % (3.1415, 1.5)\n",
    "\n",
    "print(s)"
   ]
  },
  {
   "cell_type": "markdown",
   "metadata": {},
   "source": [
    "Podemos também formatar strings usando o método `format`:"
   ]
  },
  {
   "cell_type": "code",
   "execution_count": null,
   "metadata": {},
   "outputs": [],
   "source": [
    "s = \"valor 1 = {0}, valor 2 = {1}\".format(3.1415, 1.5)\n",
    "\n",
    "print(s)"
   ]
  },
  {
   "cell_type": "markdown",
   "metadata": {},
   "source": [
    "Neste formato podemos criar atributos nomeados:"
   ]
  },
  {
   "cell_type": "code",
   "execution_count": null,
   "metadata": {},
   "outputs": [],
   "source": [
    "s = \"primeiro = {primeiro}, segundo = {segundo}\".format(primeiro=3.1415, segundo=1.5)\n",
    "\n",
    "print(s)"
   ]
  },
  {
   "cell_type": "markdown",
   "metadata": {},
   "source": [
    "Na versão 3.6 da linguagem foi introduzida uma nova forma de realizar a formatação de strings que suporta a interpolação de variáveis. São as `f-strings`:"
   ]
  },
  {
   "cell_type": "code",
   "execution_count": null,
   "metadata": {},
   "outputs": [],
   "source": [
    "primeiro = 3.1415\n",
    "segundo = 1.5\n",
    "s = f\"primeiro = {primeiro}, segundo = {segundo}\"\n",
    "\n",
    "print(s)"
   ]
  },
  {
   "cell_type": "markdown",
   "metadata": {},
   "source": [
    "As strings em Python suportam diversos métodos para formatações úteis:"
   ]
  },
  {
   "cell_type": "code",
   "execution_count": null,
   "metadata": {},
   "outputs": [],
   "source": [
    "s = \"Teste\"\n",
    "(s.upper(), s.lower())"
   ]
  },
  {
   "cell_type": "code",
   "execution_count": null,
   "metadata": {},
   "outputs": [],
   "source": [
    "s = \"um dois três\"\n",
    "s.split()"
   ]
  },
  {
   "cell_type": "markdown",
   "metadata": {},
   "source": [
    "## [EXERCÍCIOS] Strings\n",
    "\n",
    "1) Extraia a substring \"Python\" da seguinte String:"
   ]
  },
  {
   "cell_type": "code",
   "execution_count": null,
   "metadata": {},
   "outputs": [],
   "source": [
    "s = \"Comunidade Python Joinville!\""
   ]
  },
  {
   "cell_type": "code",
   "execution_count": null,
   "metadata": {},
   "outputs": [],
   "source": []
  },
  {
   "cell_type": "markdown",
   "metadata": {},
   "source": [
    "2) Qual é o resultado de aplicar o seguinte *slicing* `[::-1]`:"
   ]
  },
  {
   "cell_type": "code",
   "execution_count": null,
   "metadata": {},
   "outputs": [],
   "source": []
  },
  {
   "cell_type": "markdown",
   "metadata": {},
   "source": [
    "# LISTAS"
   ]
  },
  {
   "cell_type": "markdown",
   "metadata": {},
   "source": [
    "Até agora vimos tipos de dados onde as variáveis associadas representam apenas um valor. Com as listas podemos armazenar uma coleção de valores em uma única variável. As listas também podem conter qualquer tipo de dados e também dados de vários tipos simultaneamente.\n",
    "\n",
    "A forma como lidamos com as listas é muito semelhante em como ligamos com as strings, exceto que cada elemento pode ser de qualquer tipo. Nas strings os elementos podem ser apenas caracteres.\n",
    "\n",
    "A sintaxe para criar listas em Python é `[a, b, c]`:"
   ]
  },
  {
   "cell_type": "code",
   "execution_count": null,
   "metadata": {},
   "outputs": [],
   "source": [
    "pib = [\"china\", 23120, \"usa\", 19360, \"india\", 9447, \"japan\", 5405, \"germany\", 4150, \"brazil\", 3219]\n",
    "print(type(pib))\n",
    "print(pib)"
   ]
  },
  {
   "cell_type": "markdown",
   "metadata": {},
   "source": [
    "A indexação começa em 0.\n",
    "\n",
    "![python-list-index-2](assets/python-list-index-2.png)"
   ]
  },
  {
   "cell_type": "code",
   "execution_count": null,
   "metadata": {},
   "outputs": [],
   "source": [
    "pib[0]"
   ]
  },
  {
   "cell_type": "markdown",
   "metadata": {},
   "source": [
    "Podemos usar as mesmas técnicas de *slicing* que usamos em strings para manipular listas:"
   ]
  },
  {
   "cell_type": "code",
   "execution_count": null,
   "metadata": {},
   "outputs": [],
   "source": [
    "print(pib)\n",
    "print(pib[2:4])\n",
    "print(pib[::2])"
   ]
  },
  {
   "cell_type": "markdown",
   "metadata": {},
   "source": [
    "Incluíndo os índices reversos.\n",
    "\n",
    "![python-list-index-3](assets/python-list-index-3.png)"
   ]
  },
  {
   "cell_type": "markdown",
   "metadata": {},
   "source": [
    "As listas do Python podem ser não homogêneas e arbitrariamente aninhadas:"
   ]
  },
  {
   "cell_type": "code",
   "execution_count": null,
   "metadata": {},
   "outputs": [],
   "source": [
    "pib = [\n",
    "    [\"china\", 23120],\n",
    "    [\"usa\", 19360],\n",
    "    [\"india\", 9447],\n",
    "    [\"japan\", 5405],\n",
    "    [\"germany\", 4150],\n",
    "    [\"russia\", 4000],\n",
    "    [\"indonesia\", 3243],\n",
    "    [\"brazil\", 3219]\n",
    "]\n",
    "pib"
   ]
  },
  {
   "cell_type": "markdown",
   "metadata": {},
   "source": [
    "As listas desempenham um papel muito importante no Python. Elas são usadas por exemplo em loops e outras estruturas de controle de fluxo que sertão discutidas a seguir. Existem várias funções convenientes para gerar listas de vários tipos, como por exemplo a função `range`. Esta função irá retornar o tipo `range`, que deve ser convertido para o tipo `list`:"
   ]
  },
  {
   "cell_type": "code",
   "execution_count": null,
   "metadata": {},
   "outputs": [],
   "source": [
    "comeco = 10\n",
    "fim = 30\n",
    "passo = 2\n",
    "\n",
    "range(comeco, fim, passo)"
   ]
  },
  {
   "cell_type": "code",
   "execution_count": null,
   "metadata": {},
   "outputs": [],
   "source": [
    "list(range(comeco, fim, passo))"
   ]
  },
  {
   "cell_type": "code",
   "execution_count": null,
   "metadata": {},
   "outputs": [],
   "source": [
    "list(range(-10, 10))"
   ]
  },
  {
   "cell_type": "markdown",
   "metadata": {},
   "source": [
    "Podemos facilmente converter strings em listas:"
   ]
  },
  {
   "cell_type": "code",
   "execution_count": null,
   "metadata": {},
   "outputs": [],
   "source": [
    "s = \"Python Joinville\"\n",
    "lista = list(s)\n",
    "print(lista)"
   ]
  },
  {
   "cell_type": "markdown",
   "metadata": {},
   "source": [
    "## Operações em listas\n",
    "\n",
    "* `lista.sort()` ordena a lista\n",
    "* `lista.append(item)` insere um item ao fim da lista\n",
    "* `lista.insert(indice,item)` insere um item em qualquer posição da lista\n",
    "* `lista.remove(item)` remove o item da lista\n",
    "* `del(lista[indice])` remove o item presente no índice da lista\n",
    "* `lista.reverse()` inverse os valores da lista\n",
    "\n",
    "Dado uma lista:\n",
    "\n",
    "![python-list-1](assets/python-list-1.png)"
   ]
  },
  {
   "cell_type": "markdown",
   "metadata": {},
   "source": [
    "Variáveis atribuídas com uma lista guardam apenas uma referências para esta lista. Se tentarmos copiar esta lista para outra variável vamos apenas atribuir a referência da lista:\n",
    "\n",
    "![python-list-2](assets/python-list-2.png)"
   ]
  },
  {
   "cell_type": "code",
   "execution_count": null,
   "metadata": {},
   "outputs": [],
   "source": [
    "lista = [\"a\", \"b\", \"c\", \"d\"]\n",
    "lista2 = lista\n",
    "lista2.append(\"X\")\n",
    "print(lista)\n",
    "print(lista2)"
   ]
  },
  {
   "cell_type": "markdown",
   "metadata": {},
   "source": [
    "Pra copiar uma lista devemos usar a seguinte notação:\n",
    "\n",
    "![python-list-3](assets/python-list-3.png)"
   ]
  },
  {
   "cell_type": "code",
   "execution_count": null,
   "metadata": {},
   "outputs": [],
   "source": [
    "lista = [\"a\", \"b\", \"c\", \"d\"]\n",
    "lista2 = lista[:]\n",
    "lista2.append(\"X\")\n",
    "print(lista)\n",
    "print(lista2) "
   ]
  },
  {
   "cell_type": "raw",
   "metadata": {},
   "source": [
    "Podemos ordenar uma lista com o método `sort`:"
   ]
  },
  {
   "cell_type": "code",
   "execution_count": null,
   "metadata": {},
   "outputs": [],
   "source": [
    "lista = [\"a\", \"b\", \"c\", \"d\"]\n",
    "lista.sort()\n",
    "print(lista)"
   ]
  },
  {
   "cell_type": "markdown",
   "metadata": {},
   "source": [
    "Ou então inverter seus valores:"
   ]
  },
  {
   "cell_type": "code",
   "execution_count": null,
   "metadata": {},
   "outputs": [],
   "source": [
    "lista = [\"a\", \"b\", \"c\", \"d\"]\n",
    "lista.reverse()\n",
    "print(lista)"
   ]
  },
  {
   "cell_type": "markdown",
   "metadata": {},
   "source": [
    "É importante notar que `sort` e `reverse` são métodos do tipo `list`, por este motivo ao usarmos eles estamos mudando o objeto em que são aplicados. Podemos fazer o mesmo usando funções que não modificam o objeto lista internamente, usando por exemplo a função `sorted`:"
   ]
  },
  {
   "cell_type": "code",
   "execution_count": null,
   "metadata": {},
   "outputs": [],
   "source": [
    "lista = [\"a\", \"b\", \"c\", \"d\"]\n",
    "print(sorted(lista))"
   ]
  },
  {
   "cell_type": "code",
   "execution_count": null,
   "metadata": {},
   "outputs": [],
   "source": [
    "print(lista)"
   ]
  },
  {
   "cell_type": "markdown",
   "metadata": {},
   "source": [
    "Pra copiar uma lista devemos usar a seguinte notação:\n",
    "\n",
    "![python-list-append-1](assets/python-list-append-1.png)"
   ]
  },
  {
   "cell_type": "code",
   "execution_count": null,
   "metadata": {},
   "outputs": [],
   "source": [
    "lista = [\"a\", \"b\", \"c\", \"d\"]\n",
    "lista.append(\"e\")\n",
    "lista.append(\"f\")\n",
    "lista.append(\"g\")\n",
    "\n",
    "print(lista)"
   ]
  },
  {
   "cell_type": "markdown",
   "metadata": {},
   "source": [
    "Podemos modificar listas atribuindo novos valores a elementos na lista. As listas são *mutáveis*"
   ]
  },
  {
   "cell_type": "code",
   "execution_count": null,
   "metadata": {},
   "outputs": [],
   "source": [
    "lista = [\"a\", \"b\", \"c\", \"d\"]\n",
    "lista[1] = \"x\"\n",
    "lista[2] = \"y\"\n",
    "\n",
    "print(lista)"
   ]
  },
  {
   "cell_type": "markdown",
   "metadata": {},
   "source": [
    "Podemos alterar um elemento da lista através do seu índice:"
   ]
  },
  {
   "cell_type": "code",
   "execution_count": null,
   "metadata": {},
   "outputs": [],
   "source": [
    "lista[-1] = \"X\"\n",
    "lista"
   ]
  },
  {
   "cell_type": "code",
   "execution_count": null,
   "metadata": {},
   "outputs": [],
   "source": [
    "lista[1:3] = [\"h\", \"g\"]\n",
    "\n",
    "print(lista)"
   ]
  },
  {
   "cell_type": "markdown",
   "metadata": {},
   "source": [
    "Podemos inserir um elemento em um índice específico usando `insert`:\n",
    "\n",
    "![python-list-insert-1](assets/python-list-insert-1.png)\n",
    "![python-list-insert-2](assets/python-list-insert-2.png)"
   ]
  },
  {
   "cell_type": "code",
   "execution_count": null,
   "metadata": {},
   "outputs": [],
   "source": [
    "lista = [\"a\", \"b\", \"c\", \"d\"]\n",
    "lista.insert(0, \"e\")\n",
    "lista.insert(2, \"e\")\n",
    "\n",
    "print(lista)"
   ]
  },
  {
   "cell_type": "markdown",
   "metadata": {},
   "source": [
    "Podemos remover primeiro elemento com um valor específico usando `remove`:"
   ]
  },
  {
   "cell_type": "code",
   "execution_count": null,
   "metadata": {},
   "outputs": [],
   "source": [
    "lista.remove(\"e\")\n",
    "\n",
    "print(lista)"
   ]
  },
  {
   "cell_type": "markdown",
   "metadata": {},
   "source": [
    "Ou então remover um elemento em um local específico pelo índice usando `del`:"
   ]
  },
  {
   "cell_type": "code",
   "execution_count": null,
   "metadata": {},
   "outputs": [],
   "source": [
    "lista = ['i', 'n', 's', 'e', 'r', 't']\n",
    "del(lista[3])\n",
    "del(lista[4])\n",
    "\n",
    "print(lista)"
   ]
  },
  {
   "cell_type": "markdown",
   "metadata": {},
   "source": [
    "Veja `help(list)` para mais detalhes, ou leia a documentação online:"
   ]
  },
  {
   "cell_type": "code",
   "execution_count": null,
   "metadata": {},
   "outputs": [],
   "source": [
    "# help(list)"
   ]
  },
  {
   "cell_type": "markdown",
   "metadata": {},
   "source": [
    "## [EXERCÍCIOS] Listas\n",
    "\n",
    "1) Adicione, de forma programática, o pib da Turquia na lista `pib`. Pegue este valor [aqui](https://en.wikipedia.org/wiki/List_of_countries_by_GDP_(PPP))."
   ]
  },
  {
   "cell_type": "code",
   "execution_count": null,
   "metadata": {},
   "outputs": [],
   "source": [
    "pib = [\n",
    "    [\"china\", 23120],\n",
    "    [\"usa\", 19360],\n",
    "    [\"india\", 9447],\n",
    "    [\"japan\", 5405],\n",
    "    [\"germany\", 4150],\n",
    "    [\"russia\", 4000],\n",
    "    [\"indonesia\", 3243],\n",
    "    [\"brazil\", 3219]\n",
    "]"
   ]
  },
  {
   "cell_type": "code",
   "execution_count": null,
   "metadata": {},
   "outputs": [],
   "source": []
  },
  {
   "cell_type": "markdown",
   "metadata": {},
   "source": [
    "# TUPLAS"
   ]
  },
  {
   "cell_type": "markdown",
   "metadata": {},
   "source": [
    "As tuplas são como listas, exceto que elas não podem ser modificadas depois de criadas, ou seja, são **imutáveis**.\n",
    "\n",
    "Em Python, as tuplas são criadas usando a sintaxe `(..., ...)`, ou mesmo `..., ...`:"
   ]
  },
  {
   "cell_type": "code",
   "execution_count": null,
   "metadata": {},
   "outputs": [],
   "source": [
    "ponto = (10, 20)\n",
    "\n",
    "print(ponto, type(ponto))"
   ]
  },
  {
   "cell_type": "code",
   "execution_count": null,
   "metadata": {},
   "outputs": [],
   "source": [
    "ponto = 10, 20\n",
    "\n",
    "print(ponto, type(ponto))"
   ]
  },
  {
   "cell_type": "markdown",
   "metadata": {},
   "source": [
    "Podemos descompactar uma tupla atribuindo-a a uma lista de variáveis separadas por vírgula:"
   ]
  },
  {
   "cell_type": "code",
   "execution_count": null,
   "metadata": {},
   "outputs": [],
   "source": [
    "x, y = ponto\n",
    "\n",
    "print(f\"x = {x} | y = {y}\")"
   ]
  },
  {
   "cell_type": "markdown",
   "metadata": {},
   "source": [
    "Se tentarmos atribuir um novo valor a um elemento em uma tupla, obteremos um erro:"
   ]
  },
  {
   "cell_type": "code",
   "execution_count": null,
   "metadata": {},
   "outputs": [],
   "source": [
    "ponto[0] = 20"
   ]
  },
  {
   "cell_type": "markdown",
   "metadata": {},
   "source": [
    "A tuplas têm uma função muito importante no retorno de funções em Python como veremos a seguir."
   ]
  },
  {
   "cell_type": "markdown",
   "metadata": {},
   "source": [
    "# DICIONÁRIOS"
   ]
  },
  {
   "cell_type": "markdown",
   "metadata": {},
   "source": [
    "Dicionários também são como listas, exceto que cada elemento é um par de valores-chave. A sintaxe dos dicionários é `{\"chave\": valor, ...}`. A chave dos dicionários deve ser imutáveis:"
   ]
  },
  {
   "cell_type": "code",
   "execution_count": null,
   "metadata": {},
   "outputs": [],
   "source": [
    "pib = {\n",
    "    \"china\": 23120,\n",
    "    \"usa\": 19360,\n",
    "    \"india\": 9447,\n",
    "    \"japan\": 5405,\n",
    "    \"germany\": 4150,\n",
    "    \"russia\": 4000,\n",
    "    \"indonesia\": 3243,\n",
    "    \"brazil\": 3219\n",
    "}\n",
    "pib"
   ]
  },
  {
   "cell_type": "markdown",
   "metadata": {},
   "source": [
    "Algumas diferencias entre listas e dicionários:\n",
    "\n",
    "**Listas**:\n",
    "* select, update e remove: []\n",
    "* índices numéricos\n",
    "* coleções de valores\n",
    "* a ordem importa\n",
    "* seleciona subsets\n",
    "\n",
    "**Dicionários8*:\n",
    "* select, update e remove: []\n",
    "* índices com chaves únicas de qualquer tipo\n",
    "* tabela com chaves únicas\n",
    "\n",
    "Podemos acessar os valores dos dicionários passando suas chaves como parâmetros:"
   ]
  },
  {
   "cell_type": "code",
   "execution_count": null,
   "metadata": {},
   "outputs": [],
   "source": [
    "print(f\"pib da china = {pib['china']}\")\n",
    "print(f\"pib do brasil = {pib['brazil']}\")"
   ]
  },
  {
   "cell_type": "markdown",
   "metadata": {},
   "source": [
    "Da mesma forma podemos atribuir novos valores:"
   ]
  },
  {
   "cell_type": "code",
   "execution_count": null,
   "metadata": {},
   "outputs": [],
   "source": [
    "pib[\"ethiopia\"] = 195\n",
    "pib"
   ]
  },
  {
   "cell_type": "markdown",
   "metadata": {},
   "source": [
    "Alguns métodos úteis:\n",
    "\n",
    "* `dict.copy()`\n",
    "* `dict.key(chave)` verifica se a chave existe\n",
    "* `dict.keys()` retornas as chaves\n",
    "* `dict.values()` retorna os valores\n",
    "* `dict.items()` retornas as chaves e os valores como lista"
   ]
  },
  {
   "cell_type": "markdown",
   "metadata": {},
   "source": [
    "## [EXERCÍCIOS] Dicionários\n",
    "\n",
    "1) Retorne a lista de países presentes no dicionário `pib`."
   ]
  },
  {
   "cell_type": "code",
   "execution_count": null,
   "metadata": {},
   "outputs": [],
   "source": []
  },
  {
   "cell_type": "markdown",
   "metadata": {},
   "source": [
    "2) Retorne a lista de pibs presentes no dicionário `pib`, some todos os valores e adicione ao dicionário a chave `total` com o valor obtido. Faça tudo isso de forma programática."
   ]
  },
  {
   "cell_type": "code",
   "execution_count": null,
   "metadata": {},
   "outputs": [],
   "source": []
  },
  {
   "cell_type": "markdown",
   "metadata": {},
   "source": [
    "# CONTROLE DE FLUXO"
   ]
  },
  {
   "cell_type": "markdown",
   "metadata": {},
   "source": [
    "A sintaxe do Python para execução de controle de fluxo de código usa as declarações (*statements*) `if`, `elif` (else if), `else`. Para a comparação, são usados os operadores de comparação vistos acima:\n",
    "\n",
    "* `>` maior que\n",
    "* `<` menor que\n",
    "* `>=` maior ou igual que\n",
    "* `<=` menor ou igual que\n",
    "* `==` igual\n",
    "* `!=` diferente\n",
    "* `is` é, comparação de objetos\n",
    "\n",
    "E também operadores booleanos:\n",
    "\n",
    "* `and`\n",
    "* `or`\n",
    "* `not`\n",
    "\n",
    "O fluxo das condicionais segue o seguinte padrão:\n",
    "\n",
    "![if-elif-else](assets/if-elif-else.png)\n",
    "\n",
    "A sintaxe básica do controle de fluxo `if-elif-else` em Python é:\n",
    "\n",
    "```python\n",
    "if condicao:\n",
    "    expressão\n",
    "elif condicao:\n",
    "    expressão\n",
    "else:\n",
    "    expressão\n",
    "```"
   ]
  },
  {
   "cell_type": "code",
   "execution_count": null,
   "metadata": {},
   "outputs": [],
   "source": [
    "afirmacao1 = False\n",
    "afirmacao2 = False\n",
    "\n",
    "if afirmacao1:\n",
    "    print(\"afirmacao1 é True\")\n",
    "\n",
    "elif afirmacao2:\n",
    "    print(\"afirmacao2 é True\")\n",
    "    \n",
    "else:\n",
    "    print(\"afirmacao1 e afirmacao2 são False\")"
   ]
  },
  {
   "cell_type": "markdown",
   "metadata": {},
   "source": [
    "Pela primeira vez, encontramos aqui um aspecto peculiar e incomum da linguagem de programação Python. Os blocos são definidos pelo seu nível de indentação ao invés de chaves ou palavras-chave `begin` e `end`. Se comparado ao código C equivalente:\n",
    "\n",
    "```c\n",
    "if (condicao_um)\n",
    "{\n",
    "    printf(\"Expressão um\");\n",
    "}\n",
    "else if (condicao_dois)\n",
    "{\n",
    "    printf(\"Expressão dois\");\n",
    "}\n",
    "else\n",
    "{\n",
    "    printf(\"Expressão três\");\n",
    "}\n",
    "```\n",
    "\n",
    "Blocos escritos em C são definidos pelas chaves e o nível de indentação (espaço em branco antes das instruções de código) não importa e completamente opcionais.\n",
    "\n",
    "Mas no Python, a extensão de um bloco de código é definida pelo nível de indentação. Geralmente usamos o `tab` e configuramos nossos editores de código para converter o `tab` em quatro espaços em branco. Isso significa que temos que ter o cuidado de indentar nosso código corretamente, senão obteremos erros de sintaxe, como o abaixo:"
   ]
  },
  {
   "cell_type": "code",
   "execution_count": null,
   "metadata": {},
   "outputs": [],
   "source": [
    "if 1 == 1:\n",
    "print(\"1 é igual a 1\")"
   ]
  },
  {
   "cell_type": "markdown",
   "metadata": {},
   "source": [
    "Agora com a sintaxe correta:"
   ]
  },
  {
   "cell_type": "code",
   "execution_count": null,
   "metadata": {},
   "outputs": [],
   "source": [
    "if 1 == 1:\n",
    "    print(\"1 é igual a 1\")"
   ]
  },
  {
   "cell_type": "code",
   "execution_count": null,
   "metadata": {},
   "outputs": [],
   "source": [
    "condicao = False \n",
    "\n",
    "if condicao:\n",
    "    print(\"expressao 1 dentro do if\")\n",
    "    print(\"expressão 2 dentro do if\")\n",
    "    \n",
    "print(\"expressão 3 fora do if\")"
   ]
  },
  {
   "cell_type": "markdown",
   "metadata": {},
   "source": [
    "## [EXERCÍCIOS] Controle de fluxo\n",
    "\n",
    "1) Escreva um controle de fluxo condicional usando `if`, `elif` e `else` que indica se o seu [Índice de Massa Corporal (IMC)](https://pt.wikipedia.org/wiki/%C3%8Dndice_de_massa_corporal) está dentro do padrão recomendado pela OMS. O condicional deve usar os itens na coluna Teste para as condições e os itens na coluna Classificação em uma função print dentro da condicional:\n",
    "\n",
    "<table>\n",
    "<thead>\n",
    "<tr class=\"header\">\n",
    "<th><p>Teste</p></th>\n",
    "<th><p>Classificação</p></th>\n",
    "</tr>\n",
    "</thead>\n",
    "<tbody>\n",
    "<tr class=\"odd\">\n",
    "<td><p>&lt; 16</p></td>\n",
    "<td><p>Magreza grave</p></td>\n",
    "</tr>\n",
    "<tr class=\"even\">\n",
    "<td><p>16 a &lt; 17</p></td>\n",
    "<td><p>Magreza moderada</p></td>\n",
    "</tr>\n",
    "<tr class=\"odd\">\n",
    "<td><p>17 a &lt; 18,5</p></td>\n",
    "<td><p>Magreza leve</p></td>\n",
    "</tr>\n",
    "<tr class=\"even\">\n",
    "<td><p>18,5 a &lt; 25</p></td>\n",
    "<td><p>Saudável</p></td>\n",
    "</tr>\n",
    "<tr class=\"odd\">\n",
    "<td><p>25 a &lt; 30</p></td>\n",
    "<td><p>Sobrepeso</p></td>\n",
    "</tr>\n",
    "<tr class=\"even\">\n",
    "<td><p>30 a &lt; 35</p></td>\n",
    "<td><p>Obesidade Grau I</p></td>\n",
    "</tr>\n",
    "<tr class=\"odd\">\n",
    "<td><p>35 a &lt; 40</p></td>\n",
    "<td><p>Obesidade Grau II (severa)</p></td>\n",
    "</tr>\n",
    "<tr class=\"even\">\n",
    "<td><p>&gt; 40</p></td>\n",
    "<td><p>Obesidade Grau III (mórbida)</p></td>\n",
    "</tr>\n",
    "</tbody>\n",
    "</table>"
   ]
  },
  {
   "cell_type": "code",
   "execution_count": null,
   "metadata": {},
   "outputs": [],
   "source": []
  },
  {
   "cell_type": "markdown",
   "metadata": {},
   "source": [
    "# LOOPS"
   ]
  },
  {
   "cell_type": "markdown",
   "metadata": {},
   "source": [
    "No Python, os loops podem ser programados de várias maneiras diferentes. Um deles é o lopp `while`. Ele vai se repetir até que a sua condição seja avaliada como `False`. Um loop do tipo `while` pode ser entendido como uma expressão `if` de forma repetida. A sintaxe básica é:\n",
    "\n",
    "```python\n",
    "while(condicao):\n",
    "    expressão\n",
    "```"
   ]
  },
  {
   "cell_type": "code",
   "execution_count": null,
   "metadata": {},
   "outputs": [],
   "source": [
    "x = 3\n",
    "while(x > 0):\n",
    "    print(x)\n",
    "    x = x - 1"
   ]
  },
  {
   "cell_type": "markdown",
   "metadata": {},
   "source": [
    "É equivalente a seguinte sequência de `if`s:"
   ]
  },
  {
   "cell_type": "code",
   "execution_count": null,
   "metadata": {},
   "outputs": [],
   "source": [
    "x = 3\n",
    "if x > 0:\n",
    "    print(x)\n",
    "    x = x - 1\n",
    "if x > 0:\n",
    "    print(x)\n",
    "    x = x - 1\n",
    "if x > 0:\n",
    "    print(x)\n",
    "    x = x - 1"
   ]
  },
  {
   "cell_type": "markdown",
   "metadata": {},
   "source": [
    "## for\n",
    "\n",
    "O tipo de loop mais comum é o `for`, que é usado junto com objetos iteráveis, como listas. A sintaxe básica é:\n",
    "\n",
    "```python\n",
    "for variável in sequência:\n",
    "    expressão\n",
    "```"
   ]
  },
  {
   "cell_type": "code",
   "execution_count": null,
   "metadata": {},
   "outputs": [],
   "source": [
    "sequencia = [1, 2, 3]\n",
    "for variavel in sequencia:\n",
    "    print(variavel)"
   ]
  },
  {
   "cell_type": "markdown",
   "metadata": {},
   "source": [
    "O loop `for` itera sobre os elementos da sequência fornecida e avalia a expressão uma vez para cada variável. Qualquer tipo de sequência pode ser usada no loop `for`. Podemos usar a função `range` para criar as sequências:"
   ]
  },
  {
   "cell_type": "code",
   "execution_count": null,
   "metadata": {},
   "outputs": [],
   "source": [
    "for variavel in range(4):\n",
    "    print(variavel)"
   ]
  },
  {
   "cell_type": "markdown",
   "metadata": {},
   "source": [
    "Na função `range(valor)` o `valor` é não inclusivo. Outros exemplos:"
   ]
  },
  {
   "cell_type": "code",
   "execution_count": null,
   "metadata": {},
   "outputs": [],
   "source": [
    "for variavel in range(-3, 3):\n",
    "    print(variavel)"
   ]
  },
  {
   "cell_type": "code",
   "execution_count": null,
   "metadata": {},
   "outputs": [],
   "source": [
    "for variavel in [\"engenharia\", \"de\", \"software\", \"com\", \"python\"]:\n",
    "    print(variavel)"
   ]
  },
  {
   "cell_type": "markdown",
   "metadata": {},
   "source": [
    "Às vezes é útil ter acesso aos índices dos valores ao iterar em uma sequência. Nós podemos usar a função `enumerate` para isso:"
   ]
  },
  {
   "cell_type": "code",
   "execution_count": null,
   "metadata": {},
   "outputs": [],
   "source": [
    "for indice, variavel in enumerate(range(-3, 3)):\n",
    "    print(indice, variavel)"
   ]
  },
  {
   "cell_type": "markdown",
   "metadata": {},
   "source": [
    "Podemos ainda iterar em strings:"
   ]
  },
  {
   "cell_type": "code",
   "execution_count": null,
   "metadata": {},
   "outputs": [],
   "source": [
    "sequencia = \"python\"\n",
    "for variavel in sequencia:\n",
    "    print(variavel.upper())"
   ]
  },
  {
   "cell_type": "markdown",
   "metadata": {},
   "source": [
    "Podemos também iterar em dicionários usando os métodos `keys`, `values` e `items`:"
   ]
  },
  {
   "cell_type": "code",
   "execution_count": null,
   "metadata": {},
   "outputs": [],
   "source": [
    "pib = {\n",
    "    \"china\": 23120,\n",
    "    \"usa\": 19360,\n",
    "    \"india\": 9447,\n",
    "    \"japan\": 5405,\n",
    "    \"germany\": 4150,\n",
    "    \"russia\": 4000,\n",
    "    \"indonesia\": 3243,\n",
    "    \"brazil\": 3219\n",
    "}\n",
    "pib"
   ]
  },
  {
   "cell_type": "code",
   "execution_count": null,
   "metadata": {},
   "outputs": [],
   "source": [
    "for chave, valor in pib.items():\n",
    "    print(chave + \" = \" + str(valor))"
   ]
  },
  {
   "cell_type": "code",
   "execution_count": null,
   "metadata": {},
   "outputs": [],
   "source": [
    "for chave in pib.keys():\n",
    "    print(chave)"
   ]
  },
  {
   "cell_type": "code",
   "execution_count": null,
   "metadata": {},
   "outputs": [],
   "source": [
    "for valor in pib.values():\n",
    "    print(valor)"
   ]
  },
  {
   "cell_type": "markdown",
   "metadata": {},
   "source": [
    "# LIST COMPREHENSIONS (COMPREENSÕES DE LISTA)"
   ]
  },
  {
   "cell_type": "markdown",
   "metadata": {},
   "source": [
    "[List comprehensions](https://docs.python.org/3/tutorial/datastructures.html#list-comprehensions) fornece uma maneira conveniente e compacta de inicializar listas em Python. Podemos comparar a operação realizada a operação da função `map`:"
   ]
  },
  {
   "cell_type": "code",
   "execution_count": null,
   "metadata": {},
   "outputs": [],
   "source": [
    "lista = [variavel**2 for variavel in range(0,5)]\n",
    "\n",
    "print(lista)"
   ]
  },
  {
   "cell_type": "markdown",
   "metadata": {},
   "source": [
    "# FUNÇÕES"
   ]
  },
  {
   "cell_type": "markdown",
   "metadata": {},
   "source": [
    "Uma função em Python é definida usando a palavra-chave `def`, seguida pelo nome da função, e os parâmetros entre parênteses `()` e dois pontos `:`. O código a seguir, com um nível adicional de indentação, é o corpo da função.\n",
    "\n",
    "```python\n",
    "def nome_da_funcao(parametro):\n",
    "    expressão\n",
    "    return valor\n",
    "```"
   ]
  },
  {
   "cell_type": "code",
   "execution_count": null,
   "metadata": {},
   "outputs": [],
   "source": [
    "def funcao():   \n",
    "    print(\"teste\")"
   ]
  },
  {
   "cell_type": "code",
   "execution_count": null,
   "metadata": {},
   "outputs": [],
   "source": [
    "funcao()"
   ]
  },
  {
   "cell_type": "markdown",
   "metadata": {},
   "source": [
    "Opcionalmente, mas altamente recomendado, podemos definir uma documentação descritiva para a função usando o docstring, que é uma descrição do propósito e comportamento das funções. A docstring deve seguir diretamente após a definição da função, antes do código no corpo da função."
   ]
  },
  {
   "cell_type": "code",
   "execution_count": null,
   "metadata": {},
   "outputs": [],
   "source": [
    "def funcao(parametro):\n",
    "    \"\"\"\n",
    "    Imprima uma string 'parametro' e diga quantos caracteres ela possui\n",
    "    \"\"\"\n",
    "    \n",
    "    print(f\"'{parametro}' tem {len(parametro)} carateres\")"
   ]
  },
  {
   "cell_type": "code",
   "execution_count": null,
   "metadata": {},
   "outputs": [],
   "source": [
    "help(funcao)"
   ]
  },
  {
   "cell_type": "code",
   "execution_count": null,
   "metadata": {},
   "outputs": [],
   "source": [
    "funcao(\"teste\")"
   ]
  },
  {
   "cell_type": "markdown",
   "metadata": {},
   "source": [
    "Quando deseja-se que uma função retorne um valor usamos a palavra `return`:"
   ]
  },
  {
   "cell_type": "code",
   "execution_count": null,
   "metadata": {},
   "outputs": [],
   "source": [
    "def quadrado(parametro):\n",
    "    \"\"\"\n",
    "    Returna parametro ao quadrado\n",
    "    \"\"\"\n",
    "    return parametro ** 2"
   ]
  },
  {
   "cell_type": "code",
   "execution_count": null,
   "metadata": {},
   "outputs": [],
   "source": [
    "quadrado(4)"
   ]
  },
  {
   "cell_type": "markdown",
   "metadata": {},
   "source": [
    "Podemos retornar vários valores de uma função usando tuplas:"
   ]
  },
  {
   "cell_type": "code",
   "execution_count": null,
   "metadata": {},
   "outputs": [],
   "source": [
    "def elevados(parametro):\n",
    "    \"\"\"\n",
    "    Returna parametro elevado à vários números\n",
    "    \"\"\"\n",
    "    return parametro ** 2, parametro ** 3, parametro ** 4"
   ]
  },
  {
   "cell_type": "code",
   "execution_count": null,
   "metadata": {},
   "outputs": [],
   "source": [
    "elevados(3)"
   ]
  },
  {
   "cell_type": "code",
   "execution_count": null,
   "metadata": {},
   "outputs": [],
   "source": [
    "x2, x3, x4 = elevados(3)\n",
    "\n",
    "print(x3)"
   ]
  },
  {
   "cell_type": "markdown",
   "metadata": {},
   "source": [
    "## Argumentos padrões e keywords padrões"
   ]
  },
  {
   "cell_type": "markdown",
   "metadata": {},
   "source": [
    "Em uma definição de função podemos fornecer valores padrão para os argumentos que a função usa:"
   ]
  },
  {
   "cell_type": "code",
   "execution_count": null,
   "metadata": {},
   "outputs": [],
   "source": [
    "def funcao(x, p=2, debug=False):\n",
    "    if debug:\n",
    "        print(f\"avaliando minha_funcao para x = {x} usando o exponente p = {p}\")\n",
    "    return x**p"
   ]
  },
  {
   "cell_type": "markdown",
   "metadata": {},
   "source": [
    "Se nós não fornecermos um valor do argumento `debug` ao chamar a função `minha_funcao`, o valor padrão é fornecido na definição da função:"
   ]
  },
  {
   "cell_type": "code",
   "execution_count": null,
   "metadata": {},
   "outputs": [],
   "source": [
    "funcao(5)"
   ]
  },
  {
   "cell_type": "code",
   "execution_count": null,
   "metadata": {},
   "outputs": [],
   "source": [
    "funcao(5, debug=True)"
   ]
  },
  {
   "cell_type": "markdown",
   "metadata": {},
   "source": [
    "Se listarmos explicitamente o nome dos argumentos nas chamadas de função, eles não precisam vir na mesma ordem que na definição da função. Isso é chamado de argumento *keyword* e é geralmente muito útil em funções que exigem muitos argumentos opcionais."
   ]
  },
  {
   "cell_type": "code",
   "execution_count": null,
   "metadata": {},
   "outputs": [],
   "source": [
    "funcao(p=3, debug=True, x=7)"
   ]
  },
  {
   "cell_type": "markdown",
   "metadata": {},
   "source": [
    "## Funções anônimas (`lambda`)"
   ]
  },
  {
   "cell_type": "markdown",
   "metadata": {},
   "source": [
    "No Python também podemos criar funções anônimas usando a palavra chave `lambda`:"
   ]
  },
  {
   "cell_type": "code",
   "execution_count": null,
   "metadata": {},
   "outputs": [],
   "source": [
    "funcao_lambda = lambda x: x**2\n",
    "def funcao(x):\n",
    "    return x**2"
   ]
  },
  {
   "cell_type": "code",
   "execution_count": null,
   "metadata": {},
   "outputs": [],
   "source": [
    "funcao_lambda(2), funcao(2)"
   ]
  },
  {
   "cell_type": "markdown",
   "metadata": {},
   "source": [
    "Essa técnica é útil, por exemplo, quando queremos passar uma função simples como um argumento para outra função, assim:"
   ]
  },
  {
   "cell_type": "code",
   "execution_count": null,
   "metadata": {},
   "outputs": [],
   "source": [
    "list(map(lambda x: x**2, range(4)))"
   ]
  },
  {
   "cell_type": "markdown",
   "metadata": {},
   "source": [
    "## [EXERCÍCIOS] Funções\n",
    "\n",
    "1) Crie uma função que recebe uma sequência como parâmetro e retorna a soma de todos os elementos desta sequência."
   ]
  },
  {
   "cell_type": "code",
   "execution_count": null,
   "metadata": {},
   "outputs": [],
   "source": [
    "def funcao(sequencia):\n",
    "    # implemente\n",
    "    pass"
   ]
  },
  {
   "cell_type": "code",
   "execution_count": null,
   "metadata": {},
   "outputs": [],
   "source": [
    "assert(funcao([1, 2, 3, 4, 5]), 15)"
   ]
  },
  {
   "cell_type": "markdown",
   "metadata": {},
   "source": [
    "2) Utilize a função [map](https://docs.python.org/3/howto/functional.html#functional-programming-howto) junto com `lambda` para elevar todos os elementos da lista ao quadrado."
   ]
  },
  {
   "cell_type": "code",
   "execution_count": null,
   "metadata": {},
   "outputs": [],
   "source": [
    "lista = [0, 1, 2, 3, 4 ,5, 6]"
   ]
  },
  {
   "cell_type": "code",
   "execution_count": null,
   "metadata": {},
   "outputs": [],
   "source": []
  },
  {
   "cell_type": "markdown",
   "metadata": {},
   "source": [
    "3) Utilize a função [filter](https://docs.python.org/3/howto/functional.html#functional-programming-howto) junto com `lambda` para filtrar apenas os elementos ímpares da lista."
   ]
  },
  {
   "cell_type": "code",
   "execution_count": null,
   "metadata": {},
   "outputs": [],
   "source": [
    "lista = [0, 1, 2, 3, 4 ,5, 6]"
   ]
  },
  {
   "cell_type": "markdown",
   "metadata": {},
   "source": []
  },
  {
   "cell_type": "markdown",
   "metadata": {},
   "source": [
    "4) Utilize a função [reduce](https://docs.python.org/3/howto/functional.html#functional-programming-howto) junto com `lambda` para somar os elementos da lista."
   ]
  },
  {
   "cell_type": "code",
   "execution_count": null,
   "metadata": {},
   "outputs": [],
   "source": [
    "lista = [0, 1, 2, 3, 4 ,5, 6]"
   ]
  },
  {
   "cell_type": "code",
   "execution_count": null,
   "metadata": {},
   "outputs": [],
   "source": []
  },
  {
   "cell_type": "markdown",
   "metadata": {},
   "source": [
    "5) Implemente as questões 2, 3 e 4 usando list comprehensions."
   ]
  },
  {
   "cell_type": "markdown",
   "metadata": {},
   "source": [
    "# CLASSES"
   ]
  },
  {
   "cell_type": "markdown",
   "metadata": {},
   "source": [
    "As classes são os principais recursos da programação orientada a objetos. Uma classe é uma estrutura para representar um objeto e as operações que podem ser executadas no objeto.\n",
    "\n",
    "No Python, uma classe pode conter *atributos* (variáveis) e *métodos* (funções).\n",
    "\n",
    "Uma classe é definida usando a palavra-chave `class`, e a definição de classe geralmente contém um número de definições de método de classe (uma função em uma classe).\n",
    "\n",
    "Cada método de classe deve ter um argumento `self` como seu primeiro argumento. Este parâmetro é uma auto-referência ao objeto.\n",
    "\n",
    "Alguns nomes de método de classe têm um significado especial, como por exemplo:\n",
    "     * `__init__`: O nome do método que é invocado quando o objeto é criado pela primeira vez.\n",
    "     * `__str__`: Um método que é invocado quando é necessária uma representação em string da classe, como por exemplo, quando impressa.\n",
    "\n",
    "Existem muitos mais sobre classes em Python, consulte a [documentação](http://docs.python.org/3/reference/datamodel.html#special-method-names).\n",
    "\n",
    "A seguir definiremos nossa primeira classe para representar um ponto em um sistema de coordenadas dcartesianas:"
   ]
  },
  {
   "cell_type": "code",
   "execution_count": null,
   "metadata": {},
   "outputs": [],
   "source": [
    "class Ponto:\n",
    "    \"\"\"\n",
    "    Classe simples para representar um ponto em um sistema de coordenadas cartesianas.\n",
    "    \"\"\"\n",
    "    \n",
    "    def __init__(self, x, y):\n",
    "        \"\"\"\n",
    "        Cria um novo Ponto em x, y.\n",
    "        \"\"\"\n",
    "        self.x = x\n",
    "        self.y = y\n",
    "        \n",
    "    def translate(self, dx, dy):\n",
    "        \"\"\"\n",
    "        Faz uma translação do ponto por dx e dy no sentido x e y.\n",
    "        \"\"\"\n",
    "        self.x += dx\n",
    "        self.y += dy\n",
    "        \n",
    "    def __str__(self):\n",
    "        return(f\"Ponto em ({self.x}, {self.y})\")"
   ]
  },
  {
   "cell_type": "markdown",
   "metadata": {},
   "source": [
    "Ao criar uma nova instância da classe o método especial `__init__` é invocado:"
   ]
  },
  {
   "cell_type": "code",
   "execution_count": null,
   "metadata": {},
   "outputs": [],
   "source": [
    "ponto1 = Ponto(0, 0)"
   ]
  },
  {
   "cell_type": "markdown",
   "metadata": {},
   "source": [
    "Ao passar o objeto `ponto1` como parâmetro para a função `print` o método `__str__` do objeto `ponto1` é invocado:"
   ]
  },
  {
   "cell_type": "code",
   "execution_count": null,
   "metadata": {},
   "outputs": [],
   "source": [
    "print(ponto1)"
   ]
  },
  {
   "cell_type": "markdown",
   "metadata": {},
   "source": [
    "Podemos chamar um método (`translate`) do objeto `ponto1`. Os métodos vão alterar os atributos internos dos objetos:"
   ]
  },
  {
   "cell_type": "code",
   "execution_count": null,
   "metadata": {},
   "outputs": [],
   "source": [
    "ponto1 = Ponto(1, 1)\n",
    "print(ponto1)\n",
    "ponto1.translate(0.25, 1.5)\n",
    "print(ponto1)"
   ]
  },
  {
   "cell_type": "markdown",
   "metadata": {},
   "source": [
    "Observe que ao chamar métodos modificamos o estado interno das instâncias da classe específica.\n",
    "\n",
    "Essa é uma das coisas boas do design de software Orientado a Objetos: códigos como funções e variáveis relacionadas são agrupados em entidades separadas e independentes. Por curiosidade"
   ]
  },
  {
   "cell_type": "markdown",
   "metadata": {},
   "source": [
    "# MÓDULOS"
   ]
  },
  {
   "cell_type": "markdown",
   "metadata": {},
   "source": [
    "Um dos conceitos mais importantes em uma boa programação é reutilizar o código e evitar repetições.\n",
    "\n",
    "A ideia é escrever funções e classes com um propósito e escopo bem definidos, e reutilizá-las em vez de repetir códigos semelhantes em partes diferentes de um programa (programação modular). O resultado é geralmente que a capacidade de leitura e manutenção de um programa é bastante aprimorada. Na prática, isso significa que nossos programas têm menos bugs, são mais fáceis de estender e depurar/solucionar problemas.\n",
    "\n",
    "O Python suporta programação modular em diferentes níveis. Funções e classes são exemplos de ferramentas para programação modular de baixo nível. Os módulos Python são uma construção de programação modular de nível mais alto, onde podemos coletar variáveis, funções e classes relacionadas em um módulo. Um módulo python é definido em um arquivo python (com `.py` no final), e pode ser disponibilizado para outros módulos e programas Python usando a instrução de importação.\n",
    "\n",
    "Considere o seguinte exemplo: o arquivo `meu_modulo.py` contém implementações de exemplo simples de uma variável, função e uma classe:"
   ]
  },
  {
   "cell_type": "code",
   "execution_count": null,
   "metadata": {},
   "outputs": [],
   "source": [
    "%%file meu_modulo.py\n",
    "\"\"\"\n",
    "Exemplo de um módulo python. Contém uma variável chamada minha_variavel,\n",
    "uma função chamada minha_funcao e uma classe chamada MinhaClasse.\n",
    "\"\"\"\n",
    "\n",
    "minha_variavel = 0\n",
    "\n",
    "def minha_funcao():\n",
    "    \"\"\"\n",
    "    Função examplo\n",
    "    \"\"\"\n",
    "    return minha_variavel\n",
    "    \n",
    "class MinhaClasse:\n",
    "    \"\"\"\n",
    "    Classe exemplo.\n",
    "    \"\"\"\n",
    "\n",
    "    def __init__(self):\n",
    "        self.variavel = minha_variavel\n",
    "        \n",
    "    def define_variavel(self, novo_valor):\n",
    "        \"\"\"\n",
    "        Define self.varivael para o novo valor\n",
    "        \"\"\"\n",
    "        self.variavel = novo_valor\n",
    "        \n",
    "    def pega_variavel(self):\n",
    "        return self.variavel"
   ]
  },
  {
   "cell_type": "markdown",
   "metadata": {},
   "source": [
    "Podemos importar o módulo `meu_modulo` para o nosso programa em Python usando` import`:"
   ]
  },
  {
   "cell_type": "markdown",
   "metadata": {},
   "source": [
    "Use `help(module)` to get a summary of what the module provides:"
   ]
  },
  {
   "cell_type": "code",
   "execution_count": null,
   "metadata": {},
   "outputs": [],
   "source": [
    "import meu_modulo"
   ]
  },
  {
   "cell_type": "code",
   "execution_count": null,
   "metadata": {
    "scrolled": true
   },
   "outputs": [],
   "source": [
    "help(meu_modulo)"
   ]
  },
  {
   "cell_type": "code",
   "execution_count": null,
   "metadata": {},
   "outputs": [],
   "source": [
    "meu_modulo.minha_variavel"
   ]
  },
  {
   "cell_type": "code",
   "execution_count": null,
   "metadata": {},
   "outputs": [],
   "source": [
    "meu_modulo.minha_funcao() "
   ]
  },
  {
   "cell_type": "code",
   "execution_count": null,
   "metadata": {},
   "outputs": [],
   "source": [
    "minha_classe = meu_modulo.MinhaClasse() \n",
    "minha_classe.define_variavel(10)\n",
    "minha_classe.pega_variavel()"
   ]
  },
  {
   "cell_type": "markdown",
   "metadata": {},
   "source": [
    "# EXCEÇÕES"
   ]
  },
  {
   "cell_type": "markdown",
   "metadata": {},
   "source": [
    "No Python, os erros são gerenciados com uma construção de linguagem especial chamada `Exceptions`. Quando erros ocorrem, exceções podem ser levantadas, o que interrompe o fluxo normal do programa e o retorno a algum outro lugar no código onde a instrução `try-except` mais próxima é definida.\n",
    "\n",
    "Para gerar uma exceção, podemos usar a instrução `raise`, que recebe um argumento que deve ser uma instância da classe `BaseException` ou uma classe derivada dela."
   ]
  },
  {
   "cell_type": "code",
   "execution_count": null,
   "metadata": {},
   "outputs": [],
   "source": [
    "raise Exception(\"descrição do erro\")"
   ]
  },
  {
   "cell_type": "markdown",
   "metadata": {},
   "source": [
    "Um uso típico de exceções é abortar funções quando ocorre alguma condição de erro, por exemplo:\n",
    "\n",
    "```python\n",
    "def minha_funcao(argumentos):\n",
    "\n",
    "    if not verifica(argumentos):\n",
    "        raise Exception(\"Argumentos inválidos\")\n",
    "\n",
    "    # resto do código vai aqui\n",
    "```"
   ]
  },
  {
   "cell_type": "markdown",
   "metadata": {},
   "source": [
    "Para capturar os erros que são gerados por funções e métodos de classe, ou pelo próprio interpretador Python, use as instruções `try` e `except`:\n",
    "\n",
    "```python\n",
    "    try:\n",
    "        # código normal vai aqui\n",
    "    except:\n",
    "        # código para tratamento de erros vai aqui\n",
    "        # este código não é executado a menos que o código\n",
    "        # acima gerou um erro\n",
    "```\n",
    "\n",
    "Por exemplo:"
   ]
  },
  {
   "cell_type": "code",
   "execution_count": null,
   "metadata": {},
   "outputs": [],
   "source": [
    "try:\n",
    "    print(\"teste\")\n",
    "    # gera um erro: a variável teste não é definida\n",
    "    print(teste)\n",
    "except:\n",
    "    print(\"Pegou uma exceção\")"
   ]
  },
  {
   "cell_type": "markdown",
   "metadata": {},
   "source": [
    "Para obter informações sobre o erro, podemos acessar a instância da classe `Exception` que descreve a exceção usando, por exemplo:\n",
    "\n",
    "    except Exception as e:"
   ]
  },
  {
   "cell_type": "code",
   "execution_count": null,
   "metadata": {},
   "outputs": [],
   "source": [
    "try:\n",
    "    print(\"teste\")\n",
    "    # gera um erro: a variável teste não é definida\n",
    "    print(teste)\n",
    "except Exception as e:\n",
    "    print(\"Pegou uma exceção:\" + str(e))"
   ]
  },
  {
   "cell_type": "markdown",
   "metadata": {},
   "source": [
    "# ARQUIVOS DE PROGRAMAS PYTHON"
   ]
  },
  {
   "cell_type": "markdown",
   "metadata": {},
   "source": [
    "O código Python é normalmente armazenado em arquivos de texto usando a extensão `.py`:\n",
    "\n",
    "```sh\n",
    "meu_programa.py\n",
    "```\n",
    "\n",
    "Cada linha em um arquivo contendo um programa Python é considerada uma instrução, ou parte dela. A única exceção são as linhas de comentário, que começam com o caractere `#`. Linhas de comentário são geralmente ignoradas pelo interpretador Python.\n",
    "\n",
    "Para executar um programa em Python a partir da linha de comando devemos usar a seguinte chamada:\n",
    "\n",
    "```sh\n",
    "$ python meu_programa.py\n",
    "```\n",
    "\n",
    "Em sistemas UNIX/LINUX/MAC, é comum definir o caminho para o interpretador na primeira linha do programa:\n",
    "\n",
    "```sh\n",
    "#!/usr/bin/env python\n",
    "```\n",
    "\n",
    "Dessa forma, podemos executar o programa da seguinte maneira\n",
    "\n",
    "```sh\n",
    "$ meu_programa.py\n",
    "```"
   ]
  },
  {
   "cell_type": "markdown",
   "metadata": {},
   "source": [
    "# REFERÊNCIAS E APROFUNDAMENTOS"
   ]
  },
  {
   "cell_type": "markdown",
   "metadata": {},
   "source": [
    "* A [página web oficial](http://www.python.org) da linguagem de programação Python\n",
    "* [Guia de estilo](http://www.python.org/dev/peps/pep-0008) para programação em Python. Altamente recomendado\n",
    "* [Think Python](http://www.greenteapress.com/thinkpython) - Um livro grátis sobre programação em Python\n",
    "\n",
    "Este Jupyter Notebook foi inspirado no curso [Python Lectures](http://github.com/jrjohansson/scientific-python-lectures) de J.R. Johansson (jrjohansson at gmail.com) e no material do MOOC [Datacamp](https://www.datacamp.com)."
   ]
  }
 ],
 "metadata": {
  "file_extension": ".py",
  "kernelspec": {
   "display_name": "Python 3",
   "language": "python",
   "name": "python3"
  },
  "language_info": {
   "codemirror_mode": {
    "name": "ipython",
    "version": 3
   },
   "file_extension": ".py",
   "mimetype": "text/x-python",
   "name": "python",
   "nbconvert_exporter": "python",
   "pygments_lexer": "ipython3",
   "version": "3.7.6"
  },
  "mimetype": "text/x-python",
  "name": "python",
  "npconvert_exporter": "python",
  "pygments_lexer": "ipython3",
  "version": 3
 },
 "nbformat": 4,
 "nbformat_minor": 4
}
