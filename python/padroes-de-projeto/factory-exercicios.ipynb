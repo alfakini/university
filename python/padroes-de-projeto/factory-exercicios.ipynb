{
 "cells": [
  {
   "cell_type": "markdown",
   "metadata": {},
   "source": [
    "# EXERCÍCIOS FACTORY\n",
    "\n",
    "[![Google Colab](https://img.shields.io/badge/launch-exercicios-yellow.svg)](https://colab.research.google.com/github/catolicasc-joinville/lp1-notebooks/blob/master/3-padroes-de-projeto/3.1-exercicios.ipynb) [launch](https://colab.research.google.com/github/catolicasc-joinville/lp1-notebooks/blob/master/3-padroes-de-projeto/3.1-exercicios.ipynb)"
   ]
  },
  {
   "cell_type": "markdown",
   "metadata": {},
   "source": [
    "1) Crie uma Factory `ShapeFactory` que cria formas geométricas. Faça esta Factory ser capaz de criar objetos dos tipos `Circle` e `Rectangle`. A Factory escolhe qual tipo quer criar baseado no número de parâmetros passados. Esses objetos devem estender da classe `Shape` e devem implementar o método `calculate_area()`.\n",
    "\n",
    "```python\n",
    "\n",
    "class Shape:\n",
    "    def area(self):\n",
    "        raise NotImplementedError\n",
    "\n",
    "class ShapeFactory:\n",
    "    def factory(self, *size):\n",
    "        pass\n",
    "\n",
    "ShapeFactory().factory('circle', 10)\n",
    "ShapeFactory().factory('rectangle', 10, 20)\n",
    "```\n"
   ]
  },
  {
   "cell_type": "code",
   "execution_count": null,
   "metadata": {},
   "outputs": [],
   "source": []
  },
  {
   "cell_type": "markdown",
   "metadata": {},
   "source": [
    "2) [Pesquise](https://sourcemaking.com/design_patterns/abstract_factory) sobre o padrão `AbstractFactory` e implemente uma Factory que cria e retorna um Carro. Seja criativo, um carro precisa de motos, rodas, portas, etc."
   ]
  },
  {
   "cell_type": "code",
   "execution_count": null,
   "metadata": {},
   "outputs": [],
   "source": []
  }
 ],
 "metadata": {
  "kernelspec": {
   "display_name": "Python 3",
   "language": "python",
   "name": "python3"
  },
  "language_info": {
   "codemirror_mode": {
    "name": "ipython",
    "version": 3
   },
   "file_extension": ".py",
   "mimetype": "text/x-python",
   "name": "python",
   "nbconvert_exporter": "python",
   "pygments_lexer": "ipython3",
   "version": "3.6.2"
  }
 },
 "nbformat": 4,
 "nbformat_minor": 2
}
