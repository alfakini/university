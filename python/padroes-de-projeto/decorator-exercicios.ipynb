{
 "cells": [
  {
   "cell_type": "markdown",
   "metadata": {},
   "source": [
    "# EXERCÍCIOS DECORATORS\n",
    "\n",
    "[![Google Colab](https://img.shields.io/badge/launch-exercicios-yellow.svg)](https://colab.research.google.com/github/catolicasc-joinville/lp1-notebooks/blob/master/3-padroes-de-projeto/1.1-exercicios.ipynb) [launch](https://colab.research.google.com/github/catolicasc-joinville/lp1-notebooks/blob/master/3-padroes-de-projeto/1.1-exercicios.ipynb)\n",
    "\n",
    "1) Implemente uma função Decorator para debugar os valores de retorno de uma função. Dê alguns exemplos do uso desse Decotaror usando ele como wrapper em funções que implementam a soma, subtração, multiplicação e divisão de dois números. Por exemplO:\n",
    "\n",
    "```python\n",
    "@debug\n",
    "def soma(x, y):\n",
    "    return x + y\n",
    "\n",
    "soma(1, 2)\n",
    "```\n",
    "\n",
    "Deve apresentar a mensagem:\n",
    "\n",
    "```python\n",
    "Função: soma - Retorno: 3\n",
    "```"
   ]
  },
  {
   "cell_type": "code",
   "execution_count": null,
   "metadata": {},
   "outputs": [],
   "source": []
  },
  {
   "cell_type": "markdown",
   "metadata": {},
   "source": [
    "2) Escreva um programa em Python para criar uma cadeia de decoradores: negrito, italico, sublinhado. Estes decoradores deve madicionar tags HTML ao redor do valor de retorno da função decorada. Aplique a sequência de decoradores a uma função que retorna \"Hello World!\". Exemplo de implementação:\n",
    "\n",
    "```python\n",
    "@negrito\n",
    "@italico\n",
    "@sublinado\n",
    "def hello():\n",
    "    return \"Hello World!\"\n",
    "```\n",
    "\n",
    "Deve retornar:\n",
    "\n",
    "```python\n",
    "\"<b><i><u>Hello World!</u></i></b>\"\n",
    "```"
   ]
  },
  {
   "cell_type": "code",
   "execution_count": null,
   "metadata": {},
   "outputs": [],
   "source": []
  },
  {
   "cell_type": "markdown",
   "metadata": {},
   "source": [
    "3) Implemente um Decorator que conta quantas vezes uma função é chamada e escreve este valor com `print`:\n",
    "\n",
    "```python\n",
    "@counter\n",
    "def say_hello():\n",
    "    print(\"Hello!\")\n",
    "    \n",
    "say_hello()\n",
    ">>> Chamado 1 vez\n",
    "say_hello()\n",
    ">>> Chamado 2 vezes\n",
    "say_hello()\n",
    ">>> Chamado 3 vezes\n",
    "```"
   ]
  },
  {
   "cell_type": "code",
   "execution_count": null,
   "metadata": {},
   "outputs": [],
   "source": []
  }
 ],
 "metadata": {
  "kernelspec": {
   "display_name": "Python 3",
   "language": "python",
   "name": "python3"
  },
  "language_info": {
   "codemirror_mode": {
    "name": "ipython",
    "version": 3
   },
   "file_extension": ".py",
   "mimetype": "text/x-python",
   "name": "python",
   "nbconvert_exporter": "python",
   "pygments_lexer": "ipython3",
   "version": "3.6.2"
  }
 },
 "nbformat": 4,
 "nbformat_minor": 2
}
