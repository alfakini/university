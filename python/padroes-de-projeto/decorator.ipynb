{
 "cells": [
  {
   "cell_type": "markdown",
   "metadata": {},
   "source": [
    "# PADRÕES DE PROJETO EM PYTHON\n",
    "\n",
    "[![Google Colab](https://img.shields.io/badge/launch-decorator-yellow.svg)](https://colab.research.google.com/github/catolicasc-joinville/lp1-notebooks/blob/master/3-padroes-de-projeto/1-decorator.ipynb) [launch](https://colab.research.google.com/github/catolicasc-joinville/lp1-notebooks/blob/master/3-padroes-de-projeto/1-decorator.ipynb)\n",
    "\n",
    "Os [padrões de projeto](https://pt.wikipedia.org/wiki/Padr%C3%A3o_de_projeto_de_software) foram documentados pela primeira vez pelo grupo GoF ([Gang of Four](https://en.wikipedia.org/wiki/Design_Patterns)). Inicialmente foram descobertos 23 padrões de projeto e documentados foco nas linguagens C++ e Java. Desde então, as linguagens de programação evoluíram e vários desses padrões foram implementados em nível de linguagem, como é feito em Python.\n",
    "\n",
    "Os padrões podem ser divididos em 3 categorias.\n",
    "\n",
    "**Padrões de criação**: funcionam com base no modo como os objetos podem ser criados isolando os detalhes da criação dos objetos. O código é independente do tipo do objeto a ser criado.\n",
    "\n",
    "**Padrões estruturais**: determinam o design da estrutura de objetos e classes para que estes possam ser compostos. O foco está em simplificar a estrutura e identificar o relacionamento entre classes e objetos. Está focado na herança e composição de classes.\n",
    "\n",
    "**Padrões comportamentais**: estão preocupados com a interação entre os objetos e suas responsabilidades. Os objetos deve ser capazes de interagir e, mesmo assim, devem ter baixo acoplamento.\n",
    "\n",
    "Em linguagens dinâmicas como Python os tipos e classes são objetos criados em tempo de execução. As variáveis podem ter seu tipo definido a partir de um valor atribuído e podem ser modificadas em tempo de execução. Por exemplo, se definirmos a variável `variavel = 42`, podemos modificarmos p seu valor para `variavel = 'Quarenta e Dois` em tempo de execução, isso também muda o tipo da variável.\n",
    "\n",
    "No geral, linguagens dinâmicas também são mais flexíveis em relação às restrições na contrução de classes. Por exemplo, em Python o polimorfismo está embutido na linguagem e não existem palavras reservadas como `private` e `protected`.\n",
    "\n",
    "O uso de Padrões de Projetos nos fornecem algumas vantagens:\n",
    "\n",
    "* Fornecem uma linguagem comum para todos os desenvolvedores do projeto;\n",
    "* Os Padrões são reutilizáveis em vários projetos;\n",
    "* Nos ajudam a solucionar problemas de arquitetura;\n",
    "* São confiáveis;\n",
    "* Diminuem a carga mental ao tentar solucionar problemas.\n",
    "\n",
    "Nem todo código pode virar um Padrão de Projeto. Alguns códigos são apenas trechos que servem a determinado propósito como por exemplo realizar uma conexão com o banco de dados. Outros códigos podem ser apenas uma convensão. Um padrão é uma solução eficiente e escalável, resistente ao teste do tempo que resolverá toda uma classe de problemas conhecidos.\n",
    "\n",
    "Padrões de Projetos são independentes de linguagem e podem ser implementados em linguagens diferentes. Eles podem ser personalizados de forma a se tornarem mais úteis aos desenvolvedores e não têm por objetivo resolver todos os problemas.\n",
    "\n",
    "Descubra mais sobre Design Patterns:\n",
    "\n",
    "* https://www.industriallogic.com/xp/refactoring/catalog.html\n",
    "* https://sourcemaking.com\n",
    "* https://github.com/faif/python-patterns\n",
    "* https://github.com/iluwatar/java-design-patterns\n",
    "* https://www.toptal.com/python/python-design-patterns"
   ]
  },
  {
   "cell_type": "markdown",
   "metadata": {},
   "source": [
    "## PADRÃO DECORATOR\n",
    "\n",
    "Decorators permitem adicionar um comportamento a funções, métodos e objetos já existentes em tempo de execução, ou seja, agregar dinamicamente responsabilidades adicionais. Decorators oferecem uma alternativa flexível ao uso de herança para estender uma funcionalidade, com isso adiciona-se uma responsabilidade ao objeto e não à classe [[*]](https://pt.wikipedia.org/wiki/Decorator). O uso de Decorators nos ajuda a adicionar funcionalidades à um objeto sem a necessidade de usar herança.\n",
    "\n",
    "![Decorator](assets/design_patterns/decorator.png)"
   ]
  },
  {
   "cell_type": "markdown",
   "metadata": {},
   "source": [
    "Em Python Decorators são implementados usando funções, então antes de entender o que é e como usar o Decorator, vamos entender um pouco mais sobre funções. \n",
    "\n",
    "Funções são trechos de código que recebem parâmetros, realizam operações e retornam algum valor. Abaixo uma função que implementa a soma de dois números:\n",
    "\n",
    "```python\n",
    "def sum(one, two):\n",
    "    return (one + two)\n",
    "```\n",
    "\n",
    "Em Python. funções são \"objetos de primeira classe\". Isso significa que funções podem ser passadas como parâmetro, utilizadas como retorno de outras funções, assim como qualquer outro time (string, int, float).\n",
    "\n",
    "Vamos ver como usar este poder! Atribuindo funções à variáveis:"
   ]
  },
  {
   "cell_type": "code",
   "execution_count": null,
   "metadata": {},
   "outputs": [],
   "source": [
    "def greet(name):\n",
    "    return f\"Hello {name}\"\n",
    "\n",
    "greet_someone = greet\n",
    "print(greet_someone(\"World\"))"
   ]
  },
  {
   "cell_type": "markdown",
   "metadata": {},
   "source": [
    "Definindo funções dentro de outras funções:"
   ]
  },
  {
   "cell_type": "code",
   "execution_count": null,
   "metadata": {},
   "outputs": [],
   "source": [
    "def greet(name):\n",
    "    def get_message():\n",
    "        return \"Hello\"\n",
    "\n",
    "    result = f\"{get_message()} {name}\"\n",
    "    return result\n",
    "\n",
    "print(greet(\"World\"))"
   ]
  },
  {
   "cell_type": "markdown",
   "metadata": {},
   "source": [
    "Passando funções como parâmetro para outra função:"
   ]
  },
  {
   "cell_type": "code",
   "execution_count": null,
   "metadata": {},
   "outputs": [],
   "source": [
    "def greet(name):\n",
    "    return f\"Hello {name}\" \n",
    "\n",
    "def call_func(func):\n",
    "    other_name = \"World\"\n",
    "    return func(other_name)  \n",
    "\n",
    "print(call_func(greet))"
   ]
  },
  {
   "cell_type": "markdown",
   "metadata": {},
   "source": [
    "Funções podem ser definidas dentro de outras funções e retornadas. Estas funções são chamadas de \"nested functions\":"
   ]
  },
  {
   "cell_type": "code",
   "execution_count": null,
   "metadata": {},
   "outputs": [],
   "source": [
    "def compose_greet_func():\n",
    "    def get_message():\n",
    "        return \"Hello World!\"\n",
    "\n",
    "    return get_message\n",
    "\n",
    "greet = compose_greet_func()\n",
    "print(greet())"
   ]
  },
  {
   "cell_type": "markdown",
   "metadata": {},
   "source": [
    "Funções definidas dentro de outras funções tem acesso ao escopo onde estão incluídas. Este comportamento é conhecido como \"closure\". Em Python temos acesso apenas a leitura de valores do escopo, não à escrita:"
   ]
  },
  {
   "cell_type": "code",
   "execution_count": null,
   "metadata": {},
   "outputs": [],
   "source": [
    "def compose_greet_func(name):\n",
    "    def get_message():\n",
    "        return f\"Hello there {name}!\"\n",
    "\n",
    "    return get_message\n",
    "\n",
    "greet = compose_greet_func(\"World\")\n",
    "print(greet())"
   ]
  },
  {
   "cell_type": "markdown",
   "metadata": {},
   "source": [
    "Agora que aprendemos um pouco mais sobre funções, vamos entender os Decorators. Decorators nada mais são do que funções para envolver outras funções, wrappers, modificando seu comportamento."
   ]
  },
  {
   "cell_type": "code",
   "execution_count": null,
   "metadata": {},
   "outputs": [],
   "source": [
    "def decorator(funcao):\n",
    "    def wrapper():\n",
    "        print(\"Before function\")\n",
    "        funcao()\n",
    "        print(\"After function\")\n",
    "\n",
    "    return wrapper\n",
    "\n",
    "def other_function():\n",
    "    print(\"Function\")\n",
    "\n",
    "decorated_function = decorator(other_function)\n",
    "decorated_function()"
   ]
  },
  {
   "cell_type": "markdown",
   "metadata": {},
   "source": [
    "Dessa forma, conseguimos adicionar qualquer comportamento antes e depois da execução de uma função qualquer. Vamos fazer agora um exemplo mais útil, algo que todo mundo que desenvolve software teve que fazer alguma vez vida: calcular o tempo de execução de determinada função [[*]](https://pythonacademy.com.br/blog/domine-decorators-em-python):"
   ]
  },
  {
   "cell_type": "code",
   "execution_count": null,
   "metadata": {},
   "outputs": [],
   "source": [
    "import time\n",
    "\n",
    "def duration(function):\n",
    "    def wrapper():\n",
    "        initial_time = time.time()\n",
    "        function()\n",
    "        final_time = time.time()\n",
    "\n",
    "        total_time = str(final_time - initial_time)\n",
    "        print(f\"[{function.__name__}] Total time: {total_time}\")\n",
    "\n",
    "    return wrapper\n",
    "\n",
    "def test_function_one():\n",
    "    for n in range(0, 10000000):\n",
    "        pass\n",
    "test_function_one = duration(test_function_one)\n",
    "\n",
    "def test_function_two():\n",
    "    for n in range(0, 100000000):\n",
    "        pass\n",
    "test_function_two = duration(test_function_two)\n",
    "\n",
    "test_function_one()\n",
    "test_function_two()"
   ]
  },
  {
   "cell_type": "markdown",
   "metadata": {},
   "source": [
    "Python torna a criação e uso de Decorators mais simples através de um [\"syntactic sugar\"](https://en.wikipedia.org/wiki/Syntactic_sugar). Para decorar `test_function_one` não precisamos fazer a atribuição `test_function_one = decorator(test_function_one)`. Uma notação especial representada pelo símbolo `@` foi definida na [PEP 318](https://www.python.org/dev/peps/pep-0318/):"
   ]
  },
  {
   "cell_type": "code",
   "execution_count": null,
   "metadata": {},
   "outputs": [],
   "source": [
    "@duration\n",
    "def test_function_one():\n",
    "    for n in range(0, 10000000):\n",
    "        pass\n",
    "\n",
    "@duration\n",
    "def test_function_two():\n",
    "    for n in range(0, 100000000):\n",
    "        pass\n",
    "\n",
    "test_function_one()\n",
    "test_function_two()"
   ]
  },
  {
   "cell_type": "markdown",
   "metadata": {},
   "source": [
    "Este padrão é muito importante no universo Python e também em outras linguagens. Em Java, por exemplo, este padrão é chamado de \"Anotation\". Usamos Decorators por exemplo no framework [Flask](http://flask.pocoo.org/) para definir as rotas de um servidor de aplicação web:\n",
    "\n",
    "```python\n",
    "@app.route('/api/users')\n",
    "def users_list():\n",
    "    users = [1, 2, 3]\n",
    "    return jsonify(users)\n",
    "```\n",
    "\n",
    "Toda vez que uma requisição for feita para o endpoint `/api/users` a lista de usuários será retornada.\n",
    "\n",
    "É possível ainda criar um Decorator que recebe parâmetros:"
   ]
  },
  {
   "cell_type": "code",
   "execution_count": null,
   "metadata": {},
   "outputs": [],
   "source": [
    "import functools\n",
    "\n",
    "def repeat(num_times):\n",
    "    def decorator_repeat(func):\n",
    "        @functools.wraps(func)\n",
    "        def wrapper_repeat(*args, **kwargs):\n",
    "            for _ in range(num_times):\n",
    "                value = func(*args, **kwargs)\n",
    "            return value\n",
    "        return wrapper_repeat\n",
    "    return decorator_repeat\n",
    "    \n",
    "@repeat(num_times=4)\n",
    "def greet(name):\n",
    "    print(f\"Hello {name}\")\n",
    "\n",
    "greet(\"World\")"
   ]
  },
  {
   "cell_type": "markdown",
   "metadata": {},
   "source": [
    "Veja que introduzimos aqui uma nova função, a `functools.wraps`. Usamos esta função para nos ajudar a definir um Decorator que pode receber parâmetros. Quer entender melhor como isso funciona? Veja a [documentação do Python](https://docs.python.org/3.7/library/functools.html)."
   ]
  },
  {
   "cell_type": "markdown",
   "metadata": {},
   "source": [
    "É possível ainda guardar estado dentro de Decorators. Podemos usar esta habilidade para criar por exemplo uma função de cache e evitar chamadas repetidas de um a determinada função:"
   ]
  },
  {
   "cell_type": "code",
   "execution_count": 22,
   "metadata": {},
   "outputs": [
    {
     "name": "stdout",
     "output_type": "stream",
     "text": [
      "55\n",
      "[cache] Getting value from cache 55\n",
      "55\n",
      "21\n",
      "[cache] Getting value from cache 21\n",
      "21\n"
     ]
    }
   ],
   "source": [
    "import functools\n",
    "\n",
    "def cache(func):\n",
    "    @functools.wraps(func)\n",
    "    def wrapper_cache(*args, **kwargs):\n",
    "        cache_key = args + tuple(kwargs.items())\n",
    "        if cache_key not in wrapper_cache.cache:\n",
    "            wrapper_cache.cache[cache_key] = func(*args, **kwargs)\n",
    "            return wrapper_cache.cache[cache_key]\n",
    "        else:\n",
    "            print(f\"[cache] Getting value from cache {wrapper_cache.cache[cache_key]}\")\n",
    "            return wrapper_cache.cache[cache_key]\n",
    "    wrapper_cache.cache = dict()\n",
    "    return wrapper_cache\n",
    "\n",
    "def fibonacci_call(num):\n",
    "    if num < 2:\n",
    "        return num\n",
    "    return fibonacci_call(num - 1) + fibonacci_call(num - 2)\n",
    "\n",
    "@cache\n",
    "def fibonacci(num):\n",
    "    return fibonacci_call(num)\n",
    "\n",
    "print(fibonacci(10))\n",
    "print(fibonacci(10))\n",
    "print(fibonacci(8))\n",
    "print(fibonacci(8))"
   ]
  },
  {
   "cell_type": "markdown",
   "metadata": {},
   "source": [
    "Podemos ainda definir uma classe como um Decorator:"
   ]
  },
  {
   "cell_type": "code",
   "execution_count": 24,
   "metadata": {},
   "outputs": [
    {
     "name": "stdout",
     "output_type": "stream",
     "text": [
      "Call 1 of 'say_whee'\n",
      "Whee!\n",
      "Call 2 of 'say_whee'\n",
      "Whee!\n",
      "Call 3 of 'say_whee'\n",
      "Whee!\n",
      "Call 4 of 'say_whee'\n",
      "Whee!\n",
      "Call 5 of 'say_whee'\n",
      "Whee!\n"
     ]
    }
   ],
   "source": [
    "import functools\n",
    "\n",
    "class CountCalls:\n",
    "    def __init__(self, func):\n",
    "        functools.update_wrapper(self, func)\n",
    "        self.func = func\n",
    "        self.num_calls = 0\n",
    "\n",
    "    def __call__(self, *args, **kwargs):\n",
    "        self.num_calls += 1\n",
    "        print(f\"Call {self.num_calls} of {self.func.__name__!r}\")\n",
    "        return self.func(*args, **kwargs)\n",
    "\n",
    "@CountCalls\n",
    "def say_whee():\n",
    "    print(\"Whee!\")\n",
    "    \n",
    "say_whee()\n",
    "say_whee()\n",
    "say_whee()\n",
    "say_whee()\n",
    "say_whee()"
   ]
  },
  {
   "cell_type": "markdown",
   "metadata": {},
   "source": [
    "Descubra mais sober o padrão Decorator:\n",
    "\n",
    "* https://realpython.com/primer-on-python-decorators\n",
    "* https://en.wikipedia.org/wiki/Decorator_pattern\n",
    "* https://docs.python.org/3.7/library/functools.html\n",
    "* https://docs.python.org/3/glossary.html#term-decorator\n",
    "* https://www.thecodeship.com/patterns/guide-to-python-function-decorators\n",
    "* https://docs.python.org/3/library/functions.html\n",
    "* https://docs.python.org/3/library/functools.html"
   ]
  },
  {
   "cell_type": "code",
   "execution_count": null,
   "metadata": {},
   "outputs": [],
   "source": []
  }
 ],
 "metadata": {
  "kernelspec": {
   "display_name": "Python 3",
   "language": "python",
   "name": "python3"
  },
  "language_info": {
   "codemirror_mode": {
    "name": "ipython",
    "version": 3
   },
   "file_extension": ".py",
   "mimetype": "text/x-python",
   "name": "python",
   "nbconvert_exporter": "python",
   "pygments_lexer": "ipython3",
   "version": "3.6.2"
  }
 },
 "nbformat": 4,
 "nbformat_minor": 2
}
