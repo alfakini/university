{
 "cells": [
  {
   "cell_type": "markdown",
   "metadata": {},
   "source": [
    "# EXERCÍCIOS SINGLETON\n",
    "\n",
    "[![Google Colab](https://img.shields.io/badge/launch-exercicios-yellow.svg)](https://colab.research.google.com/github/catolicasc-joinville/lp1-notebooks/blob/master/3-padroes-de-projeto/2.1-exercicios.ipynb) [launch](https://colab.research.google.com/github/catolicasc-joinville/lp1-notebooks/blob/master/3-padroes-de-projeto/2.1-exercicios.ipynb)"
   ]
  },
  {
   "cell_type": "markdown",
   "metadata": {},
   "source": [
    "1) A classe `Increment` apresentada abaixo deve incrementar em 1 toda vez que é instanciada. Converta ela para uma classe do tipo Singleton para que este comportamento seja executado como esperado:"
   ]
  },
  {
   "cell_type": "code",
   "execution_count": 1,
   "metadata": {},
   "outputs": [
    {
     "name": "stdout",
     "output_type": "stream",
     "text": [
      "Current value 1\n",
      "Current value 1\n"
     ]
    }
   ],
   "source": [
    "class Incremental:\n",
    "    count = 0\n",
    "\n",
    "    def increment(self):\n",
    "        self.count += 1\n",
    "        \n",
    "    def __str__(self):\n",
    "        return f\"Current value {self.count}\"\n",
    "        \n",
    "i1 = Incremental()\n",
    "i1.increment()\n",
    "print(i1)\n",
    "\n",
    "i2 = Incremental()\n",
    "i2.increment()\n",
    "print(i2)"
   ]
  },
  {
   "cell_type": "markdown",
   "metadata": {},
   "source": [
    "A saída deveria ser:\n",
    "\n",
    "```\n",
    "Current value 1\n",
    "Current value 2\n",
    "```\n",
    "\n",
    "Implemente a classe Incremental usando o padrão Singleton:"
   ]
  },
  {
   "cell_type": "code",
   "execution_count": null,
   "metadata": {},
   "outputs": [],
   "source": []
  },
  {
   "cell_type": "markdown",
   "metadata": {},
   "source": [
    "2) Implemente uma classe chamada `BancoDeDados` que possui uma única instância e nos permite adicionar e consultar elementos. A classe `BancoDeDados` deve ser implementada como um Singleton:"
   ]
  },
  {
   "cell_type": "code",
   "execution_count": null,
   "metadata": {},
   "outputs": [],
   "source": []
  }
 ],
 "metadata": {
  "kernelspec": {
   "display_name": "Python 3",
   "language": "python",
   "name": "python3"
  },
  "language_info": {
   "codemirror_mode": {
    "name": "ipython",
    "version": 3
   },
   "file_extension": ".py",
   "mimetype": "text/x-python",
   "name": "python",
   "nbconvert_exporter": "python",
   "pygments_lexer": "ipython3",
   "version": "3.6.2"
  }
 },
 "nbformat": 4,
 "nbformat_minor": 2
}
