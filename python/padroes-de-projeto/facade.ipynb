{
 "cells": [
  {
   "cell_type": "markdown",
   "metadata": {},
   "source": [
    "## PADRÃO FAÇADE (FACHADA)\n",
    "\n",
    "[![Google Colab](https://img.shields.io/badge/launch-factory-yellow.svg)](https://colab.research.google.com/github/catolicasc-joinville/lp1-notebooks/blob/master/3-padroes-de-projeto/4-facade.ipynb) [launch](https://colab.research.google.com/github/catolicasc-joinville/lp1-notebooks/blob/master/3-padroes-de-projeto/4-factory.ipynb)\n",
    "\n",
    "Façade é um Padrão de Projeto estrutural. Esses padrões descrevem como os objetos e classes podem ser combinados para compor estruturas maiores. Temos dois principais padrões estruturais que nós já usamos: Classe e Objeto. Classe descreve abstrações com a ajuda de herança e oferece uma interface de programação mais conveniente. O padrão Objecto descreve como objetos podem ser associados e compostos para formar objetos maiores. Padrões estruturais são combinações de Classes e Objetos.\n",
    "\n",
    "O Fachada (Façade) refere-se à face de uma construção, em especial, uma face atraente. O padrão Façade oculta as complexidades do sistema interno e oferece uma interface ao cliente para que este possa acessar o sistema de forma bem simplificada.\n",
    "\n",
    "Considere o exemplo de um atendente de loja. Quando você, como cliente, vai a uma do loja para comprar determinados itens, você não tem conhecimento do layout da loja. Geralmente você chama um atendente que conhece bem o sistema da loja. Com base em suas solicitações, o atendente escolhe alguns itens e entrega para você. O cliente não precisa saber como é a loja, ele tem o serviço feito por meio de uma interface, o atendente.\n",
    "\n",
    "O padrão de projeto Façade faz essencialmente o seguinte:\n",
    "\n",
    "* Oferece uma interface unificada para um conjunto de interfaces em um subsistema e define uma interface de alto nível que ajuda o cliente a usar o subsistema de forma fácil\n",
    "* O Façade procura fazer a representação de um subsistema complexo com um único objeto de interface. Ela não encapsula o subsistema, mas, na verdade, combina os subsistemas subjacentes\n",
    "* Promove desacoplamento da implementação com vários clientes\n",
    "\n",
    "Veja um exemplo de implementação do padrão usando a representação em UML:\n",
    "\n",
    "![design-patterns-facade](assets/design_patterns/design-pattern-facade.png)\n",
    "\n",
    "Como pode-se observar, você perceberá que já 3 tipos de entidades principais no padrão: Façade, Sistema e Cliente.\n",
    "\n",
    "O **Façade** é responsável por englobar um grupo complexo de subsistemas de modo que a fachada possa oferecer uma aparência agradável ao mundo externo. Ele é uma interface que sabe quais subsistemas são responsáveis por uma requisição e delega essa requisição para os objetos de subsistemas apropriados usando composição.\n",
    "\n",
    "O **Sistema** representa um conjunto de subsistemas variados que compõem o sistema como um todo, que é difícil de visualizar ou com o qual é complicado trabalhar. Ele implementa funcionalidades de subsistema e é representado por uma classe. O ideal é que um Sistema seja represenado por um grupo de classes responsáveis por diferentes operações. \n",
    "\n",
    "O **Cliente** interage com o Façade para que ele possaa se comunicar facilmente com o subsistema e ter uma tarefa concluída. O cliente não precisa se preocupar com a natureza complexa do sistema.\n",
    "\n",
    "#### Exemplo\n",
    "\n",
    "Para exemplificar a implementação do padrão, suponha que haja um casamento e existe um sistema responsável por toda a organização. No passado, a gente precisaria fazer tudo sozinho, hoje podemos contar com um sistema organizador de casamentos. Este sistema é a \"fachada\" de organização do casamento, dentro dele, teremos:\n",
    "\n",
    "* **Cliente** Somos nós, através de uma aplicação, que precisamos da organização do casamento\n",
    "* **Façade** É o sistema organizador de casamentos, o `EventManager`\n",
    "* **Subsistemas** Representam os sistemas que oferecem os servic'so como bufê, gerenciamento de hotel e decorações\n",
    "\n",
    "Agora faça o seguinte! A partir o esqueleto de código abaixo, implemente o padrão Façade para o casamento que deve fazer a reserva em um hotel, contratar florista, organizar o buffet e escolher os músicos.\n",
    "\n",
    "```python\n",
    "\n",
    "class Hotelier:\n",
    "    def isAvailable(self):\n",
    "        pass\n",
    "    \n",
    "    def book(self):\n",
    "        pass\n",
    "    \n",
    "class Florist:\n",
    "    def setFlowers(self):\n",
    "        pass\n",
    "    \n",
    "class Caterer:\n",
    "    def setCuisine(self):\n",
    "        pass\n",
    "    \n",
    "class Musician:\n",
    "    def setMusicType(self):\n",
    "        pass\n",
    "    \n",
    "class EventManager:\n",
    "    def arrange(self):\n",
    "        pass\n",
    "\n",
    "class CommandClient:\n",
    "    pass\n",
    "```"
   ]
  },
  {
   "cell_type": "markdown",
   "metadata": {},
   "source": [
    "Além de oferecer um sistema unificado que facilita o uso de subsistemas, o padrão Façade facilita o desacoplamento do cliente e dos subsistemas de componentes. O princípio pro trás disso é o \"Princípio do Conhecimento Mínimo\" ([Law of Demeter](https://en.wikipedia.org/wiki/Law_of_Demeter)), que nos orienta no sentido de reduzir as interações entre os objetos e apenas alguns poucos outros objetos podem interagir com ele. Isso nos ajuda a evitar os casos onde existem classes altamente acopladas com outras. Se existir muitas dependências entre as classes, o sistema será difícil de manter. Quanlquer mudança em uma parte do sistema poderá quebrar outras partes. Em resumo, a Lei de Demeter diz:\n",
    "\n",
    "* Cada unidade deve ter conhecimento limitado sobre outras unidades: apenas unidades \"próximas\" se relacionam à unidade atual\n",
    "* Cada unidade deve apenas conversar com seus amigos; Não fale com estranhos\n",
    "* Apenas fale com seus amigos imediatos\n"
   ]
  },
  {
   "cell_type": "markdown",
   "metadata": {},
   "source": [
    "# GANHE PONTOS EXTRAS!\n",
    "\n",
    "Que ganhar pontos extras com o professor? Tá precisando de nota na matéria? Então traduza os artigos da wikipedia sobre a Lei de Demeter e sobre acoplamento para o português:\n",
    "\n",
    "* https://en.wikipedia.org/wiki/Law_of_Demeter\n",
    "* https://en.wikipedia.org/wiki/Loose_coupling"
   ]
  },
  {
   "cell_type": "code",
   "execution_count": null,
   "metadata": {},
   "outputs": [],
   "source": []
  }
 ],
 "metadata": {
  "kernelspec": {
   "display_name": "Python 3",
   "language": "python",
   "name": "python3"
  },
  "language_info": {
   "codemirror_mode": {
    "name": "ipython",
    "version": 3
   },
   "file_extension": ".py",
   "mimetype": "text/x-python",
   "name": "python",
   "nbconvert_exporter": "python",
   "pygments_lexer": "ipython3",
   "version": "3.6.2"
  }
 },
 "nbformat": 4,
 "nbformat_minor": 2
}
