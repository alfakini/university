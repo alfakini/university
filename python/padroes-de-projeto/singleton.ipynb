{
 "cells": [
  {
   "cell_type": "markdown",
   "metadata": {},
   "source": [
    "# PADRÃO SINGLETON\n",
    "\n",
    "[![Google Colab](https://img.shields.io/badge/launch-singleton-yellow.svg)](https://colab.research.google.com/github/catolicasc-joinville/lp1-notebooks/blob/master/3-padroes-de-projeto/2-singleton.ipynb) [launch](https://colab.research.google.com/github/catolicasc-joinville/lp1-notebooks/blob/master/3-padroes-de-projeto/2-singleton.ipynb)\n",
    "\n",
    "Este padrão proporciona uma forma de se ter um e somente uma instância de um objeto de um determinado tipo, além de disponibilizar um ponto de acesso global a este objeto. Este tipo de padrão é geralmente usado em casos como logging, operações do banco de dados, spoolers de impressão e muitos outros cenários em que seja necessário que haja apenas uma instância disponível para toda a aplicação a fim de evitar requisições conflitantes para o mesmo recurso.\n",
    "\n",
    "Em resumo, este padrão:\n",
    "* Garante que uma e somente uma instância de um objeto da classe será criada;\n",
    "* Oferece um ponto de acesso único global para um objeto;\n",
    "* Controla o acesso concorrente a recursos compartilhados.\n",
    "\n",
    "O diagrama UML a seguir representa uma implementação do padrão Singleton:\n",
    "\n",
    "![design-patterns-singleton](assets/design_patterns/design-patterns-singleton.png)\n",
    "\n",
    "Nesta implementação deixamos o construtor privado e criamos um método estático que faz a inicialização do objeto. Desta forma, um objeto é criado na primeira chamada e a classe devolverá o mesmo objeto a partir daí.\n",
    "\n",
    "Em Python podemos implementar da seguinte forma:"
   ]
  },
  {
   "cell_type": "code",
   "execution_count": null,
   "metadata": {},
   "outputs": [],
   "source": [
    "class Singleton:\n",
    "    @classmethod\n",
    "    def instance(cls):\n",
    "        if not hasattr(cls, 'inst'):\n",
    "            cls.inst = super().__new__(cls)\n",
    "        return cls.inst\n",
    "\n",
    "s1 = Singleton.instance()\n",
    "s2 = Singleton.instance()\n",
    "print(s1)\n",
    "print(s2)"
   ]
  },
  {
   "cell_type": "markdown",
   "metadata": {},
   "source": [
    "A função `@classmethod` é um tipo especial de função usada em Python chamada de decorator. Decorators funcionam como um invólucro (wrapper) modificando o comportamento de uma função ou método antes e depois da execução dela sem a necessidade de modificar a função em si, aumentando sua funcionalidade original. E olha que legal! Estamos usando um Padrão de Projeto para implementar outro :)\n",
    "\n",
    "O decorator `@classmethod` é usada para chamarmos um método da classe sem instanciar um objeto dessa classe. Métodos decorados com `@classmethod` podem ser sobreescritos por subclasses. O primeiro argumento de um método decorado com `@classmethod` sempre deve ser `cls` (class). o decorator `@classmethod` facilita também a legibilidade do código. Ao ver `@staticmethod`, sabemos que o método não depende do estado do próprio objeto. Aprenda mais sobre [decorator aqui](https://www.thecodeship.com/patterns/guide-to-python-function-decorators/).\n",
    "\n",
    "Podemos melhorar um pouco mais este código, deixando o padrão `Singleton` ainda mais simples e \"pythonico`:\n"
   ]
  },
  {
   "cell_type": "code",
   "execution_count": null,
   "metadata": {},
   "outputs": [],
   "source": [
    "class Singleton:\n",
    "    def __new__(cls):\n",
    "        if not hasattr(cls, 'instance'):\n",
    "            cls.instance = super().__new__(cls)\n",
    "        return cls.instance\n",
    "\n",
    "s1 = Singleton()\n",
    "s2 = Singleton()\n",
    "print(s1)\n",
    "print(s2)"
   ]
  },
  {
   "cell_type": "markdown",
   "metadata": {},
   "source": [
    "Repare que o endereço de memória nos dois casos é o mesmo.\n",
    "\n",
    "Em Python o método `__new__` é responsável por instanciar objetos, por isso sobrescrevemos ele para controlar a criação dos objetos garantindo que apenas um seja instanciado. Veja, você pensava que esta era a função do método `__init__` né? Mas a função do método `__init__` é inicializar o objeto, quando ele já foi instanciado.\n",
    "\n",
    "No código acima o métodod `hasattr` é usado para saber se o objeto contém uma determinada propriedade. Neste caso estamos testando se a classe ainda não tem uma instância do objeto. Se não tiver, criamos uma, se não, retornamos ela.\n",
    "\n",
    "Podemos implementar este padrão usando outras formas na linguagem Python, como por exemplo metaclasses. Uma metaclasse é uma classe cujas instâncias são classes. Como uma classe \"ordinária\" define o comportamento das instâncias da classe (os objetos), uma metaclasse define o comportamento das classes e suas instâncias 🤯. Mais sobre [metaclasses aqui](https://realpython.com/python-metaclasses/).\n",
    "\n",
    "Como a metaclasse tem mais controle sobre a criação da classe e a instanciação de objetos, ela pode ser usada para criar Singletons:"
   ]
  },
  {
   "cell_type": "code",
   "execution_count": null,
   "metadata": {},
   "outputs": [],
   "source": [
    "class Singleton(type):\n",
    "    _instances = {}\n",
    "        \n",
    "    def __call__(cls, *args, **kwargs):\n",
    "        if cls not in cls._instances:\n",
    "            cls._instances[cls] = super().__call__(*args, **kwargs)\n",
    "        return cls._instances[cls]\n",
    "\n",
    "\n",
    "class Logger(metaclass=Singleton):\n",
    "    def log(self, message):\n",
    "        print(f\"[LOG] {message}\")\n",
    "\n",
    "\n",
    "logger1 = Logger()\n",
    "logger2 = Logger()\n",
    "print(logger1)\n",
    "print(logger2)"
   ]
  },
  {
   "cell_type": "markdown",
   "metadata": {},
   "source": [
    "Desta forma podemos começar a criar nossa própria biblioteca de Padrões de Projeto. Neste caso, uma classe do tipo `Singleton` que podemos usar para extender todas as classes que queremos usar com este padrão!\n",
    "\n",
    "Descubra mais sobre o padrão Singleton!\n",
    "\n",
    "* https://www.oodesign.com/singleton-pattern.html\n",
    "* https://en.wikipedia.org/wiki/Singleton_pattern\n",
    "* https://python-3-patterns-idioms-test.readthedocs.io/en/latest/Singleton.html\n",
    "* https://sourcemaking.com/design_patterns/singleton/python/1\n"
   ]
  },
  {
   "cell_type": "code",
   "execution_count": null,
   "metadata": {},
   "outputs": [],
   "source": []
  }
 ],
 "metadata": {
  "kernelspec": {
   "display_name": "Python 3",
   "language": "python",
   "name": "python3"
  },
  "language_info": {
   "codemirror_mode": {
    "name": "ipython",
    "version": 3
   },
   "file_extension": ".py",
   "mimetype": "text/x-python",
   "name": "python",
   "nbconvert_exporter": "python",
   "pygments_lexer": "ipython3",
   "version": "3.6.2"
  }
 },
 "nbformat": 4,
 "nbformat_minor": 2
}
