{
 "cells": [
  {
   "cell_type": "markdown",
   "metadata": {},
   "source": [
    "## PADRÃO FACTORY\n",
    "\n",
    "[![Google Colab](https://img.shields.io/badge/launch-factory-yellow.svg)](https://colab.research.google.com/github/catolicasc-joinville/lp1-notebooks/blob/master/3-padroes-de-projeto/3-factory.ipynb) [launch](https://colab.research.google.com/github/catolicasc-joinville/lp1-notebooks/blob/master/3-padroes-de-projeto/3-factory.ipynb)\n",
    "\n",
    "Factory refere-se a uma classe responsável por criar objetos de outros tipos. O cliente chama um método da classe Factory com determinados parâmetros e os objetos dos tipos desejados são criados pela Factory e devolvidos ao cliente.\n",
    "\n",
    "Por que precisamos de uma classe do tipo Factory se o cliente pode criar ele mesmo os objetos? A Factory oferece algumas vantagens:\n",
    "\n",
    "* Baixo acoplamento, ou seja a criação de um objeto pode ser independente da implementação da classe desse objeto\n",
    "* O cliente não precisa conhecer a classe que cria o objeto, que, por sua vez, é utilizado pelo cliente. É necessário conhecer apenas a interface, os métodos e os parâmetros que devem ser passados, simplificando a implementação pelo cliente\n",
    "* Podemos adicionar novas classes que podem ser retornadas por uma Factory sem alterar a implementação do cliente\n",
    "\n",
    "Imagine o seguinte cenário. Uma fábrica é capaz de produzir diversos produtos e o gestor desta fábrica pode escolher o que ela produz em um determinado momento. Neste exemplo a fábrica é a nossa Factory, e o gestor o cliente. O Cliente não sabe como produzir um produto, mas ele sabe como pedir para a Factory fazer isso.\n",
    "\n",
    "O diagrama UML a seguir mostra uma implementação do padrão Factory:\n",
    "\n",
    "![design-patterns-factory](assets/design_patterns/design-patterns-factory.png)\n",
    "\n",
    "Neste caso, a classe cliente utiliza a classe Factory que tem o método `create_type()`. Quando o cliente chama o método `create_type()` com o parâmetro de tipo, a Factory devolve `Product1` ou `Product2` dependendo do parâmetro passado.\n",
    "\n",
    "Vejamos abaixo uma implementação usando o padrão Factory para uma classe abstrata `Animal` e as classes `Cat` e `Dog` que implementam ela. Aqui temos algo novo! Em Python, para implementar uma classe abstrata precisamos extender ela de `ABC` (Abstract Base Class). Veja [a documentação da linguagem Python](https://docs.python.org/3/library/abc.html) para mais detalhes sobre ela.\n",
    "\n",
    "A classe `Animal` tem o método `do_say()` que também deve ser implementado por `Cat` e `Dog` retornando o som apropriado para cada animal. A classe `ForestFactory` tem o método `make_animal()`, que de acordo com o tipo de argumento passado retorna o animal esperado."
   ]
  },
  {
   "cell_type": "code",
   "execution_count": 9,
   "metadata": {},
   "outputs": [],
   "source": [
    "from abc import ABC, abstractmethod\n",
    "\n",
    "class Animal(ABC):\n",
    "    @abstractmethod\n",
    "    def do_say(self):\n",
    "        pass\n",
    "    \n",
    "class Dog(Animal):\n",
    "    def do_say(self):\n",
    "        print(\"Au au!\")\n",
    "\n",
    "class Cat(Animal):\n",
    "    def do_say(self):\n",
    "        print(\"Miau\")\n",
    "\n",
    "class ForestFactory:\n",
    "    def make_animal(self, object_type):\n",
    "        types = {\n",
    "            'cat': Cat,\n",
    "            'dog': Dog\n",
    "        }\n",
    "        \n",
    "        return types[object_type]()"
   ]
  },
  {
   "cell_type": "code",
   "execution_count": 10,
   "metadata": {},
   "outputs": [
    {
     "name": "stdout",
     "output_type": "stream",
     "text": [
      "Miau\n"
     ]
    }
   ],
   "source": [
    "factory = ForestFactory()\n",
    "cat = factory.make_animal('cat')\n",
    "cat.do_say()"
   ]
  },
  {
   "cell_type": "markdown",
   "metadata": {},
   "source": [
    "### Referências\n",
    "\n",
    "* https://python-3-patterns-idioms-test.readthedocs.io/en/latest/Factory.html\n",
    "* https://sourcemaking.com/design_patterns/factory_method/python/1\n",
    "* http://buildingskills.itmaybeahack.com/book/python-2.6/html/p03/p03c03_patterns.html#factory"
   ]
  },
  {
   "cell_type": "code",
   "execution_count": null,
   "metadata": {},
   "outputs": [],
   "source": []
  }
 ],
 "metadata": {
  "kernelspec": {
   "display_name": "Python 3",
   "language": "python",
   "name": "python3"
  },
  "language_info": {
   "codemirror_mode": {
    "name": "ipython",
    "version": 3
   },
   "file_extension": ".py",
   "mimetype": "text/x-python",
   "name": "python",
   "nbconvert_exporter": "python",
   "pygments_lexer": "ipython3",
   "version": "3.6.2"
  }
 },
 "nbformat": 4,
 "nbformat_minor": 2
}
