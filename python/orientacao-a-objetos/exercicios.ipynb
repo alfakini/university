{
 "cells": [
  {
   "cell_type": "markdown",
   "metadata": {},
   "source": [
    "# EXERCÍCIOS ORIENTAÇÃO A OBJETOS\n",
    "\n",
    "[![Google Colab](https://img.shields.io/badge/launch-Exercicios-yellow.svg)](https://colab.research.google.com/github/catolicasc-joinville/lp1-notebooks/blob/master/2-orientacao-a-objetos/2-exercicios.ipynb) [launch](https://colab.research.google.com/github/catolicasc-joinville/lp1-notebooks/blob/master/2-orientacao-a-objetos/2-exercicios.ipynb)\n",
    "\n",
    "1) Classe Retangulo: Crie uma classe que modele um retangulo:\n",
    "\n",
    "* **Atributos**: x, y (ou comprimento e largura)\n",
    "* **Métodos**:\n",
    "    * Mudar valor dos lados\n",
    "    * Retornar valor dos lados\n",
    "    * calcular Área\n",
    "    * calcular Perímetro\n",
    "\n",
    "Utilize esta classe em uma função. Ela deve receber as medidas de uma sala e deve criar um objeto com as medidas e calcular a quantidade de pisos e de rodapés necessárias para a sala."
   ]
  },
  {
   "cell_type": "code",
   "execution_count": null,
   "metadata": {},
   "outputs": [],
   "source": []
  },
  {
   "cell_type": "markdown",
   "metadata": {},
   "source": [
    "2) Classe Bichinho Virtual: Crie uma classe que modele um Tamagushi (Bichinho Eletrônico):\n",
    "\n",
    "* **Atributos**: Nome, Fome, Saúde e Idade\n",
    "* **Métodos**: Alterar Nome, Fome, Saúde e Idade; Retornar Nome, Fome, Saúde e Idade\n",
    "\n",
    "Existe mais uma informação que devemos levar em consideração, o Humor do nosso tamagushi, este humor é uma combinação entre os atributos Fome e Saúde, ou seja, um campo calculado, então não devemos criar um atributo para armazenar esta informação por que ela pode ser calculada a qualquer momento. "
   ]
  },
  {
   "cell_type": "code",
   "execution_count": null,
   "metadata": {},
   "outputs": [],
   "source": []
  },
  {
   "cell_type": "markdown",
   "metadata": {},
   "source": [
    "3) Classe carro: Implemente uma classe chamada Carro com as seguintes propriedades:\n",
    "\n",
    "    * Um veículo tem um certo consumo de combustível (medidos em km / litro) e uma certa quantidade de combustível no tanque.\n",
    "    * O consumo é especificado no construtor e o nível de combustível inicial é 0.\n",
    "    * Forneça um método andar( ) que simule o ato de dirigir o veículo por uma certa distância, reduzindo o nível de combustível no tanque de gasolina.\n",
    "    * Forneça um método obterGasolina( ), que retorna o nível atual de combustível.\n",
    "    * Forneça um método adicionarGasolina( ), para abastecer o tanque. Exemplo de uso:\n",
    "\n",
    "```python\n",
    "meuFusca = Carro(15);           # 15 quilômetros por litro de combustível. \n",
    "meuFusca.adicionarGasolina(20); # abastece com 20 litros de combustível. \n",
    "meuFusca.andar(100);            # anda 100 quilômetros.\n",
    "meuFusca.obterGasolina()        # Imprime o combustível que resta no tanque.\n",
    "```"
   ]
  },
  {
   "cell_type": "code",
   "execution_count": null,
   "metadata": {},
   "outputs": [],
   "source": []
  },
  {
   "cell_type": "markdown",
   "metadata": {},
   "source": [
    "4) Classe Bichinho Virtual++: Melhore o programa do bichinho virtual, permitindo que o usuário especifique quanto de comida ele fornece ao bichinho e por quanto tempo ele brinca com o bichinho. Faça com que estes valores afetem quão rapidamente os níveis de fome e tédio caem. "
   ]
  },
  {
   "cell_type": "code",
   "execution_count": null,
   "metadata": {},
   "outputs": [],
   "source": []
  },
  {
   "cell_type": "markdown",
   "metadata": {},
   "source": [
    "5) Dado a classe `No`, implemente uma classe que representa uma `Fila`, uma classe que representa uma `Pilha` e uma classe que representa uma `Arvore`"
   ]
  },
  {
   "cell_type": "code",
   "execution_count": null,
   "metadata": {},
   "outputs": [],
   "source": [
    "class No:\n",
    "    def __init__(self, dado=None, proximo=None):\n",
    "        self.dado = dado\n",
    "        self.proximo = proximo\n",
    "\n",
    "    def __str__(self):\n",
    "        return str(self.dado)"
   ]
  },
  {
   "cell_type": "markdown",
   "metadata": {},
   "source": [
    "### Fila\n",
    "\n",
    "Uma Fila deve conter as operações `insere(elemento)`, `remove`, `testa_vazia` e `to_list`.\n",
    "\n",
    "* `insere(elemento)` deve inserir o elemento no final da lista\n",
    "* `remove` deve remover o primeiro elemento da lista\n",
    "* `testa_vazia` deve retornar True ou False indicando se a fila está vazia\n",
    "* `to_list` deve retornar uma lista padrão Python que será usada nos testes implementados abaixo\n",
    "\n",
    "A Fila deve ter o atributo `tamanho`, que indica quantos elementos a fila possui."
   ]
  },
  {
   "cell_type": "code",
   "execution_count": null,
   "metadata": {},
   "outputs": [],
   "source": [
    "class Fila:\n",
    "    pass\n",
    "    ## IMPLEMENTE"
   ]
  },
  {
   "cell_type": "code",
   "execution_count": null,
   "metadata": {},
   "outputs": [],
   "source": [
    "fila = Fila()\n",
    "fila.insere(1)\n",
    "\n",
    "assert [1] == fila.to_list()\n",
    "assert 1 == fila.tamanho"
   ]
  },
  {
   "cell_type": "code",
   "execution_count": null,
   "metadata": {},
   "outputs": [],
   "source": [
    "fila.insere(2)\n",
    "\n",
    "assert [1, 2] == fila.to_list()\n",
    "assert 2 == fila.tamanho"
   ]
  },
  {
   "cell_type": "code",
   "execution_count": null,
   "metadata": {},
   "outputs": [],
   "source": [
    "fila.insere(3)\n",
    "\n",
    "assert [1, 2, 3] == fila.to_list()\n",
    "assert 3 == fila.tamanho"
   ]
  },
  {
   "cell_type": "code",
   "execution_count": null,
   "metadata": {},
   "outputs": [],
   "source": [
    "fila.remove()\n",
    "\n",
    "assert [2, 3] == fila.to_list()\n",
    "assert 2 == fila.tamanho"
   ]
  },
  {
   "cell_type": "code",
   "execution_count": null,
   "metadata": {},
   "outputs": [],
   "source": [
    "fila.remove()\n",
    "\n",
    "assert [3] == fila.to_list()\n",
    "assert 1 == fila.tamanho"
   ]
  },
  {
   "cell_type": "code",
   "execution_count": null,
   "metadata": {},
   "outputs": [],
   "source": [
    "fila.remove()\n",
    "\n",
    "assert [] == fila.to_list()\n",
    "assert fila.testa_vazia()"
   ]
  },
  {
   "cell_type": "markdown",
   "metadata": {},
   "source": [
    "### Pilha\n",
    "\n",
    "Uma Pilha deve conter as operações `empilha(elemento)`, `desempilha`, `testa_vazia` e `to_list`.\n",
    "\n",
    "* `empilha(elemento)` deve inserir o elemento no topo da pilha\n",
    "* `desempilha` deve remover o elemento do topo da pilha\n",
    "* `testa_vazia` deve retornar True ou False indicando se a pilha está vazia\n",
    "* `to_list` deve retornar uma lista padrão Python que será usada nos testes implementados abaixo\n",
    "\n",
    "A Pilha deve ter o atributo `tamanho`, que indica quantos elementos a fila possui."
   ]
  },
  {
   "cell_type": "code",
   "execution_count": null,
   "metadata": {},
   "outputs": [],
   "source": [
    "class Pilha:\n",
    "    pass\n",
    "    ## IMPLEMENTE"
   ]
  },
  {
   "cell_type": "code",
   "execution_count": null,
   "metadata": {},
   "outputs": [],
   "source": [
    "pilha = Pilha()\n",
    "pilha.empilha(1)\n",
    "\n",
    "assert [1] == pilha.to_list()\n",
    "assert 1 == pilha.tamanho"
   ]
  },
  {
   "cell_type": "code",
   "execution_count": null,
   "metadata": {},
   "outputs": [],
   "source": [
    "pilha.empilha(2)\n",
    "\n",
    "assert [1, 2] == pilha.to_list()\n",
    "assert 2 == pilha.tamanho"
   ]
  },
  {
   "cell_type": "code",
   "execution_count": null,
   "metadata": {},
   "outputs": [],
   "source": [
    "pilha.empilha(3)\n",
    "\n",
    "assert [1, 2, 3] == pilha.to_list()\n",
    "assert 3 == pilha.tamanho"
   ]
  },
  {
   "cell_type": "code",
   "execution_count": null,
   "metadata": {},
   "outputs": [],
   "source": [
    "assert 3 == pilha.desempilha()\n",
    "assert [1, 2] == pilha.to_list()\n",
    "assert 2 == pilha.tamanho"
   ]
  },
  {
   "cell_type": "code",
   "execution_count": null,
   "metadata": {},
   "outputs": [],
   "source": [
    "pilha.empilha(5)\n",
    "\n",
    "assert [1, 2, 5] == pilha.to_list()\n",
    "assert 3 == pilha.tamanho"
   ]
  },
  {
   "cell_type": "code",
   "execution_count": null,
   "metadata": {},
   "outputs": [],
   "source": [
    "assert 5 == pilha.desempilha()\n",
    "assert [1, 2] == pilha.to_list()\n",
    "assert 2 == pilha.tamanho"
   ]
  },
  {
   "cell_type": "code",
   "execution_count": null,
   "metadata": {},
   "outputs": [],
   "source": [
    "assert 2 == pilha.desempilha()\n",
    "assert [1] == pilha.to_list()\n",
    "assert 1 == pilha.tamanho"
   ]
  },
  {
   "cell_type": "code",
   "execution_count": null,
   "metadata": {},
   "outputs": [],
   "source": [
    "pilha.empilha(9)\n",
    "\n",
    "assert [1, 9] == pilha.to_list()\n",
    "assert 2 == pilha.tamanho"
   ]
  },
  {
   "cell_type": "markdown",
   "metadata": {},
   "source": [
    "### Árvore\n",
    "\n",
    "Dado a classe `No` e os exemplos acima para `Fila` e `Pilha`, implemente o mesmo para uma árvore :)"
   ]
  },
  {
   "cell_type": "code",
   "execution_count": null,
   "metadata": {},
   "outputs": [],
   "source": []
  }
 ],
 "metadata": {
  "kernelspec": {
   "display_name": "Python 3",
   "language": "python",
   "name": "python3"
  },
  "language_info": {
   "codemirror_mode": {
    "name": "ipython",
    "version": 3
   },
   "file_extension": ".py",
   "mimetype": "text/x-python",
   "name": "python",
   "nbconvert_exporter": "python",
   "pygments_lexer": "ipython3",
   "version": "3.6.2"
  }
 },
 "nbformat": 4,
 "nbformat_minor": 2
}
