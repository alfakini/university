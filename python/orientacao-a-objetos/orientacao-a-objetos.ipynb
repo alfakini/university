{
 "cells": [
  {
   "cell_type": "markdown",
   "metadata": {},
   "source": [
    "# PROGRAMAÇÃO ORIENTADA A OBJETOS E SOLID\n",
    "\n",
    "[![Google Colab](https://img.shields.io/badge/launch-Orientação_Objetos-yellow.svg)](https://colab.research.google.com/github/catolicasc-joinville/lp1-notebooks/blob/master/2-orientacao-a-objetos/1-orientacao-a-objetos.ipynb) [launch](https://colab.research.google.com/github/catolicasc-joinville/lp1-notebooks/blob/master/2-orientacao-a-objetos/1-orientacao-a-objetos.ipynb)\n",
    "\n",
    "Programação Orientada a Objetos (POO) é um modelo de análise, projeto e desenvolvimento de software baseado na composição e interação entre diversas unidades chamadas de 'objetos' [\\*](https://pt.wikipedia.org/wiki/Orienta%C3%A7%C3%A3o_a_objetos). Objetos têm atributos e métodos (funções-membro). Esses métodos representam o comportamento do objeto e são responsáveis pela manipulação dos atributos.\n",
    "\n",
    "*Tudo em Python é um objeto*. Toda instância de classe ou variável tem seu próprio endereço de memória ou identidade.\n",
    "\n",
    "Objetos são representados/descritos/definidos na forma de classes. Uma classe é uma estrutura para representar um objeto e as operações que podem ser executadas no objeto. Uma classe contém a declaração os *atributos* (variáveis) e os *métodos* (funções) de um objeto. As classes são como *templates*., portanto podem ser facilmente reutilizadas.\n",
    "\n",
    "Em Python uma classe é definida usando a palavra-chave `class`, e a definição de classe geralmente contém definições de métodos e atributos. Cada método  deve ter obrigatóriamente o argumento `self` como seu primeiro argumento. Este argumento é uma auto-referência ao objeto semelhante ao `this` em outras linguagens.\n",
    "\n",
    "Alguns nomes de método são reservados e têm um significado especial, como por exemplo:\n",
    "     * `__init__`: O método que é invocado quando o objeto é criado pela primeira vez\n",
    "     * `__str__`: O método que é invocado para representar a classe na forma de uma string, como por exemplo, quando impressa\n",
    "\n",
    "Existem muitos mais sobre classes em Python, consulte a [documentação](http://docs.python.org/3/reference/datamodel.html#special-method-names).\n",
    "\n",
    "A seguir definiremos nossa primeira `classe` para representar um ponto em um sistema de coordenadas cartesiana. `Variáveis`, `classes`, `objetos` e todos os elementos que usamos em programação são abstrações que nos ajudam a definir em código coisas ou processos. Na figura abaixo apresentamos um ponto no sistema de coordenadas cartesianas:\n",
    "\n",
    "![cartesiano-1](assets/poo/python-cartesiano-1.png)"
   ]
  },
  {
   "cell_type": "code",
   "execution_count": null,
   "metadata": {},
   "outputs": [],
   "source": [
    "class Ponto:\n",
    "    \"\"\"\n",
    "    Classe simples para representar um ponto em um sistema de coordenadas cartesianas.\n",
    "    \"\"\"\n",
    "    \n",
    "    def __init__(self, x, y):\n",
    "        \"\"\"\n",
    "        Cria um novo Ponto em x, y.\n",
    "        \"\"\"\n",
    "        self.x = x\n",
    "        self.y = y\n",
    "        \n",
    "    def translate(self, dx, dy):\n",
    "        \"\"\"\n",
    "        Faz uma translação do ponto por dx e dy no sentido x e y.\n",
    "        \"\"\"\n",
    "        self.x += dx\n",
    "        self.y += dy\n",
    "        \n",
    "    def __str__(self):\n",
    "        return(f\"Ponto em ({self.x}, {self.y})\")"
   ]
  },
  {
   "cell_type": "code",
   "execution_count": null,
   "metadata": {},
   "outputs": [],
   "source": [
    "ponto1 = Ponto(1, 1)\n",
    "print(ponto1)"
   ]
  },
  {
   "cell_type": "markdown",
   "metadata": {},
   "source": [
    "Este ponto conhece sua posição `x` e `x` e possuí um método chamado `translate(dx, dy)` que faz com que o ponto seja movimentado `dx` no eixo `x` e `dy` no eixo `y`. A figura abaixo mostra como esta operação acontece no sistema de coordenadas cartesianas:\n",
    "\n",
    "\n",
    "![cartesiano-2](assets/poo/python-cartesiano-2.png)"
   ]
  },
  {
   "cell_type": "code",
   "execution_count": null,
   "metadata": {},
   "outputs": [],
   "source": [
    "ponto1.translate(1, 1)\n",
    "print(ponto1)"
   ]
  },
  {
   "cell_type": "markdown",
   "metadata": {},
   "source": [
    "Agora vamos ver alguns aspectos da programação orientada a objetos\n",
    "\n",
    "## ENCAPSULAMENTO\n",
    "\n",
    "O encapsulamento indica que o comportamento de um objeto deve permanecer oculto\n",
    "para o mundo externo, ou seja, os objetos mantêm suas informações de estado como privadas.\n",
    "\n",
    "O mundo externo não pode alterar o estado interno dos objetos atuando diretamente neles. Em vez disso,\n",
    "deve-se mandar uma mensagem para o objeto. Com base no tipo da mensagem enviada os objetos\n",
    "podem responder alterando o seu estado interno.\n",
    "\n",
    "Em Pyrthon o conceito de encapsulamento não é explícito, pois não existem palavras-chave como\n",
    "`public` e `private` como em línguagens no estilo de C++ e Java. Em Python\n",
    "adotamos a convenção de usar o prefixo `__` no nome da variável ou função para indicar que ela\n",
    "é privada.\n",
    "\n",
    "No nosso objeto `ponto1`, `x` e `y` são informações mantidas privadas e a forma ideal de alterar seus\n",
    "valores é chamando o método `translate`.\n",
    "\n",
    "## POLIMORFISMO\n",
    "\n",
    "Polimorfismo refere-se a possibilidade de um objeto fornecer diferentes implementações de métodos de acordo\n",
    "com os parâmetros passados e também pela habilidade de um método ser usado por objetos de tipos diferentes.\n",
    "\n",
    "Em Python o polimorfismo é um recurso embutido na linguagem. Por exemplo, o operador `+` pode atuar para \n",
    "realizar a soma de dois inteiros ou para concatenar duas strings. Abaixo mostramos como este operador\n",
    "é abstraído:"
   ]
  },
  {
   "cell_type": "code",
   "execution_count": null,
   "metadata": {},
   "outputs": [],
   "source": [
    "x = 1\n",
    "y = 2\n",
    "print(x + y)\n",
    "print(x.__add__(y))\n",
    "s1 = \"A\"\n",
    "s2 = \"B\"\n",
    "print(s1 + s2)\n",
    "print(s1.__add__(s2))"
   ]
  },
  {
   "cell_type": "markdown",
   "metadata": {},
   "source": [
    "Repare que `__add__` é um método implementado tanto em strings como em inteiros e é abstraído pelo operador `+`. Chamamos isto de [syntax sugar](https://pt.wikipedia.org/wiki/A%C3%A7%C3%BAcar_sint%C3%A1tico), implementações da linguagem escritas para deixar o código mais fácil de ler e usar. Sabendo disso, podemos adicionar qualquer tipo de comportamento em uma classe e usar qualquer operador do Python para interagir com ela:"
   ]
  },
  {
   "cell_type": "code",
   "execution_count": null,
   "metadata": {},
   "outputs": [],
   "source": [
    "class Pilha:\n",
    "    def __init__(self):\n",
    "        self.pilha = []\n",
    "        \n",
    "    def __add__(self, valor):\n",
    "        self.pilha.append(valor)\n",
    "        \n",
    "    def __neg__(self):\n",
    "        self.pilha.pop()\n",
    "        \n",
    "    def __str__(self):\n",
    "        values = ', '.join(map(str, self.pilha))\n",
    "        return f\"[{values}]\""
   ]
  },
  {
   "cell_type": "code",
   "execution_count": null,
   "metadata": {},
   "outputs": [],
   "source": [
    "pilha = Pilha()\n",
    "pilha + 1\n",
    "pilha + 2\n",
    "print(pilha)\n",
    "-pilha\n",
    "print(pilha)\n",
    "-pilha\n",
    "print(pilha)"
   ]
  },
  {
   "cell_type": "markdown",
   "metadata": {},
   "source": [
    "Repare que neste caso definimos os métodos `__add__` que representa o perador `+`, o método `__neg__` que representa o operador `-` e o método `__str__` que retorna uma representação em string do objeto."
   ]
  },
  {
   "cell_type": "markdown",
   "metadata": {},
   "source": [
    "## HERANÇA\n",
    "\n",
    "A herança indica que uma classe deriva parte de suas funcionalidades de uma classe base. Usamos a herança para reutilizar funcionalidades definidas na classe base e permite extensões independentes da implementação do software original. A herança cria hierarquias por meio de relacionamentos entre objetos de classes diferentes. Python suporta a herança de múltiplas classes base simultaneamente. Veja um exemplo abaixo: "
   ]
  },
  {
   "cell_type": "code",
   "execution_count": null,
   "metadata": {},
   "outputs": [],
   "source": [
    "class A:\n",
    "    def metodo_a(self):\n",
    "        print(\"método de A\")\n",
    "\n",
    "class B:\n",
    "    def metodo_b(self):\n",
    "        print(\"método de B\")\n",
    "        \n",
    "class C(A, B):\n",
    "    def metodo_c(self):\n",
    "        print(\"método de C\")\n",
    "        \n",
    "    def metodo_todos(self):\n",
    "        self.metodo_a()\n",
    "        self.metodo_b()\n",
    "        self.metodo_c()"
   ]
  },
  {
   "cell_type": "code",
   "execution_count": null,
   "metadata": {},
   "outputs": [],
   "source": [
    "c = C()\n",
    "c.metodo_a()\n",
    "c.metodo_b()\n",
    "c.metodo_c()"
   ]
  },
  {
   "cell_type": "markdown",
   "metadata": {},
   "source": [
    "## COMPOSIÇÃO\n",
    "\n",
    "Composição refere-se a capacidade de combinarmos objetos ou classes em estruturas de dados ou implementações mais complexas. Na composição um objeto é usado para chamar um método de outro objeto."
   ]
  },
  {
   "cell_type": "code",
   "execution_count": null,
   "metadata": {},
   "outputs": [],
   "source": [
    "class D:\n",
    "    def __init__(self):\n",
    "        self.a = A()\n",
    "        self.b = B()\n",
    "\n",
    "    def metodo_d(self):\n",
    "        print(\"método D\")\n",
    "        \n",
    "    def metodo_todos(self):\n",
    "        self.a.metodo_a()\n",
    "        self.b.metodo_b()\n",
    "        self.metodo_d()"
   ]
  },
  {
   "cell_type": "code",
   "execution_count": null,
   "metadata": {},
   "outputs": [],
   "source": [
    "d = D()\n",
    "d.metodo_todos()"
   ]
  },
  {
   "cell_type": "markdown",
   "metadata": {},
   "source": [
    "## DON'T REPEATE YOURSELF (DRY - NÃO SE REPITA)\n",
    "\n",
    "```python\n",
    "def equations():\n",
    "    a = 1 + 2\n",
    "    print(f\"[LOG] {a}\")\n",
    "    \n",
    "    b = 2 ** 2\n",
    "    print(f\"[LOG] {b}\")\n",
    "    \n",
    "    c = 3/4\n",
    "    print(f\"[LOG] {c}\")\n",
    "```\n",
    "\n",
    "Podemos reescrever como:\n",
    "\n",
    "```python\n",
    "def log(message):\n",
    "    print(f\"[LOG] {message}\")\n",
    "    \n",
    "def equations():\n",
    "    a = 1 + 2\n",
    "    log(a)\n",
    "    \n",
    "    b = 2 ** 2\n",
    "    log(b)\n",
    "    \n",
    "    c = 3/4\n",
    "    log(c)   \n",
    "```\n",
    "\n",
    "[Referência](https://pt.wikipedia.org/wiki/Don%27t_repeat_yourself)."
   ]
  },
  {
   "cell_type": "markdown",
   "metadata": {},
   "source": [
    "## TELL, DON'T ASK\n",
    "\n",
    "Deixe que os objetos cuidem de seus próprios dados. Diga (tell) o que eles tem que fazer ao invés de perguntar (ask) os dados deles.\n",
    "\n",
    "```python\n",
    "...\n",
    "def calculate(self):\n",
    "    cost = 0\n",
    "    for line_item in self.bill.items:\n",
    "        cost += line_item.cost\n",
    "    ...\n",
    "```\n",
    "\n",
    "Reescrevendo:\n",
    "\n",
    "```python\n",
    "def  calculate(self):\n",
    "    cost = self.bill.total_cost()\n",
    "```\n",
    "\n",
    "[Referência](https://martinfowler.com/bliki/TellDontAsk.html)."
   ]
  },
  {
   "cell_type": "markdown",
   "metadata": {},
   "source": [
    "# SOLID PRINCIPLES\n",
    "\n",
    "Na programação orientada a objetos, o termo SOLID é um acrônimo mnemônico para cinco princípios de design destinados a tornar os projetos de software mais compreensíveis, flexíveis e de fácil manutenção [*](https://en.wikipedia.org/wiki/SOLID). Os cinco princípios são:\n",
    "\n",
    "* **S**ingle responsibility\n",
    "* **O**pen/closed\n",
    "* **L**iskov substitution\n",
    "* **I**nterface segregation\n",
    "* **D**ependency inversion\n",
    "\n",
    "Estes princípios foram introduzidos por Michael Fathers e nomeados por Robert C Martin no início dos anos 2000. Eles visam ajudar os desenvolvedores a construir um código sólido orientado a objetos, levando a um sistema de software fácil de manter e estender.\n",
    "\n",
    "Lembre-se! Estes são princípios, não regras escritas em pedra.\n",
    "\n",
    "### EXEMPLO\n",
    "\n",
    "Vamos pegar como exemplo uma implementação inicial e realizar a refatoração de código em etapas para cada um dos princípios.\n",
    "\n",
    "Supondo que estamos desenvolvendo um sistema para gerenciar uma lavanderia de carros. Quando um carro entra na lavanderia um registro deve ser gerado (`require_car_wash`). O cliente deve ser notificado quando o serviço terminar (`wash_completed`). Quando o cliente acessar o sistema devemos mostrar para ele todos os serviços daquele cliente.\n",
    "\n",
    "Vamos conhecer nossa implementação inicial (meh):\n"
   ]
  },
  {
   "cell_type": "code",
   "execution_count": null,
   "metadata": {},
   "outputs": [],
   "source": [
    "import uuid\n",
    "from collections import namedtuple"
   ]
  },
  {
   "cell_type": "code",
   "execution_count": null,
   "metadata": {},
   "outputs": [],
   "source": [
    "def NamedDict(name, dictionary):\n",
    "    return namedtuple(name, dictionary.keys())(*dictionary.values())\n",
    "\n",
    "\n",
    "def Car(dictionary):\n",
    "    return NamedDict(\"Car\", dictionary)\n",
    "\n",
    "\n",
    "def Customer(dictionary):\n",
    "    return NamedDict(\"Customer\", dictionary)\n",
    "\n",
    "\n",
    "class CarWashService:\n",
    "    def __init__(self):\n",
    "        self.persistence = {}\n",
    "    \n",
    "    def send_sms(self, mobile_phone, text):\n",
    "        print(mobile_phone, text)\n",
    "        \n",
    "    def enter_in_the_car_wash(self, car, customer):\n",
    "        job_id = uuid.uuid4().hex\n",
    "        self.persistence[job_id] = (car, customer)\n",
    "        return job_id\n",
    "    \n",
    "    def wash_completed(self, job_id):\n",
    "        car, customer = self.persistence[job_id]\n",
    "        self.send_sms(\"Enviando mensagem para o número {customer.mobile_phone}:\", f\"Higienização do carro #{car.plate} finalizada.\")"
   ]
  },
  {
   "cell_type": "code",
   "execution_count": null,
   "metadata": {},
   "outputs": [],
   "source": [
    "car = Car({ \"plate\": \"ABC1234\" })\n",
    "customer = Customer({ \"mobile_phone\": \"47 99155-5555\" })"
   ]
  },
  {
   "cell_type": "code",
   "execution_count": null,
   "metadata": {},
   "outputs": [],
   "source": [
    "service = CarWashService()\n",
    "job_id = service.enter_in_the_car_wash(car, customer)\n",
    "service.wash_completed(job_id)"
   ]
  },
  {
   "cell_type": "markdown",
   "metadata": {},
   "source": [
    "## SINGLE RESPONSIBILITY PRINCIPLE (SRP - PRINCÍPIO DA RESPONSABILIDADE ÚNICA)\n",
    "\n",
    "> A class should have one, and only one, reason to change.\n",
    "\n",
    "Este princípio determina que cada entidade deve ter responsabilidade sobre uma única parte da funcionalidade fornecida pelo software, e essa responsabilidade deve ser totalmente encapsulada pela entidade. Todos os seus serviços devem estar estreitamente alinhados com essa única responsabilidade.\n",
    "\n",
    "Quando implementamos uma entidade devemos ter em mente que ela deve ser responsável por uma única funcionalidade em particular. Se uma entidade estiver tratando de duas ou mais funcionalidades, é melhor dividir elas em duas ou mais novas entidades. O princípio refere-se à funcionalidade como motivo para mudança da entidade. \n",
    "\n",
    "As vantagens deste princípio são:\n",
    "* Sempre que houver uma mudança em uma funcionalidade, essa classe em particular deverá ser alterada, e nada mais\n",
    "* Se uma classe tiver várias funcionalidades, as classes dependentes deverão passar por mudanças. Ao seguir o princípio da responsabilidade única este impacto é reduzido e pode até ser evitado\n",
    "\n",
    "A razão pela qual é importante manter uma classe focada em uma única responsabilidade é que ela torna a classe mais robusta. Se houver uma alteração no processo de compilação de uma classe, há um risco maior de que o código dependente seja quebrado se usar parte dessa classe.\n",
    "\n",
    "Esta classe implementa algumas resposabilidades:\n",
    "* O serviço de lavanderia\n",
    "* O sistema de persistência de dados\n",
    "* O sistema de envio de SMS\n",
    "\n",
    "Podemos fazer um refactoring e extrair o sistema de persistência de dados e o sistema de envio de SMS:"
   ]
  },
  {
   "cell_type": "code",
   "execution_count": null,
   "metadata": {},
   "outputs": [],
   "source": [
    "class Notifier:\n",
    "    def send(self, phone_number, message):\n",
    "        print(f\"Enviando mensagem para o número {phone_number}:\", message)\n",
    "\n",
    "        \n",
    "class Repository:\n",
    "    def __init__(self):\n",
    "        self.persistence = {}\n",
    "        \n",
    "    def put(self, item):\n",
    "        self.persistence[item.id] = item\n",
    "        return item.id\n",
    "\n",
    "    def find_by_id(self, id):\n",
    "        return self.persistence[id]\n",
    "    \n",
    "    \n",
    "class CarWashJob:\n",
    "    def __init__(self, car, customer):\n",
    "        self.id = uuid.uuid4().hex\n",
    "        self.car = car\n",
    "        self.customer = customer\n",
    "   \n",
    "\n",
    "class CarWashService:\n",
    "    def __init__(self):\n",
    "        self.repository = Repository()\n",
    "        \n",
    "    def enter_in_the_car_wash(self, car, customer):\n",
    "        job = CarWashJob(car, customer)\n",
    "        job_id = self.repository.put(job)\n",
    "        return job_id\n",
    "        \n",
    "    def wash_completed(self, job_id):\n",
    "        job = self.repository.find_by_id(job_id)\n",
    "        Notifier().send(job.customer.mobile_phone, f\"Higienização do carro #{job.car.plate} finalizada.\")\n",
    "        \n",
    "    def service_by_customer(self, customer):\n",
    "        return self.repository.find_by_customer(customer)"
   ]
  },
  {
   "cell_type": "code",
   "execution_count": null,
   "metadata": {},
   "outputs": [],
   "source": [
    "car = Car({ \"plate\": \"ABC1234\" })\n",
    "customer = Customer({ \"mobile_phone\": \"47 99155-5555\" })\n",
    "\n",
    "service = CarWashService()"
   ]
  },
  {
   "cell_type": "code",
   "execution_count": null,
   "metadata": {},
   "outputs": [],
   "source": [
    "job_id = service.enter_in_the_car_wash(car, customer)\n",
    "service.wash_completed(job_id)"
   ]
  },
  {
   "cell_type": "markdown",
   "metadata": {},
   "source": [
    "Repare que agora temos 3 novas entidades usadas pela classe `CarWashService`: `Notifier`, `Repository` e `CarWashJob`. Cada uma dessas entidades é responsável por uma única funcionadidade. Desta forma, quando precisarmos alterar o comportamento de notificação, por exemplo, para enviar um e-mail ao invés de um SMS, não precisaremos modificar o serviço `CarWashService`. Esta separação de responsabilidades também facilita que o código seja testado e reaproveitado em outros lugares do sistema."
   ]
  },
  {
   "cell_type": "markdown",
   "metadata": {},
   "source": [
    "## DEPENDENCY INVERSION PRINCIPLE (DIP - PRINCÍPIO DA INVERSÃO DE DEPENDÊNCIA)\n",
    "\n",
    "> Depend on abstractions, not on concretions.\n",
    "\n",
    "O princípio de inversão de dependência refere-se a uma forma de desacoplamento de entidades. Ao seguir esse princípio, as relações de dependência estabelecidas entre as entidades são invertidas, portanto, abstraíndo das entidades de alto nível os detalhes de implementação das entidades de baixo nível. O princípio afirma:\n",
    "\n",
    "* Os módulos de alto nível não devem depender de módulos de baixo nível. Ambos devem depender de abstrações\n",
    "* Abstrações não devem depender de detalhes. Detalhes devem depender de abstrações\n",
    "\n",
    "Ditando que objetos de alto e baixo nível devem depender da mesma abstração, este princípio de design inverte a maneira como algumas pessoas podem pensar sobre programação orientada a objetos. A ideia por trás dos dois pontos deste princípio é que ao projetar a interação entre uma entidade de alto nível e uma de baixo nível, a interação deve ser pensada como uma interação abstrata entre elas. Isso não só tem implicações no design da entidade de alto nível, mas também na de baixo nível: a de baixo nível deve ser projetada com a interação em mente e pode ser necessário alterar sua interface de uso.\n",
    "\n",
    "No design convencional, as entidades de baixo nível (`Utility Layer`) são projetados para serem consumidos por entidades de alto nível (`Policy Layer`) que permitem a construção de sistemas mais complexos. Nesta composição, as entidades de alto nível dependem diretamente dos componentes de baixo nível para realizar alguma tarefa. Essa dependência das entidades de baixo nível limita as oportunidades de reutilização das entidades de alto nível.\n",
    "\n",
    "![solid-dependency-inversion-principle-1.png](assets/poo/solid-dependency-inversion-principle-1.png)\n",
    "\n",
    "O objetivo do princípio da inversão de dependência é evitar este alto acoplamento usando uma camada abstrata, facilitando a reutilização de camadas superiores. Com a adição de uma camada abstrata, as camadas de alto e baixo níveis reduzem as dependências tradicionais de cima para baixo. No entanto, o conceito de \"inversão\" não significa que camadas de baixo nível dependam das camadas de alto nível. Ambas as camadas devem depender de abstrações que desenhem o comportamento necessário.\n",
    "\n",
    "![solid-dependency-inversion-principle-2.png](assets/poo/solid-dependency-inversion-principle-2.png)"
   ]
  },
  {
   "cell_type": "code",
   "execution_count": null,
   "metadata": {},
   "outputs": [],
   "source": [
    "class CarWashService:\n",
    "    def __init__(self, repository, notifier):\n",
    "        self.repository = repository\n",
    "        self.notifier = notifier\n",
    "        \n",
    "    def enter_in_the_car_wash(self, car, customer):\n",
    "        job = CarWashJob(car, customer)\n",
    "        job_id = self.repository.put(job)\n",
    "        return job_id\n",
    "        \n",
    "    def wash_completed(self, job_id):\n",
    "        job = self.repository.find_by_id(job_id)\n",
    "        self.notifier.send(job.customer.mobile_phone, f\"Higienização do carro #{job.car.plate} finalizada.\")\n",
    "        \n",
    "    def service_by_customer(self, customer):\n",
    "        return self.repository.find_by_customer(customer)"
   ]
  },
  {
   "cell_type": "code",
   "execution_count": null,
   "metadata": {},
   "outputs": [],
   "source": [
    "car = Car({ \"plate\": \"ABC1234\" })\n",
    "customer = Customer({ \"mobile_phone\": \"47 99155-5555\" })\n",
    "\n",
    "repository = Repository()\n",
    "notifier = Notifier()\n",
    "service = CarWashService(repository, notifier)"
   ]
  },
  {
   "cell_type": "code",
   "execution_count": null,
   "metadata": {},
   "outputs": [],
   "source": [
    "job_id = service.enter_in_the_car_wash(car, customer)\n",
    "service.wash_completed(job_id)"
   ]
  },
  {
   "cell_type": "markdown",
   "metadata": {},
   "source": [
    "## OPEN/CLOSED PRINCIPLE (OCP - PRINCÍPIO DO ABERTO/FECHADO)\n",
    "\n",
    "> You should be able to extend a classes behavior, without modifying it.\n",
    "\n",
    "Este princípio determina que entidades (classes, objetos, métodos, módudos, etc) devem ser abertas para extensão, mas fechados para modificação. Estas entidades podem permitir que seu comportamento seja estendido sem modificar seu código fonte.\n",
    "\n",
    "Ao implementar uma entidade, devemos garantir que escreveremos código de forma genérica, de modo que, sempre que sentirmos necessidade de estender o comportamento da entidade não precisamos anterar seu código interno. Em vez disso, podemos implementar uma extensão simples da classe que ajudará a implementar o novo comportamento.\n",
    "\n",
    "As vantagens deste princípio são:\n",
    "\n",
    "* As entidades existentes são pouco alteradas e, desse modo, as chances de regressão (bugs, erros) são menores\n",
    "* Ajuda a manter a compatibilidade com versões de código anteriores\n",
    "\n",
    "Uma entidade será considerada aberta se ainda estiver disponível para extensão. Por exemplo, deve ser possível adicionar campos às estruturas de dados que ela contém ou novos elementos ao conjunto de funções que ela executa. Uma entidade será dita fechada se estiver disponível para uso por outras entidades. Isso pressupõe que a entidade recebeu uma descrição estável e bem definida.\n",
    "\n",
    "Uma classe é fechada, pois pode ser compilada, armazenada em uma biblioteca e usada por classes clientes. Mas também é aberta, já que qualquer nova classe pode usá-la com herença, adicionando novos recursos. Quando uma classe descendente é definida, não há necessidade de alterar o original ou perturbar seus clientes.\n",
    "\n",
    "Você pode ler mais detalhes deste princípio [aqui](https://code.tutsplus.com/pt/tutorials/solid-part-2-the-openclosed-principle--net-36600) e [aqui](http://www.eduardopires.net.br/2013/05/open-closed-principle-ocp/).\n",
    "\n",
    "Vamos ao nosso exemplo. Podemos implementar interfaces de repositório para o serviço para guardar dados em memória ou então guardar em um banco de dados. Podemos implementar interfaces de noficicações para enviar SMS ou então e-mail, ou mesmo para múltiplos canais."
   ]
  },
  {
   "cell_type": "code",
   "execution_count": null,
   "metadata": {},
   "outputs": [],
   "source": [
    "class JobRepository(dict):\n",
    "    pass\n",
    "\n",
    "class InMemoryJobRepository(JobRepository):\n",
    "    def put(self, job):\n",
    "        self[job.id] = job\n",
    "        return job.id\n",
    "    \n",
    "    def find_by_id(self, job_id):\n",
    "        return self[job_id]\n",
    "    \n",
    "    def find_by_customer(self, customer):\n",
    "        return [job for job in self.values() if job.has_customer(customer)]\n",
    "    \n",
    " \n",
    "class JobNotifier:\n",
    "    def send(self, to, message):\n",
    "        raise NotImplementedError()\n",
    "        \n",
    "\n",
    "class SMSJobNotifier(JobNotifier):\n",
    "    def send(self, phone_number, message):\n",
    "        print(f\"Enviando mensagem de texto para o número {phone_number}:\", message)\n",
    "        \n",
    "\n",
    "class EmailJobNotifier(JobNotifier):\n",
    "    def send(self, email, message):\n",
    "        print(f\"Enviando mensagem para o e-mail {email}:\", message)\n",
    "        \n",
    "\n",
    "class CarWashJob:\n",
    "    def __init__(self, car, customer):\n",
    "        self.id = uuid.uuid4().hex\n",
    "        self.car = car\n",
    "        self.customer = customer\n",
    "        \n",
    "    def has_customer(self, customer):\n",
    "        self.customer == customer\n",
    "\n",
    "\n",
    "class CarWashService:\n",
    "    def __init__(self, repository, notifier):\n",
    "        self.repository = repository\n",
    "        self.notifier = notifier\n",
    "        \n",
    "    def enter_in_the_car_wash(self, car, customer):\n",
    "        job = CarWashJob(car, customer)\n",
    "        job_id = self.repository.put(job)\n",
    "        return job_id\n",
    "        \n",
    "    def wash_completed(self, job_id):\n",
    "        job = self.repository.find_by_id(job_id)\n",
    "        self.notifier.send(job.customer.mobile_phone, f\"Higienização do carro #{job.car.plate} finalizada.\")\n",
    "        \n",
    "    def service_by_customer(self, customer):\n",
    "        return self.repository.find_by_customer(customer)"
   ]
  },
  {
   "cell_type": "code",
   "execution_count": null,
   "metadata": {},
   "outputs": [],
   "source": [
    "car = Car({ \"plate\": \"ABC1234\" })\n",
    "customer = Customer({ \"mobile_phone\": \"47 99155-5555\" })\n",
    "\n",
    "repository = InMemoryJobRepository()\n",
    "notifier = EmailJobNotifier()\n",
    "service = CarWashService(repository, notifier)"
   ]
  },
  {
   "cell_type": "code",
   "execution_count": null,
   "metadata": {},
   "outputs": [],
   "source": [
    "job_id = service.enter_in_the_car_wash(car, customer)\n",
    "service.wash_completed(job_id)"
   ]
  },
  {
   "cell_type": "markdown",
   "metadata": {},
   "source": [
    "## LISKOV SUBSTITUTION PRINCIPLE (LSP - PRINCÍPIO DA SUBSTITUIÇÃO)\n",
    "\n",
    "> Derived classes must be substitutable for their super classes.\n",
    "\n",
    "Este princípio determina que subclasses devem ser capazes de substituir totalmente as superclasses sem qualquer modificação no código.\n",
    "\n",
    "De acordo com o princípio, subtipos devem ser substituíveis por supertipo, ou seja, métodos ou funções que usam tipo de superclasse devem ser capazes de trabalhar com o objeto da subclasse sem qualquer problema.\n",
    "\n",
    "Este princípio está intimamente relacionado ao princípio de responsabilidade única e ao princípio de segregação de interface. Se uma superclasse tiver mais funcionalidade do que uma subclasse, talvez a subclasse não ofereça suporte a algumas das funcionalidades necessárias e viole o LSP.\n",
    "\n",
    "\"Se se parece com um pato, grasna que nem um pato, mas precisa de baterias, você provavelmente escolheu a abstração errada\". Entenda a analogia com o pato neste [artigo na wikipedia](https://en.wikipedia.org/wiki/Duck_test).\n",
    "\n",
    "No nosso exemplo anterior não conseguimos substituir o uso da classe `dict` por `InMemoryJobRepository` nem o contrário, violando este princípio."
   ]
  },
  {
   "cell_type": "code",
   "execution_count": null,
   "metadata": {},
   "outputs": [],
   "source": [
    "class JobRepository:\n",
    "    def put(self, job):\n",
    "        raise NotImplementedError()\n",
    "    \n",
    "    def find_by_id(self, job_id):\n",
    "        raise NotImplementedError()\n",
    "    \n",
    "    def find_by_customer(self, customer):\n",
    "        raise NotImplementedError()\n",
    "    \n",
    "\n",
    "class InMemoryJobRepository(JobRepository):\n",
    "    def __init__(self):\n",
    "        self.__storage = {}\n",
    "        \n",
    "    def put(self, job):\n",
    "        self.__storage[job.id] = job\n",
    "        return job.id\n",
    "    \n",
    "    def find_by_id(self, job_id):\n",
    "        return self.__storage[job_id]\n",
    "    \n",
    "    def find_by_customer(self, customer):\n",
    "        return [job for job in self.__storage.values() if job.has_customer(customer)]"
   ]
  },
  {
   "cell_type": "code",
   "execution_count": null,
   "metadata": {},
   "outputs": [],
   "source": [
    "car = Car({ \"plate\": \"ABC1234\" })\n",
    "customer = Customer({ \"mobile_phone\": \"47 99155-5555\" })\n",
    "\n",
    "repository = InMemoryJobRepository()\n",
    "notifier = EmailJobNotifier()\n",
    "service = CarWashService(repository, notifier)"
   ]
  },
  {
   "cell_type": "code",
   "execution_count": null,
   "metadata": {},
   "outputs": [],
   "source": [
    "job_id = service.enter_in_the_car_wash(car, customer)\n",
    "service.wash_completed(job_id)"
   ]
  },
  {
   "cell_type": "markdown",
   "metadata": {},
   "source": [
    "## INTERFACE SEGREGATION PRINCIPLE (ISP - PRINCÍPIO DA SEGREGAÇÃO DE INTERFACE)\n",
    "\n",
    "> Make fine grained interfaces that are client specific.\n",
    "\n",
    "Este princípio determina que uma entidade não deve implementar ou depender de uma interface que não usa. Isso acontece principalmente quando uma interface contém mais de uma funcionalidade, e o cliente precisa apenas de uma funcionalidade e não de outra. Este princípio está intimamente relacionado com o princípio da responsabilidade única. \n",
    "\n",
    "Uma maneira de evitar violar este princípio em Python é aplicando  duck typing. Esse conceito significa que os métodos e as propriedades de um objeto determinam sua validade semântica, em vez de sua hierarquia de classes ou a implementação de uma interface específica."
   ]
  },
  {
   "cell_type": "code",
   "execution_count": null,
   "metadata": {},
   "outputs": [],
   "source": [
    "class InMemoryJobRepository:\n",
    "    def __init__(self):\n",
    "        self.__storage = {}\n",
    "        \n",
    "    def put(self, job):\n",
    "        self.__storage[job.id] = job\n",
    "        return job.id\n",
    "    \n",
    "    def find_by_id(self, job_id):\n",
    "        return self.__storage[job_id]\n",
    "    \n",
    "    def find_by_customer(self, customer):\n",
    "        return [job for job in self.__storage.values() if job.has_customer(customer)]\n",
    "    \n",
    " \n",
    "class SMSJobNotifier:\n",
    "    def send(self, phone_number, message):\n",
    "        print(f\"Enviando mensagem de texto para o número {phone_number}:\", message)\n",
    "        \n",
    "\n",
    "class EmailJobNotifier:\n",
    "    def send(self, email, message):\n",
    "        print(f\"Enviando mensagem para o e-mail {email}:\", message)\n",
    "        \n",
    "\n",
    "class CarWashJob:\n",
    "    def __init__(self, car, customer):\n",
    "        self.id = uuid.uuid4().hex\n",
    "        self.car = car\n",
    "        self.customer = customer\n",
    "        \n",
    "    def has_customer(self, customer):\n",
    "        self.customer == customer\n",
    "\n",
    "\n",
    "class CarWashService:\n",
    "    def __init__(self, repository, notifier):\n",
    "        self.repository = repository\n",
    "        self.notifier = notifier\n",
    "        \n",
    "    def enter_in_the_car_wash(self, car, customer):\n",
    "        job = CarWashJob(car, customer)\n",
    "        job_id = self.repository.put(job)\n",
    "        return job_id\n",
    "        \n",
    "    def wash_completed(self, job_id):\n",
    "        job = self.repository.find_by_id(job_id)\n",
    "        self.notifier.send(job.customer.mobile_phone, f\"Higienização do carro #{job.car.plate} finalizada.\")\n",
    "        \n",
    "    def service_by_customer(self, customer):\n",
    "        return self.repository.find_by_customer(customer)"
   ]
  },
  {
   "cell_type": "code",
   "execution_count": null,
   "metadata": {},
   "outputs": [],
   "source": [
    "car = Car({ \"plate\": \"ABC1234\" })\n",
    "customer = Customer({ \"mobile_phone\": \"47 99155-5555\" })\n",
    "\n",
    "repository = InMemoryJobRepository()\n",
    "notifier = EmailJobNotifier()\n",
    "service = CarWashService(repository, notifier)"
   ]
  },
  {
   "cell_type": "code",
   "execution_count": null,
   "metadata": {},
   "outputs": [],
   "source": [
    "job_id = service.enter_in_the_car_wash(car, customer)\n",
    "service.wash_completed(job_id)"
   ]
  },
  {
   "cell_type": "markdown",
   "metadata": {},
   "source": [
    "## REFERÊNCIAS\n",
    "\n",
    "* https://pt.slideshare.net/DrTrucho/python-solid\n",
    "* https://en.wikipedia.org/wiki/SOLID\n",
    "* http://butunclebob.com/ArticleS.UncleBob.PrinciplesOfOod\n",
    "* https://martinfowler.com/articles/dipInTheWild.html"
   ]
  }
 ],
 "metadata": {
  "kernelspec": {
   "display_name": "Python 3",
   "language": "python",
   "name": "python3"
  },
  "language_info": {
   "codemirror_mode": {
    "name": "ipython",
    "version": 3
   },
   "file_extension": ".py",
   "mimetype": "text/x-python",
   "name": "python",
   "nbconvert_exporter": "python",
   "pygments_lexer": "ipython3",
   "version": "3.6.2"
  }
 },
 "nbformat": 4,
 "nbformat_minor": 2
}
