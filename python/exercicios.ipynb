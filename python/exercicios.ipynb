{
 "cells": [
  {
   "cell_type": "markdown",
   "metadata": {},
   "source": [
    "# EXERCÍCIOS\n",
    "\n",
    "Resolva os exercícios abaixo implementando funções ou classes em Python. Apresente exemplos de uso dessas funções. Se os exemplos apresentados forem no formato de testes unitários o professor ficará mais feliz.\n",
    "\n",
    "Preferencialmente entregue este arquivo do Jupyter Notebook (Google Colab) resolvido. Caso seja do seu interesse, pode entregar os exercícios como módulos Python junto com os testes unitários.\n",
    "\n",
    "[![Google Colab](https://img.shields.io/badge/launch-Exercícios-yellow.svg)](https://colab.research.google.com/github/catolicasc-joinville/lp1-notebooks/blob/master/1-python/2-exercicios.ipynb) [launch](https://colab.research.google.com/github/catolicasc-joinville/lp1-notebooks/blob/master/1-python/2-exercicios.ipynb)\n",
    "\n",
    "## ESTRUTURAS DE SEQUÊNCIA\n",
    "\n",
    "1) Implemente um método que converta metros para centímetros."
   ]
  },
  {
   "cell_type": "code",
   "execution_count": null,
   "metadata": {},
   "outputs": [],
   "source": []
  },
  {
   "cell_type": "markdown",
   "metadata": {},
   "source": [
    "2) Implemente uma função que recebe o raio de um círculo, calcule e retorna sua área. "
   ]
  },
  {
   "cell_type": "code",
   "execution_count": null,
   "metadata": {},
   "outputs": [],
   "source": []
  },
  {
   "cell_type": "markdown",
   "metadata": {},
   "source": [
    "3) Implemente uma função que peça a temperatura em graus Farenheit, transforme e retorne a temperatura em graus Celsius.\n",
    "\n",
    "$C = (5 * (F-32) / 9)$"
   ]
  },
  {
   "cell_type": "code",
   "execution_count": null,
   "metadata": {},
   "outputs": [],
   "source": []
  },
  {
   "cell_type": "markdown",
   "metadata": {},
   "source": [
    "4) Implemente uma função que recebe a temperatura em graus Celsius com argumento, transforme e retorne em graus Farenheit. "
   ]
  },
  {
   "cell_type": "code",
   "execution_count": null,
   "metadata": {},
   "outputs": [],
   "source": []
  },
  {
   "cell_type": "markdown",
   "metadata": {},
   "source": [
    "5) Toda vez que um homem traz um peso de peixes maior que o estabelecido pelo regulamento de pesca do estado de São Paulo (50 quilos) deve pagar uma multa de R$ 4,00 por quilo excedente. Escreva uma função que recebe como parâmetro o peso (peso de peixes) e calcule o excesso. Retorne a quantidade de quilos além do limite e o valor da multa que ele deverá pagar."
   ]
  },
  {
   "cell_type": "code",
   "execution_count": null,
   "metadata": {},
   "outputs": [],
   "source": []
  },
  {
   "cell_type": "markdown",
   "metadata": {},
   "source": [
    "6) Implemente uma função que recebe quanto você ganha por hora e o número de horas trabalhadas no mês. Calcule e mostre (com print) o total do seu salário no referido mês, sabendo-se que são descontados 11% para o Imposto de Renda, 8% para o INSS e 5% para o sindicato, faça um programa que nos dê:\n",
    "\n",
    "```\n",
    "+ Salário Bruto : R$\n",
    "- IR (11%) : R$\n",
    "- INSS (8%) : R$\n",
    "- Sindicato ( 5%) : R$\n",
    "= Salário Liquido : R$\n",
    "```"
   ]
  },
  {
   "cell_type": "code",
   "execution_count": null,
   "metadata": {},
   "outputs": [],
   "source": []
  },
  {
   "cell_type": "markdown",
   "metadata": {},
   "source": [
    "---\n",
    "## ESTRUTURAS DE DECISÃO"
   ]
  },
  {
   "cell_type": "markdown",
   "metadata": {},
   "source": [
    "1) Faça uma função que verifique se uma letra passada como parâmetro é \"F\" ou \"M\". Conforme a letra escrever: F - Feminino, M - Masculino, Sexo Inválido."
   ]
  },
  {
   "cell_type": "code",
   "execution_count": null,
   "metadata": {},
   "outputs": [],
   "source": []
  },
  {
   "cell_type": "markdown",
   "metadata": {},
   "source": [
    "2) Faça uma função que verifique se uma letra passada como parâmetro é vogal ou consoante. "
   ]
  },
  {
   "cell_type": "code",
   "execution_count": null,
   "metadata": {},
   "outputs": [],
   "source": []
  },
  {
   "cell_type": "markdown",
   "metadata": {},
   "source": [
    "3) Faça uma função para ajudar o professor Fachini a calcular as notas dos seus queridos alunos. A função deve receber como parâmetro as 3 notas de um estudante. A função deve calcular a média alcançada pelo aluno e apresentar:\n",
    "\n",
    "```\n",
    "A mensagem \"Aprovado\", se a média alcançada for maior ou igual a seis;\n",
    "A mensagem \"Reprovado\", se a média for menor do que seis;\n",
    "A mensagem \"Aprovado com Distinção\", se a média for igual a dez.\n",
    "```"
   ]
  },
  {
   "cell_type": "code",
   "execution_count": null,
   "metadata": {},
   "outputs": [],
   "source": []
  },
  {
   "cell_type": "markdown",
   "metadata": {},
   "source": [
    "4) Escreva uma função que recebe como parâmetro um dicionário one a chave é o nome de um estudante e o valor uma lista com  as 3 notas dele. Este dicionário pode conter 0, 1 ou mais estudantes. Utilize a função escrita na questão anterior para calcular a média para cada estudante e mostre no seguinte formato:\n",
    "\n",
    "```\n",
    "Estudante 1: Média X\n",
    "Estudante 2: Média X\n",
    "...\n",
    "```"
   ]
  },
  {
   "cell_type": "code",
   "execution_count": null,
   "metadata": {},
   "outputs": [],
   "source": []
  },
  {
   "cell_type": "markdown",
   "metadata": {},
   "source": [
    "5) Implemente uma função para o cálculo de uma folha de pagamento, sabendo que os descontos são do Imposto de Renda, que depende do salário bruto (conforme tabela abaixo) e 3% para o Sindicato e que o FGTS corresponde a 11% do Salário Bruto, mas não é descontado (é a empresa que deposita). O Salário Líquido corresponde ao Salário Bruto menos os descontos. A função deverá receber o valor da sua hora e a quantidade de horas trabalhadas no mês.\n",
    "\n",
    "Desconto do IR:\n",
    "* Salário Bruto até 900 (inclusive) - isento\n",
    "* Salário Bruto até 1500 (inclusive) - desconto de 5%\n",
    "* Salário Bruto até 2500 (inclusive) - desconto de 10%\n",
    "* Salário Bruto acima de 2500 - desconto de 20% Imprima na tela as informações, dispostas conforme o exemplo abaixo. No exemplo o valor da hora é 5 e a quantidade de hora é 220.\n",
    "\n",
    "Formato da saída:\n",
    "```\n",
    "Salário Bruto: (5 * 220)        : R$ 1100,00\n",
    "(-) IR (5%)                     : R$   55,00  \n",
    "(-) INSS ( 10%)                 : R$  110,00\n",
    "FGTS (11%)                      : R$  121,00\n",
    "Total de descontos              : R$  165,00\n",
    "Salário Liquido                 : R$  935,00\n",
    "```"
   ]
  },
  {
   "cell_type": "code",
   "execution_count": null,
   "metadata": {},
   "outputs": [],
   "source": []
  },
  {
   "cell_type": "markdown",
   "metadata": {},
   "source": [
    "6) Implemente uma função que peça os 3 lados de um triângulo. O programa deverá informar se os valores podem formar um triângulo ou não. Indique, caso os lados formem um triângulo, se o mesmo é: equilátero, isósceles ou escaleno."
   ]
  },
  {
   "cell_type": "code",
   "execution_count": null,
   "metadata": {},
   "outputs": [],
   "source": []
  },
  {
   "cell_type": "markdown",
   "metadata": {},
   "source": [
    "7) Implemente uma função que recebe uma data no formato dd/mm/aaaa e retorna True/False se a mesma é uma data válida/inválida."
   ]
  },
  {
   "cell_type": "code",
   "execution_count": null,
   "metadata": {},
   "outputs": [],
   "source": []
  },
  {
   "cell_type": "markdown",
   "metadata": {},
   "source": [
    "---\n",
    "## ESTRUTURA DE REPETIÇÃO\n",
    "\n",
    "1) Implemente uma função que leia 5 números e retornew o maior número."
   ]
  },
  {
   "cell_type": "code",
   "execution_count": null,
   "metadata": {},
   "outputs": [],
   "source": []
  },
  {
   "cell_type": "markdown",
   "metadata": {},
   "source": [
    "2) Implemente uma função que leia 5 números e retorna a soma e a média dos números."
   ]
  },
  {
   "cell_type": "code",
   "execution_count": null,
   "metadata": {},
   "outputs": [],
   "source": []
  },
  {
   "cell_type": "markdown",
   "metadata": {},
   "source": [
    "3) Implemente uma função que recebe dois números e imprima na tela apenas os números ímpares entre eles."
   ]
  },
  {
   "cell_type": "code",
   "execution_count": null,
   "metadata": {},
   "outputs": [],
   "source": []
  },
  {
   "cell_type": "markdown",
   "metadata": {},
   "source": [
    "4) Implemente uma função que recebe um número (n−ésimo termo) e retorne a série de Fibonacci até este n−ésimo termo."
   ]
  },
  {
   "cell_type": "code",
   "execution_count": null,
   "metadata": {},
   "outputs": [],
   "source": []
  },
  {
   "cell_type": "markdown",
   "metadata": {},
   "source": [
    "5) Escreva uma função que calcule o fatorial de um número inteiro passado como parâmetro. Ex.: 5!=5.4.3.2.1=120 "
   ]
  },
  {
   "cell_type": "code",
   "execution_count": null,
   "metadata": {},
   "outputs": [],
   "source": []
  },
  {
   "cell_type": "markdown",
   "metadata": {},
   "source": [
    "6) Escreva uma função que receba o valor de uma dívida e mostre uma tabela com os seguintes dados: valor da dívida, valor dos juros, quantidade de parcelas e valor da parcela.\n",
    "\n",
    "Os juros e a quantidade de parcelas seguem a tabela abaixo:\n",
    "\n",
    "```\n",
    "Quantidade de Parcelas  % de Juros sobre o valor inicial da dívida\n",
    "1       0\n",
    "3       10\n",
    "6       15\n",
    "9       20\n",
    "12      25\n",
    "```\n",
    "\n",
    "Exemplo de saída do programa:\n",
    "\n",
    "```\n",
    "Valor da Dívida Valor dos Juros Quantidade de Parcelas  Valor da Parcela\n",
    "R$ 1.000,00     0               1                       R$  1.000,00\n",
    "R$ 1.100,00     100             3                       R$    366,00\n",
    "R$ 1.150,00     150             6                       R$    191,67\n",
    "```"
   ]
  },
  {
   "cell_type": "code",
   "execution_count": null,
   "metadata": {},
   "outputs": [],
   "source": []
  },
  {
   "cell_type": "markdown",
   "metadata": {},
   "source": [
    "7) O cardápio de uma lanchonete é o seguinte:\n",
    "\n",
    "```\n",
    "Especificação   Código  Preço\n",
    "Cachorro Quente 100     R$ 1,20\n",
    "Bauru Simples   101     R$ 1,30\n",
    "Bauru com ovo   102     R$ 1,50\n",
    "Hambúrguer      103     R$ 1,20\n",
    "Cheeseburguer   104     R$ 1,30\n",
    "Refrigerante    105     R$ 1,00\n",
    "```\n",
    "\n",
    "Escreva uma função que recebe o código de itens pedidos e as quantidades desejadas. Calcule e mostre o valor a ser pago por item (preço * quantidade) e o total geral do pedido."
   ]
  },
  {
   "cell_type": "code",
   "execution_count": null,
   "metadata": {},
   "outputs": [],
   "source": []
  },
  {
   "cell_type": "markdown",
   "metadata": {},
   "source": [
    "8) Em uma competição de ginástica, cada atleta recebe votos de sete jurados. A melhor e a pior nota são eliminadas. A sua nota fica sendo a média dos votos restantes. Você deve fazer uma função que receba o nome do ginasta e as notas dos sete jurados alcançadas pelo atleta em sua apresentação e depois informe a sua média, conforme a descrição acima informada (retirar o melhor e o pior salto e depois calcular a média com as notas restantes). As notas não são informados ordenadas. \n",
    "\n",
    "Um exemplo de saída do programa deve ser conforme o exemplo abaixo:\n",
    "\n",
    "```\n",
    "Atleta: Aparecido Parente\n",
    "Nota: 9.9\n",
    "Nota: 7.5\n",
    "Nota: 9.5\n",
    "Nota: 8.5\n",
    "Nota: 9.0\n",
    "Nota: 8.5\n",
    "Nota: 9.7\n",
    "\n",
    "Resultado final:\n",
    "Atleta: Aparecido Parente\n",
    "Melhor nota: 9.9\n",
    "Pior nota: 7.5\n",
    "Média: 9,04\n",
    "```"
   ]
  },
  {
   "cell_type": "code",
   "execution_count": null,
   "metadata": {},
   "outputs": [],
   "source": []
  },
  {
   "cell_type": "markdown",
   "metadata": {},
   "source": [
    "---\n",
    "## FUNÇÕES\n",
    "\n",
    "1) Implemente uma função para imprimir:\n",
    "\n",
    "```\n",
    "1\n",
    "2   2\n",
    "3   3   3\n",
    ".....\n",
    "n   n   n   n   n   n  ... n\n",
    "```\n",
    "\n",
    "para um `n` passado como parâmetro. Use uma função que receba um valor n inteiro e imprima até a n-ésima linha. "
   ]
  },
  {
   "cell_type": "code",
   "execution_count": null,
   "metadata": {},
   "outputs": [],
   "source": []
  },
  {
   "cell_type": "markdown",
   "metadata": {},
   "source": [
    "2) Quadrado mágico. Um quadrado mágico é aquele dividido em linhas e colunas, com um número em cada posição e no qual a soma das linhas, colunas e diagonais é a mesma. Por exemplo, veja um quadrado mágico de lado 3, com números de 1 a 9:\n",
    "\n",
    "```\n",
    "8  3  4 \n",
    "1  5  9\n",
    "6  7  2\n",
    "```\n",
    "\n",
    "Elabore uma função que identifica e mostra na tela todos os quadrados mágicos com as características acima. Dica: produza todas as combinações possíveis e verifique a soma quando completar cada quadrado. Usar um vetor de 1 a 9 parece ser mais simples que usar uma matriz 3x3. "
   ]
  },
  {
   "cell_type": "code",
   "execution_count": null,
   "metadata": {},
   "outputs": [],
   "source": []
  },
  {
   "cell_type": "markdown",
   "metadata": {},
   "source": [
    "3) Faça uma função que retorne o reverso de um número inteiro informado. Por exemplo: 127 -> 721. "
   ]
  },
  {
   "cell_type": "code",
   "execution_count": null,
   "metadata": {},
   "outputs": [],
   "source": []
  },
  {
   "cell_type": "markdown",
   "metadata": {},
   "source": [
    "4) Embaralha palavra. Construa uma função que receba uma string como parâmetro e devolva outra string com os carateres embaralhados. Por exemplo: se função receber a palavra python, pode retornar npthyo, ophtyn ou qualquer outra combinação possível, de forma aleatória. Padronize em sua função que todos os caracteres serão devolvidos em caixa alta ou caixa baixa, independentemente de como foram digitados."
   ]
  },
  {
   "cell_type": "code",
   "execution_count": null,
   "metadata": {},
   "outputs": [],
   "source": []
  },
  {
   "cell_type": "markdown",
   "metadata": {},
   "source": [
    "5) Desenha moldura. Construa uma função que desenhe um retângulo usando os caracteres ‘+’ , ‘−’ e ‘| ‘. Esta função deve receber dois parâmetros, linhas e colunas, sendo que o valor por omissão é o valor mínimo igual a 1 e o valor máximo é 20. Se valores fora da faixa forem informados, eles devem ser modificados para valores dentro da faixa de forma elegante. "
   ]
  },
  {
   "cell_type": "code",
   "execution_count": null,
   "metadata": {},
   "outputs": [],
   "source": []
  },
  {
   "cell_type": "markdown",
   "metadata": {},
   "source": [
    "---\n",
    "## STRINGS\n",
    "\n",
    "1) Nome na vertical. Faça uma função que recebe o nome do usuário e imprima-o na vertical.\n",
    "\n",
    "```\n",
    "F\n",
    "U\n",
    "L\n",
    "A\n",
    "N\n",
    "O\n",
    "```"
   ]
  },
  {
   "cell_type": "code",
   "execution_count": null,
   "metadata": {},
   "outputs": [],
   "source": []
  },
  {
   "cell_type": "markdown",
   "metadata": {},
   "source": [
    "2) Nome na vertical em escada. Modifique a função anterior de forma a mostrar o nome em formato de escada.\n",
    "\n",
    "```\n",
    "F\n",
    "FU\n",
    "FUL\n",
    "FULA\n",
    "FULAN\n",
    "FULANO\n",
    "```"
   ]
  },
  {
   "cell_type": "code",
   "execution_count": null,
   "metadata": {},
   "outputs": [],
   "source": []
  },
  {
   "cell_type": "markdown",
   "metadata": {},
   "source": [
    "3) Valida e corrige número de telefone. Faça uma função que recebe um número de telefone, e corrija o número no caso deste conter somente 8 dígitos, acrescentando o '9' na frente. O usuário pode informar o número com ou sem o traço separador.\n",
    "\n",
    "```\n",
    "Valida e corrige número de telefone\n",
    "Telefone: 8461-0133\n",
    "Telefone possui 8 dígitos. Vou acrescentar o digito 9 na frente.\n",
    "Telefone corrigido sem formatação: 984610133\n",
    "Telefone corrigido com formatação: 99461-0133\n",
    "```"
   ]
  },
  {
   "cell_type": "code",
   "execution_count": null,
   "metadata": {},
   "outputs": [],
   "source": []
  },
  {
   "cell_type": "markdown",
   "metadata": {},
   "source": [
    "---\n",
    "## CLASSES\n",
    "\n",
    "1) Classe Retangulo: Crie uma classe que modele um retangulo:\n",
    "\n",
    "* **Atributos**: x, y (ou comprimento e largura)\n",
    "* **Métodos**:\n",
    "    * Mudar valor dos lados\n",
    "    * Retornar valor dos lados\n",
    "    * calcular Área\n",
    "    * calcular Perímetro\n",
    "\n",
    "Utilize esta classe em uma função. Ela deve receber as medidas de uma sala e deve criar um objeto com as medidas e calcular a quantidade de pisos e de rodapés necessárias para a sala."
   ]
  },
  {
   "cell_type": "code",
   "execution_count": null,
   "metadata": {},
   "outputs": [],
   "source": []
  },
  {
   "cell_type": "markdown",
   "metadata": {},
   "source": [
    "2) Classe Bichinho Virtual: Crie uma classe que modele um Tamagushi (Bichinho Eletrônico):\n",
    "\n",
    "* **Atributos**: Nome, Fome, Saúde e Idade\n",
    "* **Métodos**: Alterar Nome, Fome, Saúde e Idade; Retornar Nome, Fome, Saúde e Idade\n",
    "\n",
    "Existe mais uma informação que devemos levar em consideração, o Humor do nosso tamagushi, este humor é uma combinação entre os atributos Fome e Saúde, ou seja, um campo calculado, então não devemos criar um atributo para armazenar esta informação por que ela pode ser calculada a qualquer momento. "
   ]
  },
  {
   "cell_type": "code",
   "execution_count": null,
   "metadata": {},
   "outputs": [],
   "source": []
  },
  {
   "cell_type": "markdown",
   "metadata": {},
   "source": [
    "3) Classe carro: Implemente uma classe chamada Carro com as seguintes propriedades:\n",
    "\n",
    "    * Um veículo tem um certo consumo de combustível (medidos em km / litro) e uma certa quantidade de combustível no tanque.\n",
    "    * O consumo é especificado no construtor e o nível de combustível inicial é 0.\n",
    "    * Forneça um método andar( ) que simule o ato de dirigir o veículo por uma certa distância, reduzindo o nível de combustível no tanque de gasolina.\n",
    "    * Forneça um método obterGasolina( ), que retorna o nível atual de combustível.\n",
    "    * Forneça um método adicionarGasolina( ), para abastecer o tanque. Exemplo de uso:\n",
    "\n",
    "```python\n",
    "meuFusca = Carro(15);           # 15 quilômetros por litro de combustível. \n",
    "meuFusca.adicionarGasolina(20); # abastece com 20 litros de combustível. \n",
    "meuFusca.andar(100);            # anda 100 quilômetros.\n",
    "meuFusca.obterGasolina()        # Imprime o combustível que resta no tanque.\n",
    "```"
   ]
  },
  {
   "cell_type": "code",
   "execution_count": null,
   "metadata": {},
   "outputs": [],
   "source": []
  },
  {
   "cell_type": "markdown",
   "metadata": {},
   "source": [
    "4) Classe Bichinho Virtual++: Melhore o programa do bichinho virtual, permitindo que o usuário especifique quanto de comida ele fornece ao bichinho e por quanto tempo ele brinca com o bichinho. Faça com que estes valores afetem quão rapidamente os níveis de fome e tédio caem. "
   ]
  },
  {
   "cell_type": "code",
   "execution_count": null,
   "metadata": {},
   "outputs": [],
   "source": []
  },
  {
   "cell_type": "markdown",
   "metadata": {},
   "source": [
    "5) Dado a classe `No`, implemente uma classe que representa uma `Fila`, uma classe que representa uma `Pilha` e uma classe que representa uma `Arvore`"
   ]
  },
  {
   "cell_type": "code",
   "execution_count": null,
   "metadata": {},
   "outputs": [],
   "source": [
    "class No:\n",
    "    def __init__(self, dado=None, proximo=None):\n",
    "        self.dado = dado\n",
    "        self.proximo = proximo\n",
    "\n",
    "    def __str__(self):\n",
    "        return str(self.dado)"
   ]
  },
  {
   "cell_type": "markdown",
   "metadata": {},
   "source": [
    "### Fila\n",
    "\n",
    "Uma Fila deve conter as operações `insere(elemento)`, `remove`, `testa_vazia` e `to_list`.\n",
    "\n",
    "* `insere(elemento)` deve inserir o elemento no final da lista\n",
    "* `remove` deve remover o primeiro elemento da lista\n",
    "* `testa_vazia` deve retornar True ou False indicando se a fila está vazia\n",
    "* `to_list` deve retornar uma lista padrão Python que será usada nos testes implementados abaixo\n",
    "\n",
    "A Fila deve ter o atributo `tamanho`, que indica quantos elementos a fila possui."
   ]
  },
  {
   "cell_type": "code",
   "execution_count": null,
   "metadata": {},
   "outputs": [],
   "source": [
    "class Fila:\n",
    "    pass\n",
    "    ## IMPLEMENTE"
   ]
  },
  {
   "cell_type": "code",
   "execution_count": null,
   "metadata": {},
   "outputs": [],
   "source": [
    "fila = Fila()\n",
    "fila.insere(1)\n",
    "\n",
    "assert [1] == fila.to_list()\n",
    "assert 1 == fila.tamanho"
   ]
  },
  {
   "cell_type": "code",
   "execution_count": null,
   "metadata": {},
   "outputs": [],
   "source": [
    "fila.insere(2)\n",
    "\n",
    "assert [1, 2] == fila.to_list()\n",
    "assert 2 == fila.tamanho"
   ]
  },
  {
   "cell_type": "code",
   "execution_count": null,
   "metadata": {},
   "outputs": [],
   "source": [
    "fila.insere(3)\n",
    "\n",
    "assert [1, 2, 3] == fila.to_list()\n",
    "assert 3 == fila.tamanho"
   ]
  },
  {
   "cell_type": "code",
   "execution_count": null,
   "metadata": {},
   "outputs": [],
   "source": [
    "fila.remove()\n",
    "\n",
    "assert [2, 3] == fila.to_list()\n",
    "assert 2 == fila.tamanho"
   ]
  },
  {
   "cell_type": "code",
   "execution_count": null,
   "metadata": {},
   "outputs": [],
   "source": [
    "fila.remove()\n",
    "\n",
    "assert [3] == fila.to_list()\n",
    "assert 1 == fila.tamanho"
   ]
  },
  {
   "cell_type": "code",
   "execution_count": null,
   "metadata": {},
   "outputs": [],
   "source": [
    "fila.remove()\n",
    "\n",
    "assert [] == fila.to_list()\n",
    "assert fila.testa_vazia()"
   ]
  },
  {
   "cell_type": "markdown",
   "metadata": {},
   "source": [
    "### Pilha\n",
    "\n",
    "Uma Pilha deve conter as operações `empilha(elemento)`, `desempilha`, `testa_vazia` e `to_list`.\n",
    "\n",
    "* `empilha(elemento)` deve inserir o elemento no topo da pilha\n",
    "* `desempilha` deve remover o elemento do topo da pilha\n",
    "* `testa_vazia` deve retornar True ou False indicando se a pilha está vazia\n",
    "* `to_list` deve retornar uma lista padrão Python que será usada nos testes implementados abaixo\n",
    "\n",
    "A Pilha deve ter o atributo `tamanho`, que indica quantos elementos a fila possui."
   ]
  },
  {
   "cell_type": "code",
   "execution_count": null,
   "metadata": {},
   "outputs": [],
   "source": [
    "class Pilha:\n",
    "    pass\n",
    "    ## IMPLEMENTE"
   ]
  },
  {
   "cell_type": "code",
   "execution_count": null,
   "metadata": {},
   "outputs": [],
   "source": [
    "pilha = Pilha()\n",
    "pilha.empilha(1)\n",
    "\n",
    "assert [1] == pilha.to_list()\n",
    "assert 1 == pilha.tamanho"
   ]
  },
  {
   "cell_type": "code",
   "execution_count": null,
   "metadata": {},
   "outputs": [],
   "source": [
    "pilha.empilha(2)\n",
    "\n",
    "assert [1, 2] == pilha.to_list()\n",
    "assert 2 == pilha.tamanho"
   ]
  },
  {
   "cell_type": "code",
   "execution_count": null,
   "metadata": {},
   "outputs": [],
   "source": [
    "pilha.empilha(3)\n",
    "\n",
    "assert [1, 2, 3] == pilha.to_list()\n",
    "assert 3 == pilha.tamanho"
   ]
  },
  {
   "cell_type": "code",
   "execution_count": null,
   "metadata": {},
   "outputs": [],
   "source": [
    "assert 3 == pilha.desempilha()\n",
    "assert [1, 2] == pilha.to_list()\n",
    "assert 2 == pilha.tamanho"
   ]
  },
  {
   "cell_type": "code",
   "execution_count": null,
   "metadata": {},
   "outputs": [],
   "source": [
    "pilha.empilha(5)\n",
    "\n",
    "assert [1, 2, 5] == pilha.to_list()\n",
    "assert 3 == pilha.tamanho"
   ]
  },
  {
   "cell_type": "code",
   "execution_count": null,
   "metadata": {},
   "outputs": [],
   "source": [
    "assert 5 == pilha.desempilha()\n",
    "assert [1, 2] == pilha.to_list()\n",
    "assert 2 == pilha.tamanho"
   ]
  },
  {
   "cell_type": "code",
   "execution_count": null,
   "metadata": {},
   "outputs": [],
   "source": [
    "assert 2 == pilha.desempilha()\n",
    "assert [1] == pilha.to_list()\n",
    "assert 1 == pilha.tamanho"
   ]
  },
  {
   "cell_type": "code",
   "execution_count": null,
   "metadata": {},
   "outputs": [],
   "source": [
    "pilha.empilha(9)\n",
    "\n",
    "assert [1, 9] == pilha.to_list()\n",
    "assert 2 == pilha.tamanho"
   ]
  },
  {
   "cell_type": "markdown",
   "metadata": {},
   "source": [
    "### Árvore\n",
    "\n",
    "Dado a classe `No` e os exemplos acima para `Fila` e `Pilha`, implemente o mesmo para uma árvore :)"
   ]
  },
  {
   "cell_type": "code",
   "execution_count": null,
   "metadata": {},
   "outputs": [],
   "source": []
  }
 ],
 "metadata": {
  "kernelspec": {
   "display_name": "Python 3",
   "language": "python",
   "name": "python3"
  },
  "language_info": {
   "codemirror_mode": {
    "name": "ipython",
    "version": 3
   },
   "file_extension": ".py",
   "mimetype": "text/x-python",
   "name": "python",
   "nbconvert_exporter": "python",
   "pygments_lexer": "ipython3",
   "version": "3.7.4"
  }
 },
 "nbformat": 4,
 "nbformat_minor": 4
}
